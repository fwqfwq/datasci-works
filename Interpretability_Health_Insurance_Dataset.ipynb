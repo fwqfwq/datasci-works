{
  "nbformat": 4,
  "nbformat_minor": 0,
  "metadata": {
    "colab": {
      "name": "Interpretability - Health Insurance Dataset.ipynb",
      "provenance": [],
      "collapsed_sections": [],
      "toc_visible": true
    },
    "kernelspec": {
      "name": "python3",
      "display_name": "Python 3"
    }
  },
  "cells": [
    {
      "cell_type": "markdown",
      "metadata": {
        "id": "yNvRa_VKU9Nv"
      },
      "source": [
        "#### INFO7390 Adv Data Sci  \n",
        "## **Mini Project 1 - Interpretability**  \n",
        "    \n",
        "Name: Fangqing Wu  \n",
        "NUID: 001305642"
      ]
    },
    {
      "cell_type": "markdown",
      "metadata": {
        "id": "Em5AVzjJVH1R"
      },
      "source": [
        "---\n",
        "**License**  \n",
        "This project is licensed under [MIT License](https://raw.githubusercontent.com/fwqfwq/dataset/master/MIT%20License)\n",
        "\\\n",
        "\\\n",
        "**Links**  \n",
        "Google Colab: https://colab.research.google.com/drive/1SBJXeX7bdaQr9AGEAFefixifFmQ0ClkG?usp=sharing   \n",
        "\n",
        "Dataset: https://www.kaggle.com/anmolkumar/health-insurance-cross-sell-prediction  \n",
        "\n",
        "\n",
        "\n",
        "\n",
        "\n",
        "\n"
      ]
    },
    {
      "cell_type": "markdown",
      "metadata": {
        "id": "iDAdXUg0VOyV"
      },
      "source": [
        "---\n",
        "### **Abstract**  \n",
        "Interpretability plays an increasingly significant role in machine learning, in respect of the deep impact on significatant decisions, and even human lives. Unlike inherently interpretable models, Black Box Model is way more harder to be interpreted step by step and becomes a necessity for the built model to go into production.  \n",
        "\\\n",
        "In this project the methods for interpretability would be applied into different models, comparing the different performance on regression models and black box models. The ELI5 would be used for XGBoost and RandomForests. \n",
        "\n",
        "---\n"
      ]
    },
    {
      "cell_type": "markdown",
      "metadata": {
        "id": "a9iNLZD3aacs"
      },
      "source": [
        "### **Interpretability**\n",
        "Two parts are included as below:  \n",
        "* conception \n",
        "* implementation on dataset  \n",
        "\n"
      ]
    },
    {
      "cell_type": "markdown",
      "metadata": {
        "id": "Y-WpuNRLbpH4"
      },
      "source": [
        "####**Conception: Why interpretability?**\n",
        "\n",
        "Machine Learning is no longer an unfamiliar word for these years. It has became a key enabling technology in science and real life, even the scenarios of significant-decision making.  \n",
        "\n",
        "But here is the question, how could decision maker trust the model and the outputs? \n",
        "\n",
        "The common way is to score, as an efficient evalutional metrics for models, for the accuracy or the possibilities. This is actually the way targeted at the model and the algorithms.   \n",
        "\\\n",
        "**• Bias & Fairness**  \n",
        "Bias exists inside the human brain and is reflected into the whole society. There are three aspects[1] that would lead to the bias: \n",
        "1. Data adequacy  \n",
        "Sometimes records are removed if they contain missing values and these may be more prevalent in some groups than others.\n",
        "2. Model adequacy   \n",
        "The model architecture may describe some groups better than others.  \n",
        "3. Data bias  \n",
        "The existing prejudices. \n",
        "\n",
        "\n",
        "**• Explainability & Interpretability**  \n",
        "They're two similar words describing the possibility for human's comprehension, but involving with separately meanings with slightly differences.   \n",
        "For explainability, it focuses on the internal mechanics, able to quite literally explain what is happening.   \n",
        "For interpretability, it focuses on the cause and effect that can be observed within a system, like the variable control and its prediction. \n",
        "\n"
      ]
    },
    {
      "cell_type": "markdown",
      "metadata": {
        "id": "sXfkqbLLVWyu"
      },
      "source": [
        "\n",
        "#### **Dataset Introduction** \n",
        "\n",
        "The main data repository consistes of:  \n",
        ">| Featrue | Description | | Featrue | Description | | Featrue | Description |\n",
        "| ----------- | ----------- | | ----------- | ----------- | | ----------- | ----------- |\n",
        "| 'id' | Unique ID for the customer | | 'Gender' | Gender of the customer | | 'Age' | Age of the customer |\n",
        "| 'Driving_License' | 0: no DL, 1: has DL | | 'Region_Code' | Unique code for the region of the customer | | 'Previously_Insured' | 0: no insurance, 1: has insurance  |\n",
        "| 'Vehicle_Age' | Age of the Vehicle | | 'Vehicle_Damage' | 0: no damage history, 1: has damage history | | 'Annual_Premium' | The amount customer needs to pay as premium in the year |\n",
        "| 'Response' | 0: not interested, 1: interested || 'Vintage' | Number of Days, Customer has been associated with the company |  | 'Policy_Sales_Channel' | Anonymized Code for the channel of outreaching to the customer ie. Different Agents, Over Mail, Over Phone, In Person, etc. | \n",
        "\n",
        "\n",
        "The dataset is with 12 features; and the target is to train the pattern for each '*id*' and predict the '*Response*'.   "
      ]
    },
    {
      "cell_type": "markdown",
      "metadata": {
        "id": "0Mx1msXUe0om"
      },
      "source": [
        "   \n",
        "#### **Dataset Preprocessing** "
      ]
    },
    {
      "cell_type": "code",
      "metadata": {
        "id": "hFkhPcj1SoMP",
        "colab": {
          "base_uri": "https://localhost:8080/"
        },
        "outputId": "4000782c-aefd-4dc0-c678-9cbbd96e8dee"
      },
      "source": [
        "%matplotlib inline \n",
        "import matplotlib.pyplot as plt\n",
        "import numpy as np\n",
        "import pandas as pd\n",
        "import seaborn as sns\n",
        "import warnings\n",
        "import random\n",
        "from sklearn.model_selection import cross_val_score, train_test_split\n",
        "from sklearn import metrics\n",
        "import statsmodels.api as sm\n",
        "import scipy.stats as stats \n",
        "\n",
        "from datetime import datetime\n",
        "random.seed(datetime.now())\n",
        "warnings.filterwarnings('ignore')"
      ],
      "execution_count": null,
      "outputs": [
        {
          "output_type": "stream",
          "text": [
            "/usr/local/lib/python3.6/dist-packages/statsmodels/tools/_testing.py:19: FutureWarning: pandas.util.testing is deprecated. Use the functions in the public API at pandas.testing instead.\n",
            "  import pandas.util.testing as tm\n"
          ],
          "name": "stderr"
        }
      ]
    },
    {
      "cell_type": "code",
      "metadata": {
        "id": "6s4CuGtRb5si",
        "colab": {
          "base_uri": "https://localhost:8080/"
        },
        "outputId": "f8d5aeba-6443-4c93-953a-d1eddd49e091"
      },
      "source": [
        "url = 'https://raw.githubusercontent.com/fwqfwq/dataset/master/healthinsurance/train.csv'\n",
        "dataset = pd.read_csv(url)\n",
        "print(dataset.columns.values)"
      ],
      "execution_count": null,
      "outputs": [
        {
          "output_type": "stream",
          "text": [
            "['id' 'Gender' 'Age' 'Driving_License' 'Region_Code' 'Previously_Insured'\n",
            " 'Vehicle_Age' 'Vehicle_Damage' 'Annual_Premium' 'Policy_Sales_Channel'\n",
            " 'Vintage' 'Response']\n"
          ],
          "name": "stdout"
        }
      ]
    },
    {
      "cell_type": "markdown",
      "metadata": {
        "id": "J-OuqXGdBzOR"
      },
      "source": [
        "First, a direct perception for dataset."
      ]
    },
    {
      "cell_type": "code",
      "metadata": {
        "id": "K0tVEvg5Bris",
        "colab": {
          "base_uri": "https://localhost:8080/"
        },
        "outputId": "81470c0b-674f-4548-a458-dd5c3cc50f74"
      },
      "source": [
        "dataset.info()"
      ],
      "execution_count": null,
      "outputs": [
        {
          "output_type": "stream",
          "text": [
            "<class 'pandas.core.frame.DataFrame'>\n",
            "RangeIndex: 381109 entries, 0 to 381108\n",
            "Data columns (total 12 columns):\n",
            " #   Column                Non-Null Count   Dtype  \n",
            "---  ------                --------------   -----  \n",
            " 0   id                    381109 non-null  int64  \n",
            " 1   Gender                381109 non-null  object \n",
            " 2   Age                   381109 non-null  int64  \n",
            " 3   Driving_License       381109 non-null  int64  \n",
            " 4   Region_Code           381109 non-null  float64\n",
            " 5   Previously_Insured    381109 non-null  int64  \n",
            " 6   Vehicle_Age           381109 non-null  object \n",
            " 7   Vehicle_Damage        381109 non-null  object \n",
            " 8   Annual_Premium        381109 non-null  float64\n",
            " 9   Policy_Sales_Channel  381109 non-null  float64\n",
            " 10  Vintage               381109 non-null  int64  \n",
            " 11  Response              381109 non-null  int64  \n",
            "dtypes: float64(3), int64(6), object(3)\n",
            "memory usage: 34.9+ MB\n"
          ],
          "name": "stdout"
        }
      ]
    },
    {
      "cell_type": "markdown",
      "metadata": {
        "id": "HaCY6CP0CAoS"
      },
      "source": [
        "As seen, no null valus exist in this dataset. "
      ]
    },
    {
      "cell_type": "code",
      "metadata": {
        "id": "kVQAs9iGB8me",
        "colab": {
          "base_uri": "https://localhost:8080/",
          "height": 317
        },
        "outputId": "9bf926c5-bc7c-4489-c663-8dbe0a26b96b"
      },
      "source": [
        "dataset.describe()"
      ],
      "execution_count": null,
      "outputs": [
        {
          "output_type": "execute_result",
          "data": {
            "text/html": [
              "<div>\n",
              "<style scoped>\n",
              "    .dataframe tbody tr th:only-of-type {\n",
              "        vertical-align: middle;\n",
              "    }\n",
              "\n",
              "    .dataframe tbody tr th {\n",
              "        vertical-align: top;\n",
              "    }\n",
              "\n",
              "    .dataframe thead th {\n",
              "        text-align: right;\n",
              "    }\n",
              "</style>\n",
              "<table border=\"1\" class=\"dataframe\">\n",
              "  <thead>\n",
              "    <tr style=\"text-align: right;\">\n",
              "      <th></th>\n",
              "      <th>id</th>\n",
              "      <th>Age</th>\n",
              "      <th>Driving_License</th>\n",
              "      <th>Region_Code</th>\n",
              "      <th>Previously_Insured</th>\n",
              "      <th>Annual_Premium</th>\n",
              "      <th>Policy_Sales_Channel</th>\n",
              "      <th>Vintage</th>\n",
              "      <th>Response</th>\n",
              "    </tr>\n",
              "  </thead>\n",
              "  <tbody>\n",
              "    <tr>\n",
              "      <th>count</th>\n",
              "      <td>381109.000000</td>\n",
              "      <td>381109.000000</td>\n",
              "      <td>381109.000000</td>\n",
              "      <td>381109.000000</td>\n",
              "      <td>381109.000000</td>\n",
              "      <td>381109.000000</td>\n",
              "      <td>381109.000000</td>\n",
              "      <td>381109.000000</td>\n",
              "      <td>381109.000000</td>\n",
              "    </tr>\n",
              "    <tr>\n",
              "      <th>mean</th>\n",
              "      <td>190555.000000</td>\n",
              "      <td>38.822584</td>\n",
              "      <td>0.997869</td>\n",
              "      <td>26.388807</td>\n",
              "      <td>0.458210</td>\n",
              "      <td>30564.389581</td>\n",
              "      <td>112.034295</td>\n",
              "      <td>154.347397</td>\n",
              "      <td>0.122563</td>\n",
              "    </tr>\n",
              "    <tr>\n",
              "      <th>std</th>\n",
              "      <td>110016.836208</td>\n",
              "      <td>15.511611</td>\n",
              "      <td>0.046110</td>\n",
              "      <td>13.229888</td>\n",
              "      <td>0.498251</td>\n",
              "      <td>17213.155057</td>\n",
              "      <td>54.203995</td>\n",
              "      <td>83.671304</td>\n",
              "      <td>0.327936</td>\n",
              "    </tr>\n",
              "    <tr>\n",
              "      <th>min</th>\n",
              "      <td>1.000000</td>\n",
              "      <td>20.000000</td>\n",
              "      <td>0.000000</td>\n",
              "      <td>0.000000</td>\n",
              "      <td>0.000000</td>\n",
              "      <td>2630.000000</td>\n",
              "      <td>1.000000</td>\n",
              "      <td>10.000000</td>\n",
              "      <td>0.000000</td>\n",
              "    </tr>\n",
              "    <tr>\n",
              "      <th>25%</th>\n",
              "      <td>95278.000000</td>\n",
              "      <td>25.000000</td>\n",
              "      <td>1.000000</td>\n",
              "      <td>15.000000</td>\n",
              "      <td>0.000000</td>\n",
              "      <td>24405.000000</td>\n",
              "      <td>29.000000</td>\n",
              "      <td>82.000000</td>\n",
              "      <td>0.000000</td>\n",
              "    </tr>\n",
              "    <tr>\n",
              "      <th>50%</th>\n",
              "      <td>190555.000000</td>\n",
              "      <td>36.000000</td>\n",
              "      <td>1.000000</td>\n",
              "      <td>28.000000</td>\n",
              "      <td>0.000000</td>\n",
              "      <td>31669.000000</td>\n",
              "      <td>133.000000</td>\n",
              "      <td>154.000000</td>\n",
              "      <td>0.000000</td>\n",
              "    </tr>\n",
              "    <tr>\n",
              "      <th>75%</th>\n",
              "      <td>285832.000000</td>\n",
              "      <td>49.000000</td>\n",
              "      <td>1.000000</td>\n",
              "      <td>35.000000</td>\n",
              "      <td>1.000000</td>\n",
              "      <td>39400.000000</td>\n",
              "      <td>152.000000</td>\n",
              "      <td>227.000000</td>\n",
              "      <td>0.000000</td>\n",
              "    </tr>\n",
              "    <tr>\n",
              "      <th>max</th>\n",
              "      <td>381109.000000</td>\n",
              "      <td>85.000000</td>\n",
              "      <td>1.000000</td>\n",
              "      <td>52.000000</td>\n",
              "      <td>1.000000</td>\n",
              "      <td>540165.000000</td>\n",
              "      <td>163.000000</td>\n",
              "      <td>299.000000</td>\n",
              "      <td>1.000000</td>\n",
              "    </tr>\n",
              "  </tbody>\n",
              "</table>\n",
              "</div>"
            ],
            "text/plain": [
              "                  id            Age  ...        Vintage       Response\n",
              "count  381109.000000  381109.000000  ...  381109.000000  381109.000000\n",
              "mean   190555.000000      38.822584  ...     154.347397       0.122563\n",
              "std    110016.836208      15.511611  ...      83.671304       0.327936\n",
              "min         1.000000      20.000000  ...      10.000000       0.000000\n",
              "25%     95278.000000      25.000000  ...      82.000000       0.000000\n",
              "50%    190555.000000      36.000000  ...     154.000000       0.000000\n",
              "75%    285832.000000      49.000000  ...     227.000000       0.000000\n",
              "max    381109.000000      85.000000  ...     299.000000       1.000000\n",
              "\n",
              "[8 rows x 9 columns]"
            ]
          },
          "metadata": {
            "tags": []
          },
          "execution_count": 4
        }
      ]
    },
    {
      "cell_type": "code",
      "metadata": {
        "id": "ikoesO4wCYY2",
        "colab": {
          "base_uri": "https://localhost:8080/",
          "height": 379
        },
        "outputId": "f6f59fd5-5f91-4066-82b2-5aa5431e4cfc"
      },
      "source": [
        "dataset.head(10)"
      ],
      "execution_count": null,
      "outputs": [
        {
          "output_type": "execute_result",
          "data": {
            "text/html": [
              "<div>\n",
              "<style scoped>\n",
              "    .dataframe tbody tr th:only-of-type {\n",
              "        vertical-align: middle;\n",
              "    }\n",
              "\n",
              "    .dataframe tbody tr th {\n",
              "        vertical-align: top;\n",
              "    }\n",
              "\n",
              "    .dataframe thead th {\n",
              "        text-align: right;\n",
              "    }\n",
              "</style>\n",
              "<table border=\"1\" class=\"dataframe\">\n",
              "  <thead>\n",
              "    <tr style=\"text-align: right;\">\n",
              "      <th></th>\n",
              "      <th>id</th>\n",
              "      <th>Gender</th>\n",
              "      <th>Age</th>\n",
              "      <th>Driving_License</th>\n",
              "      <th>Region_Code</th>\n",
              "      <th>Previously_Insured</th>\n",
              "      <th>Vehicle_Age</th>\n",
              "      <th>Vehicle_Damage</th>\n",
              "      <th>Annual_Premium</th>\n",
              "      <th>Policy_Sales_Channel</th>\n",
              "      <th>Vintage</th>\n",
              "      <th>Response</th>\n",
              "    </tr>\n",
              "  </thead>\n",
              "  <tbody>\n",
              "    <tr>\n",
              "      <th>0</th>\n",
              "      <td>1</td>\n",
              "      <td>Male</td>\n",
              "      <td>44</td>\n",
              "      <td>1</td>\n",
              "      <td>28.0</td>\n",
              "      <td>0</td>\n",
              "      <td>&gt; 2 Years</td>\n",
              "      <td>Yes</td>\n",
              "      <td>40454.0</td>\n",
              "      <td>26.0</td>\n",
              "      <td>217</td>\n",
              "      <td>1</td>\n",
              "    </tr>\n",
              "    <tr>\n",
              "      <th>1</th>\n",
              "      <td>2</td>\n",
              "      <td>Male</td>\n",
              "      <td>76</td>\n",
              "      <td>1</td>\n",
              "      <td>3.0</td>\n",
              "      <td>0</td>\n",
              "      <td>1-2 Year</td>\n",
              "      <td>No</td>\n",
              "      <td>33536.0</td>\n",
              "      <td>26.0</td>\n",
              "      <td>183</td>\n",
              "      <td>0</td>\n",
              "    </tr>\n",
              "    <tr>\n",
              "      <th>2</th>\n",
              "      <td>3</td>\n",
              "      <td>Male</td>\n",
              "      <td>47</td>\n",
              "      <td>1</td>\n",
              "      <td>28.0</td>\n",
              "      <td>0</td>\n",
              "      <td>&gt; 2 Years</td>\n",
              "      <td>Yes</td>\n",
              "      <td>38294.0</td>\n",
              "      <td>26.0</td>\n",
              "      <td>27</td>\n",
              "      <td>1</td>\n",
              "    </tr>\n",
              "    <tr>\n",
              "      <th>3</th>\n",
              "      <td>4</td>\n",
              "      <td>Male</td>\n",
              "      <td>21</td>\n",
              "      <td>1</td>\n",
              "      <td>11.0</td>\n",
              "      <td>1</td>\n",
              "      <td>&lt; 1 Year</td>\n",
              "      <td>No</td>\n",
              "      <td>28619.0</td>\n",
              "      <td>152.0</td>\n",
              "      <td>203</td>\n",
              "      <td>0</td>\n",
              "    </tr>\n",
              "    <tr>\n",
              "      <th>4</th>\n",
              "      <td>5</td>\n",
              "      <td>Female</td>\n",
              "      <td>29</td>\n",
              "      <td>1</td>\n",
              "      <td>41.0</td>\n",
              "      <td>1</td>\n",
              "      <td>&lt; 1 Year</td>\n",
              "      <td>No</td>\n",
              "      <td>27496.0</td>\n",
              "      <td>152.0</td>\n",
              "      <td>39</td>\n",
              "      <td>0</td>\n",
              "    </tr>\n",
              "    <tr>\n",
              "      <th>5</th>\n",
              "      <td>6</td>\n",
              "      <td>Female</td>\n",
              "      <td>24</td>\n",
              "      <td>1</td>\n",
              "      <td>33.0</td>\n",
              "      <td>0</td>\n",
              "      <td>&lt; 1 Year</td>\n",
              "      <td>Yes</td>\n",
              "      <td>2630.0</td>\n",
              "      <td>160.0</td>\n",
              "      <td>176</td>\n",
              "      <td>0</td>\n",
              "    </tr>\n",
              "    <tr>\n",
              "      <th>6</th>\n",
              "      <td>7</td>\n",
              "      <td>Male</td>\n",
              "      <td>23</td>\n",
              "      <td>1</td>\n",
              "      <td>11.0</td>\n",
              "      <td>0</td>\n",
              "      <td>&lt; 1 Year</td>\n",
              "      <td>Yes</td>\n",
              "      <td>23367.0</td>\n",
              "      <td>152.0</td>\n",
              "      <td>249</td>\n",
              "      <td>0</td>\n",
              "    </tr>\n",
              "    <tr>\n",
              "      <th>7</th>\n",
              "      <td>8</td>\n",
              "      <td>Female</td>\n",
              "      <td>56</td>\n",
              "      <td>1</td>\n",
              "      <td>28.0</td>\n",
              "      <td>0</td>\n",
              "      <td>1-2 Year</td>\n",
              "      <td>Yes</td>\n",
              "      <td>32031.0</td>\n",
              "      <td>26.0</td>\n",
              "      <td>72</td>\n",
              "      <td>1</td>\n",
              "    </tr>\n",
              "    <tr>\n",
              "      <th>8</th>\n",
              "      <td>9</td>\n",
              "      <td>Female</td>\n",
              "      <td>24</td>\n",
              "      <td>1</td>\n",
              "      <td>3.0</td>\n",
              "      <td>1</td>\n",
              "      <td>&lt; 1 Year</td>\n",
              "      <td>No</td>\n",
              "      <td>27619.0</td>\n",
              "      <td>152.0</td>\n",
              "      <td>28</td>\n",
              "      <td>0</td>\n",
              "    </tr>\n",
              "    <tr>\n",
              "      <th>9</th>\n",
              "      <td>10</td>\n",
              "      <td>Female</td>\n",
              "      <td>32</td>\n",
              "      <td>1</td>\n",
              "      <td>6.0</td>\n",
              "      <td>1</td>\n",
              "      <td>&lt; 1 Year</td>\n",
              "      <td>No</td>\n",
              "      <td>28771.0</td>\n",
              "      <td>152.0</td>\n",
              "      <td>80</td>\n",
              "      <td>0</td>\n",
              "    </tr>\n",
              "  </tbody>\n",
              "</table>\n",
              "</div>"
            ],
            "text/plain": [
              "   id  Gender  Age  ...  Policy_Sales_Channel  Vintage  Response\n",
              "0   1    Male   44  ...                  26.0      217         1\n",
              "1   2    Male   76  ...                  26.0      183         0\n",
              "2   3    Male   47  ...                  26.0       27         1\n",
              "3   4    Male   21  ...                 152.0      203         0\n",
              "4   5  Female   29  ...                 152.0       39         0\n",
              "5   6  Female   24  ...                 160.0      176         0\n",
              "6   7    Male   23  ...                 152.0      249         0\n",
              "7   8  Female   56  ...                  26.0       72         1\n",
              "8   9  Female   24  ...                 152.0       28         0\n",
              "9  10  Female   32  ...                 152.0       80         0\n",
              "\n",
              "[10 rows x 12 columns]"
            ]
          },
          "metadata": {
            "tags": []
          },
          "execution_count": 5
        }
      ]
    },
    {
      "cell_type": "markdown",
      "metadata": {
        "id": "gKwQ18NGCgZL"
      },
      "source": [
        "For a better use for training, turn the string-valued features into numeric values, including:   \n",
        "* '*Gender*' \n",
        "* '*Vehicle_Age*'\n",
        "* '*Vehicle_Damage*'   \n"
      ]
    },
    {
      "cell_type": "code",
      "metadata": {
        "id": "4SlfI1xwVmN1",
        "colab": {
          "base_uri": "https://localhost:8080/"
        },
        "outputId": "c8a65718-2df7-492b-8489-891da29a9be9"
      },
      "source": [
        "dataset['Vehicle_Age'].unique()"
      ],
      "execution_count": null,
      "outputs": [
        {
          "output_type": "execute_result",
          "data": {
            "text/plain": [
              "array(['> 2 Years', '1-2 Year', '< 1 Year'], dtype=object)"
            ]
          },
          "metadata": {
            "tags": []
          },
          "execution_count": 6
        }
      ]
    },
    {
      "cell_type": "markdown",
      "metadata": {
        "id": "JpBD67kaV1WV"
      },
      "source": [
        "'*Gender*' is valued with 'Male' or 'Female';  \n",
        "'*Vehicle_Age*' has three unique values(as above);  \n",
        "'*Vehicle_Damage*' is vauled with 'Yes' or 'No. "
      ]
    },
    {
      "cell_type": "code",
      "metadata": {
        "id": "BbtSQdl1CuXj"
      },
      "source": [
        "gender = {'Male': 1, 'Female': 2} \n",
        "ve_age = {'< 1 Year': 1, '1-2 Year': 2, '> 2 Years': 3} \n",
        "ve_damage = {'Yes': 1, 'No': 0} "
      ],
      "execution_count": null,
      "outputs": []
    },
    {
      "cell_type": "code",
      "metadata": {
        "id": "JZKu8-z2WayB",
        "colab": {
          "base_uri": "https://localhost:8080/",
          "height": 379
        },
        "outputId": "7fd10d00-f519-422d-f2b7-092d22cb343c"
      },
      "source": [
        "dataset['Gender'] = [gender[item] for item in dataset['Gender']] \n",
        "dataset['Vehicle_Age'] = [ve_age[item] for item in dataset['Vehicle_Age']] \n",
        "dataset['Vehicle_Damage'] = [ve_damage[item] for item in dataset['Vehicle_Damage']] \n",
        "dataset.head(10)"
      ],
      "execution_count": null,
      "outputs": [
        {
          "output_type": "execute_result",
          "data": {
            "text/html": [
              "<div>\n",
              "<style scoped>\n",
              "    .dataframe tbody tr th:only-of-type {\n",
              "        vertical-align: middle;\n",
              "    }\n",
              "\n",
              "    .dataframe tbody tr th {\n",
              "        vertical-align: top;\n",
              "    }\n",
              "\n",
              "    .dataframe thead th {\n",
              "        text-align: right;\n",
              "    }\n",
              "</style>\n",
              "<table border=\"1\" class=\"dataframe\">\n",
              "  <thead>\n",
              "    <tr style=\"text-align: right;\">\n",
              "      <th></th>\n",
              "      <th>id</th>\n",
              "      <th>Gender</th>\n",
              "      <th>Age</th>\n",
              "      <th>Driving_License</th>\n",
              "      <th>Region_Code</th>\n",
              "      <th>Previously_Insured</th>\n",
              "      <th>Vehicle_Age</th>\n",
              "      <th>Vehicle_Damage</th>\n",
              "      <th>Annual_Premium</th>\n",
              "      <th>Policy_Sales_Channel</th>\n",
              "      <th>Vintage</th>\n",
              "      <th>Response</th>\n",
              "    </tr>\n",
              "  </thead>\n",
              "  <tbody>\n",
              "    <tr>\n",
              "      <th>0</th>\n",
              "      <td>1</td>\n",
              "      <td>1</td>\n",
              "      <td>44</td>\n",
              "      <td>1</td>\n",
              "      <td>28.0</td>\n",
              "      <td>0</td>\n",
              "      <td>3</td>\n",
              "      <td>1</td>\n",
              "      <td>40454.0</td>\n",
              "      <td>26.0</td>\n",
              "      <td>217</td>\n",
              "      <td>1</td>\n",
              "    </tr>\n",
              "    <tr>\n",
              "      <th>1</th>\n",
              "      <td>2</td>\n",
              "      <td>1</td>\n",
              "      <td>76</td>\n",
              "      <td>1</td>\n",
              "      <td>3.0</td>\n",
              "      <td>0</td>\n",
              "      <td>2</td>\n",
              "      <td>0</td>\n",
              "      <td>33536.0</td>\n",
              "      <td>26.0</td>\n",
              "      <td>183</td>\n",
              "      <td>0</td>\n",
              "    </tr>\n",
              "    <tr>\n",
              "      <th>2</th>\n",
              "      <td>3</td>\n",
              "      <td>1</td>\n",
              "      <td>47</td>\n",
              "      <td>1</td>\n",
              "      <td>28.0</td>\n",
              "      <td>0</td>\n",
              "      <td>3</td>\n",
              "      <td>1</td>\n",
              "      <td>38294.0</td>\n",
              "      <td>26.0</td>\n",
              "      <td>27</td>\n",
              "      <td>1</td>\n",
              "    </tr>\n",
              "    <tr>\n",
              "      <th>3</th>\n",
              "      <td>4</td>\n",
              "      <td>1</td>\n",
              "      <td>21</td>\n",
              "      <td>1</td>\n",
              "      <td>11.0</td>\n",
              "      <td>1</td>\n",
              "      <td>1</td>\n",
              "      <td>0</td>\n",
              "      <td>28619.0</td>\n",
              "      <td>152.0</td>\n",
              "      <td>203</td>\n",
              "      <td>0</td>\n",
              "    </tr>\n",
              "    <tr>\n",
              "      <th>4</th>\n",
              "      <td>5</td>\n",
              "      <td>2</td>\n",
              "      <td>29</td>\n",
              "      <td>1</td>\n",
              "      <td>41.0</td>\n",
              "      <td>1</td>\n",
              "      <td>1</td>\n",
              "      <td>0</td>\n",
              "      <td>27496.0</td>\n",
              "      <td>152.0</td>\n",
              "      <td>39</td>\n",
              "      <td>0</td>\n",
              "    </tr>\n",
              "    <tr>\n",
              "      <th>5</th>\n",
              "      <td>6</td>\n",
              "      <td>2</td>\n",
              "      <td>24</td>\n",
              "      <td>1</td>\n",
              "      <td>33.0</td>\n",
              "      <td>0</td>\n",
              "      <td>1</td>\n",
              "      <td>1</td>\n",
              "      <td>2630.0</td>\n",
              "      <td>160.0</td>\n",
              "      <td>176</td>\n",
              "      <td>0</td>\n",
              "    </tr>\n",
              "    <tr>\n",
              "      <th>6</th>\n",
              "      <td>7</td>\n",
              "      <td>1</td>\n",
              "      <td>23</td>\n",
              "      <td>1</td>\n",
              "      <td>11.0</td>\n",
              "      <td>0</td>\n",
              "      <td>1</td>\n",
              "      <td>1</td>\n",
              "      <td>23367.0</td>\n",
              "      <td>152.0</td>\n",
              "      <td>249</td>\n",
              "      <td>0</td>\n",
              "    </tr>\n",
              "    <tr>\n",
              "      <th>7</th>\n",
              "      <td>8</td>\n",
              "      <td>2</td>\n",
              "      <td>56</td>\n",
              "      <td>1</td>\n",
              "      <td>28.0</td>\n",
              "      <td>0</td>\n",
              "      <td>2</td>\n",
              "      <td>1</td>\n",
              "      <td>32031.0</td>\n",
              "      <td>26.0</td>\n",
              "      <td>72</td>\n",
              "      <td>1</td>\n",
              "    </tr>\n",
              "    <tr>\n",
              "      <th>8</th>\n",
              "      <td>9</td>\n",
              "      <td>2</td>\n",
              "      <td>24</td>\n",
              "      <td>1</td>\n",
              "      <td>3.0</td>\n",
              "      <td>1</td>\n",
              "      <td>1</td>\n",
              "      <td>0</td>\n",
              "      <td>27619.0</td>\n",
              "      <td>152.0</td>\n",
              "      <td>28</td>\n",
              "      <td>0</td>\n",
              "    </tr>\n",
              "    <tr>\n",
              "      <th>9</th>\n",
              "      <td>10</td>\n",
              "      <td>2</td>\n",
              "      <td>32</td>\n",
              "      <td>1</td>\n",
              "      <td>6.0</td>\n",
              "      <td>1</td>\n",
              "      <td>1</td>\n",
              "      <td>0</td>\n",
              "      <td>28771.0</td>\n",
              "      <td>152.0</td>\n",
              "      <td>80</td>\n",
              "      <td>0</td>\n",
              "    </tr>\n",
              "  </tbody>\n",
              "</table>\n",
              "</div>"
            ],
            "text/plain": [
              "   id  Gender  Age  ...  Policy_Sales_Channel  Vintage  Response\n",
              "0   1       1   44  ...                  26.0      217         1\n",
              "1   2       1   76  ...                  26.0      183         0\n",
              "2   3       1   47  ...                  26.0       27         1\n",
              "3   4       1   21  ...                 152.0      203         0\n",
              "4   5       2   29  ...                 152.0       39         0\n",
              "5   6       2   24  ...                 160.0      176         0\n",
              "6   7       1   23  ...                 152.0      249         0\n",
              "7   8       2   56  ...                  26.0       72         1\n",
              "8   9       2   24  ...                 152.0       28         0\n",
              "9  10       2   32  ...                 152.0       80         0\n",
              "\n",
              "[10 rows x 12 columns]"
            ]
          },
          "metadata": {
            "tags": []
          },
          "execution_count": 8
        }
      ]
    },
    {
      "cell_type": "markdown",
      "metadata": {
        "id": "fLuJKaElEstx"
      },
      "source": [
        "Data fixed. "
      ]
    },
    {
      "cell_type": "markdown",
      "metadata": {
        "id": "a4lMdw0jGUT9"
      },
      "source": [
        "#### **Data Visualization**  \n",
        "\n"
      ]
    },
    {
      "cell_type": "markdown",
      "metadata": {
        "id": "VyF8uie7YlOE"
      },
      "source": [
        "1. Histograms for the sight of data distributions"
      ]
    },
    {
      "cell_type": "code",
      "metadata": {
        "id": "8fEEFvWjYjFh",
        "colab": {
          "base_uri": "https://localhost:8080/",
          "height": 828
        },
        "outputId": "e39dd85c-378c-49c5-f286-d0b581f1f66a"
      },
      "source": [
        "fig = plt.figure(figsize = (10,10))\n",
        "ax = fig.gca()\n",
        "dataset.hist(ax = ax)"
      ],
      "execution_count": null,
      "outputs": [
        {
          "output_type": "execute_result",
          "data": {
            "text/plain": [
              "array([[<matplotlib.axes._subplots.AxesSubplot object at 0x7f72833c91d0>,\n",
              "        <matplotlib.axes._subplots.AxesSubplot object at 0x7f7283295ef0>,\n",
              "        <matplotlib.axes._subplots.AxesSubplot object at 0x7f72832ce2e8>],\n",
              "       [<matplotlib.axes._subplots.AxesSubplot object at 0x7f7283280550>,\n",
              "        <matplotlib.axes._subplots.AxesSubplot object at 0x7f72832357b8>,\n",
              "        <matplotlib.axes._subplots.AxesSubplot object at 0x7f72831e6a20>],\n",
              "       [<matplotlib.axes._subplots.AxesSubplot object at 0x7f7283199c88>,\n",
              "        <matplotlib.axes._subplots.AxesSubplot object at 0x7f72831d0eb8>,\n",
              "        <matplotlib.axes._subplots.AxesSubplot object at 0x7f72831d0f28>],\n",
              "       [<matplotlib.axes._subplots.AxesSubplot object at 0x7f7283141400>,\n",
              "        <matplotlib.axes._subplots.AxesSubplot object at 0x7f72830f3668>,\n",
              "        <matplotlib.axes._subplots.AxesSubplot object at 0x7f72830a98d0>]],\n",
              "      dtype=object)"
            ]
          },
          "metadata": {
            "tags": []
          },
          "execution_count": 9
        },
        {
          "output_type": "display_data",
          "data": {
            "image/png": "[encoded data removed]",
            "text/plain": [
              "<Figure size 720x720 with 12 Axes>"
            ]
          },
          "metadata": {
            "tags": [],
            "needs_background": "light"
          }
        }
      ]
    },
    {
      "cell_type": "markdown",
      "metadata": {
        "id": "kEAi0ZIX6jY6"
      },
      "source": [
        "As features represent: \n",
        "\n",
        "* several features are binary or only have three values\n",
        "* '*id*', '*Region_Code*' and 'Policy_Sales_Channel*' are string_valued \n"
      ]
    },
    {
      "cell_type": "markdown",
      "metadata": {
        "id": "CNQS9UcKXN10"
      },
      "source": [
        "2. Heatmap for correlations."
      ]
    },
    {
      "cell_type": "code",
      "metadata": {
        "id": "Y1eJuc0EGaDK",
        "colab": {
          "base_uri": "https://localhost:8080/",
          "height": 392
        },
        "outputId": "ebb4771d-3378-40d2-bfc8-e4eb97d223fd"
      },
      "source": [
        "plt.figure(figsize=(5,5))\n",
        "\n",
        "mask = np.zeros_like(dataset.corr())\n",
        "mask[np.triu_indices_from(mask)] = True\n",
        "with sns.axes_style(\"white\"):\n",
        "    ax = sns.heatmap(dataset.corr().round(2), mask=mask,\n",
        "                     annot=True, cmap='rainbow', square=True)"
      ],
      "execution_count": null,
      "outputs": [
        {
          "output_type": "display_data",
          "data": {
            "image/png": "[encoded data removed]",
            "text/plain": [
              "<Figure size 360x360 with 2 Axes>"
            ]
          },
          "metadata": {
            "tags": [],
            "needs_background": "light"
          }
        }
      ]
    },
    {
      "cell_type": "markdown",
      "metadata": {
        "id": "tMEcKGjBXSUq"
      },
      "source": [
        "As seen, '*Response*' is mostly related with '*Previous_Insured*'(negetive) and '*Vehicle_Damage*'(positive).   "
      ]
    },
    {
      "cell_type": "markdown",
      "metadata": {
        "id": "RPkpql16YW-O"
      },
      "source": [
        "\\\n",
        "\n",
        "2. Detailed distribution diagrams for specific features  \n",
        "\n",
        "'*Age*'"
      ]
    },
    {
      "cell_type": "code",
      "metadata": {
        "id": "6dNTmGpj8VG2",
        "colab": {
          "base_uri": "https://localhost:8080/",
          "height": 351
        },
        "outputId": "3eda457f-93e3-4880-a6e2-2abcb7e1c2b3"
      },
      "source": [
        "plt.figure(figsize=(7,5))\n",
        "age = dataset['Age']\n",
        "sns.distplot(age)"
      ],
      "execution_count": null,
      "outputs": [
        {
          "output_type": "execute_result",
          "data": {
            "text/plain": [
              "<matplotlib.axes._subplots.AxesSubplot at 0x7f7282dcb400>"
            ]
          },
          "metadata": {
            "tags": []
          },
          "execution_count": 11
        },
        {
          "output_type": "display_data",
          "data": {
            "image/png": "[encoded data removed]",
            "text/plain": [
              "<Figure size 504x360 with 1 Axes>"
            ]
          },
          "metadata": {
            "tags": [],
            "needs_background": "light"
          }
        }
      ]
    },
    {
      "cell_type": "markdown",
      "metadata": {
        "id": "qoZJpGWX-d38"
      },
      "source": [
        "'*Annual_Premium*'"
      ]
    },
    {
      "cell_type": "code",
      "metadata": {
        "id": "K9eWkr3F8f93",
        "colab": {
          "base_uri": "https://localhost:8080/",
          "height": 363
        },
        "outputId": "ac3c1377-97d2-4f85-92c2-bb585f118cf4"
      },
      "source": [
        "plt.figure(figsize=(7,5))\n",
        "ap = dataset['Annual_Premium']\n",
        "sns.distplot(ap)"
      ],
      "execution_count": null,
      "outputs": [
        {
          "output_type": "execute_result",
          "data": {
            "text/plain": [
              "<matplotlib.axes._subplots.AxesSubplot at 0x7f72832f5710>"
            ]
          },
          "metadata": {
            "tags": []
          },
          "execution_count": 12
        },
        {
          "output_type": "display_data",
          "data": {
            "image/png": "[encoded data removed]",
            "text/plain": [
              "<Figure size 504x360 with 1 Axes>"
            ]
          },
          "metadata": {
            "tags": [],
            "needs_background": "light"
          }
        }
      ]
    },
    {
      "cell_type": "code",
      "metadata": {
        "id": "Vg_W6pYJ8xer",
        "colab": {
          "base_uri": "https://localhost:8080/",
          "height": 564
        },
        "outputId": "98605052-e3b5-47fe-fa10-d40070727374"
      },
      "source": [
        "fig, ax = plt.subplots(figsize=(3, 7))\n",
        "ax.boxplot(dataset['Annual_Premium'])"
      ],
      "execution_count": null,
      "outputs": [
        {
          "output_type": "execute_result",
          "data": {
            "text/plain": [
              "{'boxes': [<matplotlib.lines.Line2D at 0x7f727f3fc0b8>],\n",
              " 'caps': [<matplotlib.lines.Line2D at 0x7f727f3fcac8>,\n",
              "  <matplotlib.lines.Line2D at 0x7f727f3fce48>],\n",
              " 'fliers': [<matplotlib.lines.Line2D at 0x7f727f386588>],\n",
              " 'means': [],\n",
              " 'medians': [<matplotlib.lines.Line2D at 0x7f727f386208>],\n",
              " 'whiskers': [<matplotlib.lines.Line2D at 0x7f727f3fc3c8>,\n",
              "  <matplotlib.lines.Line2D at 0x7f727f3fc748>]}"
            ]
          },
          "metadata": {
            "tags": []
          },
          "execution_count": 13
        },
        {
          "output_type": "display_data",
          "data": {
            "image/png": "[encoded data removed]",
            "text/plain": [
              "<Figure size 216x504 with 1 Axes>"
            ]
          },
          "metadata": {
            "tags": [],
            "needs_background": "light"
          }
        }
      ]
    },
    {
      "cell_type": "markdown",
      "metadata": {
        "id": "mJwshGSh9kp4"
      },
      "source": [
        "Remove the outliers. "
      ]
    },
    {
      "cell_type": "code",
      "metadata": {
        "id": "ooQCMswcBfJD"
      },
      "source": [
        "# Values above the 99.9th percentile were dropped\n",
        "percentile_ap = dataset['Annual_Premium'].quantile(0.999)\n",
        "dataset = dataset[-(dataset['Annual_Premium'] > percentile_ap)]"
      ],
      "execution_count": null,
      "outputs": []
    },
    {
      "cell_type": "code",
      "metadata": {
        "id": "1RdM3_NtBuoJ",
        "colab": {
          "base_uri": "https://localhost:8080/",
          "height": 565
        },
        "outputId": "108cf201-41bf-40a3-871e-2dc342ac9570"
      },
      "source": [
        "fig, ax = plt.subplots(figsize=(3, 7))\n",
        "ax.boxplot(dataset['Annual_Premium'])"
      ],
      "execution_count": null,
      "outputs": [
        {
          "output_type": "execute_result",
          "data": {
            "text/plain": [
              "{'boxes': [<matplotlib.lines.Line2D at 0x7f727f354eb8>],\n",
              " 'caps': [<matplotlib.lines.Line2D at 0x7f727f361908>,\n",
              "  <matplotlib.lines.Line2D at 0x7f727f361c88>],\n",
              " 'fliers': [<matplotlib.lines.Line2D at 0x7f727f36d3c8>],\n",
              " 'means': [],\n",
              " 'medians': [<matplotlib.lines.Line2D at 0x7f727f36d048>],\n",
              " 'whiskers': [<matplotlib.lines.Line2D at 0x7f727f361208>,\n",
              "  <matplotlib.lines.Line2D at 0x7f727f361588>]}"
            ]
          },
          "metadata": {
            "tags": []
          },
          "execution_count": 15
        },
        {
          "output_type": "display_data",
          "data": {
            "image/png": "[encoded data removed]",
            "text/plain": [
              "<Figure size 216x504 with 1 Axes>"
            ]
          },
          "metadata": {
            "tags": [],
            "needs_background": "light"
          }
        }
      ]
    },
    {
      "cell_type": "markdown",
      "metadata": {
        "id": "iDRmR_3--T4o"
      },
      "source": [
        "\\\n",
        "\n",
        "'*Vintage*'"
      ]
    },
    {
      "cell_type": "code",
      "metadata": {
        "id": "3CkFB9lw-jQn",
        "colab": {
          "base_uri": "https://localhost:8080/",
          "height": 351
        },
        "outputId": "0f908519-7b99-4144-a65c-be3be6ea1c5f"
      },
      "source": [
        "plt.figure(figsize=(7,5))\n",
        "vintage = dataset['Vintage']\n",
        "sns.distplot(vintage)"
      ],
      "execution_count": null,
      "outputs": [
        {
          "output_type": "execute_result",
          "data": {
            "text/plain": [
              "<matplotlib.axes._subplots.AxesSubplot at 0x7f727f301978>"
            ]
          },
          "metadata": {
            "tags": []
          },
          "execution_count": 16
        },
        {
          "output_type": "display_data",
          "data": {
            "image/png": "[encoded data removed]",
            "text/plain": [
              "<Figure size 504x360 with 1 Axes>"
            ]
          },
          "metadata": {
            "tags": [],
            "needs_background": "light"
          }
        }
      ]
    },
    {
      "cell_type": "markdown",
      "metadata": {
        "id": "g0cV_QKP-2i5"
      },
      "source": [
        "3. Violin diagrams \n",
        "\n",
        "(1)"
      ]
    },
    {
      "cell_type": "code",
      "metadata": {
        "id": "-KJmydISDO8_",
        "colab": {
          "base_uri": "https://localhost:8080/",
          "height": 370
        },
        "outputId": "3039c6c6-00fe-4b70-fe79-a987cdd3a244"
      },
      "source": [
        "plt.figure(figsize=(15,5))\n",
        "\n",
        "sns.violinplot(x='Previously_Insured', y ='Age', hue='Gender', data=dataset, palette='rainbow', bw=.2,\n",
        "               cut=2, linewidth=2, iner='box', split=True)\n",
        "sns.despine(left=True)\n",
        "plt.title('Previously_Insured vs Age vs Gender', weight='bold')\n",
        "plt.xlabel('Previously_Insured', fontsize=12)\n",
        "plt.ylabel('Age', fontsize=12)"
      ],
      "execution_count": null,
      "outputs": [
        {
          "output_type": "execute_result",
          "data": {
            "text/plain": [
              "Text(0, 0.5, 'Age')"
            ]
          },
          "metadata": {
            "tags": []
          },
          "execution_count": 17
        },
        {
          "output_type": "display_data",
          "data": {
            "image/png": "[encoded data removed]",
            "text/plain": [
              "<Figure size 1080x360 with 1 Axes>"
            ]
          },
          "metadata": {
            "tags": [],
            "needs_background": "light"
          }
        }
      ]
    },
    {
      "cell_type": "markdown",
      "metadata": {
        "id": "kAtAihKTAfnT"
      },
      "source": [
        "For those not previously insured, there are more male in 40s and more female in 20s, while for those previouly insured, mostly are 20s for both gender.  \n",
        "\n",
        "\\\n",
        "\n",
        "(2)"
      ]
    },
    {
      "cell_type": "code",
      "metadata": {
        "id": "a0Qt23QVA-LL",
        "colab": {
          "base_uri": "https://localhost:8080/",
          "height": 370
        },
        "outputId": "ac900c7a-714a-4bf7-f1a4-6302547fbc09"
      },
      "source": [
        "plt.figure(figsize=(15,5))\n",
        "\n",
        "sns.violinplot(x='Vehicle_Age', y ='Annual_Premium', hue='Vehicle_Damage', data=dataset, palette='rainbow', bw=.2,\n",
        "               cut=2, linewidth=2, iner='box', split=True)\n",
        "sns.despine(left=True)\n",
        "plt.title('Vehicle_Age vs Annual_Premium vs Vehicle_Damage', weight='bold')\n",
        "plt.xlabel('Vehicle_Age', fontsize=12)\n",
        "plt.ylabel('Annual_Premium', fontsize=12)"
      ],
      "execution_count": null,
      "outputs": [
        {
          "output_type": "execute_result",
          "data": {
            "text/plain": [
              "Text(0, 0.5, 'Annual_Premium')"
            ]
          },
          "metadata": {
            "tags": []
          },
          "execution_count": 18
        },
        {
          "output_type": "display_data",
          "data": {
            "image/png": "[encoded data removed]",
            "text/plain": [
              "<Figure size 1080x360 with 1 Axes>"
            ]
          },
          "metadata": {
            "tags": [],
            "needs_background": "light"
          }
        }
      ]
    },
    {
      "cell_type": "markdown",
      "metadata": {
        "id": "i4aZNI9bDVqc"
      },
      "source": [
        "For those who own their vehicle less than 1 year(x=1) and 1-2 years(x=2), the distributions for ananual premium fee share the same pattern. To those are more than 3 years and have no damage, the less fee would be paid.   \n",
        "\n",
        "\n"
      ]
    },
    {
      "cell_type": "markdown",
      "metadata": {
        "id": "Ik-4qB4BFn1K"
      },
      "source": [
        "#### **Data Training & Prediction**  \n",
        "\n",
        "\n",
        "First, split the train and test data.\n",
        "\n",
        "\n",
        "\n"
      ]
    },
    {
      "cell_type": "code",
      "metadata": {
        "id": "zeJep1A_FnD-",
        "colab": {
          "base_uri": "https://localhost:8080/"
        },
        "outputId": "3b24d005-eb3f-4b0b-d8cb-e0b008d4cc21"
      },
      "source": [
        "target = dataset.iloc[:,-1:]\n",
        "data = dataset.iloc[:, :-1]\n",
        "\n",
        "X_train, X_test, Y_train, Y_test = train_test_split(data, target, random_state=1)\n",
        "\n",
        "print(\"X train shape: \", X_train.shape)\n",
        "print(\"X test shape: \", X_test.shape)\n",
        "print(\"Y train shape: \", Y_train.shape)\n",
        "print(\"Y test shape: \", Y_test.shape)"
      ],
      "execution_count": null,
      "outputs": [
        {
          "output_type": "stream",
          "text": [
            "X train shape:  (285546, 11)\n",
            "X test shape:  (95182, 11)\n",
            "Y train shape:  (285546, 1)\n",
            "Y test shape:  (95182, 1)\n"
          ],
          "name": "stdout"
        }
      ]
    },
    {
      "cell_type": "code",
      "metadata": {
        "id": "p-4kl9HQM5ND",
        "colab": {
          "base_uri": "https://localhost:8080/"
        },
        "outputId": "000f8662-17eb-4d08-cc62-eb8422325fb8"
      },
      "source": [
        "print(data.columns.values)\n",
        "print(target.columns.values)"
      ],
      "execution_count": null,
      "outputs": [
        {
          "output_type": "stream",
          "text": [
            "['id' 'Gender' 'Age' 'Driving_License' 'Region_Code' 'Previously_Insured'\n",
            " 'Vehicle_Age' 'Vehicle_Damage' 'Annual_Premium' 'Policy_Sales_Channel'\n",
            " 'Vintage']\n",
            "['Response']\n"
          ],
          "name": "stdout"
        }
      ]
    },
    {
      "cell_type": "markdown",
      "metadata": {
        "id": "6gp--mGtN6BP"
      },
      "source": [
        "Import modules and install lime. "
      ]
    },
    {
      "cell_type": "code",
      "metadata": {
        "id": "B2WZFPmKNKDS",
        "colab": {
          "base_uri": "https://localhost:8080/"
        },
        "outputId": "d93152fd-4fd9-42ef-c6e5-138e8d521426"
      },
      "source": [
        "!pip install shap\n",
        "!pip install lime\n",
        "!pip install eli5\n"
      ],
      "execution_count": null,
      "outputs": [
        {
          "output_type": "stream",
          "text": [
            "Requirement already satisfied: shap in /usr/local/lib/python3.6/dist-packages (0.36.0)\n",
            "Requirement already satisfied: scikit-learn in /usr/local/lib/python3.6/dist-packages (from shap) (0.22.2.post1)\n",
            "Requirement already satisfied: slicer in /usr/local/lib/python3.6/dist-packages (from shap) (0.0.4)\n",
            "Requirement already satisfied: numba in /usr/local/lib/python3.6/dist-packages (from shap) (0.48.0)\n",
            "Requirement already satisfied: pandas in /usr/local/lib/python3.6/dist-packages (from shap) (1.1.3)\n",
            "Requirement already satisfied: scipy in /usr/local/lib/python3.6/dist-packages (from shap) (1.4.1)\n",
            "Requirement already satisfied: tqdm>4.25.0 in /usr/local/lib/python3.6/dist-packages (from shap) (4.41.1)\n",
            "Requirement already satisfied: numpy in /usr/local/lib/python3.6/dist-packages (from shap) (1.18.5)\n",
            "Requirement already satisfied: joblib>=0.11 in /usr/local/lib/python3.6/dist-packages (from scikit-learn->shap) (0.17.0)\n",
            "Requirement already satisfied: setuptools in /usr/local/lib/python3.6/dist-packages (from numba->shap) (50.3.2)\n",
            "Requirement already satisfied: llvmlite<0.32.0,>=0.31.0dev0 in /usr/local/lib/python3.6/dist-packages (from numba->shap) (0.31.0)\n",
            "Requirement already satisfied: python-dateutil>=2.7.3 in /usr/local/lib/python3.6/dist-packages (from pandas->shap) (2.8.1)\n",
            "Requirement already satisfied: pytz>=2017.2 in /usr/local/lib/python3.6/dist-packages (from pandas->shap) (2018.9)\n",
            "Requirement already satisfied: six>=1.5 in /usr/local/lib/python3.6/dist-packages (from python-dateutil>=2.7.3->pandas->shap) (1.15.0)\n",
            "Requirement already satisfied: lime in /usr/local/lib/python3.6/dist-packages (0.2.0.1)\n",
            "Requirement already satisfied: tqdm in /usr/local/lib/python3.6/dist-packages (from lime) (4.41.1)\n",
            "Requirement already satisfied: scikit-learn>=0.18 in /usr/local/lib/python3.6/dist-packages (from lime) (0.22.2.post1)\n",
            "Requirement already satisfied: scikit-image>=0.12 in /usr/local/lib/python3.6/dist-packages (from lime) (0.16.2)\n",
            "Requirement already satisfied: matplotlib in /usr/local/lib/python3.6/dist-packages (from lime) (3.2.2)\n",
            "Requirement already satisfied: scipy in /usr/local/lib/python3.6/dist-packages (from lime) (1.4.1)\n",
            "Requirement already satisfied: numpy in /usr/local/lib/python3.6/dist-packages (from lime) (1.18.5)\n",
            "Requirement already satisfied: joblib>=0.11 in /usr/local/lib/python3.6/dist-packages (from scikit-learn>=0.18->lime) (0.17.0)\n",
            "Requirement already satisfied: networkx>=2.0 in /usr/local/lib/python3.6/dist-packages (from scikit-image>=0.12->lime) (2.5)\n",
            "Requirement already satisfied: pillow>=4.3.0 in /usr/local/lib/python3.6/dist-packages (from scikit-image>=0.12->lime) (7.0.0)\n",
            "Requirement already satisfied: imageio>=2.3.0 in /usr/local/lib/python3.6/dist-packages (from scikit-image>=0.12->lime) (2.4.1)\n",
            "Requirement already satisfied: PyWavelets>=0.4.0 in /usr/local/lib/python3.6/dist-packages (from scikit-image>=0.12->lime) (1.1.1)\n",
            "Requirement already satisfied: python-dateutil>=2.1 in /usr/local/lib/python3.6/dist-packages (from matplotlib->lime) (2.8.1)\n",
            "Requirement already satisfied: kiwisolver>=1.0.1 in /usr/local/lib/python3.6/dist-packages (from matplotlib->lime) (1.2.0)\n",
            "Requirement already satisfied: pyparsing!=2.0.4,!=2.1.2,!=2.1.6,>=2.0.1 in /usr/local/lib/python3.6/dist-packages (from matplotlib->lime) (2.4.7)\n",
            "Requirement already satisfied: cycler>=0.10 in /usr/local/lib/python3.6/dist-packages (from matplotlib->lime) (0.10.0)\n",
            "Requirement already satisfied: decorator>=4.3.0 in /usr/local/lib/python3.6/dist-packages (from networkx>=2.0->scikit-image>=0.12->lime) (4.4.2)\n",
            "Requirement already satisfied: six>=1.5 in /usr/local/lib/python3.6/dist-packages (from python-dateutil>=2.1->matplotlib->lime) (1.15.0)\n",
            "Requirement already satisfied: eli5 in /usr/local/lib/python3.6/dist-packages (0.10.1)\n",
            "Requirement already satisfied: scipy in /usr/local/lib/python3.6/dist-packages (from eli5) (1.4.1)\n",
            "Requirement already satisfied: scikit-learn>=0.18 in /usr/local/lib/python3.6/dist-packages (from eli5) (0.22.2.post1)\n",
            "Requirement already satisfied: six in /usr/local/lib/python3.6/dist-packages (from eli5) (1.15.0)\n",
            "Requirement already satisfied: graphviz in /usr/local/lib/python3.6/dist-packages (from eli5) (0.10.1)\n",
            "Requirement already satisfied: jinja2 in /usr/local/lib/python3.6/dist-packages (from eli5) (2.11.2)\n",
            "Requirement already satisfied: attrs>16.0.0 in /usr/local/lib/python3.6/dist-packages (from eli5) (20.2.0)\n",
            "Requirement already satisfied: tabulate>=0.7.7 in /usr/local/lib/python3.6/dist-packages (from eli5) (0.8.7)\n",
            "Requirement already satisfied: numpy>=1.9.0 in /usr/local/lib/python3.6/dist-packages (from eli5) (1.18.5)\n",
            "Requirement already satisfied: joblib>=0.11 in /usr/local/lib/python3.6/dist-packages (from scikit-learn>=0.18->eli5) (0.17.0)\n",
            "Requirement already satisfied: MarkupSafe>=0.23 in /usr/local/lib/python3.6/dist-packages (from jinja2->eli5) (1.1.1)\n"
          ],
          "name": "stdout"
        }
      ]
    },
    {
      "cell_type": "code",
      "metadata": {
        "id": "3nKUlz9nOBJi"
      },
      "source": [
        "from sklearn.ensemble import RandomForestClassifier\n",
        "from xgboost import XGBClassifier, plot_importance\n",
        "from sklearn.metrics import r2_score, mean_squared_error, roc_curve, auc, roc_auc_score, classification_report\n",
        "from sklearn.metrics.scorer import make_scorer\n",
        "\n",
        "import lime\n",
        "import lime.lime_tabular\n",
        "\n",
        "import eli5\n",
        "from eli5.sklearn import PermutationImportance"
      ],
      "execution_count": null,
      "outputs": []
    },
    {
      "cell_type": "markdown",
      "metadata": {
        "id": "BRuTwm_DO5Fg"
      },
      "source": [
        "Training XGBoost model.   \n",
        " \n",
        "The default xgboost uses 'gbtree' booster, which is suitable for the dataset.   \n",
        "gamma: minimum loss reduction required to make a further partition on a leaf node of the tree, a complexity control.\n",
        "The higher Gamma is, the higher the regularization. Default value is 0 (no regularization).   \n",
        "\n",
        "\\\n",
        "Find the best gamma. "
      ]
    },
    {
      "cell_type": "code",
      "metadata": {
        "id": "caEAu7gNPPyF"
      },
      "source": [
        "scores_xgb = []\n",
        "\n",
        "for i in range(20): \n",
        "  xgb = XGBClassifier(gamma=i)\n",
        "  xgb.fit(X_train, Y_train) \n",
        "  scores_xgb.append(xgb.score(X_test, Y_test))"
      ],
      "execution_count": null,
      "outputs": []
    },
    {
      "cell_type": "code",
      "metadata": {
        "id": "fgjaDz8mPTvo",
        "colab": {
          "base_uri": "https://localhost:8080/",
          "height": 312
        },
        "outputId": "f4522250-8c57-4cda-e4b6-1046c249697f"
      },
      "source": [
        "plt.scatter(range(20), scores_xgb)\n",
        "plt.title('Hyperparameters Tuning for XGBoost', weight='bold')\n",
        "plt.xlabel('gamma')\n",
        "plt.ylabel('Score')"
      ],
      "execution_count": null,
      "outputs": [
        {
          "output_type": "execute_result",
          "data": {
            "text/plain": [
              "Text(0, 0.5, 'Score')"
            ]
          },
          "metadata": {
            "tags": []
          },
          "execution_count": 24
        },
        {
          "output_type": "display_data",
          "data": {
            "image/png": "[encoded data removed]",
            "text/plain": [
              "<Figure size 432x288 with 1 Axes>"
            ]
          },
          "metadata": {
            "tags": [],
            "needs_background": "light"
          }
        }
      ]
    },
    {
      "cell_type": "code",
      "metadata": {
        "id": "c6JSD_6_QafR",
        "colab": {
          "base_uri": "https://localhost:8080/"
        },
        "outputId": "3cbd0b37-8a35-4952-eb38-52c26257088d"
      },
      "source": [
        "xgbm = XGBClassifier(scores_xgb.index(max(scores_xgb)))\n",
        "xgbm.fit(X_train, Y_train)\n",
        "\n",
        "xgbm.score(X_test, Y_test)"
      ],
      "execution_count": null,
      "outputs": [
        {
          "output_type": "execute_result",
          "data": {
            "text/plain": [
              "0.8776764514298923"
            ]
          },
          "metadata": {
            "tags": []
          },
          "execution_count": 25
        }
      ]
    },
    {
      "cell_type": "markdown",
      "metadata": {
        "id": "KMXJqB7lRxkD"
      },
      "source": [
        "Get the report and the scores (R2, mse, roc&auc). "
      ]
    },
    {
      "cell_type": "code",
      "metadata": {
        "id": "36meei14QSzh",
        "colab": {
          "base_uri": "https://localhost:8080/"
        },
        "outputId": "cc7ef298-ce48-41fa-b4ef-1cd5e1a9b41d"
      },
      "source": [
        "xgb_predict = xgbm.predict(X_test)\n",
        "print(classification_report(Y_test, xgb_predict))"
      ],
      "execution_count": null,
      "outputs": [
        {
          "output_type": "stream",
          "text": [
            "              precision    recall  f1-score   support\n",
            "\n",
            "           0       0.88      1.00      0.93     83539\n",
            "           1       0.00      0.00      0.00     11643\n",
            "\n",
            "    accuracy                           0.88     95182\n",
            "   macro avg       0.44      0.50      0.47     95182\n",
            "weighted avg       0.77      0.88      0.82     95182\n",
            "\n"
          ],
          "name": "stdout"
        }
      ]
    },
    {
      "cell_type": "code",
      "metadata": {
        "id": "IVVJwIbkRSBr",
        "colab": {
          "base_uri": "https://localhost:8080/"
        },
        "outputId": "6e6e2fcc-5d0d-49e3-9e17-8349582e8097"
      },
      "source": [
        "# R2 Score & Mean Squared Error\n",
        "r2_xgb = r2_score(Y_test, xgb_predict)\n",
        "print(\"r2 score: \", r2_xgb)\n",
        "\n",
        "mse_xgb = mean_squared_error(Y_test, xgb_predict)\n",
        "print(\"mse score: \", mse_xgb)"
      ],
      "execution_count": null,
      "outputs": [
        {
          "output_type": "stream",
          "text": [
            "r2 score:  -0.13937202983037866\n",
            "mse score:  0.1223235485701078\n"
          ],
          "name": "stdout"
        }
      ]
    },
    {
      "cell_type": "code",
      "metadata": {
        "id": "EYCHlLwdSY-R",
        "colab": {
          "base_uri": "https://localhost:8080/",
          "height": 329
        },
        "outputId": "5a1ea58f-65dc-4610-f1ae-9caa7e6180ac"
      },
      "source": [
        "xgb_probility = xgbm.predict_proba(X_test)\n",
        "\n",
        "# Slice out the probaility\n",
        "xgb_score = roc_auc_score(Y_test, xgb_probility[:, 1])\n",
        "print('ROC AUC Score: ', xgb_score)\n",
        "\n",
        "# ROC curve\n",
        "fpr, tpr, thresholds = roc_curve(Y_test, xgb_probility[:, 1])\n",
        "plt.plot(fpr, tpr)\n",
        "plt.plot([0,1], [0,1], 'grey', linestyle='--')\n",
        "plt.title('ROC Curve')\n",
        "plt.xlabel('False Positive Rates')\n",
        "plt.ylabel('True Positive Rates')"
      ],
      "execution_count": null,
      "outputs": [
        {
          "output_type": "stream",
          "text": [
            "ROC AUC Score:  0.5\n"
          ],
          "name": "stdout"
        },
        {
          "output_type": "execute_result",
          "data": {
            "text/plain": [
              "Text(0, 0.5, 'True Positive Rates')"
            ]
          },
          "metadata": {
            "tags": []
          },
          "execution_count": 28
        },
        {
          "output_type": "display_data",
          "data": {
            "image/png": "[encoded data removed]",
            "text/plain": [
              "<Figure size 432x288 with 1 Axes>"
            ]
          },
          "metadata": {
            "tags": [],
            "needs_background": "light"
          }
        }
      ]
    },
    {
      "cell_type": "markdown",
      "metadata": {
        "id": "5GC1f-IyYK5n"
      },
      "source": [
        "Due to the features, this model is actually overfitted. "
      ]
    },
    {
      "cell_type": "markdown",
      "metadata": {
        "id": "icAyiWMaWTK6"
      },
      "source": [
        "Interpretability\n",
        "\n",
        "To interpret the model, the importance of featureas and the effect of each feature should be displayed.  \n",
        "'Feature Weights': based on the number of times a feature appears in a tree across the ensemble of trees  \n",
        "'Coverage': the average coverage (number of samples affected) of splits which use the feature  \n",
        "'Gain': the average gain of splits which use the feature"
      ]
    },
    {
      "cell_type": "code",
      "metadata": {
        "id": "0bOjo48aWVSg",
        "colab": {
          "base_uri": "https://localhost:8080/",
          "height": 518
        },
        "outputId": "b7f6a751-ee1d-4780-97b3-c9b9797ff3c8"
      },
      "source": [
        "fig = plt.figure(figsize = (18, 10))\n",
        "title = fig.suptitle(\"Native Feature Importances from XGBoost\", fontsize=14)\n",
        "\n",
        "ax1 = fig.add_subplot(2, 2, 1)\n",
        "plot_importance(xgb, importance_type='weight', ax=ax1, color='red')\n",
        "ax1.set_title(\"Feature Importance with Feature Weight\");\n",
        "\n",
        "ax2 = fig.add_subplot(2, 2, 2)\n",
        "plot_importance(xgb, importance_type='cover', ax=ax2, color='red')\n",
        "ax2.set_title(\"Feature Importance with Sample Coverage\");\n",
        "\n",
        "ax3 = fig.add_subplot(2, 2, 3)\n",
        "plot_importance(xgb, importance_type='gain', ax=ax3, color='red')\n",
        "ax3.set_title(\"Feature Importance with Split Mean Gain\");"
      ],
      "execution_count": null,
      "outputs": [
        {
          "output_type": "display_data",
          "data": {
            "image/png": "[encoded data removed]",
            "text/plain": [
              "<Figure size 1296x720 with 3 Axes>"
            ]
          },
          "metadata": {
            "tags": [],
            "needs_background": "light"
          }
        }
      ]
    },
    {
      "cell_type": "markdown",
      "metadata": {
        "id": "fg-A-O23YTq1"
      },
      "source": [
        "ELI5 Model Interpretation(Explain like I am 5) \n",
        "\n",
        "Basically, the get_booster() is similar with 'gain'"
      ]
    },
    {
      "cell_type": "code",
      "metadata": {
        "id": "QiSUV-6DXjcg",
        "colab": {
          "base_uri": "https://localhost:8080/",
          "height": 221
        },
        "outputId": "92c6e34f-d1a3-4690-ecea-bf473e5c2dba"
      },
      "source": [
        "eli5.show_weights(xgb.get_booster())\n",
        "# eli5.show_weights(xgb, feature_names=data.columns.values)"
      ],
      "execution_count": null,
      "outputs": [
        {
          "output_type": "execute_result",
          "data": {
            "text/html": [
              "\n",
              "    <style>\n",
              "    table.eli5-weights tr:hover {\n",
              "        filter: brightness(85%);\n",
              "    }\n",
              "</style>\n",
              "\n",
              "\n",
              "\n",
              "    \n",
              "\n",
              "    \n",
              "\n",
              "    \n",
              "\n",
              "    \n",
              "\n",
              "    \n",
              "\n",
              "    \n",
              "\n",
              "\n",
              "    \n",
              "\n",
              "    \n",
              "\n",
              "    \n",
              "\n",
              "    \n",
              "\n",
              "    \n",
              "\n",
              "    \n",
              "\n",
              "\n",
              "    \n",
              "\n",
              "    \n",
              "\n",
              "    \n",
              "\n",
              "    \n",
              "\n",
              "    \n",
              "        <table class=\"eli5-weights eli5-feature-importances\" style=\"border-collapse: collapse; border: none; margin-top: 0em; table-layout: auto;\">\n",
              "    <thead>\n",
              "    <tr style=\"border: none;\">\n",
              "        <th style=\"padding: 0 1em 0 0.5em; text-align: right; border: none;\">Weight</th>\n",
              "        <th style=\"padding: 0 0.5em 0 0.5em; text-align: left; border: none;\">Feature</th>\n",
              "    </tr>\n",
              "    </thead>\n",
              "    <tbody>\n",
              "    \n",
              "        <tr style=\"background-color: hsl(120, 100.00%, 80.00%); border: none;\">\n",
              "            <td style=\"padding: 0 1em 0 0.5em; text-align: right; border: none;\">\n",
              "                0.5394\n",
              "                \n",
              "            </td>\n",
              "            <td style=\"padding: 0 0.5em 0 0.5em; text-align: left; border: none;\">\n",
              "                Vehicle_Damage\n",
              "            </td>\n",
              "        </tr>\n",
              "    \n",
              "        <tr style=\"background-color: hsl(120, 100.00%, 86.78%); border: none;\">\n",
              "            <td style=\"padding: 0 1em 0 0.5em; text-align: right; border: none;\">\n",
              "                0.2987\n",
              "                \n",
              "            </td>\n",
              "            <td style=\"padding: 0 0.5em 0 0.5em; text-align: left; border: none;\">\n",
              "                Previously_Insured\n",
              "            </td>\n",
              "        </tr>\n",
              "    \n",
              "        <tr style=\"background-color: hsl(120, 100.00%, 94.61%); border: none;\">\n",
              "            <td style=\"padding: 0 1em 0 0.5em; text-align: right; border: none;\">\n",
              "                0.0828\n",
              "                \n",
              "            </td>\n",
              "            <td style=\"padding: 0 0.5em 0 0.5em; text-align: left; border: none;\">\n",
              "                Age\n",
              "            </td>\n",
              "        </tr>\n",
              "    \n",
              "        <tr style=\"background-color: hsl(120, 100.00%, 98.04%); border: none;\">\n",
              "            <td style=\"padding: 0 1em 0 0.5em; text-align: right; border: none;\">\n",
              "                0.0196\n",
              "                \n",
              "            </td>\n",
              "            <td style=\"padding: 0 0.5em 0 0.5em; text-align: left; border: none;\">\n",
              "                Vehicle_Age\n",
              "            </td>\n",
              "        </tr>\n",
              "    \n",
              "        <tr style=\"background-color: hsl(120, 100.00%, 98.06%); border: none;\">\n",
              "            <td style=\"padding: 0 1em 0 0.5em; text-align: right; border: none;\">\n",
              "                0.0193\n",
              "                \n",
              "            </td>\n",
              "            <td style=\"padding: 0 0.5em 0 0.5em; text-align: left; border: none;\">\n",
              "                Policy_Sales_Channel\n",
              "            </td>\n",
              "        </tr>\n",
              "    \n",
              "        <tr style=\"background-color: hsl(120, 100.00%, 98.29%); border: none;\">\n",
              "            <td style=\"padding: 0 1em 0 0.5em; text-align: right; border: none;\">\n",
              "                0.0161\n",
              "                \n",
              "            </td>\n",
              "            <td style=\"padding: 0 0.5em 0 0.5em; text-align: left; border: none;\">\n",
              "                Region_Code\n",
              "            </td>\n",
              "        </tr>\n",
              "    \n",
              "        <tr style=\"background-color: hsl(120, 100.00%, 98.81%); border: none;\">\n",
              "            <td style=\"padding: 0 1em 0 0.5em; text-align: right; border: none;\">\n",
              "                0.0095\n",
              "                \n",
              "            </td>\n",
              "            <td style=\"padding: 0 0.5em 0 0.5em; text-align: left; border: none;\">\n",
              "                Gender\n",
              "            </td>\n",
              "        </tr>\n",
              "    \n",
              "        <tr style=\"background-color: hsl(120, 100.00%, 98.90%); border: none;\">\n",
              "            <td style=\"padding: 0 1em 0 0.5em; text-align: right; border: none;\">\n",
              "                0.0086\n",
              "                \n",
              "            </td>\n",
              "            <td style=\"padding: 0 0.5em 0 0.5em; text-align: left; border: none;\">\n",
              "                Annual_Premium\n",
              "            </td>\n",
              "        </tr>\n",
              "    \n",
              "        <tr style=\"background-color: hsl(120, 100.00%, 99.13%); border: none;\">\n",
              "            <td style=\"padding: 0 1em 0 0.5em; text-align: right; border: none;\">\n",
              "                0.0061\n",
              "                \n",
              "            </td>\n",
              "            <td style=\"padding: 0 0.5em 0 0.5em; text-align: left; border: none;\">\n",
              "                Driving_License\n",
              "            </td>\n",
              "        </tr>\n",
              "    \n",
              "        <tr style=\"background-color: hsl(0, 100.00%, 100.00%); border: none;\">\n",
              "            <td style=\"padding: 0 1em 0 0.5em; text-align: right; border: none;\">\n",
              "                0\n",
              "                \n",
              "            </td>\n",
              "            <td style=\"padding: 0 0.5em 0 0.5em; text-align: left; border: none;\">\n",
              "                Vintage\n",
              "            </td>\n",
              "        </tr>\n",
              "    \n",
              "        <tr style=\"background-color: hsl(0, 100.00%, 100.00%); border: none;\">\n",
              "            <td style=\"padding: 0 1em 0 0.5em; text-align: right; border: none;\">\n",
              "                0\n",
              "                \n",
              "            </td>\n",
              "            <td style=\"padding: 0 0.5em 0 0.5em; text-align: left; border: none;\">\n",
              "                id\n",
              "            </td>\n",
              "        </tr>\n",
              "    \n",
              "    \n",
              "    </tbody>\n",
              "</table>\n",
              "    \n",
              "\n",
              "    \n",
              "\n",
              "\n",
              "    \n",
              "\n",
              "    \n",
              "\n",
              "    \n",
              "\n",
              "    \n",
              "\n",
              "    \n",
              "\n",
              "    \n",
              "\n",
              "\n",
              "\n"
            ],
            "text/plain": [
              "<IPython.core.display.HTML object>"
            ]
          },
          "metadata": {
            "tags": []
          },
          "execution_count": 34
        }
      ]
    },
    {
      "cell_type": "markdown",
      "metadata": {
        "id": "12s8njRwiBVd"
      },
      "source": [
        "Use the show_prediction(), inspect an individual prediction of a model, try to figure out why the model makes the decision it makes."
      ]
    },
    {
      "cell_type": "code",
      "metadata": {
        "id": "5mKkBLfbbcPU",
        "colab": {
          "base_uri": "https://localhost:8080/",
          "height": 260
        },
        "outputId": "1a0ffc54-510c-4dcd-a371-76e7623507a8"
      },
      "source": [
        "i = 7 #the feature 'Vehicle_Damage'\n",
        "eli5.show_prediction(xgb, X_test.iloc[i], feature_names=data.columns.values, show_feature_values=True)"
      ],
      "execution_count": null,
      "outputs": [
        {
          "output_type": "execute_result",
          "data": {
            "text/html": [
              "\n",
              "    <style>\n",
              "    table.eli5-weights tr:hover {\n",
              "        filter: brightness(85%);\n",
              "    }\n",
              "</style>\n",
              "\n",
              "\n",
              "\n",
              "    \n",
              "\n",
              "    \n",
              "\n",
              "    \n",
              "\n",
              "    \n",
              "\n",
              "    \n",
              "\n",
              "    \n",
              "\n",
              "\n",
              "    \n",
              "\n",
              "    \n",
              "\n",
              "    \n",
              "\n",
              "    \n",
              "        \n",
              "\n",
              "    \n",
              "\n",
              "        \n",
              "            \n",
              "                \n",
              "                \n",
              "    \n",
              "        <p style=\"margin-bottom: 0.5em; margin-top: 0em\">\n",
              "            <b>\n",
              "    \n",
              "        y=0\n",
              "    \n",
              "</b>\n",
              "\n",
              "    \n",
              "    (probability <b>0.871</b>, score <b>-1.911</b>)\n",
              "\n",
              "top features\n",
              "        </p>\n",
              "    \n",
              "    <table class=\"eli5-weights\"\n",
              "           style=\"border-collapse: collapse; border: none; margin-top: 0em; table-layout: auto; margin-bottom: 2em;\">\n",
              "        <thead>\n",
              "        <tr style=\"border: none;\">\n",
              "            \n",
              "                <th style=\"padding: 0 1em 0 0.5em; text-align: right; border: none;\" title=\"Feature contribution already accounts for the feature value (for linear models, contribution = weight * feature value), and the sum of feature contributions is equal to the score or, for some classifiers, to the probability. Feature values are shown if &quot;show_feature_values&quot; is True.\">\n",
              "                    Contribution<sup>?</sup>\n",
              "                </th>\n",
              "            \n",
              "            <th style=\"padding: 0 0.5em 0 0.5em; text-align: left; border: none;\">Feature</th>\n",
              "            \n",
              "                <th style=\"padding: 0 0.5em 0 1em; text-align: right; border: none;\">Value</th>\n",
              "            \n",
              "        </tr>\n",
              "        </thead>\n",
              "        <tbody>\n",
              "        \n",
              "            <tr style=\"background-color: hsl(120, 100.00%, 80.00%); border: none;\">\n",
              "    <td style=\"padding: 0 1em 0 0.5em; text-align: right; border: none;\">\n",
              "        +2.090\n",
              "    </td>\n",
              "    <td style=\"padding: 0 0.5em 0 0.5em; text-align: left; border: none;\">\n",
              "        &lt;BIAS&gt;\n",
              "    </td>\n",
              "    \n",
              "        <td style=\"padding: 0 0.5em 0 1em; text-align: right; border: none;\">\n",
              "            1.000\n",
              "        </td>\n",
              "    \n",
              "</tr>\n",
              "        \n",
              "            <tr style=\"background-color: hsl(120, 100.00%, 93.02%); border: none;\">\n",
              "    <td style=\"padding: 0 1em 0 0.5em; text-align: right; border: none;\">\n",
              "        +0.464\n",
              "    </td>\n",
              "    <td style=\"padding: 0 0.5em 0 0.5em; text-align: left; border: none;\">\n",
              "        Age\n",
              "    </td>\n",
              "    \n",
              "        <td style=\"padding: 0 0.5em 0 1em; text-align: right; border: none;\">\n",
              "            25.000\n",
              "        </td>\n",
              "    \n",
              "</tr>\n",
              "        \n",
              "            <tr style=\"background-color: hsl(120, 100.00%, 94.53%); border: none;\">\n",
              "    <td style=\"padding: 0 1em 0 0.5em; text-align: right; border: none;\">\n",
              "        +0.328\n",
              "    </td>\n",
              "    <td style=\"padding: 0 0.5em 0 0.5em; text-align: left; border: none;\">\n",
              "        Policy_Sales_Channel\n",
              "    </td>\n",
              "    \n",
              "        <td style=\"padding: 0 0.5em 0 1em; text-align: right; border: none;\">\n",
              "            152.000\n",
              "        </td>\n",
              "    \n",
              "</tr>\n",
              "        \n",
              "            <tr style=\"background-color: hsl(120, 100.00%, 98.87%); border: none;\">\n",
              "    <td style=\"padding: 0 1em 0 0.5em; text-align: right; border: none;\">\n",
              "        +0.034\n",
              "    </td>\n",
              "    <td style=\"padding: 0 0.5em 0 0.5em; text-align: left; border: none;\">\n",
              "        Vehicle_Age\n",
              "    </td>\n",
              "    \n",
              "        <td style=\"padding: 0 0.5em 0 1em; text-align: right; border: none;\">\n",
              "            1.000\n",
              "        </td>\n",
              "    \n",
              "</tr>\n",
              "        \n",
              "            <tr style=\"background-color: hsl(120, 100.00%, 99.09%); border: none;\">\n",
              "    <td style=\"padding: 0 1em 0 0.5em; text-align: right; border: none;\">\n",
              "        +0.025\n",
              "    </td>\n",
              "    <td style=\"padding: 0 0.5em 0 0.5em; text-align: left; border: none;\">\n",
              "        Gender\n",
              "    </td>\n",
              "    \n",
              "        <td style=\"padding: 0 0.5em 0 1em; text-align: right; border: none;\">\n",
              "            2.000\n",
              "        </td>\n",
              "    \n",
              "</tr>\n",
              "        \n",
              "        \n",
              "\n",
              "        \n",
              "        \n",
              "            <tr style=\"background-color: hsl(0, 100.00%, 99.94%); border: none;\">\n",
              "    <td style=\"padding: 0 1em 0 0.5em; text-align: right; border: none;\">\n",
              "        -0.000\n",
              "    </td>\n",
              "    <td style=\"padding: 0 0.5em 0 0.5em; text-align: left; border: none;\">\n",
              "        Driving_License\n",
              "    </td>\n",
              "    \n",
              "        <td style=\"padding: 0 0.5em 0 1em; text-align: right; border: none;\">\n",
              "            1.000\n",
              "        </td>\n",
              "    \n",
              "</tr>\n",
              "        \n",
              "            <tr style=\"background-color: hsl(0, 100.00%, 99.28%); border: none;\">\n",
              "    <td style=\"padding: 0 1em 0 0.5em; text-align: right; border: none;\">\n",
              "        -0.018\n",
              "    </td>\n",
              "    <td style=\"padding: 0 0.5em 0 0.5em; text-align: left; border: none;\">\n",
              "        Annual_Premium\n",
              "    </td>\n",
              "    \n",
              "        <td style=\"padding: 0 0.5em 0 1em; text-align: right; border: none;\">\n",
              "            21236.000\n",
              "        </td>\n",
              "    \n",
              "</tr>\n",
              "        \n",
              "            <tr style=\"background-color: hsl(0, 100.00%, 98.53%); border: none;\">\n",
              "    <td style=\"padding: 0 1em 0 0.5em; text-align: right; border: none;\">\n",
              "        -0.050\n",
              "    </td>\n",
              "    <td style=\"padding: 0 0.5em 0 0.5em; text-align: left; border: none;\">\n",
              "        Region_Code\n",
              "    </td>\n",
              "    \n",
              "        <td style=\"padding: 0 0.5em 0 1em; text-align: right; border: none;\">\n",
              "            30.000\n",
              "        </td>\n",
              "    \n",
              "</tr>\n",
              "        \n",
              "            <tr style=\"background-color: hsl(0, 100.00%, 93.70%); border: none;\">\n",
              "    <td style=\"padding: 0 1em 0 0.5em; text-align: right; border: none;\">\n",
              "        -0.401\n",
              "    </td>\n",
              "    <td style=\"padding: 0 0.5em 0 0.5em; text-align: left; border: none;\">\n",
              "        Previously_Insured\n",
              "    </td>\n",
              "    \n",
              "        <td style=\"padding: 0 0.5em 0 1em; text-align: right; border: none;\">\n",
              "            0.000\n",
              "        </td>\n",
              "    \n",
              "</tr>\n",
              "        \n",
              "            <tr style=\"background-color: hsl(0, 100.00%, 92.03%); border: none;\">\n",
              "    <td style=\"padding: 0 1em 0 0.5em; text-align: right; border: none;\">\n",
              "        -0.562\n",
              "    </td>\n",
              "    <td style=\"padding: 0 0.5em 0 0.5em; text-align: left; border: none;\">\n",
              "        Vehicle_Damage\n",
              "    </td>\n",
              "    \n",
              "        <td style=\"padding: 0 0.5em 0 1em; text-align: right; border: none;\">\n",
              "            1.000\n",
              "        </td>\n",
              "    \n",
              "</tr>\n",
              "        \n",
              "\n",
              "        </tbody>\n",
              "    </table>\n",
              "\n",
              "            \n",
              "        \n",
              "\n",
              "        \n",
              "\n",
              "\n",
              "\n",
              "    \n",
              "\n",
              "    \n",
              "\n",
              "    \n",
              "\n",
              "    \n",
              "\n",
              "\n",
              "    \n",
              "\n",
              "    \n",
              "\n",
              "    \n",
              "\n",
              "    \n",
              "\n",
              "    \n",
              "\n",
              "    \n",
              "\n",
              "\n",
              "    \n",
              "\n",
              "    \n",
              "\n",
              "    \n",
              "\n",
              "    \n",
              "\n",
              "    \n",
              "\n",
              "    \n",
              "\n",
              "\n",
              "\n"
            ],
            "text/plain": [
              "<IPython.core.display.HTML object>"
            ]
          },
          "metadata": {
            "tags": []
          },
          "execution_count": 46
        }
      ]
    },
    {
      "cell_type": "markdown",
      "metadata": {
        "id": "DJ05IAv7cbyR"
      },
      "source": [
        "XGBoost outputs scores only for leaves, so the XGBoost explainer implementation in ELI5 starts reconstructing pseudo leaves scores for every node across all the trees.   \n",
        "This algorithm also applies to the root nodes of the trees, where the score is the average score that may get going through all the trees. This is what ELI5 puts into \\<BIAS\\>.   \n"
      ]
    },
    {
      "cell_type": "markdown",
      "metadata": {
        "id": "z714HchpfRIO"
      },
      "source": [
        "\n",
        "\\\n",
        "\n",
        "Random Forests \n",
        "\n",
        "Test for the estimators. "
      ]
    },
    {
      "cell_type": "code",
      "metadata": {
        "id": "RfbUYqQLfOxz"
      },
      "source": [
        "scores_rf = []\n",
        "# Try different estimators\n",
        "for i in range(50):\n",
        "  rf = RandomForestClassifier(max_depth=3, n_estimators=i+1)\n",
        "  rf.fit(X_train, Y_train)\n",
        "\n",
        "  score = rf.score(X_test, Y_test)\n",
        "  scores_rf.append(score)"
      ],
      "execution_count": null,
      "outputs": []
    },
    {
      "cell_type": "code",
      "metadata": {
        "id": "QRjpaOWXfW2e",
        "colab": {
          "base_uri": "https://localhost:8080/",
          "height": 313
        },
        "outputId": "65fd43ab-54c8-4500-b2e1-f7cb44052667"
      },
      "source": [
        "plt.scatter(range(1,51), scores_rf)\n",
        "plt.title('Hyperparameters Tuning for Random Forests', weight='bold')\n",
        "plt.xlabel('n_estimators')\n",
        "plt.ylabel('Score')"
      ],
      "execution_count": null,
      "outputs": [
        {
          "output_type": "execute_result",
          "data": {
            "text/plain": [
              "Text(0, 0.5, 'Score')"
            ]
          },
          "metadata": {
            "tags": []
          },
          "execution_count": 48
        },
        {
          "output_type": "display_data",
          "data": {
            "image/png": "[encoded data removed]",
            "text/plain": [
              "<Figure size 432x288 with 1 Axes>"
            ]
          },
          "metadata": {
            "tags": [],
            "needs_background": "light"
          }
        }
      ]
    },
    {
      "cell_type": "markdown",
      "metadata": {
        "id": "3zHhcClGiSh3"
      },
      "source": [
        "Prediction Reports and Scores"
      ]
    },
    {
      "cell_type": "code",
      "metadata": {
        "id": "uIDQSKKMfjPB",
        "colab": {
          "base_uri": "https://localhost:8080/"
        },
        "outputId": "cf7e3c73-be42-4d0c-f579-a1b0e2c8c67b"
      },
      "source": [
        "rf_predict = rf.predict(X_test)\n",
        "\n",
        "print(classification_report(Y_test, rf_predict))"
      ],
      "execution_count": null,
      "outputs": [
        {
          "output_type": "stream",
          "text": [
            "              precision    recall  f1-score   support\n",
            "\n",
            "           0       0.88      1.00      0.93     83539\n",
            "           1       0.00      0.00      0.00     11643\n",
            "\n",
            "    accuracy                           0.88     95182\n",
            "   macro avg       0.44      0.50      0.47     95182\n",
            "weighted avg       0.77      0.88      0.82     95182\n",
            "\n"
          ],
          "name": "stdout"
        }
      ]
    },
    {
      "cell_type": "code",
      "metadata": {
        "id": "Z75yJN6bflhZ",
        "colab": {
          "base_uri": "https://localhost:8080/"
        },
        "outputId": "e551af84-56ba-4edb-9f46-acee817734d4"
      },
      "source": [
        "# R2 Score & Mean Squared Error\n",
        "r2_rf = r2_score(Y_test, rf_predict)\n",
        "print(\"r2 score: \", r2_rf)\n",
        "\n",
        "mse_rf = mean_squared_error(Y_test, rf_predict)\n",
        "print(\"mse score: \", mse_rf)"
      ],
      "execution_count": null,
      "outputs": [
        {
          "output_type": "stream",
          "text": [
            "r2 score:  -0.13937202983037866\n",
            "mse score:  0.1223235485701078\n"
          ],
          "name": "stdout"
        }
      ]
    },
    {
      "cell_type": "code",
      "metadata": {
        "id": "U7xFByeYfqwb",
        "colab": {
          "base_uri": "https://localhost:8080/",
          "height": 329
        },
        "outputId": "fe9a3c33-9db4-4558-83e0-55f92dc4983a"
      },
      "source": [
        "rf_probility = rf.predict_proba(X_test)\n",
        "\n",
        "# Slice out the probaility\n",
        "rf_score = roc_auc_score(Y_test, rf_probility[:, 1])\n",
        "print('ROC AUC Score: ', rf_score)\n",
        "\n",
        "# ROC curve\n",
        "fpr, tpr, thresholds = roc_curve(Y_test, rf_probility[:, 1])\n",
        "plt.plot(fpr, tpr)\n",
        "plt.plot([0,1], [0,1], 'grey', linestyle='--')\n",
        "plt.title('ROC Curve')\n",
        "plt.xlabel('False Positive Rates')\n",
        "plt.ylabel('True Positive Rates')"
      ],
      "execution_count": null,
      "outputs": [
        {
          "output_type": "stream",
          "text": [
            "ROC AUC Score:  0.8387645284737962\n"
          ],
          "name": "stdout"
        },
        {
          "output_type": "execute_result",
          "data": {
            "text/plain": [
              "Text(0, 0.5, 'True Positive Rates')"
            ]
          },
          "metadata": {
            "tags": []
          },
          "execution_count": 53
        },
        {
          "output_type": "display_data",
          "data": {
            "image/png": "[encoded data removed]",
            "text/plain": [
              "<Figure size 432x288 with 1 Axes>"
            ]
          },
          "metadata": {
            "tags": [],
            "needs_background": "light"
          }
        }
      ]
    },
    {
      "cell_type": "markdown",
      "metadata": {
        "id": "OPypuwP4iPZs"
      },
      "source": [
        "ELI5 Model Interpretation(Explain like I am 5) \n",
        "\n",
        "Basically, the get_booster() is similar with 'gain'"
      ]
    },
    {
      "cell_type": "code",
      "metadata": {
        "id": "MiuXUgpmf1gB",
        "colab": {
          "base_uri": "https://localhost:8080/",
          "height": 221
        },
        "outputId": "1b02813c-d542-4e8b-fdbc-aa86a72e3704"
      },
      "source": [
        "eli5.show_weights(rf, feature_names=data.columns.values)"
      ],
      "execution_count": null,
      "outputs": [
        {
          "output_type": "execute_result",
          "data": {
            "text/html": [
              "\n",
              "    <style>\n",
              "    table.eli5-weights tr:hover {\n",
              "        filter: brightness(85%);\n",
              "    }\n",
              "</style>\n",
              "\n",
              "\n",
              "\n",
              "    \n",
              "\n",
              "    \n",
              "\n",
              "    \n",
              "\n",
              "    \n",
              "\n",
              "    \n",
              "\n",
              "    \n",
              "\n",
              "\n",
              "    \n",
              "\n",
              "    \n",
              "\n",
              "    \n",
              "\n",
              "    \n",
              "\n",
              "    \n",
              "\n",
              "    \n",
              "\n",
              "\n",
              "    \n",
              "\n",
              "    \n",
              "\n",
              "    \n",
              "\n",
              "    \n",
              "\n",
              "    \n",
              "        <table class=\"eli5-weights eli5-feature-importances\" style=\"border-collapse: collapse; border: none; margin-top: 0em; table-layout: auto;\">\n",
              "    <thead>\n",
              "    <tr style=\"border: none;\">\n",
              "        <th style=\"padding: 0 1em 0 0.5em; text-align: right; border: none;\">Weight</th>\n",
              "        <th style=\"padding: 0 0.5em 0 0.5em; text-align: left; border: none;\">Feature</th>\n",
              "    </tr>\n",
              "    </thead>\n",
              "    <tbody>\n",
              "    \n",
              "        <tr style=\"background-color: hsl(120, 100.00%, 80.00%); border: none;\">\n",
              "            <td style=\"padding: 0 1em 0 0.5em; text-align: right; border: none;\">\n",
              "                0.4257\n",
              "                \n",
              "                    &plusmn; 0.6732\n",
              "                \n",
              "            </td>\n",
              "            <td style=\"padding: 0 0.5em 0 0.5em; text-align: left; border: none;\">\n",
              "                Vehicle_Damage\n",
              "            </td>\n",
              "        </tr>\n",
              "    \n",
              "        <tr style=\"background-color: hsl(120, 100.00%, 83.25%); border: none;\">\n",
              "            <td style=\"padding: 0 1em 0 0.5em; text-align: right; border: none;\">\n",
              "                0.3304\n",
              "                \n",
              "                    &plusmn; 0.6922\n",
              "                \n",
              "            </td>\n",
              "            <td style=\"padding: 0 0.5em 0 0.5em; text-align: left; border: none;\">\n",
              "                Previously_Insured\n",
              "            </td>\n",
              "        </tr>\n",
              "    \n",
              "        <tr style=\"background-color: hsl(120, 100.00%, 92.92%); border: none;\">\n",
              "            <td style=\"padding: 0 1em 0 0.5em; text-align: right; border: none;\">\n",
              "                0.0965\n",
              "                \n",
              "                    &plusmn; 0.2844\n",
              "                \n",
              "            </td>\n",
              "            <td style=\"padding: 0 0.5em 0 0.5em; text-align: left; border: none;\">\n",
              "                Vehicle_Age\n",
              "            </td>\n",
              "        </tr>\n",
              "    \n",
              "        <tr style=\"background-color: hsl(120, 100.00%, 93.06%); border: none;\">\n",
              "            <td style=\"padding: 0 1em 0 0.5em; text-align: right; border: none;\">\n",
              "                0.0939\n",
              "                \n",
              "                    &plusmn; 0.3363\n",
              "                \n",
              "            </td>\n",
              "            <td style=\"padding: 0 0.5em 0 0.5em; text-align: left; border: none;\">\n",
              "                Age\n",
              "            </td>\n",
              "        </tr>\n",
              "    \n",
              "        <tr style=\"background-color: hsl(120, 100.00%, 96.05%); border: none;\">\n",
              "            <td style=\"padding: 0 1em 0 0.5em; text-align: right; border: none;\">\n",
              "                0.0420\n",
              "                \n",
              "                    &plusmn; 0.1548\n",
              "                \n",
              "            </td>\n",
              "            <td style=\"padding: 0 0.5em 0 0.5em; text-align: left; border: none;\">\n",
              "                Policy_Sales_Channel\n",
              "            </td>\n",
              "        </tr>\n",
              "    \n",
              "        <tr style=\"background-color: hsl(120, 100.00%, 98.66%); border: none;\">\n",
              "            <td style=\"padding: 0 1em 0 0.5em; text-align: right; border: none;\">\n",
              "                0.0090\n",
              "                \n",
              "                    &plusmn; 0.0260\n",
              "                \n",
              "            </td>\n",
              "            <td style=\"padding: 0 0.5em 0 0.5em; text-align: left; border: none;\">\n",
              "                Region_Code\n",
              "            </td>\n",
              "        </tr>\n",
              "    \n",
              "        <tr style=\"background-color: hsl(120, 100.00%, 99.62%); border: none;\">\n",
              "            <td style=\"padding: 0 1em 0 0.5em; text-align: right; border: none;\">\n",
              "                0.0015\n",
              "                \n",
              "                    &plusmn; 0.0077\n",
              "                \n",
              "            </td>\n",
              "            <td style=\"padding: 0 0.5em 0 0.5em; text-align: left; border: none;\">\n",
              "                Annual_Premium\n",
              "            </td>\n",
              "        </tr>\n",
              "    \n",
              "        <tr style=\"background-color: hsl(120, 100.00%, 99.73%); border: none;\">\n",
              "            <td style=\"padding: 0 1em 0 0.5em; text-align: right; border: none;\">\n",
              "                0.0009\n",
              "                \n",
              "                    &plusmn; 0.0066\n",
              "                \n",
              "            </td>\n",
              "            <td style=\"padding: 0 0.5em 0 0.5em; text-align: left; border: none;\">\n",
              "                Gender\n",
              "            </td>\n",
              "        </tr>\n",
              "    \n",
              "        <tr style=\"background-color: hsl(120, 100.00%, 99.96%); border: none;\">\n",
              "            <td style=\"padding: 0 1em 0 0.5em; text-align: right; border: none;\">\n",
              "                0.0001\n",
              "                \n",
              "                    &plusmn; 0.0004\n",
              "                \n",
              "            </td>\n",
              "            <td style=\"padding: 0 0.5em 0 0.5em; text-align: left; border: none;\">\n",
              "                id\n",
              "            </td>\n",
              "        </tr>\n",
              "    \n",
              "        <tr style=\"background-color: hsl(120, 100.00%, 99.99%); border: none;\">\n",
              "            <td style=\"padding: 0 1em 0 0.5em; text-align: right; border: none;\">\n",
              "                0.0000\n",
              "                \n",
              "                    &plusmn; 0.0000\n",
              "                \n",
              "            </td>\n",
              "            <td style=\"padding: 0 0.5em 0 0.5em; text-align: left; border: none;\">\n",
              "                Vintage\n",
              "            </td>\n",
              "        </tr>\n",
              "    \n",
              "        <tr style=\"background-color: hsl(0, 100.00%, 100.00%); border: none;\">\n",
              "            <td style=\"padding: 0 1em 0 0.5em; text-align: right; border: none;\">\n",
              "                0\n",
              "                \n",
              "                    &plusmn; 0.0000\n",
              "                \n",
              "            </td>\n",
              "            <td style=\"padding: 0 0.5em 0 0.5em; text-align: left; border: none;\">\n",
              "                Driving_License\n",
              "            </td>\n",
              "        </tr>\n",
              "    \n",
              "    \n",
              "    </tbody>\n",
              "</table>\n",
              "    \n",
              "\n",
              "    \n",
              "\n",
              "\n",
              "    \n",
              "\n",
              "    \n",
              "\n",
              "    \n",
              "\n",
              "    \n",
              "\n",
              "    \n",
              "\n",
              "    \n",
              "\n",
              "\n",
              "\n"
            ],
            "text/plain": [
              "<IPython.core.display.HTML object>"
            ]
          },
          "metadata": {
            "tags": []
          },
          "execution_count": 57
        }
      ]
    },
    {
      "cell_type": "markdown",
      "metadata": {
        "id": "u0_0PAmsiKWg"
      },
      "source": [
        "Use the show_prediction(), inspect an individual prediction of a model, try to figure out why the model makes the decision it makes."
      ]
    },
    {
      "cell_type": "code",
      "metadata": {
        "id": "C0KnDrdTf_kM",
        "colab": {
          "base_uri": "https://localhost:8080/",
          "height": 243
        },
        "outputId": "7977fe86-fd1f-487c-9f49-eac4f52c7de0"
      },
      "source": [
        "i = 7 #the feature 'Vehicle_Damage'\n",
        "eli5.show_prediction(rf, X_test.iloc[i], feature_names=data.columns.values, show_feature_values=True)"
      ],
      "execution_count": null,
      "outputs": [
        {
          "output_type": "execute_result",
          "data": {
            "text/html": [
              "\n",
              "    <style>\n",
              "    table.eli5-weights tr:hover {\n",
              "        filter: brightness(85%);\n",
              "    }\n",
              "</style>\n",
              "\n",
              "\n",
              "\n",
              "    \n",
              "\n",
              "    \n",
              "\n",
              "    \n",
              "\n",
              "    \n",
              "\n",
              "    \n",
              "\n",
              "    \n",
              "\n",
              "\n",
              "    \n",
              "\n",
              "    \n",
              "\n",
              "    \n",
              "\n",
              "    \n",
              "        \n",
              "\n",
              "    \n",
              "\n",
              "        \n",
              "            \n",
              "                \n",
              "                \n",
              "    \n",
              "        <p style=\"margin-bottom: 0.5em; margin-top: 0em\">\n",
              "            <b>\n",
              "    \n",
              "        y=0\n",
              "    \n",
              "</b>\n",
              "\n",
              "    \n",
              "    (probability <b>0.862</b>)\n",
              "\n",
              "top features\n",
              "        </p>\n",
              "    \n",
              "    <table class=\"eli5-weights\"\n",
              "           style=\"border-collapse: collapse; border: none; margin-top: 0em; table-layout: auto; margin-bottom: 2em;\">\n",
              "        <thead>\n",
              "        <tr style=\"border: none;\">\n",
              "            \n",
              "                <th style=\"padding: 0 1em 0 0.5em; text-align: right; border: none;\" title=\"Feature contribution already accounts for the feature value (for linear models, contribution = weight * feature value), and the sum of feature contributions is equal to the score or, for some classifiers, to the probability. Feature values are shown if &quot;show_feature_values&quot; is True.\">\n",
              "                    Contribution<sup>?</sup>\n",
              "                </th>\n",
              "            \n",
              "            <th style=\"padding: 0 0.5em 0 0.5em; text-align: left; border: none;\">Feature</th>\n",
              "            \n",
              "                <th style=\"padding: 0 0.5em 0 1em; text-align: right; border: none;\">Value</th>\n",
              "            \n",
              "        </tr>\n",
              "        </thead>\n",
              "        <tbody>\n",
              "        \n",
              "            <tr style=\"background-color: hsl(120, 100.00%, 80.00%); border: none;\">\n",
              "    <td style=\"padding: 0 1em 0 0.5em; text-align: right; border: none;\">\n",
              "        +0.877\n",
              "    </td>\n",
              "    <td style=\"padding: 0 0.5em 0 0.5em; text-align: left; border: none;\">\n",
              "        &lt;BIAS&gt;\n",
              "    </td>\n",
              "    \n",
              "        <td style=\"padding: 0 0.5em 0 1em; text-align: right; border: none;\">\n",
              "            1.000\n",
              "        </td>\n",
              "    \n",
              "</tr>\n",
              "        \n",
              "            <tr style=\"background-color: hsl(120, 100.00%, 97.79%); border: none;\">\n",
              "    <td style=\"padding: 0 1em 0 0.5em; text-align: right; border: none;\">\n",
              "        +0.038\n",
              "    </td>\n",
              "    <td style=\"padding: 0 0.5em 0 0.5em; text-align: left; border: none;\">\n",
              "        Vehicle_Age\n",
              "    </td>\n",
              "    \n",
              "        <td style=\"padding: 0 0.5em 0 1em; text-align: right; border: none;\">\n",
              "            1.000\n",
              "        </td>\n",
              "    \n",
              "</tr>\n",
              "        \n",
              "            <tr style=\"background-color: hsl(120, 100.00%, 98.32%); border: none;\">\n",
              "    <td style=\"padding: 0 1em 0 0.5em; text-align: right; border: none;\">\n",
              "        +0.026\n",
              "    </td>\n",
              "    <td style=\"padding: 0 0.5em 0 0.5em; text-align: left; border: none;\">\n",
              "        Age\n",
              "    </td>\n",
              "    \n",
              "        <td style=\"padding: 0 0.5em 0 1em; text-align: right; border: none;\">\n",
              "            25.000\n",
              "        </td>\n",
              "    \n",
              "</tr>\n",
              "        \n",
              "            <tr style=\"background-color: hsl(120, 100.00%, 98.82%); border: none;\">\n",
              "    <td style=\"padding: 0 1em 0 0.5em; text-align: right; border: none;\">\n",
              "        +0.015\n",
              "    </td>\n",
              "    <td style=\"padding: 0 0.5em 0 0.5em; text-align: left; border: none;\">\n",
              "        Policy_Sales_Channel\n",
              "    </td>\n",
              "    \n",
              "        <td style=\"padding: 0 0.5em 0 1em; text-align: right; border: none;\">\n",
              "            152.000\n",
              "        </td>\n",
              "    \n",
              "</tr>\n",
              "        \n",
              "            <tr style=\"background-color: hsl(120, 100.00%, 99.71%); border: none;\">\n",
              "    <td style=\"padding: 0 1em 0 0.5em; text-align: right; border: none;\">\n",
              "        +0.002\n",
              "    </td>\n",
              "    <td style=\"padding: 0 0.5em 0 0.5em; text-align: left; border: none;\">\n",
              "        Gender\n",
              "    </td>\n",
              "    \n",
              "        <td style=\"padding: 0 0.5em 0 1em; text-align: right; border: none;\">\n",
              "            2.000\n",
              "        </td>\n",
              "    \n",
              "</tr>\n",
              "        \n",
              "            <tr style=\"background-color: hsl(120, 100.00%, 99.83%); border: none;\">\n",
              "    <td style=\"padding: 0 1em 0 0.5em; text-align: right; border: none;\">\n",
              "        +0.001\n",
              "    </td>\n",
              "    <td style=\"padding: 0 0.5em 0 0.5em; text-align: left; border: none;\">\n",
              "        Annual_Premium\n",
              "    </td>\n",
              "    \n",
              "        <td style=\"padding: 0 0.5em 0 1em; text-align: right; border: none;\">\n",
              "            21236.000\n",
              "        </td>\n",
              "    \n",
              "</tr>\n",
              "        \n",
              "        \n",
              "\n",
              "        \n",
              "        \n",
              "            <tr style=\"background-color: hsl(0, 100.00%, 99.70%); border: none;\">\n",
              "    <td style=\"padding: 0 1em 0 0.5em; text-align: right; border: none;\">\n",
              "        -0.002\n",
              "    </td>\n",
              "    <td style=\"padding: 0 0.5em 0 0.5em; text-align: left; border: none;\">\n",
              "        Region_Code\n",
              "    </td>\n",
              "    \n",
              "        <td style=\"padding: 0 0.5em 0 1em; text-align: right; border: none;\">\n",
              "            30.000\n",
              "        </td>\n",
              "    \n",
              "</tr>\n",
              "        \n",
              "            <tr style=\"background-color: hsl(0, 100.00%, 97.67%); border: none;\">\n",
              "    <td style=\"padding: 0 1em 0 0.5em; text-align: right; border: none;\">\n",
              "        -0.041\n",
              "    </td>\n",
              "    <td style=\"padding: 0 0.5em 0 0.5em; text-align: left; border: none;\">\n",
              "        Previously_Insured\n",
              "    </td>\n",
              "    \n",
              "        <td style=\"padding: 0 0.5em 0 1em; text-align: right; border: none;\">\n",
              "            0.000\n",
              "        </td>\n",
              "    \n",
              "</tr>\n",
              "        \n",
              "            <tr style=\"background-color: hsl(0, 100.00%, 97.13%); border: none;\">\n",
              "    <td style=\"padding: 0 1em 0 0.5em; text-align: right; border: none;\">\n",
              "        -0.055\n",
              "    </td>\n",
              "    <td style=\"padding: 0 0.5em 0 0.5em; text-align: left; border: none;\">\n",
              "        Vehicle_Damage\n",
              "    </td>\n",
              "    \n",
              "        <td style=\"padding: 0 0.5em 0 1em; text-align: right; border: none;\">\n",
              "            1.000\n",
              "        </td>\n",
              "    \n",
              "</tr>\n",
              "        \n",
              "\n",
              "        </tbody>\n",
              "    </table>\n",
              "\n",
              "            \n",
              "        \n",
              "\n",
              "        \n",
              "\n",
              "\n",
              "\n",
              "    \n",
              "\n",
              "    \n",
              "\n",
              "    \n",
              "\n",
              "    \n",
              "\n",
              "\n",
              "    \n",
              "\n",
              "    \n",
              "\n",
              "    \n",
              "\n",
              "    \n",
              "\n",
              "    \n",
              "\n",
              "    \n",
              "\n",
              "\n",
              "    \n",
              "\n",
              "    \n",
              "\n",
              "    \n",
              "\n",
              "    \n",
              "\n",
              "    \n",
              "\n",
              "    \n",
              "\n",
              "\n",
              "\n"
            ],
            "text/plain": [
              "<IPython.core.display.HTML object>"
            ]
          },
          "metadata": {
            "tags": []
          },
          "execution_count": 59
        }
      ]
    },
    {
      "cell_type": "markdown",
      "metadata": {
        "id": "hMZL-sfDVZDD"
      },
      "source": [
        "   \n",
        "### **Conclusion**  \n",
        "\n",
        "This dataset is not suitable for a XGBoost and Random Forests training and prediction. \n",
        "\n",
        "The most important feature for this is '*Vehicle_Damage*', then the '*Age*'. \n",
        "\n"
      ]
    },
    {
      "cell_type": "markdown",
      "metadata": {
        "id": "cdvsnab-VcYx"
      },
      "source": [
        "   \n",
        "### **Reference** \n",
        "\n",
        "[1] Tutorial #1: bias and fairness in AI https://www.borealisai.com/en/blog/tutorial1-bias-and-fairness-ai/  \n",
        "[2] Explainable AI: Interpreting, Explaining and Visualizing Deep Learning https://books.google.com/books?id=j5yuDwAAQBAJ&lpg=PR5&ots=Iq2QQB0S6I&dq=Explainable%20AI%3A%20Interpreting%2C%20Explaining%20and%20Visualizing%20Deep%20Learning%20reference&lr&pg=PR5#v=onepage&q=Explainable%20AI:%20Interpreting,%20Explaining%20and%20Visualizing%20Deep%20Learning%20reference&f=false  \n",
        "[3] LIME https://medium.com/analytics-vidhya/model-interpretability-lime-part-2-53c0f5e76b6a  \n",
        "[4] Xgboost \\<BIAS\\>  https://stackoverflow.com/questions/49402701/eli5-explaining-prediction-xgboost-model  \n"
      ]
    }
  ]
}