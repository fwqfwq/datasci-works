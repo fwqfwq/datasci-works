{
  "nbformat": 4,
  "nbformat_minor": 0,
  "metadata": {
    "colab": {
      "name": "ML Model _ February Flight Delay Prediction.ipynb",
      "provenance": [],
      "collapsed_sections": []
    },
    "kernelspec": {
      "name": "python3",
      "display_name": "Python 3"
    }
  },
  "cells": [
    {
      "cell_type": "markdown",
      "metadata": {
        "id": "h8Ag0viUK-Nb"
      },
      "source": [
        "#### INFO7390 Adv Data Sci  \n",
        "## **Assignment 1 ML Model**  \n",
        "    \n",
        "Name: Fangqing Wu  \n",
        "NUID: 001305642"
      ]
    },
    {
      "cell_type": "markdown",
      "metadata": {
        "id": "xQaZoEZgLlIQ"
      },
      "source": [
        "---\n",
        "**License**  \n",
        "This project is licensed under [MIT License](https://raw.githubusercontent.com/fwqfwq/dataset/master/MIT%20License),  \n",
        "all credits to Fangiqng Wu. \n",
        "\\\n",
        "\\\n",
        "**Links**  \n",
        "Google Colab: https://colab.research.google.com/drive/1__rqOgw6eklBUiDkBMXswGTP_Dip2BPd?usp=sharing   \n",
        "Dataset: https://www.kaggle.com/divyansh22/february-flight-delay-prediction  \n",
        "\n",
        "\n",
        "\n",
        "\n",
        "\n",
        "\n"
      ]
    },
    {
      "cell_type": "markdown",
      "metadata": {
        "id": "MXQsQWBNZ6NT"
      },
      "source": [
        "---\n",
        "### **Abstract**  \n",
        "This project is about the prediciton on February flight dataset.   \n",
        "The dataset is based on the two part of data from Feb 2019 and Feb 2020 , which are meant to share the same periodical pettern.   \n",
        "Three different models would be used for prediction (Linear Regression, Random Forests), after cleaning and analysing the correlations between features.   \n",
        " \n",
        "\n",
        "\n"
      ]
    },
    {
      "cell_type": "markdown",
      "metadata": {
        "id": "TEidAx6jNzNN"
      },
      "source": [
        "   \n",
        "### **Dataset Introduction** \n",
        "- US Flight Data for the month of February 2019 & 2020\n",
        "- 21 features\n",
        "- For use, the dataset would be sampled and trimmed into a 200,000-record csv file in this project, instead of a total of around 4,000,000 records  "
      ]
    },
    {
      "cell_type": "markdown",
      "metadata": {
        "id": "7Y94ZnZayJi_"
      },
      "source": [
        "> | Featrue | Description | | Featrue | Description | | Featrue | Description |\n",
        "| ----------- | ----------- | | ----------- | ----------- | | ----------- | ----------- |\n",
        "| DAY_OF_MONTH | Day of Month | | DAY_OF_WEEK | Day of Week | | TAIL_NUM | Tail Number |\n",
        "| OP_UNIQUE_CARRIER | Unique Carrier Code| | OP_CARRIER_AIRLINE_ID | Identification ID (key) | | OP_CARRIER | Code assigned by IATA |\n",
        "| ORIGIN_AIRPORT_ID | Airport ID | | ORIGIN_AIRPORT_SEQ_ID | Airport Sequence ID | |ORIGIN | Origin Airport|\n",
        "| OP_CARRIER_FL_NUM | Flight Number | | DEST_AIRPORT_ID | Destination Airport ID | | DEST_AIRPORT_SEQ_ID | Destination Airport Sequence ID |\n",
        "| DEST | Desnation | | DEP_TIME | Actual Departure Time | | DEP_DEL15 | Departure Delay Indicator |\n",
        "| DEP_TIME_BLK | Departure Time Block | | ARR_TIME | Actual Arrival Time | | ARR_DEL15 | Arrival Delay Indicator |\n",
        "| CANCELLED | Cancelled Flight Indicator | | DIVERTED | Diverted Flight Indicator | | DISTANCE | Distance between airports |\n",
        "\n",
        "\n"
      ]
    },
    {
      "cell_type": "markdown",
      "metadata": {
        "id": "RFMDwjmOVZJE"
      },
      "source": [
        "The scenario of this dataset is clear:  \n",
        "The indicators of delay are of boolean type (*DEP_DEL15* & *ARR_DEL15*), which may have correlations with the rest of features.  \n",
        "\\\n",
        "For **hypothesis**, considering February's climate is relatively not very capricious, the causation could have a higher possibility connected with airports (*ORIGIN_AIRPORT_ID* & *ARR_AIRPORT_ID*) and departure time (*DEP_TIME*).  \n",
        "\n",
        "\n",
        "\n",
        "\n"
      ]
    },
    {
      "cell_type": "markdown",
      "metadata": {
        "id": "K8MVmzU1UN-p"
      },
      "source": [
        "### **Data Preprocessing**"
      ]
    },
    {
      "cell_type": "markdown",
      "metadata": {
        "id": "DYYHOR6IOuyh"
      },
      "source": [
        "#### - Sampling and Trim from Local  \n",
        "Due to the limitation on file size, the original dataset was mean to trimmed via python code. However, a brute-force way of trimming would not meet the expections for a fair result of regression.   \n",
        "        \n",
        "In order to optimise the dataset, *sample()* in pandas package was used to get a random result as sampling for a 200,000-record csv file.     \n",
        "\n",
        "\n",
        "**sampling.py**\n",
        "```\n",
        "import pandas as pd\n",
        "\n",
        "url = '/Users/wnead/datasets/delay/Feb_%s_ontime.csv'\n",
        "df = pd.concat([pd.read_csv(url % '2019'), pd.read_csv(url % '2020')])\n",
        "\n",
        "print('original count: ', df.count())\n",
        "\n",
        "df = df.sample(n=200000, replace=True)\n",
        "print('sampled count: ', df.count())\n",
        "# print(df.head(10))\n",
        "\n",
        "df.to_csv('Feb_ontime.csv')\n",
        "```\n",
        "---\n",
        "\n"
      ]
    },
    {
      "cell_type": "code",
      "metadata": {
        "id": "4_WKwcdzUIUx",
        "colab": {
          "base_uri": "https://localhost:8080/",
          "height": 71
        },
        "outputId": "8ba4cd29-0948-4987-89ea-b6dec6326a9c"
      },
      "source": [
        "%matplotlib inline \n",
        "import matplotlib.pyplot as plt\n",
        "import numpy as np\n",
        "import pandas as pd\n",
        "import pandas.util.testing as tm\n",
        "from scipy import stats\n",
        "import seaborn as sns\n",
        "import warnings\n",
        "import random\n",
        "from sklearn.model_selection import KFold, cross_val_score, train_test_split\n",
        "from sklearn import metrics\n",
        "import statsmodels.api as sm\n",
        "import scipy.stats as stats \n",
        "\n",
        "from datetime import datetime\n",
        "random.seed(datetime.now())\n",
        "warnings.filterwarnings('ignore')"
      ],
      "execution_count": null,
      "outputs": [
        {
          "output_type": "stream",
          "text": [
            "/usr/local/lib/python3.6/dist-packages/ipykernel_launcher.py:5: FutureWarning: pandas.util.testing is deprecated. Use the functions in the public API at pandas.testing instead.\n",
            "  \"\"\"\n"
          ],
          "name": "stderr"
        }
      ]
    },
    {
      "cell_type": "markdown",
      "metadata": {
        "id": "FYbq23LpUlvh"
      },
      "source": [
        "#### - Data Import & Clean\n",
        "First, a direct perception for dataset. "
      ]
    },
    {
      "cell_type": "code",
      "metadata": {
        "id": "qKzSbQD4LkM9",
        "colab": {
          "base_uri": "https://localhost:8080/",
          "height": 595
        },
        "outputId": "48efa745-f3d6-4099-98da-4d4fd731d87d"
      },
      "source": [
        "url = 'https://raw.githubusercontent.com/fwqfwq/dataset/master/Feb_ontime.csv'\n",
        "dataset = pd.read_csv(url)\n",
        "print('Description: \\n', dataset.describe())\n",
        "print('\\n10 examples: \\n', dataset.head(10))\n",
        "print('\\nNumber of columns', dataset.columns.size)\n",
        "print(dataset.columns.values)"
      ],
      "execution_count": null,
      "outputs": [
        {
          "output_type": "stream",
          "text": [
            "Description: \n",
            "           Unnamed: 0   DAY_OF_MONTH  ...       DISTANCE  Unnamed: 21\n",
            "count  200000.000000  200000.000000  ...  200000.000000          0.0\n",
            "mean   277238.730905      14.956745  ...     793.650775          NaN\n",
            "std    160278.627065       8.178058  ...     582.602239          NaN\n",
            "min         3.000000       1.000000  ...      31.000000          NaN\n",
            "25%    139017.500000       8.000000  ...     364.000000          NaN\n",
            "50%    276240.500000      15.000000  ...     640.000000          NaN\n",
            "75%    415212.000000      22.000000  ...    1035.000000          NaN\n",
            "max    574263.000000      29.000000  ...    5095.000000          NaN\n",
            "\n",
            "[8 rows x 17 columns]\n",
            "\n",
            "10 examples: \n",
            "    Unnamed: 0  DAY_OF_MONTH  DAY_OF_WEEK  ... DIVERTED  DISTANCE Unnamed: 21\n",
            "0      349495            18            2  ...      0.0     368.0         NaN\n",
            "1      440233            24            7  ...      0.0    2084.0         NaN\n",
            "2      447059            24            7  ...      0.0     666.0         NaN\n",
            "3      448452            24            7  ...      0.0     594.0         NaN\n",
            "4      436885            24            7  ...      0.0      91.0         NaN\n",
            "5      371080            19            3  ...      0.0     629.0         NaN\n",
            "6      520776            28            4  ...      0.0    1197.0         NaN\n",
            "7      473821            26            2  ...      0.0    1299.0         NaN\n",
            "8      424696            23            6  ...      0.0     771.0         NaN\n",
            "9      413021            21            5  ...      0.0     209.0         NaN\n",
            "\n",
            "[10 rows x 23 columns]\n",
            "\n",
            "Number of columns 23\n",
            "['Unnamed: 0' 'DAY_OF_MONTH' 'DAY_OF_WEEK' 'OP_UNIQUE_CARRIER'\n",
            " 'OP_CARRIER_AIRLINE_ID' 'OP_CARRIER' 'TAIL_NUM' 'OP_CARRIER_FL_NUM'\n",
            " 'ORIGIN_AIRPORT_ID' 'ORIGIN_AIRPORT_SEQ_ID' 'ORIGIN' 'DEST_AIRPORT_ID'\n",
            " 'DEST_AIRPORT_SEQ_ID' 'DEST' 'DEP_TIME' 'DEP_DEL15' 'DEP_TIME_BLK'\n",
            " 'ARR_TIME' 'ARR_DEL15' 'CANCELLED' 'DIVERTED' 'DISTANCE' 'Unnamed: 21']\n"
          ],
          "name": "stdout"
        }
      ]
    },
    {
      "cell_type": "markdown",
      "metadata": {
        "id": "7Q7Q9RVaTr5h"
      },
      "source": [
        "Next, trim the first and the last column. One as the index from original file and the other is all of NaN value.  \n",
        "And get a view of any data default. "
      ]
    },
    {
      "cell_type": "code",
      "metadata": {
        "id": "-mQcZ4rCgTpP"
      },
      "source": [
        "dataset = (dataset.iloc[:, 1:-1])"
      ],
      "execution_count": null,
      "outputs": []
    },
    {
      "cell_type": "code",
      "metadata": {
        "id": "Xg_BBAe1HC5h",
        "colab": {
          "base_uri": "https://localhost:8080/",
          "height": 544
        },
        "outputId": "81051104-52a4-454f-9273-60b6dfd5c7ba"
      },
      "source": [
        "print('Count for each feature: \\n')\n",
        "print(dataset.info())"
      ],
      "execution_count": null,
      "outputs": [
        {
          "output_type": "stream",
          "text": [
            "Count for each feature: \n",
            "\n",
            "<class 'pandas.core.frame.DataFrame'>\n",
            "RangeIndex: 200000 entries, 0 to 199999\n",
            "Data columns (total 21 columns):\n",
            " #   Column                 Non-Null Count   Dtype  \n",
            "---  ------                 --------------   -----  \n",
            " 0   DAY_OF_MONTH           200000 non-null  int64  \n",
            " 1   DAY_OF_WEEK            200000 non-null  int64  \n",
            " 2   OP_UNIQUE_CARRIER      200000 non-null  object \n",
            " 3   OP_CARRIER_AIRLINE_ID  200000 non-null  int64  \n",
            " 4   OP_CARRIER             200000 non-null  object \n",
            " 5   TAIL_NUM               199676 non-null  object \n",
            " 6   OP_CARRIER_FL_NUM      200000 non-null  int64  \n",
            " 7   ORIGIN_AIRPORT_ID      200000 non-null  int64  \n",
            " 8   ORIGIN_AIRPORT_SEQ_ID  200000 non-null  int64  \n",
            " 9   ORIGIN                 200000 non-null  object \n",
            " 10  DEST_AIRPORT_ID        200000 non-null  int64  \n",
            " 11  DEST_AIRPORT_SEQ_ID    200000 non-null  int64  \n",
            " 12  DEST                   200000 non-null  object \n",
            " 13  DEP_TIME               196431 non-null  float64\n",
            " 14  DEP_DEL15              196430 non-null  float64\n",
            " 15  DEP_TIME_BLK           200000 non-null  object \n",
            " 16  ARR_TIME               196199 non-null  float64\n",
            " 17  ARR_DEL15              195828 non-null  float64\n",
            " 18  CANCELLED              200000 non-null  float64\n",
            " 19  DIVERTED               200000 non-null  float64\n",
            " 20  DISTANCE               200000 non-null  float64\n",
            "dtypes: float64(7), int64(8), object(6)\n",
            "memory usage: 32.0+ MB\n",
            "None\n"
          ],
          "name": "stdout"
        }
      ]
    },
    {
      "cell_type": "markdown",
      "metadata": {
        "id": "p0uqenvBYCnz"
      },
      "source": [
        "Modify the abnomal data.   \n",
        "As seen:   \n",
        "*TAIL_NUM* is for tail number.   \n",
        "*DEP_TIME*, *ARR_TIME* are departure and arrival time.   \n",
        "*DEP_DEL15*, *ARR_DEL15* are of 0 or 1 value to determine whether delayed or not, which are also the target features to be predicted.   \n",
        "\\\n",
        "To get a better performance, the record consisting of NaN value would be dropped.    "
      ]
    },
    {
      "cell_type": "code",
      "metadata": {
        "id": "ziseeiJCZYvt",
        "colab": {
          "base_uri": "https://localhost:8080/",
          "height": 439
        },
        "outputId": "8736592d-ef61-4126-bed4-9ec57195aa6e"
      },
      "source": [
        "dataset = dataset.dropna(axis = 0)\n",
        "dataset"
      ],
      "execution_count": null,
      "outputs": [
        {
          "output_type": "execute_result",
          "data": {
            "text/html": [
              "<div>\n",
              "<style scoped>\n",
              "    .dataframe tbody tr th:only-of-type {\n",
              "        vertical-align: middle;\n",
              "    }\n",
              "\n",
              "    .dataframe tbody tr th {\n",
              "        vertical-align: top;\n",
              "    }\n",
              "\n",
              "    .dataframe thead th {\n",
              "        text-align: right;\n",
              "    }\n",
              "</style>\n",
              "<table border=\"1\" class=\"dataframe\">\n",
              "  <thead>\n",
              "    <tr style=\"text-align: right;\">\n",
              "      <th></th>\n",
              "      <th>DAY_OF_MONTH</th>\n",
              "      <th>DAY_OF_WEEK</th>\n",
              "      <th>OP_UNIQUE_CARRIER</th>\n",
              "      <th>OP_CARRIER_AIRLINE_ID</th>\n",
              "      <th>OP_CARRIER</th>\n",
              "      <th>TAIL_NUM</th>\n",
              "      <th>OP_CARRIER_FL_NUM</th>\n",
              "      <th>ORIGIN_AIRPORT_ID</th>\n",
              "      <th>ORIGIN_AIRPORT_SEQ_ID</th>\n",
              "      <th>ORIGIN</th>\n",
              "      <th>DEST_AIRPORT_ID</th>\n",
              "      <th>DEST_AIRPORT_SEQ_ID</th>\n",
              "      <th>DEST</th>\n",
              "      <th>DEP_TIME</th>\n",
              "      <th>DEP_DEL15</th>\n",
              "      <th>DEP_TIME_BLK</th>\n",
              "      <th>ARR_TIME</th>\n",
              "      <th>ARR_DEL15</th>\n",
              "      <th>CANCELLED</th>\n",
              "      <th>DIVERTED</th>\n",
              "      <th>DISTANCE</th>\n",
              "    </tr>\n",
              "  </thead>\n",
              "  <tbody>\n",
              "    <tr>\n",
              "      <th>0</th>\n",
              "      <td>18</td>\n",
              "      <td>2</td>\n",
              "      <td>WN</td>\n",
              "      <td>19393</td>\n",
              "      <td>WN</td>\n",
              "      <td>N7863A</td>\n",
              "      <td>2085</td>\n",
              "      <td>12889</td>\n",
              "      <td>1288903</td>\n",
              "      <td>LAS</td>\n",
              "      <td>14869</td>\n",
              "      <td>1486903</td>\n",
              "      <td>SLC</td>\n",
              "      <td>1415.0</td>\n",
              "      <td>0.0</td>\n",
              "      <td>1400-1459</td>\n",
              "      <td>1620.0</td>\n",
              "      <td>0.0</td>\n",
              "      <td>0.0</td>\n",
              "      <td>0.0</td>\n",
              "      <td>368.0</td>\n",
              "    </tr>\n",
              "    <tr>\n",
              "      <th>1</th>\n",
              "      <td>24</td>\n",
              "      <td>7</td>\n",
              "      <td>B6</td>\n",
              "      <td>20409</td>\n",
              "      <td>B6</td>\n",
              "      <td>N662JB</td>\n",
              "      <td>319</td>\n",
              "      <td>11697</td>\n",
              "      <td>1169706</td>\n",
              "      <td>FLL</td>\n",
              "      <td>14869</td>\n",
              "      <td>1486903</td>\n",
              "      <td>SLC</td>\n",
              "      <td>1827.0</td>\n",
              "      <td>0.0</td>\n",
              "      <td>1800-1859</td>\n",
              "      <td>2150.0</td>\n",
              "      <td>0.0</td>\n",
              "      <td>0.0</td>\n",
              "      <td>0.0</td>\n",
              "      <td>2084.0</td>\n",
              "    </tr>\n",
              "    <tr>\n",
              "      <th>2</th>\n",
              "      <td>24</td>\n",
              "      <td>7</td>\n",
              "      <td>DL</td>\n",
              "      <td>19790</td>\n",
              "      <td>DL</td>\n",
              "      <td>N917DL</td>\n",
              "      <td>1329</td>\n",
              "      <td>10397</td>\n",
              "      <td>1039707</td>\n",
              "      <td>ATL</td>\n",
              "      <td>14100</td>\n",
              "      <td>1410005</td>\n",
              "      <td>PHL</td>\n",
              "      <td>856.0</td>\n",
              "      <td>0.0</td>\n",
              "      <td>0900-0959</td>\n",
              "      <td>1039.0</td>\n",
              "      <td>0.0</td>\n",
              "      <td>0.0</td>\n",
              "      <td>0.0</td>\n",
              "      <td>666.0</td>\n",
              "    </tr>\n",
              "    <tr>\n",
              "      <th>3</th>\n",
              "      <td>24</td>\n",
              "      <td>7</td>\n",
              "      <td>DL</td>\n",
              "      <td>19790</td>\n",
              "      <td>DL</td>\n",
              "      <td>N6713Y</td>\n",
              "      <td>2673</td>\n",
              "      <td>10397</td>\n",
              "      <td>1039707</td>\n",
              "      <td>ATL</td>\n",
              "      <td>11433</td>\n",
              "      <td>1143302</td>\n",
              "      <td>DTW</td>\n",
              "      <td>1109.0</td>\n",
              "      <td>0.0</td>\n",
              "      <td>1100-1159</td>\n",
              "      <td>1254.0</td>\n",
              "      <td>0.0</td>\n",
              "      <td>0.0</td>\n",
              "      <td>0.0</td>\n",
              "      <td>594.0</td>\n",
              "    </tr>\n",
              "    <tr>\n",
              "      <th>4</th>\n",
              "      <td>24</td>\n",
              "      <td>7</td>\n",
              "      <td>OH</td>\n",
              "      <td>20397</td>\n",
              "      <td>OH</td>\n",
              "      <td>N712PS</td>\n",
              "      <td>5044</td>\n",
              "      <td>11057</td>\n",
              "      <td>1105703</td>\n",
              "      <td>CLT</td>\n",
              "      <td>10431</td>\n",
              "      <td>1043105</td>\n",
              "      <td>AVL</td>\n",
              "      <td>1250.0</td>\n",
              "      <td>1.0</td>\n",
              "      <td>0900-0959</td>\n",
              "      <td>1339.0</td>\n",
              "      <td>1.0</td>\n",
              "      <td>0.0</td>\n",
              "      <td>0.0</td>\n",
              "      <td>91.0</td>\n",
              "    </tr>\n",
              "    <tr>\n",
              "      <th>...</th>\n",
              "      <td>...</td>\n",
              "      <td>...</td>\n",
              "      <td>...</td>\n",
              "      <td>...</td>\n",
              "      <td>...</td>\n",
              "      <td>...</td>\n",
              "      <td>...</td>\n",
              "      <td>...</td>\n",
              "      <td>...</td>\n",
              "      <td>...</td>\n",
              "      <td>...</td>\n",
              "      <td>...</td>\n",
              "      <td>...</td>\n",
              "      <td>...</td>\n",
              "      <td>...</td>\n",
              "      <td>...</td>\n",
              "      <td>...</td>\n",
              "      <td>...</td>\n",
              "      <td>...</td>\n",
              "      <td>...</td>\n",
              "      <td>...</td>\n",
              "    </tr>\n",
              "    <tr>\n",
              "      <th>199995</th>\n",
              "      <td>14</td>\n",
              "      <td>4</td>\n",
              "      <td>AA</td>\n",
              "      <td>19805</td>\n",
              "      <td>AA</td>\n",
              "      <td>N949NN</td>\n",
              "      <td>115</td>\n",
              "      <td>12953</td>\n",
              "      <td>1295304</td>\n",
              "      <td>LGA</td>\n",
              "      <td>13930</td>\n",
              "      <td>1393007</td>\n",
              "      <td>ORD</td>\n",
              "      <td>823.0</td>\n",
              "      <td>0.0</td>\n",
              "      <td>0800-0859</td>\n",
              "      <td>1001.0</td>\n",
              "      <td>0.0</td>\n",
              "      <td>0.0</td>\n",
              "      <td>0.0</td>\n",
              "      <td>733.0</td>\n",
              "    </tr>\n",
              "    <tr>\n",
              "      <th>199996</th>\n",
              "      <td>22</td>\n",
              "      <td>5</td>\n",
              "      <td>WN</td>\n",
              "      <td>19393</td>\n",
              "      <td>WN</td>\n",
              "      <td>N209WN</td>\n",
              "      <td>779</td>\n",
              "      <td>10821</td>\n",
              "      <td>1082106</td>\n",
              "      <td>BWI</td>\n",
              "      <td>13232</td>\n",
              "      <td>1323202</td>\n",
              "      <td>MDW</td>\n",
              "      <td>1416.0</td>\n",
              "      <td>1.0</td>\n",
              "      <td>1300-1359</td>\n",
              "      <td>1511.0</td>\n",
              "      <td>1.0</td>\n",
              "      <td>0.0</td>\n",
              "      <td>0.0</td>\n",
              "      <td>611.0</td>\n",
              "    </tr>\n",
              "    <tr>\n",
              "      <th>199997</th>\n",
              "      <td>16</td>\n",
              "      <td>7</td>\n",
              "      <td>F9</td>\n",
              "      <td>20436</td>\n",
              "      <td>F9</td>\n",
              "      <td>N232FR</td>\n",
              "      <td>1131</td>\n",
              "      <td>13485</td>\n",
              "      <td>1348502</td>\n",
              "      <td>MSN</td>\n",
              "      <td>13204</td>\n",
              "      <td>1320402</td>\n",
              "      <td>MCO</td>\n",
              "      <td>1046.0</td>\n",
              "      <td>0.0</td>\n",
              "      <td>1000-1059</td>\n",
              "      <td>1437.0</td>\n",
              "      <td>0.0</td>\n",
              "      <td>0.0</td>\n",
              "      <td>0.0</td>\n",
              "      <td>1109.0</td>\n",
              "    </tr>\n",
              "    <tr>\n",
              "      <th>199998</th>\n",
              "      <td>24</td>\n",
              "      <td>1</td>\n",
              "      <td>OO</td>\n",
              "      <td>20304</td>\n",
              "      <td>OO</td>\n",
              "      <td>N479CA</td>\n",
              "      <td>5155</td>\n",
              "      <td>12255</td>\n",
              "      <td>1225502</td>\n",
              "      <td>HYS</td>\n",
              "      <td>14877</td>\n",
              "      <td>1487706</td>\n",
              "      <td>SLN</td>\n",
              "      <td>2248.0</td>\n",
              "      <td>0.0</td>\n",
              "      <td>2300-2359</td>\n",
              "      <td>2344.0</td>\n",
              "      <td>0.0</td>\n",
              "      <td>0.0</td>\n",
              "      <td>0.0</td>\n",
              "      <td>88.0</td>\n",
              "    </tr>\n",
              "    <tr>\n",
              "      <th>199999</th>\n",
              "      <td>18</td>\n",
              "      <td>2</td>\n",
              "      <td>OO</td>\n",
              "      <td>20304</td>\n",
              "      <td>OO</td>\n",
              "      <td>N283SY</td>\n",
              "      <td>4167</td>\n",
              "      <td>14689</td>\n",
              "      <td>1468902</td>\n",
              "      <td>SBA</td>\n",
              "      <td>14869</td>\n",
              "      <td>1486903</td>\n",
              "      <td>SLC</td>\n",
              "      <td>544.0</td>\n",
              "      <td>0.0</td>\n",
              "      <td>0001-0559</td>\n",
              "      <td>839.0</td>\n",
              "      <td>0.0</td>\n",
              "      <td>0.0</td>\n",
              "      <td>0.0</td>\n",
              "      <td>615.0</td>\n",
              "    </tr>\n",
              "  </tbody>\n",
              "</table>\n",
              "<p>195828 rows × 21 columns</p>\n",
              "</div>"
            ],
            "text/plain": [
              "        DAY_OF_MONTH  DAY_OF_WEEK  ... DIVERTED  DISTANCE\n",
              "0                 18            2  ...      0.0     368.0\n",
              "1                 24            7  ...      0.0    2084.0\n",
              "2                 24            7  ...      0.0     666.0\n",
              "3                 24            7  ...      0.0     594.0\n",
              "4                 24            7  ...      0.0      91.0\n",
              "...              ...          ...  ...      ...       ...\n",
              "199995            14            4  ...      0.0     733.0\n",
              "199996            22            5  ...      0.0     611.0\n",
              "199997            16            7  ...      0.0    1109.0\n",
              "199998            24            1  ...      0.0      88.0\n",
              "199999            18            2  ...      0.0     615.0\n",
              "\n",
              "[195828 rows x 21 columns]"
            ]
          },
          "metadata": {
            "tags": []
          },
          "execution_count": 5
        }
      ]
    },
    {
      "cell_type": "markdown",
      "metadata": {
        "id": "4jotekq9D2Nj"
      },
      "source": [
        "Filter out the needed columns."
      ]
    },
    {
      "cell_type": "code",
      "metadata": {
        "id": "qQ3eXtDCELDy"
      },
      "source": [
        "data = dataset[['DAY_OF_MONTH', 'DAY_OF_WEEK', 'OP_CARRIER_AIRLINE_ID', 'OP_CARRIER_FL_NUM', \n",
        "                'ORIGIN_AIRPORT_ID', 'DEST_AIRPORT_ID', 'DEP_TIME', 'DISTANCE', 'DEP_DEL15']]\n",
        "target = dataset[['DEP_DEL15']]"
      ],
      "execution_count": null,
      "outputs": []
    },
    {
      "cell_type": "markdown",
      "metadata": {
        "id": "Ngh_Uq0BmdrQ"
      },
      "source": [
        "Variable 'data' selected several features may have causations to the 'target' feature '*DEP_DEL15*', which is attched with 'data' and would lately be deleted after visualization.  \n",
        "\n"
      ]
    },
    {
      "cell_type": "markdown",
      "metadata": {
        "id": "uMst27VMZaaS"
      },
      "source": [
        "\n",
        "### **Data Visualization**  \n",
        "In this part, some features and statistical relationship with target variable would be visualized. \n"
      ]
    },
    {
      "cell_type": "markdown",
      "metadata": {
        "id": "lweiUzVSlBAk"
      },
      "source": [
        "1. Graph for delay more than 15 minutes:  \n",
        "> *DEP_DEL15* & *ARR_DEL15*"
      ]
    },
    {
      "cell_type": "code",
      "metadata": {
        "id": "YzRmBQFuxObP",
        "colab": {
          "base_uri": "https://localhost:8080/",
          "height": 390
        },
        "outputId": "670404cb-10d4-48ac-9910-04fe81201b9e"
      },
      "source": [
        "plt.figure(figsize=(10, 5))\n",
        "\n",
        "plt.suptitle('Delayed More Than 15 Minutes', weight='bold', fontsize=16)\n",
        "\n",
        "ax1 = plt.subplot(1, 2, 1, frameon=False)\n",
        "sns.countplot(y='DEP_DEL15', data=dataset, palette='rainbow', orient='v')\n",
        "plt.title('Departure Delayed', weight='bold')\n",
        "plt.xlabel('Count', fontsize=12)\n",
        "plt.ylabel('Delayed(1) or Not Delayed(0)', fontsize=12)\n",
        "\n",
        "ax2 = plt.subplot(1, 2, 2, frameon=False)\n",
        "sns.countplot(y='ARR_DEL15', data=dataset, palette='rainbow', orient='v')\n",
        "plt.title('Arrival Delayed', weight='bold')\n",
        "plt.xlabel('Count', fontsize=12)\n",
        "plt.ylabel('Delayed(1) or Not Delayed(0)', fontsize=12)"
      ],
      "execution_count": null,
      "outputs": [
        {
          "output_type": "execute_result",
          "data": {
            "text/plain": [
              "Text(0, 0.5, 'Delayed(1) or Not Delayed(0)')"
            ]
          },
          "metadata": {
            "tags": []
          },
          "execution_count": 7
        },
        {
          "output_type": "display_data",
          "data": {
            "image/png": "[encoded data removed]",
            "text/plain": [
              "<Figure size 720x360 with 2 Axes>"
            ]
          },
          "metadata": {
            "tags": [],
            "needs_background": "light"
          }
        }
      ]
    },
    {
      "cell_type": "markdown",
      "metadata": {
        "id": "TP5CwaEmnG41"
      },
      "source": [
        "The result is basically the same so one feature could be selected as target. "
      ]
    },
    {
      "cell_type": "markdown",
      "metadata": {
        "id": "YYEEBkWgsPX-"
      },
      "source": [
        "2. Correlations & Heatmap: \n",
        "*Corr()* could be used to compulate pairwise correlations. Heatmap helps with a direct visulations.    "
      ]
    },
    {
      "cell_type": "code",
      "metadata": {
        "id": "p60ZXI-djhTi",
        "colab": {
          "base_uri": "https://localhost:8080/",
          "height": 348
        },
        "outputId": "0117932f-011e-4713-ca50-587ad0f8c7a0"
      },
      "source": [
        "data.corr()"
      ],
      "execution_count": null,
      "outputs": [
        {
          "output_type": "execute_result",
          "data": {
            "text/html": [
              "<div>\n",
              "<style scoped>\n",
              "    .dataframe tbody tr th:only-of-type {\n",
              "        vertical-align: middle;\n",
              "    }\n",
              "\n",
              "    .dataframe tbody tr th {\n",
              "        vertical-align: top;\n",
              "    }\n",
              "\n",
              "    .dataframe thead th {\n",
              "        text-align: right;\n",
              "    }\n",
              "</style>\n",
              "<table border=\"1\" class=\"dataframe\">\n",
              "  <thead>\n",
              "    <tr style=\"text-align: right;\">\n",
              "      <th></th>\n",
              "      <th>DAY_OF_MONTH</th>\n",
              "      <th>DAY_OF_WEEK</th>\n",
              "      <th>OP_CARRIER_AIRLINE_ID</th>\n",
              "      <th>OP_CARRIER_FL_NUM</th>\n",
              "      <th>ORIGIN_AIRPORT_ID</th>\n",
              "      <th>DEST_AIRPORT_ID</th>\n",
              "      <th>DEP_TIME</th>\n",
              "      <th>DISTANCE</th>\n",
              "      <th>DEP_DEL15</th>\n",
              "    </tr>\n",
              "  </thead>\n",
              "  <tbody>\n",
              "    <tr>\n",
              "      <th>DAY_OF_MONTH</th>\n",
              "      <td>1.000000</td>\n",
              "      <td>-0.045752</td>\n",
              "      <td>0.007978</td>\n",
              "      <td>-0.003942</td>\n",
              "      <td>0.001591</td>\n",
              "      <td>-0.000750</td>\n",
              "      <td>0.004349</td>\n",
              "      <td>0.004513</td>\n",
              "      <td>0.000983</td>\n",
              "    </tr>\n",
              "    <tr>\n",
              "      <th>DAY_OF_WEEK</th>\n",
              "      <td>-0.045752</td>\n",
              "      <td>1.000000</td>\n",
              "      <td>0.010243</td>\n",
              "      <td>0.060690</td>\n",
              "      <td>0.007472</td>\n",
              "      <td>0.003731</td>\n",
              "      <td>0.001977</td>\n",
              "      <td>0.020943</td>\n",
              "      <td>-0.005165</td>\n",
              "    </tr>\n",
              "    <tr>\n",
              "      <th>OP_CARRIER_AIRLINE_ID</th>\n",
              "      <td>0.007978</td>\n",
              "      <td>0.010243</td>\n",
              "      <td>1.000000</td>\n",
              "      <td>0.447788</td>\n",
              "      <td>-0.047929</td>\n",
              "      <td>-0.052755</td>\n",
              "      <td>0.002232</td>\n",
              "      <td>-0.125850</td>\n",
              "      <td>0.010439</td>\n",
              "    </tr>\n",
              "    <tr>\n",
              "      <th>OP_CARRIER_FL_NUM</th>\n",
              "      <td>-0.003942</td>\n",
              "      <td>0.060690</td>\n",
              "      <td>0.447788</td>\n",
              "      <td>1.000000</td>\n",
              "      <td>-0.055581</td>\n",
              "      <td>-0.059478</td>\n",
              "      <td>0.005481</td>\n",
              "      <td>-0.346312</td>\n",
              "      <td>0.009943</td>\n",
              "    </tr>\n",
              "    <tr>\n",
              "      <th>ORIGIN_AIRPORT_ID</th>\n",
              "      <td>0.001591</td>\n",
              "      <td>0.007472</td>\n",
              "      <td>-0.047929</td>\n",
              "      <td>-0.055581</td>\n",
              "      <td>1.000000</td>\n",
              "      <td>0.018275</td>\n",
              "      <td>-0.027432</td>\n",
              "      <td>0.087790</td>\n",
              "      <td>-0.002818</td>\n",
              "    </tr>\n",
              "    <tr>\n",
              "      <th>DEST_AIRPORT_ID</th>\n",
              "      <td>-0.000750</td>\n",
              "      <td>0.003731</td>\n",
              "      <td>-0.052755</td>\n",
              "      <td>-0.059478</td>\n",
              "      <td>0.018275</td>\n",
              "      <td>1.000000</td>\n",
              "      <td>0.033554</td>\n",
              "      <td>0.090328</td>\n",
              "      <td>0.006502</td>\n",
              "    </tr>\n",
              "    <tr>\n",
              "      <th>DEP_TIME</th>\n",
              "      <td>0.004349</td>\n",
              "      <td>0.001977</td>\n",
              "      <td>0.002232</td>\n",
              "      <td>0.005481</td>\n",
              "      <td>-0.027432</td>\n",
              "      <td>0.033554</td>\n",
              "      <td>1.000000</td>\n",
              "      <td>-0.023357</td>\n",
              "      <td>0.192988</td>\n",
              "    </tr>\n",
              "    <tr>\n",
              "      <th>DISTANCE</th>\n",
              "      <td>0.004513</td>\n",
              "      <td>0.020943</td>\n",
              "      <td>-0.125850</td>\n",
              "      <td>-0.346312</td>\n",
              "      <td>0.087790</td>\n",
              "      <td>0.090328</td>\n",
              "      <td>-0.023357</td>\n",
              "      <td>1.000000</td>\n",
              "      <td>0.006444</td>\n",
              "    </tr>\n",
              "    <tr>\n",
              "      <th>DEP_DEL15</th>\n",
              "      <td>0.000983</td>\n",
              "      <td>-0.005165</td>\n",
              "      <td>0.010439</td>\n",
              "      <td>0.009943</td>\n",
              "      <td>-0.002818</td>\n",
              "      <td>0.006502</td>\n",
              "      <td>0.192988</td>\n",
              "      <td>0.006444</td>\n",
              "      <td>1.000000</td>\n",
              "    </tr>\n",
              "  </tbody>\n",
              "</table>\n",
              "</div>"
            ],
            "text/plain": [
              "                       DAY_OF_MONTH  DAY_OF_WEEK  ...  DISTANCE  DEP_DEL15\n",
              "DAY_OF_MONTH               1.000000    -0.045752  ...  0.004513   0.000983\n",
              "DAY_OF_WEEK               -0.045752     1.000000  ...  0.020943  -0.005165\n",
              "OP_CARRIER_AIRLINE_ID      0.007978     0.010243  ... -0.125850   0.010439\n",
              "OP_CARRIER_FL_NUM         -0.003942     0.060690  ... -0.346312   0.009943\n",
              "ORIGIN_AIRPORT_ID          0.001591     0.007472  ...  0.087790  -0.002818\n",
              "DEST_AIRPORT_ID           -0.000750     0.003731  ...  0.090328   0.006502\n",
              "DEP_TIME                   0.004349     0.001977  ... -0.023357   0.192988\n",
              "DISTANCE                   0.004513     0.020943  ...  1.000000   0.006444\n",
              "DEP_DEL15                  0.000983    -0.005165  ...  0.006444   1.000000\n",
              "\n",
              "[9 rows x 9 columns]"
            ]
          },
          "metadata": {
            "tags": []
          },
          "execution_count": 8
        }
      ]
    },
    {
      "cell_type": "code",
      "metadata": {
        "id": "Gf9RZo7KsrO5",
        "colab": {
          "base_uri": "https://localhost:8080/",
          "height": 407
        },
        "outputId": "eabddb0b-979b-4452-f0df-4f84d004b467"
      },
      "source": [
        "plt.figure(figsize=(5,5))\n",
        "\n",
        "mask = np.zeros_like(data.corr())\n",
        "mask[np.triu_indices_from(mask)] = True\n",
        "with sns.axes_style(\"white\"):\n",
        "    ax = sns.heatmap(data.corr().round(2), mask=mask,\n",
        "                     annot=True, cmap='rainbow', square=True)"
      ],
      "execution_count": null,
      "outputs": [
        {
          "output_type": "display_data",
          "data": {
            "image/png": "[encoded data removed]",
            "text/plain": [
              "<Figure size 360x360 with 2 Axes>"
            ]
          },
          "metadata": {
            "tags": [],
            "needs_background": "light"
          }
        }
      ]
    },
    {
      "cell_type": "markdown",
      "metadata": {
        "id": "4QpWK1aGt_Qy"
      },
      "source": [
        "**Answer**\n",
        "* Which independent variables are significant?  \n",
        "\n",
        "As shown above, the most causative features are '*DEP_TIME*'. "
      ]
    },
    {
      "cell_type": "markdown",
      "metadata": {
        "id": "LexdftChoHhF"
      },
      "source": [
        "3. Graphy for different time for each day   \n",
        "Use violin graph to observe the pattern for which timeslot is the most possible one for the delay.   "
      ]
    },
    {
      "cell_type": "code",
      "metadata": {
        "id": "TXUq6Hymsq6k",
        "colab": {
          "base_uri": "https://localhost:8080/",
          "height": 370
        },
        "outputId": "82fcd3fc-800e-4682-9f01-33f7d172f620"
      },
      "source": [
        "plt.figure(figsize=(15,5))\n",
        "\n",
        "sns.violinplot(x='DAY_OF_WEEK', y ='DEP_TIME', hue='DEP_DEL15', data=data, palette='rainbow', bw=.2,\n",
        "               cut=2, linewidth=2, iner='box', split=True)\n",
        "sns.despine(left=True)\n",
        "plt.title('Day of Week vs Depataure Time vs Delayeded Situation', weight='bold')\n",
        "plt.xlabel('Day of Month', fontsize=12)\n",
        "plt.ylabel('Departure Time', fontsize=12)"
      ],
      "execution_count": null,
      "outputs": [
        {
          "output_type": "execute_result",
          "data": {
            "text/plain": [
              "Text(0, 0.5, 'Departure Time')"
            ]
          },
          "metadata": {
            "tags": []
          },
          "execution_count": 10
        },
        {
          "output_type": "display_data",
          "data": {
            "image/png": "[encoded data removed]",
            "text/plain": [
              "<Figure size 1080x360 with 1 Axes>"
            ]
          },
          "metadata": {
            "tags": [],
            "needs_background": "light"
          }
        }
      ]
    },
    {
      "cell_type": "markdown",
      "metadata": {
        "id": "kdWHmPXuqG5j"
      },
      "source": [
        "20:00 has a greater chance for the delay. "
      ]
    },
    {
      "cell_type": "markdown",
      "metadata": {
        "id": "e8ZA3UHKjg13"
      },
      "source": [
        "### **Data Predictions** \n",
        "As can be seen, the target feature of dataset is binary, with only values of 0 and 1. So when we are trying to consider the algorithms that suit this dataset, the ones inclined for discrete data should be selsected.     \n",
        "Three algorithms would be used in this part: \n",
        "*   Logistic Regression\n",
        "*   Random Forests \n",
        "*   K Neighbours Regression\n",
        "\n",
        "\\\n",
        "First, split the train and test data. \n",
        " \n"
      ]
    },
    {
      "cell_type": "code",
      "metadata": {
        "id": "wHmGbTCdqmLQ",
        "colab": {
          "base_uri": "https://localhost:8080/",
          "height": 439
        },
        "outputId": "c157536b-bc84-4e10-e296-547cf3de9fd5"
      },
      "source": [
        "data = data.iloc[:,:-1]\n",
        "data"
      ],
      "execution_count": null,
      "outputs": [
        {
          "output_type": "execute_result",
          "data": {
            "text/html": [
              "<div>\n",
              "<style scoped>\n",
              "    .dataframe tbody tr th:only-of-type {\n",
              "        vertical-align: middle;\n",
              "    }\n",
              "\n",
              "    .dataframe tbody tr th {\n",
              "        vertical-align: top;\n",
              "    }\n",
              "\n",
              "    .dataframe thead th {\n",
              "        text-align: right;\n",
              "    }\n",
              "</style>\n",
              "<table border=\"1\" class=\"dataframe\">\n",
              "  <thead>\n",
              "    <tr style=\"text-align: right;\">\n",
              "      <th></th>\n",
              "      <th>DAY_OF_MONTH</th>\n",
              "      <th>DAY_OF_WEEK</th>\n",
              "      <th>OP_CARRIER_AIRLINE_ID</th>\n",
              "      <th>OP_CARRIER_FL_NUM</th>\n",
              "      <th>ORIGIN_AIRPORT_ID</th>\n",
              "      <th>DEST_AIRPORT_ID</th>\n",
              "      <th>DEP_TIME</th>\n",
              "      <th>DISTANCE</th>\n",
              "    </tr>\n",
              "  </thead>\n",
              "  <tbody>\n",
              "    <tr>\n",
              "      <th>0</th>\n",
              "      <td>18</td>\n",
              "      <td>2</td>\n",
              "      <td>19393</td>\n",
              "      <td>2085</td>\n",
              "      <td>12889</td>\n",
              "      <td>14869</td>\n",
              "      <td>1415.0</td>\n",
              "      <td>368.0</td>\n",
              "    </tr>\n",
              "    <tr>\n",
              "      <th>1</th>\n",
              "      <td>24</td>\n",
              "      <td>7</td>\n",
              "      <td>20409</td>\n",
              "      <td>319</td>\n",
              "      <td>11697</td>\n",
              "      <td>14869</td>\n",
              "      <td>1827.0</td>\n",
              "      <td>2084.0</td>\n",
              "    </tr>\n",
              "    <tr>\n",
              "      <th>2</th>\n",
              "      <td>24</td>\n",
              "      <td>7</td>\n",
              "      <td>19790</td>\n",
              "      <td>1329</td>\n",
              "      <td>10397</td>\n",
              "      <td>14100</td>\n",
              "      <td>856.0</td>\n",
              "      <td>666.0</td>\n",
              "    </tr>\n",
              "    <tr>\n",
              "      <th>3</th>\n",
              "      <td>24</td>\n",
              "      <td>7</td>\n",
              "      <td>19790</td>\n",
              "      <td>2673</td>\n",
              "      <td>10397</td>\n",
              "      <td>11433</td>\n",
              "      <td>1109.0</td>\n",
              "      <td>594.0</td>\n",
              "    </tr>\n",
              "    <tr>\n",
              "      <th>4</th>\n",
              "      <td>24</td>\n",
              "      <td>7</td>\n",
              "      <td>20397</td>\n",
              "      <td>5044</td>\n",
              "      <td>11057</td>\n",
              "      <td>10431</td>\n",
              "      <td>1250.0</td>\n",
              "      <td>91.0</td>\n",
              "    </tr>\n",
              "    <tr>\n",
              "      <th>...</th>\n",
              "      <td>...</td>\n",
              "      <td>...</td>\n",
              "      <td>...</td>\n",
              "      <td>...</td>\n",
              "      <td>...</td>\n",
              "      <td>...</td>\n",
              "      <td>...</td>\n",
              "      <td>...</td>\n",
              "    </tr>\n",
              "    <tr>\n",
              "      <th>199995</th>\n",
              "      <td>14</td>\n",
              "      <td>4</td>\n",
              "      <td>19805</td>\n",
              "      <td>115</td>\n",
              "      <td>12953</td>\n",
              "      <td>13930</td>\n",
              "      <td>823.0</td>\n",
              "      <td>733.0</td>\n",
              "    </tr>\n",
              "    <tr>\n",
              "      <th>199996</th>\n",
              "      <td>22</td>\n",
              "      <td>5</td>\n",
              "      <td>19393</td>\n",
              "      <td>779</td>\n",
              "      <td>10821</td>\n",
              "      <td>13232</td>\n",
              "      <td>1416.0</td>\n",
              "      <td>611.0</td>\n",
              "    </tr>\n",
              "    <tr>\n",
              "      <th>199997</th>\n",
              "      <td>16</td>\n",
              "      <td>7</td>\n",
              "      <td>20436</td>\n",
              "      <td>1131</td>\n",
              "      <td>13485</td>\n",
              "      <td>13204</td>\n",
              "      <td>1046.0</td>\n",
              "      <td>1109.0</td>\n",
              "    </tr>\n",
              "    <tr>\n",
              "      <th>199998</th>\n",
              "      <td>24</td>\n",
              "      <td>1</td>\n",
              "      <td>20304</td>\n",
              "      <td>5155</td>\n",
              "      <td>12255</td>\n",
              "      <td>14877</td>\n",
              "      <td>2248.0</td>\n",
              "      <td>88.0</td>\n",
              "    </tr>\n",
              "    <tr>\n",
              "      <th>199999</th>\n",
              "      <td>18</td>\n",
              "      <td>2</td>\n",
              "      <td>20304</td>\n",
              "      <td>4167</td>\n",
              "      <td>14689</td>\n",
              "      <td>14869</td>\n",
              "      <td>544.0</td>\n",
              "      <td>615.0</td>\n",
              "    </tr>\n",
              "  </tbody>\n",
              "</table>\n",
              "<p>195828 rows × 8 columns</p>\n",
              "</div>"
            ],
            "text/plain": [
              "        DAY_OF_MONTH  DAY_OF_WEEK  ...  DEP_TIME  DISTANCE\n",
              "0                 18            2  ...    1415.0     368.0\n",
              "1                 24            7  ...    1827.0    2084.0\n",
              "2                 24            7  ...     856.0     666.0\n",
              "3                 24            7  ...    1109.0     594.0\n",
              "4                 24            7  ...    1250.0      91.0\n",
              "...              ...          ...  ...       ...       ...\n",
              "199995            14            4  ...     823.0     733.0\n",
              "199996            22            5  ...    1416.0     611.0\n",
              "199997            16            7  ...    1046.0    1109.0\n",
              "199998            24            1  ...    2248.0      88.0\n",
              "199999            18            2  ...     544.0     615.0\n",
              "\n",
              "[195828 rows x 8 columns]"
            ]
          },
          "metadata": {
            "tags": []
          },
          "execution_count": 11
        }
      ]
    },
    {
      "cell_type": "code",
      "metadata": {
        "id": "wVEjb4O1q0_d",
        "colab": {
          "base_uri": "https://localhost:8080/",
          "height": 85
        },
        "outputId": "13d3e964-6492-43cb-fb0d-ed32ede41e09"
      },
      "source": [
        "X_train, X_test, Y_train, Y_test = train_test_split(data, target, random_state=1)\n",
        "\n",
        "print(\"X train shape: \", X_train.shape)\n",
        "print(\"X test shape: \", X_test.shape)\n",
        "print(\"Y train shape: \", Y_train.shape)\n",
        "print(\"Y test shape: \", Y_test.shape)"
      ],
      "execution_count": null,
      "outputs": [
        {
          "output_type": "stream",
          "text": [
            "X train shape:  (146871, 8)\n",
            "X test shape:  (48957, 8)\n",
            "Y train shape:  (146871, 1)\n",
            "Y test shape:  (48957, 1)\n"
          ],
          "name": "stdout"
        }
      ]
    },
    {
      "cell_type": "markdown",
      "metadata": {
        "id": "_ICYzyDTkAqk"
      },
      "source": [
        "#### - Logistic Regression"
      ]
    },
    {
      "cell_type": "markdown",
      "metadata": {
        "id": "pCUWtu4cdsdJ"
      },
      "source": [
        "After test, hyperparameters like '*max_iter*', '*random_state*', '*solver*' barely have the optimization for the model. Here's the example for adjusting the '*solver*'. "
      ]
    },
    {
      "cell_type": "code",
      "metadata": {
        "id": "S1MAHSwmjnYU"
      },
      "source": [
        "from sklearn.linear_model import LogisticRegression\n",
        "\n",
        "solver = ['newton-cg', 'lbfgs', 'liblinear', 'sag', 'saga']\n",
        "scores = []\n",
        "for i in solver: \n",
        "  lr = LogisticRegression(solver=i)\n",
        "  lr.fit(X_train, Y_train)\n",
        "\n",
        "  scores.append(lr.score(X_test, Y_test))"
      ],
      "execution_count": null,
      "outputs": []
    },
    {
      "cell_type": "code",
      "metadata": {
        "id": "oaELh_aaaNi1",
        "colab": {
          "base_uri": "https://localhost:8080/",
          "height": 312
        },
        "outputId": "0c95bbf4-dd19-4c36-a65c-a2440e8c7330"
      },
      "source": [
        "plt.plot(solver, scores)\n",
        "plt.title('Hyperparameters Tuning for Logistic Regression', weight='bold')\n",
        "plt.xlabel('solver')\n",
        "plt.ylabel('Score')"
      ],
      "execution_count": null,
      "outputs": [
        {
          "output_type": "execute_result",
          "data": {
            "text/plain": [
              "Text(0, 0.5, 'Score')"
            ]
          },
          "metadata": {
            "tags": []
          },
          "execution_count": 14
        },
        {
          "output_type": "display_data",
          "data": {
            "image/png": "[encoded data removed]",
            "text/plain": [
              "<Figure size 432x288 with 1 Axes>"
            ]
          },
          "metadata": {
            "tags": [],
            "needs_background": "light"
          }
        }
      ]
    },
    {
      "cell_type": "code",
      "metadata": {
        "id": "EGeCsCCBsEHB",
        "colab": {
          "base_uri": "https://localhost:8080/",
          "height": 102
        },
        "outputId": "cfc76b09-ec5d-407b-8b10-69ab92929e8e"
      },
      "source": [
        "scores"
      ],
      "execution_count": null,
      "outputs": [
        {
          "output_type": "execute_result",
          "data": {
            "text/plain": [
              "[0.8244786240986989,\n",
              " 0.8244786240986989,\n",
              " 0.8244786240986989,\n",
              " 0.8244786240986989,\n",
              " 0.8244786240986989]"
            ]
          },
          "metadata": {
            "tags": []
          },
          "execution_count": 15
        }
      ]
    },
    {
      "cell_type": "code",
      "metadata": {
        "id": "qx_aykEandJg",
        "colab": {
          "base_uri": "https://localhost:8080/",
          "height": 34
        },
        "outputId": "e201a96d-d49d-488a-a8f9-9f1670eb3326"
      },
      "source": [
        "# lr = LogisticRegression(fit_intercept=True)\n",
        "# lr.fit(X_train, Y_train)\n",
        "\n",
        "# lr.score(X_test, Y_test)"
      ],
      "execution_count": null,
      "outputs": [
        {
          "output_type": "execute_result",
          "data": {
            "text/plain": [
              "0.8244786240986989"
            ]
          },
          "metadata": {
            "tags": []
          },
          "execution_count": 40
        }
      ]
    },
    {
      "cell_type": "markdown",
      "metadata": {
        "id": "M3wIaXtfCrXZ"
      },
      "source": [
        "**Evaluation**\n",
        "\n",
        "Try out the ROC AUC scoring method, which is seen great for a binary classification model. \n",
        "\n"
      ]
    },
    {
      "cell_type": "markdown",
      "metadata": {
        "id": "dC3cylJvPO4I"
      },
      "source": [
        "Probability of the prediction is mainly used for ROC AUC method. '*predict_proba()*' can be used to get it. And the result would be a list of probabilities for all classifications.   \n",
        "In this case, it would fetch two probabilities for 0 and 1.   \n",
        "'1' is wanted for the scoring representing as 'Delayed'. "
      ]
    },
    {
      "cell_type": "code",
      "metadata": {
        "id": "TM6QjC30Cs3s",
        "colab": {
          "base_uri": "https://localhost:8080/",
          "height": 34
        },
        "outputId": "0d5d68f4-d457-4ee0-8e9e-838f862b5573"
      },
      "source": [
        "from sklearn.metrics import roc_auc_score, roc_curve\n",
        "\n",
        "lr_probility = lr.predict_proba(X_test)\n",
        "\n",
        "# Slice out the probaility\n",
        "lr_score = roc_auc_score(Y_test, lr_probility[:, 1])\n",
        "lr_score"
      ],
      "execution_count": null,
      "outputs": [
        {
          "output_type": "execute_result",
          "data": {
            "text/plain": [
              "0.6498021847343024"
            ]
          },
          "metadata": {
            "tags": []
          },
          "execution_count": 16
        }
      ]
    },
    {
      "cell_type": "markdown",
      "metadata": {
        "id": "Y7i8hmi3TA3_"
      },
      "source": [
        "To get the AUC, plot the ROC curve. "
      ]
    },
    {
      "cell_type": "code",
      "metadata": {
        "id": "sfy54x6WRJTh",
        "colab": {
          "base_uri": "https://localhost:8080/",
          "height": 312
        },
        "outputId": "f16d39a2-e240-4a57-f240-c735ebcf057e"
      },
      "source": [
        "fpr, tpr, thresholds = roc_curve(Y_test, lr_probility[:, 1])\n",
        "plt.plot(fpr, tpr)\n",
        "plt.plot([0,1], [0,1], 'grey', linestyle='--')\n",
        "plt.title('ROC Curve')\n",
        "plt.xlabel('False Positive Rates')\n",
        "plt.ylabel('True Positive Rates')"
      ],
      "execution_count": null,
      "outputs": [
        {
          "output_type": "execute_result",
          "data": {
            "text/plain": [
              "Text(0, 0.5, 'True Positive Rates')"
            ]
          },
          "metadata": {
            "tags": []
          },
          "execution_count": 17
        },
        {
          "output_type": "display_data",
          "data": {
            "image/png": "[encoded data removed]",
            "text/plain": [
              "<Figure size 432x288 with 1 Axes>"
            ]
          },
          "metadata": {
            "tags": [],
            "needs_background": "light"
          }
        }
      ]
    },
    {
      "cell_type": "markdown",
      "metadata": {
        "id": "zkTaSGgcQfvo"
      },
      "source": [
        "The ROC AUC score is less than default '*score()*', which returns the mean accuracy.   \n",
        "But actually, these two thing doesn't mean the same tihng. One is possibility and another is accuracy. \n",
        "\n"
      ]
    },
    {
      "cell_type": "markdown",
      "metadata": {
        "id": "fYUpndnif5ze"
      },
      "source": [
        "---\n",
        "Other evalution methods: \n",
        "\n",
        "R2: R², represents the proportion of variance (of y) that has been explained by the independent variables in the model, the best possible score is 1.0.  \n",
        "\n",
        "MSE: Mean Squared Error, the best value is 0.0.   \n",
        "MAE: Mean Absolute Error, the best value is 0.0."
      ]
    },
    {
      "cell_type": "code",
      "metadata": {
        "id": "S8WVALFJfNcF",
        "colab": {
          "base_uri": "https://localhost:8080/",
          "height": 68
        },
        "outputId": "ee87f49e-021e-41ab-a546-5f8fcdbc25fd"
      },
      "source": [
        "lr_predict = lr.predict(X_test)\n",
        "#R Squared\n",
        "from sklearn.metrics import r2_score\n",
        "r2 = r2_score(Y_test, lr_predict)\n",
        "print(\"r2 score: \", r2)\n",
        "\n",
        "#Mean Squared Error\n",
        "from sklearn.metrics import mean_squared_error\n",
        "mse = mean_squared_error(Y_test, lr_predict)\n",
        "print(\"mse score: \", mse)\n",
        "\n",
        "#Mean Absolute Error\n",
        "from sklearn.metrics import mean_absolute_error\n",
        "mae = mean_absolute_error(Y_test, lr_predict)\n",
        "print(\"mae score: \", mae)"
      ],
      "execution_count": null,
      "outputs": [
        {
          "output_type": "stream",
          "text": [
            "r2 score:  -0.21288772173223647\n",
            "mse score:  0.17552137590130115\n",
            "mae score:  0.17552137590130115\n"
          ],
          "name": "stdout"
        }
      ]
    },
    {
      "cell_type": "markdown",
      "metadata": {
        "id": "YbzMH0cX5cwF"
      },
      "source": [
        "**Answers**  \n",
        "* Is the relationship significant?  \n",
        "Yes. \n",
        "* Are any model assumptions violated?  \n",
        "No. \n",
        "* Is there any multicollinearity in the model?  \n",
        "No.\n",
        "* Does the model make sense?  \n",
        "Yes. As presented above. \n",
        "* Does regularization help?  \n",
        "Yes. This model uses a default regularization L2. \n",
        "\n",
        "* Which hyperparameters are important?  \n",
        "In this model, adjusting hyperparameter doesn't really help. \n",
        "* Coding professionalism?  \n",
        "Maybe. "
      ]
    },
    {
      "cell_type": "markdown",
      "metadata": {
        "id": "ycwqi9bfjTi3"
      },
      "source": [
        "---\n",
        "***As the part below, the explanation would be simplified for overlapping.**"
      ]
    },
    {
      "cell_type": "markdown",
      "metadata": {
        "id": "oCCgfgOJkE0W"
      },
      "source": [
        "#### - Random Forests"
      ]
    },
    {
      "cell_type": "code",
      "metadata": {
        "id": "2BaU2dytjnOg"
      },
      "source": [
        "from sklearn.ensemble import RandomForestClassifier\n",
        "\n",
        "scores_rf = []\n",
        "# # Try different depth\n",
        "for i in range(50):\n",
        "  rf = RandomForestClassifier(max_depth=1, random_state=i)\n",
        "  rf.fit(X_train, Y_train)\n",
        "\n",
        "  score = rf.score(X_test, Y_test)\n",
        "  scores_rf.append(score)"
      ],
      "execution_count": null,
      "outputs": []
    },
    {
      "cell_type": "code",
      "metadata": {
        "id": "931TcBWdmPCP",
        "colab": {
          "base_uri": "https://localhost:8080/",
          "height": 313
        },
        "outputId": "12dbe1f3-2f91-4605-cccb-0fb1f284ccde"
      },
      "source": [
        "plt.plot(range(50), scores_rf)\n",
        "plt.title('Hyperparameters Tuning for Random Forests', weight='bold')\n",
        "plt.xlabel('random_state')\n",
        "plt.ylabel('Score')"
      ],
      "execution_count": null,
      "outputs": [
        {
          "output_type": "execute_result",
          "data": {
            "text/plain": [
              "Text(0, 0.5, 'Score')"
            ]
          },
          "metadata": {
            "tags": []
          },
          "execution_count": 38
        },
        {
          "output_type": "display_data",
          "data": {
            "image/png": "[encoded data removed]",
            "text/plain": [
              "<Figure size 432x288 with 1 Axes>"
            ]
          },
          "metadata": {
            "tags": [],
            "needs_background": "light"
          }
        }
      ]
    },
    {
      "cell_type": "markdown",
      "metadata": {
        "id": "1SCO29ICm0jh"
      },
      "source": [
        "*It is supposed to have differnet scores, as running on python but not this notebook.."
      ]
    },
    {
      "cell_type": "code",
      "metadata": {
        "id": "whyRebNbnw4l",
        "colab": {
          "base_uri": "https://localhost:8080/",
          "height": 34
        },
        "outputId": "52ea4b31-efc7-4d2e-fad6-673c5db1802c"
      },
      "source": [
        "rf = RandomForestClassifier(max_depth=3, random_state=42)\n",
        "rf.fit(X_train, Y_train)\n",
        "\n",
        "rf.score(X_test, Y_test)"
      ],
      "execution_count": null,
      "outputs": [
        {
          "output_type": "execute_result",
          "data": {
            "text/plain": [
              "0.8244786240986989"
            ]
          },
          "metadata": {
            "tags": []
          },
          "execution_count": 41
        }
      ]
    },
    {
      "cell_type": "markdown",
      "metadata": {
        "id": "Ao8FfnOc4fjx"
      },
      "source": [
        "**Evaluation**"
      ]
    },
    {
      "cell_type": "code",
      "metadata": {
        "id": "CaXooTb44gyJ",
        "colab": {
          "base_uri": "https://localhost:8080/",
          "height": 34
        },
        "outputId": "5d2d6852-ccaf-493e-f6a5-6fdca6c6e871"
      },
      "source": [
        "rf_probility = rf.predict_proba(X_test)\n",
        "\n",
        "# Slice out the probaility\n",
        "rf_score = roc_auc_score(Y_test, rf_probility[:, 1])\n",
        "rf_score"
      ],
      "execution_count": null,
      "outputs": [
        {
          "output_type": "execute_result",
          "data": {
            "text/plain": [
              "0.6428330266839881"
            ]
          },
          "metadata": {
            "tags": []
          },
          "execution_count": 20
        }
      ]
    },
    {
      "cell_type": "code",
      "metadata": {
        "id": "j0d8bsVYWJ9l",
        "colab": {
          "base_uri": "https://localhost:8080/",
          "height": 312
        },
        "outputId": "29547d54-8a71-4def-d2ae-aceaeea6e980"
      },
      "source": [
        "fpr2, tpr2, thresholds2 = roc_curve(Y_test, rf_probility[:, 1])\n",
        "plt.plot(fpr2, tpr2)\n",
        "plt.plot([0,1], [0,1], 'grey', linestyle='--')\n",
        "plt.title('ROC Curve')\n",
        "plt.xlabel('False Positive Rates')\n",
        "plt.ylabel('True Positive Rates')"
      ],
      "execution_count": null,
      "outputs": [
        {
          "output_type": "execute_result",
          "data": {
            "text/plain": [
              "Text(0, 0.5, 'True Positive Rates')"
            ]
          },
          "metadata": {
            "tags": []
          },
          "execution_count": 21
        },
        {
          "output_type": "display_data",
          "data": {
            "image/png": "[encoded data removed]",
            "text/plain": [
              "<Figure size 432x288 with 1 Axes>"
            ]
          },
          "metadata": {
            "tags": [],
            "needs_background": "light"
          }
        }
      ]
    },
    {
      "cell_type": "markdown",
      "metadata": {
        "id": "X9GBtfP6k5ku"
      },
      "source": [
        "---\n",
        "Other evalution methods: "
      ]
    },
    {
      "cell_type": "code",
      "metadata": {
        "id": "OeMjaWdNjxKN",
        "colab": {
          "base_uri": "https://localhost:8080/",
          "height": 68
        },
        "outputId": "dd5e51fa-911d-4641-81c6-7efb5f8793ae"
      },
      "source": [
        "rf_predict = rf.predict(X_test)\n",
        "\n",
        "r2_rf = r2_score(Y_test, rf_predict)\n",
        "print(\"r2 score: \", r2_rf)\n",
        "\n",
        "mse_rf = mean_squared_error(Y_test, rf_predict)\n",
        "print(\"mse score: \", mse_rf)\n",
        "\n",
        "mae_rf = mean_absolute_error(Y_test, rf_predict)\n",
        "print(\"mae score: \", mae_rf)"
      ],
      "execution_count": null,
      "outputs": [
        {
          "output_type": "stream",
          "text": [
            "r2 score:  -0.21288772173223647\n",
            "mse score:  0.17552137590130115\n",
            "mae score:  0.17552137590130115\n"
          ],
          "name": "stdout"
        }
      ]
    },
    {
      "cell_type": "markdown",
      "metadata": {
        "id": "bb0FMAt25yu3"
      },
      "source": [
        "**Answers**  \n",
        "* Is the relationship significant?  \n",
        "Yes.  \n",
        "* Are any model assumptions violated?  \n",
        "No. \n",
        "* Is there any multicollinearity in the model?  \n",
        "No. \n",
        "* Does the model make sense?  \n",
        "Yes. As presented above. \n",
        "* Does regularization help?  \n",
        "Yes.  \n",
        "* Which hyperparameters are important?  \n",
        "Random_state should be important, while doesn't work in this notebook. \n",
        "* Coding professionalism?  \n",
        "Maybe. "
      ]
    },
    {
      "cell_type": "markdown",
      "metadata": {
        "id": "41DENbwc8FVR"
      },
      "source": [
        "#### - K Neighbours Regression"
      ]
    },
    {
      "cell_type": "code",
      "metadata": {
        "id": "3qxtGJRj8Gna"
      },
      "source": [
        "from sklearn.neighbors import KNeighborsClassifier\n",
        "\n",
        "scores_kn = []\n",
        "for i in range(1, 21): \n",
        "  kn = KNeighborsClassifier(n_neighbors=i)\n",
        "  kn.fit(X_train, Y_train)\n",
        "  scores_kn.append(kn.score(X_test, Y_test))"
      ],
      "execution_count": null,
      "outputs": []
    },
    {
      "cell_type": "code",
      "metadata": {
        "id": "rjB_FUtAo6Qx",
        "colab": {
          "base_uri": "https://localhost:8080/",
          "height": 312
        },
        "outputId": "6856bf6b-279a-47c5-aeaf-90bc69715d4f"
      },
      "source": [
        "plt.scatter(range(1, 21), scores_kn)\n",
        "plt.title('Hyperparameters Tuning for K Neighbours Regression', weight='bold')\n",
        "plt.xlabel('Neighbours')\n",
        "plt.ylabel('Score')"
      ],
      "execution_count": null,
      "outputs": [
        {
          "output_type": "execute_result",
          "data": {
            "text/plain": [
              "Text(0, 0.5, 'Score')"
            ]
          },
          "metadata": {
            "tags": []
          },
          "execution_count": 48
        },
        {
          "output_type": "display_data",
          "data": {
            "image/png": "[encoded data removed]",
            "text/plain": [
              "<Figure size 432x288 with 1 Axes>"
            ]
          },
          "metadata": {
            "tags": [],
            "needs_background": "light"
          }
        }
      ]
    },
    {
      "cell_type": "code",
      "metadata": {
        "id": "-kGLGKjw8YBt",
        "colab": {
          "base_uri": "https://localhost:8080/",
          "height": 34
        },
        "outputId": "cb228621-c3cf-4093-edee-c0465132fcc0"
      },
      "source": [
        "# Choose 1 as the best result:\n",
        "kn = KNeighborsClassifier(n_neighbors=1)\n",
        "kn.fit(X_train, Y_train)\n",
        "kn.score(X_test, Y_test)"
      ],
      "execution_count": null,
      "outputs": [
        {
          "output_type": "execute_result",
          "data": {
            "text/plain": [
              "0.852850460608289"
            ]
          },
          "metadata": {
            "tags": []
          },
          "execution_count": 49
        }
      ]
    },
    {
      "cell_type": "markdown",
      "metadata": {
        "id": "I76CkFzTkJl_"
      },
      "source": [
        "**Evaluation**"
      ]
    },
    {
      "cell_type": "code",
      "metadata": {
        "id": "pX939fHaVXkK",
        "colab": {
          "base_uri": "https://localhost:8080/",
          "height": 34
        },
        "outputId": "6691eb8c-45a3-4e4f-de58-10b29b764a6c"
      },
      "source": [
        "kn_probility = kn.predict_proba(X_test)\n",
        "\n",
        "# Slice out the probaility\n",
        "kn_score = roc_auc_score(Y_test, kn_probility[:, 1])\n",
        "kn_score\n"
      ],
      "execution_count": null,
      "outputs": [
        {
          "output_type": "execute_result",
          "data": {
            "text/plain": [
              "0.6998090130885399"
            ]
          },
          "metadata": {
            "tags": []
          },
          "execution_count": 50
        }
      ]
    },
    {
      "cell_type": "code",
      "metadata": {
        "id": "XiR6v8mUWTOR",
        "colab": {
          "base_uri": "https://localhost:8080/",
          "height": 312
        },
        "outputId": "253c9da6-01f2-484f-8662-d02bc13ba30a"
      },
      "source": [
        "fpr3, tpr3, thresholds3 = roc_curve(Y_test, kn_probility[:, 1])\n",
        "plt.plot(fpr3, tpr3)\n",
        "plt.plot([0,1], [0,1], 'grey', linestyle='--')\n",
        "plt.title('ROC Curve')\n",
        "plt.xlabel('False Positive Rates')\n",
        "plt.ylabel('True Positive Rates')"
      ],
      "execution_count": null,
      "outputs": [
        {
          "output_type": "execute_result",
          "data": {
            "text/plain": [
              "Text(0, 0.5, 'True Positive Rates')"
            ]
          },
          "metadata": {
            "tags": []
          },
          "execution_count": 51
        },
        {
          "output_type": "display_data",
          "data": {
            "image/png": "[encoded data removed]",
            "text/plain": [
              "<Figure size 432x288 with 1 Axes>"
            ]
          },
          "metadata": {
            "tags": [],
            "needs_background": "light"
          }
        }
      ]
    },
    {
      "cell_type": "markdown",
      "metadata": {
        "id": "wQcBfc5ak7jy"
      },
      "source": [
        "---\n",
        "Other evalution methods: "
      ]
    },
    {
      "cell_type": "code",
      "metadata": {
        "id": "3FOZp9vlkNte",
        "colab": {
          "base_uri": "https://localhost:8080/",
          "height": 68
        },
        "outputId": "0fce9754-b922-4b6a-ba5c-c1d6c1f35791"
      },
      "source": [
        "kn_predict = kn.predict(X_test)\n",
        "\n",
        "r2_kn = r2_score(Y_test, kn_predict)\n",
        "print(\"r2 score: \", r2_kn)\n",
        "\n",
        "mse_kn = mean_squared_error(Y_test, kn_predict)\n",
        "print(\"mse score: \", mse_kn)\n",
        "\n",
        "mae_kn = mean_absolute_error(Y_test, kn_predict)\n",
        "print(\"mae score: \", mae_kn)"
      ],
      "execution_count": null,
      "outputs": [
        {
          "output_type": "stream",
          "text": [
            "r2 score:  -0.016832671634939178\n",
            "mse score:  0.1471495393917111\n",
            "mae score:  0.1471495393917111\n"
          ],
          "name": "stdout"
        }
      ]
    },
    {
      "cell_type": "markdown",
      "metadata": {
        "id": "t_YbY-BE8zHl"
      },
      "source": [
        "**Answers**  \n",
        "* Is the relationship significant?  \n",
        "Yes.  \n",
        "* Are any model assumptions violated?  \n",
        "No. \n",
        "* Is there any multicollinearity in the model?  \n",
        "No. \n",
        "* Does the model make sense?  \n",
        "Yes. As presented above. \n",
        "* Does regularization help?  \n",
        "Yes.  \n",
        "* Which hyperparameters are important?  \n",
        "It's '*n_neighbors*'. \n",
        "* Coding professionalism?  \n",
        "Maybe. "
      ]
    },
    {
      "cell_type": "markdown",
      "metadata": {
        "id": "MpyLTpoFjgc4"
      },
      "source": [
        "### **Conclusion**\n",
        "\n",
        "The models could get a good result in scores for accuracy, mean scores or r2 scores, but generally can't get a higher result for ROC AUC score.  \n",
        "Also, this dataset is limited for the correlations. The features share barely tight correlations, which lead a limited predictor.  \n",
        "K Neighbours Regression model showed the best result. \n",
        "\n",
        "This project could, maybe,  get a better results for hyperparameters' adjustment in python but not ipynb. "
      ]
    }
  ]
}