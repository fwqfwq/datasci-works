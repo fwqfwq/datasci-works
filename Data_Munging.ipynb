{
  "nbformat": 4,
  "nbformat_minor": 0,
  "metadata": {
    "kernelspec": {
      "display_name": "Python 3",
      "language": "python",
      "name": "python3"
    },
    "language_info": {
      "codemirror_mode": {
        "name": "ipython",
        "version": 3
      },
      "file_extension": ".py",
      "mimetype": "text/x-python",
      "name": "python",
      "nbconvert_exporter": "python",
      "pygments_lexer": "ipython3",
      "version": "3.6.1"
    },
    "colab": {
      "name": "Data_Munging",
      "provenance": [],
      "collapsed_sections": [],
      "toc_visible": true
    }
  },
  "cells": [
    {
      "cell_type": "markdown",
      "metadata": {
        "id": "rwLVeaYPRE37"
      },
      "source": [
        "### **Contribution3**\n",
        "\n",
        "For data munging\n",
        "\n",
        "\\\n",
        "\n",
        "Fangqing Wu  \n",
        "001305642\n",
        "\n",
        "\n",
        "\n",
        "---\n",
        "\n"
      ]
    },
    {
      "cell_type": "markdown",
      "metadata": {
        "id": "hO3k4zBTRFN4"
      },
      "source": [
        "# **Contribution Summary**  \n",
        "This notebook is about data wrangling and data clean and fitting.  \n",
        "For my contribution, methods for fitting NaN values would be added.  \n",
        "Way down in \"Newly Added Contents\" chapter (could be aceessed in left navigation)   \n",
        "\n",
        "\n"
      ]
    },
    {
      "cell_type": "markdown",
      "metadata": {
        "id": "5-dxP6tyT8RX"
      },
      "source": [
        "\n",
        "\n",
        "---\n",
        "\n"
      ]
    },
    {
      "cell_type": "markdown",
      "metadata": {
        "id": "AI4SVyz8rqKP"
      },
      "source": [
        "## **Newly Added Contents**  \n",
        "\n",
        "In the before part, values are checked with boxplot for the distribution and outliers detection, also the null-valued feature are filled with mean value.    \n",
        "In this addtion part/contribution, Random Forests would be used for data filling. "
      ]
    },
    {
      "cell_type": "code",
      "metadata": {
        "id": "WOARbT0SUQDZ"
      },
      "source": [
        "import numpy as np\n",
        "import pandas as pd\n",
        "from sklearn.ensemble import RandomForestRegressor\n",
        "  \n",
        "data = pd.read_csv(\"https://raw.githubusercontent.com/fwqfwq/dataset/master/cumulative.csv\")"
      ],
      "execution_count": null,
      "outputs": []
    },
    {
      "cell_type": "markdown",
      "metadata": {
        "id": "2iQnUiBVtsLA"
      },
      "source": [
        "A rough view: "
      ]
    },
    {
      "cell_type": "code",
      "metadata": {
        "colab": {
          "base_uri": "https://localhost:8080/",
          "height": 224
        },
        "id": "p3s_4ZW8tqz8",
        "outputId": "7ebaa2b2-3c1f-4a4c-95a3-522dc9093ff3"
      },
      "source": [
        "data.head(5)"
      ],
      "execution_count": null,
      "outputs": [
        {
          "output_type": "execute_result",
          "data": {
            "text/html": [
              "<div>\n",
              "<style scoped>\n",
              "    .dataframe tbody tr th:only-of-type {\n",
              "        vertical-align: middle;\n",
              "    }\n",
              "\n",
              "    .dataframe tbody tr th {\n",
              "        vertical-align: top;\n",
              "    }\n",
              "\n",
              "    .dataframe thead th {\n",
              "        text-align: right;\n",
              "    }\n",
              "</style>\n",
              "<table border=\"1\" class=\"dataframe\">\n",
              "  <thead>\n",
              "    <tr style=\"text-align: right;\">\n",
              "      <th></th>\n",
              "      <th>rowid</th>\n",
              "      <th>kepid</th>\n",
              "      <th>kepoi_name</th>\n",
              "      <th>kepler_name</th>\n",
              "      <th>koi_disposition</th>\n",
              "      <th>koi_pdisposition</th>\n",
              "      <th>koi_score</th>\n",
              "      <th>koi_fpflag_nt</th>\n",
              "      <th>koi_fpflag_ss</th>\n",
              "      <th>koi_fpflag_co</th>\n",
              "      <th>koi_fpflag_ec</th>\n",
              "      <th>koi_period</th>\n",
              "      <th>koi_period_err1</th>\n",
              "      <th>koi_period_err2</th>\n",
              "      <th>koi_time0bk</th>\n",
              "      <th>koi_time0bk_err1</th>\n",
              "      <th>koi_time0bk_err2</th>\n",
              "      <th>koi_impact</th>\n",
              "      <th>koi_impact_err1</th>\n",
              "      <th>koi_impact_err2</th>\n",
              "      <th>koi_duration</th>\n",
              "      <th>koi_duration_err1</th>\n",
              "      <th>koi_duration_err2</th>\n",
              "      <th>koi_depth</th>\n",
              "      <th>koi_depth_err1</th>\n",
              "      <th>koi_depth_err2</th>\n",
              "      <th>koi_prad</th>\n",
              "      <th>koi_prad_err1</th>\n",
              "      <th>koi_prad_err2</th>\n",
              "      <th>koi_teq</th>\n",
              "      <th>koi_teq_err1</th>\n",
              "      <th>koi_teq_err2</th>\n",
              "      <th>koi_insol</th>\n",
              "      <th>koi_insol_err1</th>\n",
              "      <th>koi_insol_err2</th>\n",
              "      <th>koi_model_snr</th>\n",
              "      <th>koi_tce_plnt_num</th>\n",
              "      <th>koi_tce_delivname</th>\n",
              "      <th>koi_steff</th>\n",
              "      <th>koi_steff_err1</th>\n",
              "      <th>koi_steff_err2</th>\n",
              "      <th>koi_slogg</th>\n",
              "      <th>koi_slogg_err1</th>\n",
              "      <th>koi_slogg_err2</th>\n",
              "      <th>koi_srad</th>\n",
              "      <th>koi_srad_err1</th>\n",
              "      <th>koi_srad_err2</th>\n",
              "      <th>ra</th>\n",
              "      <th>dec</th>\n",
              "      <th>koi_kepmag</th>\n",
              "    </tr>\n",
              "  </thead>\n",
              "  <tbody>\n",
              "    <tr>\n",
              "      <th>0</th>\n",
              "      <td>1</td>\n",
              "      <td>10797460</td>\n",
              "      <td>K00752.01</td>\n",
              "      <td>Kepler-227 b</td>\n",
              "      <td>CONFIRMED</td>\n",
              "      <td>CANDIDATE</td>\n",
              "      <td>1.000</td>\n",
              "      <td>0</td>\n",
              "      <td>0</td>\n",
              "      <td>0</td>\n",
              "      <td>0</td>\n",
              "      <td>9.488036</td>\n",
              "      <td>2.775000e-05</td>\n",
              "      <td>-2.775000e-05</td>\n",
              "      <td>170.538750</td>\n",
              "      <td>0.002160</td>\n",
              "      <td>-0.002160</td>\n",
              "      <td>0.146</td>\n",
              "      <td>0.318</td>\n",
              "      <td>-0.146</td>\n",
              "      <td>2.95750</td>\n",
              "      <td>0.08190</td>\n",
              "      <td>-0.08190</td>\n",
              "      <td>615.8</td>\n",
              "      <td>19.5</td>\n",
              "      <td>-19.5</td>\n",
              "      <td>2.26</td>\n",
              "      <td>0.26</td>\n",
              "      <td>-0.15</td>\n",
              "      <td>793.0</td>\n",
              "      <td>NaN</td>\n",
              "      <td>NaN</td>\n",
              "      <td>93.59</td>\n",
              "      <td>29.45</td>\n",
              "      <td>-16.65</td>\n",
              "      <td>35.8</td>\n",
              "      <td>1.0</td>\n",
              "      <td>q1_q17_dr25_tce</td>\n",
              "      <td>5455.0</td>\n",
              "      <td>81.0</td>\n",
              "      <td>-81.0</td>\n",
              "      <td>4.467</td>\n",
              "      <td>0.064</td>\n",
              "      <td>-0.096</td>\n",
              "      <td>0.927</td>\n",
              "      <td>0.105</td>\n",
              "      <td>-0.061</td>\n",
              "      <td>291.93423</td>\n",
              "      <td>48.141651</td>\n",
              "      <td>15.347</td>\n",
              "    </tr>\n",
              "    <tr>\n",
              "      <th>1</th>\n",
              "      <td>2</td>\n",
              "      <td>10797460</td>\n",
              "      <td>K00752.02</td>\n",
              "      <td>Kepler-227 c</td>\n",
              "      <td>CONFIRMED</td>\n",
              "      <td>CANDIDATE</td>\n",
              "      <td>0.969</td>\n",
              "      <td>0</td>\n",
              "      <td>0</td>\n",
              "      <td>0</td>\n",
              "      <td>0</td>\n",
              "      <td>54.418383</td>\n",
              "      <td>2.479000e-04</td>\n",
              "      <td>-2.479000e-04</td>\n",
              "      <td>162.513840</td>\n",
              "      <td>0.003520</td>\n",
              "      <td>-0.003520</td>\n",
              "      <td>0.586</td>\n",
              "      <td>0.059</td>\n",
              "      <td>-0.443</td>\n",
              "      <td>4.50700</td>\n",
              "      <td>0.11600</td>\n",
              "      <td>-0.11600</td>\n",
              "      <td>874.8</td>\n",
              "      <td>35.5</td>\n",
              "      <td>-35.5</td>\n",
              "      <td>2.83</td>\n",
              "      <td>0.32</td>\n",
              "      <td>-0.19</td>\n",
              "      <td>443.0</td>\n",
              "      <td>NaN</td>\n",
              "      <td>NaN</td>\n",
              "      <td>9.11</td>\n",
              "      <td>2.87</td>\n",
              "      <td>-1.62</td>\n",
              "      <td>25.8</td>\n",
              "      <td>2.0</td>\n",
              "      <td>q1_q17_dr25_tce</td>\n",
              "      <td>5455.0</td>\n",
              "      <td>81.0</td>\n",
              "      <td>-81.0</td>\n",
              "      <td>4.467</td>\n",
              "      <td>0.064</td>\n",
              "      <td>-0.096</td>\n",
              "      <td>0.927</td>\n",
              "      <td>0.105</td>\n",
              "      <td>-0.061</td>\n",
              "      <td>291.93423</td>\n",
              "      <td>48.141651</td>\n",
              "      <td>15.347</td>\n",
              "    </tr>\n",
              "    <tr>\n",
              "      <th>2</th>\n",
              "      <td>3</td>\n",
              "      <td>10811496</td>\n",
              "      <td>K00753.01</td>\n",
              "      <td>NaN</td>\n",
              "      <td>FALSE POSITIVE</td>\n",
              "      <td>FALSE POSITIVE</td>\n",
              "      <td>0.000</td>\n",
              "      <td>0</td>\n",
              "      <td>1</td>\n",
              "      <td>0</td>\n",
              "      <td>0</td>\n",
              "      <td>19.899140</td>\n",
              "      <td>1.494000e-05</td>\n",
              "      <td>-1.494000e-05</td>\n",
              "      <td>175.850252</td>\n",
              "      <td>0.000581</td>\n",
              "      <td>-0.000581</td>\n",
              "      <td>0.969</td>\n",
              "      <td>5.126</td>\n",
              "      <td>-0.077</td>\n",
              "      <td>1.78220</td>\n",
              "      <td>0.03410</td>\n",
              "      <td>-0.03410</td>\n",
              "      <td>10829.0</td>\n",
              "      <td>171.0</td>\n",
              "      <td>-171.0</td>\n",
              "      <td>14.60</td>\n",
              "      <td>3.92</td>\n",
              "      <td>-1.31</td>\n",
              "      <td>638.0</td>\n",
              "      <td>NaN</td>\n",
              "      <td>NaN</td>\n",
              "      <td>39.30</td>\n",
              "      <td>31.04</td>\n",
              "      <td>-10.49</td>\n",
              "      <td>76.3</td>\n",
              "      <td>1.0</td>\n",
              "      <td>q1_q17_dr25_tce</td>\n",
              "      <td>5853.0</td>\n",
              "      <td>158.0</td>\n",
              "      <td>-176.0</td>\n",
              "      <td>4.544</td>\n",
              "      <td>0.044</td>\n",
              "      <td>-0.176</td>\n",
              "      <td>0.868</td>\n",
              "      <td>0.233</td>\n",
              "      <td>-0.078</td>\n",
              "      <td>297.00482</td>\n",
              "      <td>48.134129</td>\n",
              "      <td>15.436</td>\n",
              "    </tr>\n",
              "    <tr>\n",
              "      <th>3</th>\n",
              "      <td>4</td>\n",
              "      <td>10848459</td>\n",
              "      <td>K00754.01</td>\n",
              "      <td>NaN</td>\n",
              "      <td>FALSE POSITIVE</td>\n",
              "      <td>FALSE POSITIVE</td>\n",
              "      <td>0.000</td>\n",
              "      <td>0</td>\n",
              "      <td>1</td>\n",
              "      <td>0</td>\n",
              "      <td>0</td>\n",
              "      <td>1.736952</td>\n",
              "      <td>2.630000e-07</td>\n",
              "      <td>-2.630000e-07</td>\n",
              "      <td>170.307565</td>\n",
              "      <td>0.000115</td>\n",
              "      <td>-0.000115</td>\n",
              "      <td>1.276</td>\n",
              "      <td>0.115</td>\n",
              "      <td>-0.092</td>\n",
              "      <td>2.40641</td>\n",
              "      <td>0.00537</td>\n",
              "      <td>-0.00537</td>\n",
              "      <td>8079.2</td>\n",
              "      <td>12.8</td>\n",
              "      <td>-12.8</td>\n",
              "      <td>33.46</td>\n",
              "      <td>8.50</td>\n",
              "      <td>-2.83</td>\n",
              "      <td>1395.0</td>\n",
              "      <td>NaN</td>\n",
              "      <td>NaN</td>\n",
              "      <td>891.96</td>\n",
              "      <td>668.95</td>\n",
              "      <td>-230.35</td>\n",
              "      <td>505.6</td>\n",
              "      <td>1.0</td>\n",
              "      <td>q1_q17_dr25_tce</td>\n",
              "      <td>5805.0</td>\n",
              "      <td>157.0</td>\n",
              "      <td>-174.0</td>\n",
              "      <td>4.564</td>\n",
              "      <td>0.053</td>\n",
              "      <td>-0.168</td>\n",
              "      <td>0.791</td>\n",
              "      <td>0.201</td>\n",
              "      <td>-0.067</td>\n",
              "      <td>285.53461</td>\n",
              "      <td>48.285210</td>\n",
              "      <td>15.597</td>\n",
              "    </tr>\n",
              "    <tr>\n",
              "      <th>4</th>\n",
              "      <td>5</td>\n",
              "      <td>10854555</td>\n",
              "      <td>K00755.01</td>\n",
              "      <td>Kepler-664 b</td>\n",
              "      <td>CONFIRMED</td>\n",
              "      <td>CANDIDATE</td>\n",
              "      <td>1.000</td>\n",
              "      <td>0</td>\n",
              "      <td>0</td>\n",
              "      <td>0</td>\n",
              "      <td>0</td>\n",
              "      <td>2.525592</td>\n",
              "      <td>3.761000e-06</td>\n",
              "      <td>-3.761000e-06</td>\n",
              "      <td>171.595550</td>\n",
              "      <td>0.001130</td>\n",
              "      <td>-0.001130</td>\n",
              "      <td>0.701</td>\n",
              "      <td>0.235</td>\n",
              "      <td>-0.478</td>\n",
              "      <td>1.65450</td>\n",
              "      <td>0.04200</td>\n",
              "      <td>-0.04200</td>\n",
              "      <td>603.3</td>\n",
              "      <td>16.9</td>\n",
              "      <td>-16.9</td>\n",
              "      <td>2.75</td>\n",
              "      <td>0.88</td>\n",
              "      <td>-0.35</td>\n",
              "      <td>1406.0</td>\n",
              "      <td>NaN</td>\n",
              "      <td>NaN</td>\n",
              "      <td>926.16</td>\n",
              "      <td>874.33</td>\n",
              "      <td>-314.24</td>\n",
              "      <td>40.9</td>\n",
              "      <td>1.0</td>\n",
              "      <td>q1_q17_dr25_tce</td>\n",
              "      <td>6031.0</td>\n",
              "      <td>169.0</td>\n",
              "      <td>-211.0</td>\n",
              "      <td>4.438</td>\n",
              "      <td>0.070</td>\n",
              "      <td>-0.210</td>\n",
              "      <td>1.046</td>\n",
              "      <td>0.334</td>\n",
              "      <td>-0.133</td>\n",
              "      <td>288.75488</td>\n",
              "      <td>48.226200</td>\n",
              "      <td>15.509</td>\n",
              "    </tr>\n",
              "  </tbody>\n",
              "</table>\n",
              "</div>"
            ],
            "text/plain": [
              "   rowid     kepid kepoi_name  ...         ra        dec koi_kepmag\n",
              "0      1  10797460  K00752.01  ...  291.93423  48.141651     15.347\n",
              "1      2  10797460  K00752.02  ...  291.93423  48.141651     15.347\n",
              "2      3  10811496  K00753.01  ...  297.00482  48.134129     15.436\n",
              "3      4  10848459  K00754.01  ...  285.53461  48.285210     15.597\n",
              "4      5  10854555  K00755.01  ...  288.75488  48.226200     15.509\n",
              "\n",
              "[5 rows x 50 columns]"
            ]
          },
          "metadata": {
            "tags": []
          },
          "execution_count": 35
        }
      ]
    },
    {
      "cell_type": "code",
      "metadata": {
        "id": "xu5AeeEPUylm",
        "colab": {
          "base_uri": "https://localhost:8080/"
        },
        "outputId": "dc939f9f-38b9-4b91-e95c-17325d406a4a"
      },
      "source": [
        "data = data.iloc[:, :11]\n",
        "data.info()"
      ],
      "execution_count": null,
      "outputs": [
        {
          "output_type": "stream",
          "text": [
            "<class 'pandas.core.frame.DataFrame'>\n",
            "RangeIndex: 9564 entries, 0 to 9563\n",
            "Data columns (total 11 columns):\n",
            " #   Column            Non-Null Count  Dtype  \n",
            "---  ------            --------------  -----  \n",
            " 0   rowid             9564 non-null   int64  \n",
            " 1   kepid             9564 non-null   int64  \n",
            " 2   kepoi_name        9564 non-null   object \n",
            " 3   kepler_name       2294 non-null   object \n",
            " 4   koi_disposition   9564 non-null   object \n",
            " 5   koi_pdisposition  9564 non-null   object \n",
            " 6   koi_score         8054 non-null   float64\n",
            " 7   koi_fpflag_nt     9564 non-null   int64  \n",
            " 8   koi_fpflag_ss     9564 non-null   int64  \n",
            " 9   koi_fpflag_co     9564 non-null   int64  \n",
            " 10  koi_fpflag_ec     9564 non-null   int64  \n",
            "dtypes: float64(1), int64(6), object(4)\n",
            "memory usage: 822.0+ KB\n"
          ],
          "name": "stdout"
        }
      ]
    },
    {
      "cell_type": "markdown",
      "metadata": {
        "id": "Rtkj4wytXM6x"
      },
      "source": [
        "1. Drop the column 'kepler_name', with the least values. (2294 - generally, 9564)\n",
        "\n",
        "2. Fit values for 'koi_score'. (8054 - 9564)"
      ]
    },
    {
      "cell_type": "markdown",
      "metadata": {
        "id": "hEMSfs7WuWrx"
      },
      "source": [
        "1. "
      ]
    },
    {
      "cell_type": "code",
      "metadata": {
        "id": "3ESRjGPEXIZk",
        "colab": {
          "base_uri": "https://localhost:8080/"
        },
        "outputId": "1918e6b8-8b05-4d82-d65f-e47f9f245571"
      },
      "source": [
        "# Delete 'kepler_name' column\n",
        "data = data.drop('kepler_name', axis=1)\n",
        "data.info()"
      ],
      "execution_count": null,
      "outputs": [
        {
          "output_type": "stream",
          "text": [
            "<class 'pandas.core.frame.DataFrame'>\n",
            "RangeIndex: 9564 entries, 0 to 9563\n",
            "Data columns (total 10 columns):\n",
            " #   Column            Non-Null Count  Dtype  \n",
            "---  ------            --------------  -----  \n",
            " 0   rowid             9564 non-null   int64  \n",
            " 1   kepid             9564 non-null   int64  \n",
            " 2   kepoi_name        9564 non-null   object \n",
            " 3   koi_disposition   9564 non-null   object \n",
            " 4   koi_pdisposition  9564 non-null   object \n",
            " 5   koi_score         8054 non-null   float64\n",
            " 6   koi_fpflag_nt     9564 non-null   int64  \n",
            " 7   koi_fpflag_ss     9564 non-null   int64  \n",
            " 8   koi_fpflag_co     9564 non-null   int64  \n",
            " 9   koi_fpflag_ec     9564 non-null   int64  \n",
            "dtypes: float64(1), int64(6), object(3)\n",
            "memory usage: 747.3+ KB\n"
          ],
          "name": "stdout"
        }
      ]
    },
    {
      "cell_type": "markdown",
      "metadata": {
        "id": "JfdjStdCuYYA"
      },
      "source": [
        "2. "
      ]
    },
    {
      "cell_type": "markdown",
      "metadata": {
        "id": "LRKCCCb9zY4v"
      },
      "source": [
        "Before training, convert text-valued features to numeric ones. "
      ]
    },
    {
      "cell_type": "code",
      "metadata": {
        "colab": {
          "base_uri": "https://localhost:8080/"
        },
        "id": "qCjbJJ9EzYrh",
        "outputId": "c14466ab-ba6e-4dd1-b141-1b53d3361edd"
      },
      "source": [
        "# Check the unique values\n",
        "print('kepid: ', data['kepoi_name'].unique())\n",
        "print('kepoi_name: ', data['kepoi_name'].unique())\n",
        "print('koi_disposition: ', data['koi_disposition'].unique())\n",
        "print('koi_pdisposition: ', data['koi_pdisposition'].unique())\n"
      ],
      "execution_count": null,
      "outputs": [
        {
          "output_type": "stream",
          "text": [
            "kepid:  ['K00752.01' 'K00752.02' 'K00753.01' ... 'K07986.01' 'K07987.01'\n",
            " 'K07989.01']\n",
            "kepoi_name:  ['K00752.01' 'K00752.02' 'K00753.01' ... 'K07986.01' 'K07987.01'\n",
            " 'K07989.01']\n",
            "koi_disposition:  ['CONFIRMED' 'FALSE POSITIVE' 'CANDIDATE']\n",
            "koi_pdisposition:  ['CANDIDATE' 'FALSE POSITIVE']\n"
          ],
          "name": "stdout"
        }
      ]
    },
    {
      "cell_type": "markdown",
      "metadata": {
        "id": "Znpym2840ZXu"
      },
      "source": [
        "According to the result, drop the 'kepid' and 'kepoi_name', converting others. "
      ]
    },
    {
      "cell_type": "code",
      "metadata": {
        "colab": {
          "base_uri": "https://localhost:8080/"
        },
        "id": "VLZ7zTzR0oxP",
        "outputId": "374e19a8-0c71-4260-fb47-55596f80d5be"
      },
      "source": [
        "# Drop cols and change the order\n",
        "temp_data = data.iloc[:, [5,3,4,6,7,8,9]]\n",
        "temp_data.info()"
      ],
      "execution_count": null,
      "outputs": [
        {
          "output_type": "stream",
          "text": [
            "<class 'pandas.core.frame.DataFrame'>\n",
            "RangeIndex: 9564 entries, 0 to 9563\n",
            "Data columns (total 7 columns):\n",
            " #   Column            Non-Null Count  Dtype  \n",
            "---  ------            --------------  -----  \n",
            " 0   koi_score         8054 non-null   float64\n",
            " 1   koi_disposition   9564 non-null   object \n",
            " 2   koi_pdisposition  9564 non-null   object \n",
            " 3   koi_fpflag_nt     9564 non-null   int64  \n",
            " 4   koi_fpflag_ss     9564 non-null   int64  \n",
            " 5   koi_fpflag_co     9564 non-null   int64  \n",
            " 6   koi_fpflag_ec     9564 non-null   int64  \n",
            "dtypes: float64(1), int64(4), object(2)\n",
            "memory usage: 523.2+ KB\n"
          ],
          "name": "stdout"
        }
      ]
    },
    {
      "cell_type": "code",
      "metadata": {
        "colab": {
          "base_uri": "https://localhost:8080/",
          "height": 428
        },
        "id": "mhc1KndR1E6g",
        "outputId": "185124d6-0c56-4485-ec2f-82bc73a81740"
      },
      "source": [
        "# Convert the values\n",
        "disposition = {'CONFIRMED': 1, 'FALSE POSITIVE': 2, 'CANDIDATE': 3} \n",
        "pdisposition = {'CANDIDATE': 1, 'FALSE POSITIVE': 2} \n",
        "\n",
        "temp_data['koi_disposition'] = [disposition[item] for item in temp_data['koi_disposition']] \n",
        "temp_data['koi_pdisposition'] = [pdisposition[item] for item in temp_data['koi_pdisposition']] \n",
        "temp_data.head(5)"
      ],
      "execution_count": null,
      "outputs": [
        {
          "output_type": "stream",
          "text": [
            "/usr/local/lib/python3.6/dist-packages/ipykernel_launcher.py:5: SettingWithCopyWarning: \n",
            "A value is trying to be set on a copy of a slice from a DataFrame.\n",
            "Try using .loc[row_indexer,col_indexer] = value instead\n",
            "\n",
            "See the caveats in the documentation: https://pandas.pydata.org/pandas-docs/stable/user_guide/indexing.html#returning-a-view-versus-a-copy\n",
            "  \"\"\"\n",
            "/usr/local/lib/python3.6/dist-packages/ipykernel_launcher.py:6: SettingWithCopyWarning: \n",
            "A value is trying to be set on a copy of a slice from a DataFrame.\n",
            "Try using .loc[row_indexer,col_indexer] = value instead\n",
            "\n",
            "See the caveats in the documentation: https://pandas.pydata.org/pandas-docs/stable/user_guide/indexing.html#returning-a-view-versus-a-copy\n",
            "  \n"
          ],
          "name": "stderr"
        },
        {
          "output_type": "execute_result",
          "data": {
            "text/html": [
              "<div>\n",
              "<style scoped>\n",
              "    .dataframe tbody tr th:only-of-type {\n",
              "        vertical-align: middle;\n",
              "    }\n",
              "\n",
              "    .dataframe tbody tr th {\n",
              "        vertical-align: top;\n",
              "    }\n",
              "\n",
              "    .dataframe thead th {\n",
              "        text-align: right;\n",
              "    }\n",
              "</style>\n",
              "<table border=\"1\" class=\"dataframe\">\n",
              "  <thead>\n",
              "    <tr style=\"text-align: right;\">\n",
              "      <th></th>\n",
              "      <th>koi_score</th>\n",
              "      <th>koi_disposition</th>\n",
              "      <th>koi_pdisposition</th>\n",
              "      <th>koi_fpflag_nt</th>\n",
              "      <th>koi_fpflag_ss</th>\n",
              "      <th>koi_fpflag_co</th>\n",
              "      <th>koi_fpflag_ec</th>\n",
              "    </tr>\n",
              "  </thead>\n",
              "  <tbody>\n",
              "    <tr>\n",
              "      <th>0</th>\n",
              "      <td>1.000</td>\n",
              "      <td>1</td>\n",
              "      <td>1</td>\n",
              "      <td>0</td>\n",
              "      <td>0</td>\n",
              "      <td>0</td>\n",
              "      <td>0</td>\n",
              "    </tr>\n",
              "    <tr>\n",
              "      <th>1</th>\n",
              "      <td>0.969</td>\n",
              "      <td>1</td>\n",
              "      <td>1</td>\n",
              "      <td>0</td>\n",
              "      <td>0</td>\n",
              "      <td>0</td>\n",
              "      <td>0</td>\n",
              "    </tr>\n",
              "    <tr>\n",
              "      <th>2</th>\n",
              "      <td>0.000</td>\n",
              "      <td>2</td>\n",
              "      <td>2</td>\n",
              "      <td>0</td>\n",
              "      <td>1</td>\n",
              "      <td>0</td>\n",
              "      <td>0</td>\n",
              "    </tr>\n",
              "    <tr>\n",
              "      <th>3</th>\n",
              "      <td>0.000</td>\n",
              "      <td>2</td>\n",
              "      <td>2</td>\n",
              "      <td>0</td>\n",
              "      <td>1</td>\n",
              "      <td>0</td>\n",
              "      <td>0</td>\n",
              "    </tr>\n",
              "    <tr>\n",
              "      <th>4</th>\n",
              "      <td>1.000</td>\n",
              "      <td>1</td>\n",
              "      <td>1</td>\n",
              "      <td>0</td>\n",
              "      <td>0</td>\n",
              "      <td>0</td>\n",
              "      <td>0</td>\n",
              "    </tr>\n",
              "  </tbody>\n",
              "</table>\n",
              "</div>"
            ],
            "text/plain": [
              "   koi_score  koi_disposition  ...  koi_fpflag_co  koi_fpflag_ec\n",
              "0      1.000                1  ...              0              0\n",
              "1      0.969                1  ...              0              0\n",
              "2      0.000                2  ...              0              0\n",
              "3      0.000                2  ...              0              0\n",
              "4      1.000                1  ...              0              0\n",
              "\n",
              "[5 rows x 7 columns]"
            ]
          },
          "metadata": {
            "tags": []
          },
          "execution_count": 40
        }
      ]
    },
    {
      "cell_type": "markdown",
      "metadata": {
        "id": "KphPhB1Gu7tF"
      },
      "source": [
        "Extract and split the NaN value for 'koi_scaore'. "
      ]
    },
    {
      "cell_type": "code",
      "metadata": {
        "colab": {
          "base_uri": "https://localhost:8080/"
        },
        "id": "H_yNL2eItzIM",
        "outputId": "433051db-7d20-4631-ead1-8a8deef11c05"
      },
      "source": [
        "# notnull() vs isnull()\n",
        "not_series = pd.notnull(temp_data['koi_score'])\n",
        "fill_known = temp_data[not_series]\n",
        "\n",
        "is_series = pd.isnull(temp_data['koi_score'])\n",
        "fill_unknown = temp_data[is_series]\n",
        "\n",
        "print('Not NaN:\\n', fill_known.head())\n",
        "print('Is NaN:\\n', fill_unknown.head())"
      ],
      "execution_count": null,
      "outputs": [
        {
          "output_type": "stream",
          "text": [
            "Not NaN:\n",
            "    koi_score  koi_disposition  ...  koi_fpflag_co  koi_fpflag_ec\n",
            "0      1.000                1  ...              0              0\n",
            "1      0.969                1  ...              0              0\n",
            "2      0.000                2  ...              0              0\n",
            "3      0.000                2  ...              0              0\n",
            "4      1.000                1  ...              0              0\n",
            "\n",
            "[5 rows x 7 columns]\n",
            "Is NaN:\n",
            "      koi_score  koi_disposition  ...  koi_fpflag_co  koi_fpflag_ec\n",
            "24         NaN                2  ...              0              0\n",
            "75         NaN                2  ...              0              1\n",
            "99         NaN                1  ...              0              0\n",
            "122        NaN                3  ...              0              0\n",
            "317        NaN                3  ...              0              0\n",
            "\n",
            "[5 rows x 7 columns]\n"
          ],
          "name": "stdout"
        }
      ]
    },
    {
      "cell_type": "markdown",
      "metadata": {
        "id": "MG8SkPlau3-B"
      },
      "source": [
        "Build the RF model for data filling. "
      ]
    },
    {
      "cell_type": "code",
      "metadata": {
        "colab": {
          "base_uri": "https://localhost:8080/"
        },
        "id": "KreYL6XkvNHB",
        "outputId": "633024cd-b22b-4fb2-d2b5-cc6236124c25"
      },
      "source": [
        "# Process the train data \n",
        "fill_X = fill_known.iloc[:, 1:]\n",
        "fill_Y = fill_known.iloc[:, 0]\n",
        "print('X:\\n', fill_X.head(), '\\n', fill_X.shape)\n",
        "print('\\nY:\\n', fill_Y.head(), '\\n', fill_Y.shape)"
      ],
      "execution_count": null,
      "outputs": [
        {
          "output_type": "stream",
          "text": [
            "X:\n",
            "    koi_disposition  koi_pdisposition  ...  koi_fpflag_co  koi_fpflag_ec\n",
            "0                1                 1  ...              0              0\n",
            "1                1                 1  ...              0              0\n",
            "2                2                 2  ...              0              0\n",
            "3                2                 2  ...              0              0\n",
            "4                1                 1  ...              0              0\n",
            "\n",
            "[5 rows x 6 columns] \n",
            " (8054, 6)\n",
            "\n",
            "Y:\n",
            " 0    1.000\n",
            "1    0.969\n",
            "2    0.000\n",
            "3    0.000\n",
            "4    1.000\n",
            "Name: koi_score, dtype: float64 \n",
            " (8054,)\n"
          ],
          "name": "stdout"
        }
      ]
    },
    {
      "cell_type": "code",
      "metadata": {
        "colab": {
          "base_uri": "https://localhost:8080/"
        },
        "id": "FOPZB99buwLL",
        "outputId": "3ec16ca0-d0af-44b1-f9ce-9541b1535afb"
      },
      "source": [
        "# Random forests model\n",
        "fill_rf = RandomForestRegressor(random_state=0, n_estimators=150, max_depth=3, n_jobs=-1)\n",
        "fill_rf.fit(fill_X, fill_Y)\n",
        "fill_predict = fill_rf.predict(fill_unknown.iloc[:, 1:]).round(0)\n",
        "\n",
        "fill_predict"
      ],
      "execution_count": null,
      "outputs": [
        {
          "output_type": "execute_result",
          "data": {
            "text/plain": [
              "array([0., 0., 1., ..., 1., 0., 0.])"
            ]
          },
          "metadata": {
            "tags": []
          },
          "execution_count": 43
        }
      ]
    },
    {
      "cell_type": "code",
      "metadata": {
        "colab": {
          "base_uri": "https://localhost:8080/"
        },
        "id": "CeL9sMpizQQL",
        "outputId": "47021131-afaf-44d1-c635-5bdb943e311e"
      },
      "source": [
        "# Create new filled data\n",
        "new_result = fill_unknown.iloc[:, 1:] # drop the original Nan col\n",
        "new_result.insert(0, 'koi_score', fill_predict, True)\n",
        "new_result.info()"
      ],
      "execution_count": null,
      "outputs": [
        {
          "output_type": "stream",
          "text": [
            "<class 'pandas.core.frame.DataFrame'>\n",
            "Int64Index: 1510 entries, 24 to 8932\n",
            "Data columns (total 7 columns):\n",
            " #   Column            Non-Null Count  Dtype  \n",
            "---  ------            --------------  -----  \n",
            " 0   koi_score         1510 non-null   float64\n",
            " 1   koi_disposition   1510 non-null   int64  \n",
            " 2   koi_pdisposition  1510 non-null   int64  \n",
            " 3   koi_fpflag_nt     1510 non-null   int64  \n",
            " 4   koi_fpflag_ss     1510 non-null   int64  \n",
            " 5   koi_fpflag_co     1510 non-null   int64  \n",
            " 6   koi_fpflag_ec     1510 non-null   int64  \n",
            "dtypes: float64(1), int64(6)\n",
            "memory usage: 94.4 KB\n"
          ],
          "name": "stdout"
        }
      ]
    },
    {
      "cell_type": "code",
      "metadata": {
        "colab": {
          "base_uri": "https://localhost:8080/"
        },
        "id": "vBMbZAJk3FtI",
        "outputId": "079ba007-4dec-40cb-c45f-d11a0f76e66b"
      },
      "source": [
        "# Update the dataset\n",
        "dataset = fill_known.append(new_result)\n",
        "dataset.info()"
      ],
      "execution_count": null,
      "outputs": [
        {
          "output_type": "stream",
          "text": [
            "<class 'pandas.core.frame.DataFrame'>\n",
            "Int64Index: 9564 entries, 0 to 8932\n",
            "Data columns (total 7 columns):\n",
            " #   Column            Non-Null Count  Dtype  \n",
            "---  ------            --------------  -----  \n",
            " 0   koi_score         9564 non-null   float64\n",
            " 1   koi_disposition   9564 non-null   int64  \n",
            " 2   koi_pdisposition  9564 non-null   int64  \n",
            " 3   koi_fpflag_nt     9564 non-null   int64  \n",
            " 4   koi_fpflag_ss     9564 non-null   int64  \n",
            " 5   koi_fpflag_co     9564 non-null   int64  \n",
            " 6   koi_fpflag_ec     9564 non-null   int64  \n",
            "dtypes: float64(1), int64(6)\n",
            "memory usage: 597.8 KB\n"
          ],
          "name": "stdout"
        }
      ]
    },
    {
      "cell_type": "markdown",
      "metadata": {
        "id": "714HkwCe3dhK"
      },
      "source": [
        "All the Nan filled. "
      ]
    },
    {
      "cell_type": "markdown",
      "metadata": {
        "id": "DIWu5Jz6T9oB"
      },
      "source": [
        "\n",
        "\n",
        "---\n",
        "\n"
      ]
    },
    {
      "cell_type": "markdown",
      "metadata": {
        "collapsed": true,
        "id": "xrNfxNZ8_Pd9"
      },
      "source": [
        "## Data cleaning checklist\n",
        "\n",
        " * Save original data\n",
        " * Identify missing data\n",
        " * Identify placeholder data (e.g. 0's for NA's) \n",
        " * Identify outliers\n",
        " * Check for overall plausibility and errors (e.g., typos, unreasonable ranges)\n",
        " * Identify highly correlated variables\n",
        " * Identify variables with (nearly) no variance\n",
        " * Identify variables with strange names or values\n",
        " * Check variable classes (eg. Characters vs factors)\n",
        " * Remove/transform some variables (maybe your model does not like categorial variables)\n",
        " * Rename some variables or values (if not all data is useful)\n",
        " * Check some overall pattern (statistical/ numerical summaries)\n",
        " * Possibly center/scale variables\n"
      ]
    }
  ]
}