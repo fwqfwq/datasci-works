{
  "nbformat": 4,
  "nbformat_minor": 0,
  "metadata": {
    "colab": {
      "name": "Causal Inference_Heart Failure Dataset.ipynb",
      "provenance": [],
      "collapsed_sections": [],
      "toc_visible": true
    },
    "kernelspec": {
      "name": "python3",
      "display_name": "Python 3"
    }
  },
  "cells": [
    {
      "cell_type": "markdown",
      "metadata": {
        "id": "Rw-Jtd9GclJo"
      },
      "source": [
        "#### INFO7390 Adv Data Sci  \n",
        "## **Mini Project 2 - Causal Inference**  \n",
        "    \n",
        "Name: Fangqing Wu  \n",
        "NUID: 001305642"
      ]
    },
    {
      "cell_type": "markdown",
      "metadata": {
        "id": "1eeLCI1RcwNT"
      },
      "source": [
        "---\n",
        "**License**  \n",
        "This project is licensed under [MIT License](https://raw.githubusercontent.com/fwqfwq/dataset/master/MIT%20License)\n",
        "\\\n",
        "\\\n",
        "**Links**  \n",
        "Google Colab: https://colab.research.google.com/drive/1zxApJ_wF1YlUdy08crKCe1zDxayAa2nm?usp=sharing \n",
        "\n",
        "Dataset: Heart Failure Prediction https://www.kaggle.com/andrewmvd/heart-failure-clinical-data   \n",
        "\n",
        "\n",
        "\n"
      ]
    },
    {
      "cell_type": "markdown",
      "metadata": {
        "id": "cw6TX7tAdKSM"
      },
      "source": [
        " ---\n",
        "### **Abstract**  \n",
        "'Correlations are not causations'.  \n",
        "Causal inference is a significant part in interpretability for machine learning. Not all high scores for correlations represent the very true causations, due to the confounders, or even, bias. \n",
        "\n",
        "In this project the methods for causation and its sub-themes counterfactual would be applied and compared the different performance on regression models and the nerual network models. \n",
        "\n",
        "---\n"
      ]
    },
    {
      "cell_type": "markdown",
      "metadata": {
        "id": "N7lB8o8o_8pn"
      },
      "source": [
        "### **Causal Inference**\n",
        "\n",
        "This topic is talking after my mini1 project, interpretability.   \n",
        "Two parts are included as below:  \n",
        "* conception \n",
        "* implementation on dataset "
      ]
    },
    {
      "cell_type": "markdown",
      "metadata": {
        "id": "yb7WqhPcAnsQ"
      },
      "source": [
        "\n",
        "####**Conception**\n",
        "'What If?'  \n",
        "This is the most representative expression for 'Causality\", which is basically answering questions about why something happened.   \n",
        "\n",
        "**Causal Inference**, involving with cause & effect (treatment & outcomes), is an essential tool to extract information from data, analysing the response of the effect variable when the cause is changed, and to see whether the correlation is enough for inference.   \n",
        "\n"
      ]
    },
    {
      "cell_type": "markdown",
      "metadata": {
        "id": "gxdM9pJgeU84"
      },
      "source": [
        "\n",
        "Three-level hierarchy of causality[2] are:\n",
        "1. Association  : Seeing  \n",
        "$P(y|x)$  \n",
        "Statistical relationship among data.   \n",
        "\n",
        "2. Intervention  : Doing   \n",
        "$P(y| do(x), z)$  \n",
        "'What if': hypothesis with a changed value and an unclear output. \n",
        "\n",
        "3. Counterfactuals  : Imaging, Retrospecting  \n",
        "$P(y_{x}|x', y')$  \n",
        "Another 'what if', but in a retrosoecting way. \n",
        "\n",
        "\n"
      ]
    },
    {
      "cell_type": "markdown",
      "metadata": {
        "id": "6SaK5m7VKXPl"
      },
      "source": [
        "**Causal Flow Chart**  \n",
        "(Using causalgraphicalmodels)"
      ]
    },
    {
      "cell_type": "code",
      "metadata": {
        "colab": {
          "base_uri": "https://localhost:8080/"
        },
        "id": "dhboW2aOKmWd",
        "outputId": "c65aa5f1-4fca-45d3-a9e9-4831ab896b03"
      },
      "source": [
        "!pip install causalgraphicalmodels"
      ],
      "execution_count": null,
      "outputs": [
        {
          "output_type": "stream",
          "text": [
            "Requirement already satisfied: causalgraphicalmodels in /usr/local/lib/python3.6/dist-packages (0.0.4)\n",
            "Requirement already satisfied: pandas in /usr/local/lib/python3.6/dist-packages (from causalgraphicalmodels) (1.1.4)\n",
            "Requirement already satisfied: numpy in /usr/local/lib/python3.6/dist-packages (from causalgraphicalmodels) (1.18.5)\n",
            "Requirement already satisfied: graphviz in /usr/local/lib/python3.6/dist-packages (from causalgraphicalmodels) (0.10.1)\n",
            "Requirement already satisfied: networkx in /usr/local/lib/python3.6/dist-packages (from causalgraphicalmodels) (2.5)\n",
            "Requirement already satisfied: pytz>=2017.2 in /usr/local/lib/python3.6/dist-packages (from pandas->causalgraphicalmodels) (2018.9)\n",
            "Requirement already satisfied: python-dateutil>=2.7.3 in /usr/local/lib/python3.6/dist-packages (from pandas->causalgraphicalmodels) (2.8.1)\n",
            "Requirement already satisfied: decorator>=4.3.0 in /usr/local/lib/python3.6/dist-packages (from networkx->causalgraphicalmodels) (4.4.2)\n",
            "Requirement already satisfied: six>=1.5 in /usr/local/lib/python3.6/dist-packages (from python-dateutil>=2.7.3->pandas->causalgraphicalmodels) (1.15.0)\n"
          ],
          "name": "stdout"
        }
      ]
    },
    {
      "cell_type": "code",
      "metadata": {
        "id": "tFgI1OhhKl23"
      },
      "source": [
        "from causalgraphicalmodels import CausalGraphicalModel"
      ],
      "execution_count": null,
      "outputs": []
    },
    {
      "cell_type": "code",
      "metadata": {
        "colab": {
          "base_uri": "https://localhost:8080/",
          "height": 368
        },
        "id": "UDojovIbKq-N",
        "outputId": "3a5a8136-3d73-4a6e-c271-6cacf542b9e4"
      },
      "source": [
        "sprinkler = CausalGraphicalModel(\n",
        "    nodes=[\"N1\", \"N21\", \"N22\", \"N3\", \"N4\"],\n",
        "    edges=[\n",
        "        (\"N1\", \"N21\"), \n",
        "        (\"N1\", \"N22\"), \n",
        "        (\"N21\", \"N3\"),\n",
        "        (\"N22\", \"N3\"), \n",
        "        (\"N3\", \"N4\")\n",
        "    ]\n",
        ")\n",
        "\n",
        "# draw return a graphviz `dot` object, which jupyter can render\n",
        "sprinkler.draw()"
      ],
      "execution_count": null,
      "outputs": [
        {
          "output_type": "execute_result",
          "data": {
            "text/plain": [
              "<graphviz.dot.Digraph at 0x7f43cafda8d0>"
            ],
            "image/svg+xml": "<?xml version=\"1.0\" encoding=\"UTF-8\" standalone=\"no\"?>\n<!DOCTYPE svg PUBLIC \"-//W3C//DTD SVG 1.1//EN\"\n \"http://www.w3.org/Graphics/SVG/1.1/DTD/svg11.dtd\">\n<!-- Generated by graphviz version 2.40.1 (20161225.0304)\n -->\n<!-- Title: %3 Pages: 1 -->\n<svg width=\"136pt\" height=\"260pt\"\n viewBox=\"0.00 0.00 135.60 260.00\" xmlns=\"http://www.w3.org/2000/svg\" xmlns:xlink=\"http://www.w3.org/1999/xlink\">\n<g id=\"graph0\" class=\"graph\" transform=\"scale(1 1) rotate(0) translate(4 256)\">\n<title>%3</title>\n<polygon fill=\"#ffffff\" stroke=\"transparent\" points=\"-4,4 -4,-256 131.5952,-256 131.5952,4 -4,4\"/>\n<!-- N4 -->\n<g id=\"node1\" class=\"node\">\n<title>N4</title>\n<ellipse fill=\"none\" stroke=\"#000000\" cx=\"63.2976\" cy=\"-18\" rx=\"27\" ry=\"18\"/>\n<text text-anchor=\"middle\" x=\"63.2976\" y=\"-14.3\" font-family=\"Times,serif\" font-size=\"14.00\" fill=\"#000000\">N4</text>\n</g>\n<!-- N22 -->\n<g id=\"node2\" class=\"node\">\n<title>N22</title>\n<ellipse fill=\"none\" stroke=\"#000000\" cx=\"27.2976\" cy=\"-162\" rx=\"27.0966\" ry=\"18\"/>\n<text text-anchor=\"middle\" x=\"27.2976\" y=\"-158.3\" font-family=\"Times,serif\" font-size=\"14.00\" fill=\"#000000\">N22</text>\n</g>\n<!-- N3 -->\n<g id=\"node4\" class=\"node\">\n<title>N3</title>\n<ellipse fill=\"none\" stroke=\"#000000\" cx=\"63.2976\" cy=\"-90\" rx=\"27\" ry=\"18\"/>\n<text text-anchor=\"middle\" x=\"63.2976\" y=\"-86.3\" font-family=\"Times,serif\" font-size=\"14.00\" fill=\"#000000\">N3</text>\n</g>\n<!-- N22&#45;&gt;N3 -->\n<g id=\"edge4\" class=\"edge\">\n<title>N22&#45;&gt;N3</title>\n<path fill=\"none\" stroke=\"#000000\" d=\"M36.0122,-144.5708C40.2572,-136.0807 45.4512,-125.6929 50.1639,-116.2674\"/>\n<polygon fill=\"#000000\" stroke=\"#000000\" points=\"53.3215,-117.7782 54.6632,-107.2687 47.0605,-114.6477 53.3215,-117.7782\"/>\n</g>\n<!-- N21 -->\n<g id=\"node3\" class=\"node\">\n<title>N21</title>\n<ellipse fill=\"none\" stroke=\"#000000\" cx=\"100.2976\" cy=\"-162\" rx=\"27.0966\" ry=\"18\"/>\n<text text-anchor=\"middle\" x=\"100.2976\" y=\"-158.3\" font-family=\"Times,serif\" font-size=\"14.00\" fill=\"#000000\">N21</text>\n</g>\n<!-- N21&#45;&gt;N3 -->\n<g id=\"edge3\" class=\"edge\">\n<title>N21&#45;&gt;N3</title>\n<path fill=\"none\" stroke=\"#000000\" d=\"M91.5291,-144.937C87.1696,-136.4537 81.8023,-126.0092 76.9223,-116.513\"/>\n<polygon fill=\"#000000\" stroke=\"#000000\" points=\"79.9439,-114.7352 72.2601,-107.4407 73.7179,-117.9348 79.9439,-114.7352\"/>\n</g>\n<!-- N3&#45;&gt;N4 -->\n<g id=\"edge5\" class=\"edge\">\n<title>N3&#45;&gt;N4</title>\n<path fill=\"none\" stroke=\"#000000\" d=\"M63.2976,-71.8314C63.2976,-64.131 63.2976,-54.9743 63.2976,-46.4166\"/>\n<polygon fill=\"#000000\" stroke=\"#000000\" points=\"66.7977,-46.4132 63.2976,-36.4133 59.7977,-46.4133 66.7977,-46.4132\"/>\n</g>\n<!-- N1 -->\n<g id=\"node5\" class=\"node\">\n<title>N1</title>\n<ellipse fill=\"none\" stroke=\"#000000\" cx=\"63.2976\" cy=\"-234\" rx=\"27\" ry=\"18\"/>\n<text text-anchor=\"middle\" x=\"63.2976\" y=\"-230.3\" font-family=\"Times,serif\" font-size=\"14.00\" fill=\"#000000\">N1</text>\n</g>\n<!-- N1&#45;&gt;N22 -->\n<g id=\"edge2\" class=\"edge\">\n<title>N1&#45;&gt;N22</title>\n<path fill=\"none\" stroke=\"#000000\" d=\"M54.583,-216.5708C50.3379,-208.0807 45.144,-197.6929 40.4313,-188.2674\"/>\n<polygon fill=\"#000000\" stroke=\"#000000\" points=\"43.5346,-186.6477 35.9319,-179.2687 37.2736,-189.7782 43.5346,-186.6477\"/>\n</g>\n<!-- N1&#45;&gt;N21 -->\n<g id=\"edge1\" class=\"edge\">\n<title>N1&#45;&gt;N21</title>\n<path fill=\"none\" stroke=\"#000000\" d=\"M72.0661,-216.937C76.4255,-208.4537 81.7929,-198.0092 86.6729,-188.513\"/>\n<polygon fill=\"#000000\" stroke=\"#000000\" points=\"89.8773,-189.9348 91.335,-179.4407 83.6513,-186.7352 89.8773,-189.9348\"/>\n</g>\n</g>\n</svg>\n"
          },
          "metadata": {
            "tags": []
          },
          "execution_count": 3
        }
      ]
    },
    {
      "cell_type": "markdown",
      "metadata": {
        "id": "VztkGXnoDz-A"
      },
      "source": [
        "***Fundamental Problem of Causal Inference***[3] \n",
        "\n",
        "First, let's see Rubin's Model. [wiki](https://en.wikipedia.org/wiki/Rubin_causal_model)   \n",
        "The Rubin causal model is based on the idea of potential outcomes. For example, a person would have a particular income at age 40 if she had attended college, whereas she would have a different income at age 40 if she had not attended college. To measure the causal effect of going to college for this person, we need to compare the outcome for the same individual in both alternative futures. Since it is impossible to see both potential outcomes at once, one of the potential outcomes is always missing. This dilemma is the \"fundamental problem of causal inference\".\n",
        "\n",
        "Take three elements as example X, T, Y:   \n",
        "![Picture1.png](data:image/png;base64,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)\n",
        "\n",
        "\n",
        "X is the causation of T, T is the causation of Y.   \n",
        "Yet, still part of X related to Y. For example, a man with a poor health plan and a long-time smkoing habit, if he would be diagnosed with lung cancer, neither sole reason could be atrributed to arbitrarily.  \n",
        "\n",
        "\n",
        "The outcomes would be overlapped and not ideal for the measurement. \n"
      ]
    },
    {
      "cell_type": "markdown",
      "metadata": {
        "id": "wxNHoibaef08"
      },
      "source": [
        "***Confounder***  \n",
        "When the aforementioned elements exist, the whole relationship among data is not 'pure', which is also called 'confounding' in statistics. Confoundings would be unmeasured when unobserved feature exists.   "
      ]
    },
    {
      "cell_type": "markdown",
      "metadata": {
        "id": "f5JkapvLc1-M"
      },
      "source": [
        "### **Implementation** "
      ]
    },
    {
      "cell_type": "markdown",
      "metadata": {
        "id": "wGSuH_ajZtw_"
      },
      "source": [
        "\n",
        "#### **Dataset Introduction** \n",
        "\n",
        "The main data repository consists of:  \n",
        ">| Featrue | Description | | Featrue | Description | | Featrue | Description |\n",
        "| ----------- | ----------- | | ----------- | ----------- | | ----------- | ----------- |\n",
        "| 'age' | Age | | 'anaemia' | Decrease of red blood cells or hemoglobin (boolean) | | 'creatinine_phosphokinase' | Level of the CPK enzyme in the blood (mcg/L) |\n",
        "| 'diabetes' | If the patient has diabetes (boolean) | | 'ejection_fraction' | Percentage of blood leaving the heart at each contraction (percentage) | | 'high_blood_pressure' | If the patient has hypertension (boolean)  |\n",
        "| 'platelets' | Platelets in the blood (kiloplatelets/mL) | | 'serum_creatinine' | Level of serum creatinine in the blood (mg/dL) | | 'serum_sodium' | Level of serum sodium in the blood (mEq/L) |\n",
        "| 'sex' | Woman or man (binary) || 'smoking' | If the patient smokes or not (boolean) |  | 'time' | Follow-up period (days) | \n",
        "| 'DEATH_EVENT' | If the patient deceased during the follow-up period (boolean) | \n",
        "\n",
        "\n",
        "\n",
        "Total with 13 features; and the target is \\``DEATH_EVENT`\\`.   "
      ]
    },
    {
      "cell_type": "markdown",
      "metadata": {
        "id": "xguzPnVyegwi"
      },
      "source": [
        "   \n",
        "#### **Dataset Exploration & Preprocessing** "
      ]
    },
    {
      "cell_type": "markdown",
      "metadata": {
        "id": "yHWhcSV0YYIp"
      },
      "source": [
        "0\\. Import part "
      ]
    },
    {
      "cell_type": "code",
      "metadata": {
        "id": "DCDQGX_tehzF",
        "colab": {
          "base_uri": "https://localhost:8080/"
        },
        "outputId": "ee84137c-2076-4351-e2ba-c7c1ade9f7bc"
      },
      "source": [
        "%matplotlib inline \n",
        "import matplotlib.pyplot as plt\n",
        "import numpy as np\n",
        "import pandas as pd\n",
        "import seaborn as sns\n",
        "import plotly.express as px\n",
        "import warnings\n",
        "import random\n",
        "from sklearn.model_selection import cross_val_score, train_test_split\n",
        "from sklearn import metrics\n",
        "import statsmodels.api as sm\n",
        "import scipy.stats as stats\n",
        "\n",
        "from sklearn.ensemble import RandomForestClassifier\n",
        "from xgboost import XGBClassifier, plot_importance\n",
        "from sklearn.metrics import r2_score, mean_squared_error, roc_curve, auc, roc_auc_score, classification_report, confusion_matrix\n",
        "from sklearn.metrics.scorer import make_scorer\n",
        "\n",
        "from datetime import datetime\n",
        "random.seed(datetime.now())\n",
        "warnings.filterwarnings('ignore')"
      ],
      "execution_count": null,
      "outputs": [
        {
          "output_type": "stream",
          "text": [
            "/usr/local/lib/python3.6/dist-packages/statsmodels/tools/_testing.py:19: FutureWarning:\n",
            "\n",
            "pandas.util.testing is deprecated. Use the functions in the public API at pandas.testing instead.\n",
            "\n",
            "/usr/local/lib/python3.6/dist-packages/sklearn/utils/deprecation.py:144: FutureWarning:\n",
            "\n",
            "The sklearn.metrics.scorer module is  deprecated in version 0.22 and will be removed in version 0.24. The corresponding classes / functions should instead be imported from sklearn.metrics. Anything that cannot be imported from sklearn.metrics is now part of the private API.\n",
            "\n"
          ],
          "name": "stderr"
        }
      ]
    },
    {
      "cell_type": "markdown",
      "metadata": {
        "id": "xjLA6uY9YcCF"
      },
      "source": [
        "1\\. First, a direct perception for dataset.\n",
        "\n",
        "Load the dataset from github -- heart failure reords"
      ]
    },
    {
      "cell_type": "code",
      "metadata": {
        "id": "zldobmrYekVZ",
        "colab": {
          "base_uri": "https://localhost:8080/"
        },
        "outputId": "3e0fc8da-896d-4972-c3ee-60ead910edb8"
      },
      "source": [
        "url = 'https://raw.githubusercontent.com/fwqfwq/dataset/master/heart_failure_clinical_records_dataset.csv'\n",
        "dataset = pd.read_csv(url)\n",
        "print(dataset.columns.values)"
      ],
      "execution_count": null,
      "outputs": [
        {
          "output_type": "stream",
          "text": [
            "['age' 'anaemia' 'creatinine_phosphokinase' 'diabetes' 'ejection_fraction'\n",
            " 'high_blood_pressure' 'platelets' 'serum_creatinine' 'serum_sodium' 'sex'\n",
            " 'smoking' 'time' 'DEATH_EVENT']\n"
          ],
          "name": "stdout"
        }
      ]
    },
    {
      "cell_type": "code",
      "metadata": {
        "id": "n7jaw1eaewDG",
        "colab": {
          "base_uri": "https://localhost:8080/"
        },
        "outputId": "b19b35fa-84d5-4fb0-b330-ec73e5c7e921"
      },
      "source": [
        "dataset.info()"
      ],
      "execution_count": null,
      "outputs": [
        {
          "output_type": "stream",
          "text": [
            "<class 'pandas.core.frame.DataFrame'>\n",
            "RangeIndex: 299 entries, 0 to 298\n",
            "Data columns (total 13 columns):\n",
            " #   Column                    Non-Null Count  Dtype  \n",
            "---  ------                    --------------  -----  \n",
            " 0   age                       299 non-null    float64\n",
            " 1   anaemia                   299 non-null    int64  \n",
            " 2   creatinine_phosphokinase  299 non-null    int64  \n",
            " 3   diabetes                  299 non-null    int64  \n",
            " 4   ejection_fraction         299 non-null    int64  \n",
            " 5   high_blood_pressure       299 non-null    int64  \n",
            " 6   platelets                 299 non-null    float64\n",
            " 7   serum_creatinine          299 non-null    float64\n",
            " 8   serum_sodium              299 non-null    int64  \n",
            " 9   sex                       299 non-null    int64  \n",
            " 10  smoking                   299 non-null    int64  \n",
            " 11  time                      299 non-null    int64  \n",
            " 12  DEATH_EVENT               299 non-null    int64  \n",
            "dtypes: float64(3), int64(10)\n",
            "memory usage: 30.5 KB\n"
          ],
          "name": "stdout"
        }
      ]
    },
    {
      "cell_type": "markdown",
      "metadata": {
        "id": "o3L0bPKnZAN1"
      },
      "source": [
        "As shown, the records are all intact. "
      ]
    },
    {
      "cell_type": "code",
      "metadata": {
        "id": "NZcUnctse2MU",
        "colab": {
          "base_uri": "https://localhost:8080/",
          "height": 317
        },
        "outputId": "0e2a4fe5-8b0e-4c49-fac2-6d66a8c7016d"
      },
      "source": [
        "dataset.describe()"
      ],
      "execution_count": null,
      "outputs": [
        {
          "output_type": "execute_result",
          "data": {
            "text/html": [
              "<div>\n",
              "<style scoped>\n",
              "    .dataframe tbody tr th:only-of-type {\n",
              "        vertical-align: middle;\n",
              "    }\n",
              "\n",
              "    .dataframe tbody tr th {\n",
              "        vertical-align: top;\n",
              "    }\n",
              "\n",
              "    .dataframe thead th {\n",
              "        text-align: right;\n",
              "    }\n",
              "</style>\n",
              "<table border=\"1\" class=\"dataframe\">\n",
              "  <thead>\n",
              "    <tr style=\"text-align: right;\">\n",
              "      <th></th>\n",
              "      <th>age</th>\n",
              "      <th>anaemia</th>\n",
              "      <th>creatinine_phosphokinase</th>\n",
              "      <th>diabetes</th>\n",
              "      <th>ejection_fraction</th>\n",
              "      <th>high_blood_pressure</th>\n",
              "      <th>platelets</th>\n",
              "      <th>serum_creatinine</th>\n",
              "      <th>serum_sodium</th>\n",
              "      <th>sex</th>\n",
              "      <th>smoking</th>\n",
              "      <th>time</th>\n",
              "      <th>DEATH_EVENT</th>\n",
              "    </tr>\n",
              "  </thead>\n",
              "  <tbody>\n",
              "    <tr>\n",
              "      <th>count</th>\n",
              "      <td>299.000000</td>\n",
              "      <td>299.000000</td>\n",
              "      <td>299.000000</td>\n",
              "      <td>299.000000</td>\n",
              "      <td>299.000000</td>\n",
              "      <td>299.000000</td>\n",
              "      <td>299.000000</td>\n",
              "      <td>299.00000</td>\n",
              "      <td>299.000000</td>\n",
              "      <td>299.000000</td>\n",
              "      <td>299.00000</td>\n",
              "      <td>299.000000</td>\n",
              "      <td>299.00000</td>\n",
              "    </tr>\n",
              "    <tr>\n",
              "      <th>mean</th>\n",
              "      <td>60.833893</td>\n",
              "      <td>0.431438</td>\n",
              "      <td>581.839465</td>\n",
              "      <td>0.418060</td>\n",
              "      <td>38.083612</td>\n",
              "      <td>0.351171</td>\n",
              "      <td>263358.029264</td>\n",
              "      <td>1.39388</td>\n",
              "      <td>136.625418</td>\n",
              "      <td>0.648829</td>\n",
              "      <td>0.32107</td>\n",
              "      <td>130.260870</td>\n",
              "      <td>0.32107</td>\n",
              "    </tr>\n",
              "    <tr>\n",
              "      <th>std</th>\n",
              "      <td>11.894809</td>\n",
              "      <td>0.496107</td>\n",
              "      <td>970.287881</td>\n",
              "      <td>0.494067</td>\n",
              "      <td>11.834841</td>\n",
              "      <td>0.478136</td>\n",
              "      <td>97804.236869</td>\n",
              "      <td>1.03451</td>\n",
              "      <td>4.412477</td>\n",
              "      <td>0.478136</td>\n",
              "      <td>0.46767</td>\n",
              "      <td>77.614208</td>\n",
              "      <td>0.46767</td>\n",
              "    </tr>\n",
              "    <tr>\n",
              "      <th>min</th>\n",
              "      <td>40.000000</td>\n",
              "      <td>0.000000</td>\n",
              "      <td>23.000000</td>\n",
              "      <td>0.000000</td>\n",
              "      <td>14.000000</td>\n",
              "      <td>0.000000</td>\n",
              "      <td>25100.000000</td>\n",
              "      <td>0.50000</td>\n",
              "      <td>113.000000</td>\n",
              "      <td>0.000000</td>\n",
              "      <td>0.00000</td>\n",
              "      <td>4.000000</td>\n",
              "      <td>0.00000</td>\n",
              "    </tr>\n",
              "    <tr>\n",
              "      <th>25%</th>\n",
              "      <td>51.000000</td>\n",
              "      <td>0.000000</td>\n",
              "      <td>116.500000</td>\n",
              "      <td>0.000000</td>\n",
              "      <td>30.000000</td>\n",
              "      <td>0.000000</td>\n",
              "      <td>212500.000000</td>\n",
              "      <td>0.90000</td>\n",
              "      <td>134.000000</td>\n",
              "      <td>0.000000</td>\n",
              "      <td>0.00000</td>\n",
              "      <td>73.000000</td>\n",
              "      <td>0.00000</td>\n",
              "    </tr>\n",
              "    <tr>\n",
              "      <th>50%</th>\n",
              "      <td>60.000000</td>\n",
              "      <td>0.000000</td>\n",
              "      <td>250.000000</td>\n",
              "      <td>0.000000</td>\n",
              "      <td>38.000000</td>\n",
              "      <td>0.000000</td>\n",
              "      <td>262000.000000</td>\n",
              "      <td>1.10000</td>\n",
              "      <td>137.000000</td>\n",
              "      <td>1.000000</td>\n",
              "      <td>0.00000</td>\n",
              "      <td>115.000000</td>\n",
              "      <td>0.00000</td>\n",
              "    </tr>\n",
              "    <tr>\n",
              "      <th>75%</th>\n",
              "      <td>70.000000</td>\n",
              "      <td>1.000000</td>\n",
              "      <td>582.000000</td>\n",
              "      <td>1.000000</td>\n",
              "      <td>45.000000</td>\n",
              "      <td>1.000000</td>\n",
              "      <td>303500.000000</td>\n",
              "      <td>1.40000</td>\n",
              "      <td>140.000000</td>\n",
              "      <td>1.000000</td>\n",
              "      <td>1.00000</td>\n",
              "      <td>203.000000</td>\n",
              "      <td>1.00000</td>\n",
              "    </tr>\n",
              "    <tr>\n",
              "      <th>max</th>\n",
              "      <td>95.000000</td>\n",
              "      <td>1.000000</td>\n",
              "      <td>7861.000000</td>\n",
              "      <td>1.000000</td>\n",
              "      <td>80.000000</td>\n",
              "      <td>1.000000</td>\n",
              "      <td>850000.000000</td>\n",
              "      <td>9.40000</td>\n",
              "      <td>148.000000</td>\n",
              "      <td>1.000000</td>\n",
              "      <td>1.00000</td>\n",
              "      <td>285.000000</td>\n",
              "      <td>1.00000</td>\n",
              "    </tr>\n",
              "  </tbody>\n",
              "</table>\n",
              "</div>"
            ],
            "text/plain": [
              "              age     anaemia  ...        time  DEATH_EVENT\n",
              "count  299.000000  299.000000  ...  299.000000    299.00000\n",
              "mean    60.833893    0.431438  ...  130.260870      0.32107\n",
              "std     11.894809    0.496107  ...   77.614208      0.46767\n",
              "min     40.000000    0.000000  ...    4.000000      0.00000\n",
              "25%     51.000000    0.000000  ...   73.000000      0.00000\n",
              "50%     60.000000    0.000000  ...  115.000000      0.00000\n",
              "75%     70.000000    1.000000  ...  203.000000      1.00000\n",
              "max     95.000000    1.000000  ...  285.000000      1.00000\n",
              "\n",
              "[8 rows x 13 columns]"
            ]
          },
          "metadata": {
            "tags": []
          },
          "execution_count": 7
        }
      ]
    },
    {
      "cell_type": "markdown",
      "metadata": {
        "id": "ciXmvEpudpuq"
      },
      "source": [
        "In this description, my concern is on the feature \\``creatinine_phosphokinase`\\` (CPK), with a seems-like abnormal distribution.  \n",
        "\n",
        "\\\n",
        "\n",
        "Then using the head(), to see 10examples of the dataset. "
      ]
    },
    {
      "cell_type": "code",
      "metadata": {
        "id": "ZYQVY0Bze5kV",
        "colab": {
          "base_uri": "https://localhost:8080/",
          "height": 379
        },
        "outputId": "c371dbbb-8f0a-45cb-c30c-f20784b55ea7"
      },
      "source": [
        "dataset.head(10)"
      ],
      "execution_count": null,
      "outputs": [
        {
          "output_type": "execute_result",
          "data": {
            "text/html": [
              "<div>\n",
              "<style scoped>\n",
              "    .dataframe tbody tr th:only-of-type {\n",
              "        vertical-align: middle;\n",
              "    }\n",
              "\n",
              "    .dataframe tbody tr th {\n",
              "        vertical-align: top;\n",
              "    }\n",
              "\n",
              "    .dataframe thead th {\n",
              "        text-align: right;\n",
              "    }\n",
              "</style>\n",
              "<table border=\"1\" class=\"dataframe\">\n",
              "  <thead>\n",
              "    <tr style=\"text-align: right;\">\n",
              "      <th></th>\n",
              "      <th>age</th>\n",
              "      <th>anaemia</th>\n",
              "      <th>creatinine_phosphokinase</th>\n",
              "      <th>diabetes</th>\n",
              "      <th>ejection_fraction</th>\n",
              "      <th>high_blood_pressure</th>\n",
              "      <th>platelets</th>\n",
              "      <th>serum_creatinine</th>\n",
              "      <th>serum_sodium</th>\n",
              "      <th>sex</th>\n",
              "      <th>smoking</th>\n",
              "      <th>time</th>\n",
              "      <th>DEATH_EVENT</th>\n",
              "    </tr>\n",
              "  </thead>\n",
              "  <tbody>\n",
              "    <tr>\n",
              "      <th>0</th>\n",
              "      <td>75.0</td>\n",
              "      <td>0</td>\n",
              "      <td>582</td>\n",
              "      <td>0</td>\n",
              "      <td>20</td>\n",
              "      <td>1</td>\n",
              "      <td>265000.00</td>\n",
              "      <td>1.9</td>\n",
              "      <td>130</td>\n",
              "      <td>1</td>\n",
              "      <td>0</td>\n",
              "      <td>4</td>\n",
              "      <td>1</td>\n",
              "    </tr>\n",
              "    <tr>\n",
              "      <th>1</th>\n",
              "      <td>55.0</td>\n",
              "      <td>0</td>\n",
              "      <td>7861</td>\n",
              "      <td>0</td>\n",
              "      <td>38</td>\n",
              "      <td>0</td>\n",
              "      <td>263358.03</td>\n",
              "      <td>1.1</td>\n",
              "      <td>136</td>\n",
              "      <td>1</td>\n",
              "      <td>0</td>\n",
              "      <td>6</td>\n",
              "      <td>1</td>\n",
              "    </tr>\n",
              "    <tr>\n",
              "      <th>2</th>\n",
              "      <td>65.0</td>\n",
              "      <td>0</td>\n",
              "      <td>146</td>\n",
              "      <td>0</td>\n",
              "      <td>20</td>\n",
              "      <td>0</td>\n",
              "      <td>162000.00</td>\n",
              "      <td>1.3</td>\n",
              "      <td>129</td>\n",
              "      <td>1</td>\n",
              "      <td>1</td>\n",
              "      <td>7</td>\n",
              "      <td>1</td>\n",
              "    </tr>\n",
              "    <tr>\n",
              "      <th>3</th>\n",
              "      <td>50.0</td>\n",
              "      <td>1</td>\n",
              "      <td>111</td>\n",
              "      <td>0</td>\n",
              "      <td>20</td>\n",
              "      <td>0</td>\n",
              "      <td>210000.00</td>\n",
              "      <td>1.9</td>\n",
              "      <td>137</td>\n",
              "      <td>1</td>\n",
              "      <td>0</td>\n",
              "      <td>7</td>\n",
              "      <td>1</td>\n",
              "    </tr>\n",
              "    <tr>\n",
              "      <th>4</th>\n",
              "      <td>65.0</td>\n",
              "      <td>1</td>\n",
              "      <td>160</td>\n",
              "      <td>1</td>\n",
              "      <td>20</td>\n",
              "      <td>0</td>\n",
              "      <td>327000.00</td>\n",
              "      <td>2.7</td>\n",
              "      <td>116</td>\n",
              "      <td>0</td>\n",
              "      <td>0</td>\n",
              "      <td>8</td>\n",
              "      <td>1</td>\n",
              "    </tr>\n",
              "    <tr>\n",
              "      <th>5</th>\n",
              "      <td>90.0</td>\n",
              "      <td>1</td>\n",
              "      <td>47</td>\n",
              "      <td>0</td>\n",
              "      <td>40</td>\n",
              "      <td>1</td>\n",
              "      <td>204000.00</td>\n",
              "      <td>2.1</td>\n",
              "      <td>132</td>\n",
              "      <td>1</td>\n",
              "      <td>1</td>\n",
              "      <td>8</td>\n",
              "      <td>1</td>\n",
              "    </tr>\n",
              "    <tr>\n",
              "      <th>6</th>\n",
              "      <td>75.0</td>\n",
              "      <td>1</td>\n",
              "      <td>246</td>\n",
              "      <td>0</td>\n",
              "      <td>15</td>\n",
              "      <td>0</td>\n",
              "      <td>127000.00</td>\n",
              "      <td>1.2</td>\n",
              "      <td>137</td>\n",
              "      <td>1</td>\n",
              "      <td>0</td>\n",
              "      <td>10</td>\n",
              "      <td>1</td>\n",
              "    </tr>\n",
              "    <tr>\n",
              "      <th>7</th>\n",
              "      <td>60.0</td>\n",
              "      <td>1</td>\n",
              "      <td>315</td>\n",
              "      <td>1</td>\n",
              "      <td>60</td>\n",
              "      <td>0</td>\n",
              "      <td>454000.00</td>\n",
              "      <td>1.1</td>\n",
              "      <td>131</td>\n",
              "      <td>1</td>\n",
              "      <td>1</td>\n",
              "      <td>10</td>\n",
              "      <td>1</td>\n",
              "    </tr>\n",
              "    <tr>\n",
              "      <th>8</th>\n",
              "      <td>65.0</td>\n",
              "      <td>0</td>\n",
              "      <td>157</td>\n",
              "      <td>0</td>\n",
              "      <td>65</td>\n",
              "      <td>0</td>\n",
              "      <td>263358.03</td>\n",
              "      <td>1.5</td>\n",
              "      <td>138</td>\n",
              "      <td>0</td>\n",
              "      <td>0</td>\n",
              "      <td>10</td>\n",
              "      <td>1</td>\n",
              "    </tr>\n",
              "    <tr>\n",
              "      <th>9</th>\n",
              "      <td>80.0</td>\n",
              "      <td>1</td>\n",
              "      <td>123</td>\n",
              "      <td>0</td>\n",
              "      <td>35</td>\n",
              "      <td>1</td>\n",
              "      <td>388000.00</td>\n",
              "      <td>9.4</td>\n",
              "      <td>133</td>\n",
              "      <td>1</td>\n",
              "      <td>1</td>\n",
              "      <td>10</td>\n",
              "      <td>1</td>\n",
              "    </tr>\n",
              "  </tbody>\n",
              "</table>\n",
              "</div>"
            ],
            "text/plain": [
              "    age  anaemia  creatinine_phosphokinase  ...  smoking  time  DEATH_EVENT\n",
              "0  75.0        0                       582  ...        0     4            1\n",
              "1  55.0        0                      7861  ...        0     6            1\n",
              "2  65.0        0                       146  ...        1     7            1\n",
              "3  50.0        1                       111  ...        0     7            1\n",
              "4  65.0        1                       160  ...        0     8            1\n",
              "5  90.0        1                        47  ...        1     8            1\n",
              "6  75.0        1                       246  ...        0    10            1\n",
              "7  60.0        1                       315  ...        1    10            1\n",
              "8  65.0        0                       157  ...        0    10            1\n",
              "9  80.0        1                       123  ...        1    10            1\n",
              "\n",
              "[10 rows x 13 columns]"
            ]
          },
          "metadata": {
            "tags": []
          },
          "execution_count": 8
        }
      ]
    },
    {
      "cell_type": "markdown",
      "metadata": {
        "id": "r7oFD7i3rsr1"
      },
      "source": [
        "\\\n",
        "#### **Data Visulizaitons**  \n",
        "Several visualizations for disreibutions and relationship among this dataset. "
      ]
    },
    {
      "cell_type": "markdown",
      "metadata": {
        "id": "kUmbkolYfAxG"
      },
      "source": [
        "1. Histograms for the sight of data distributions for all the features.   \n",
        "  *Using iloc function to exclude target feature \\``DEATH_EVENT`\\`(binary).*"
      ]
    },
    {
      "cell_type": "code",
      "metadata": {
        "id": "G90N2FrZfBAi",
        "colab": {
          "base_uri": "https://localhost:8080/",
          "height": 828
        },
        "outputId": "3cb1fcff-0100-4057-a0f7-35bf4cdad457"
      },
      "source": [
        "fig = plt.figure(figsize = (10,10))\n",
        "ax = fig.gca()\n",
        "dataset.iloc[:,:-1].hist(ax = ax)"
      ],
      "execution_count": null,
      "outputs": [
        {
          "output_type": "execute_result",
          "data": {
            "text/plain": [
              "array([[<matplotlib.axes._subplots.AxesSubplot object at 0x7f43acf311d0>,\n",
              "        <matplotlib.axes._subplots.AxesSubplot object at 0x7f43acea1b38>,\n",
              "        <matplotlib.axes._subplots.AxesSubplot object at 0x7f43ace52da0>],\n",
              "       [<matplotlib.axes._subplots.AxesSubplot object at 0x7f43ace05fd0>,\n",
              "        <matplotlib.axes._subplots.AxesSubplot object at 0x7f43acdb9e80>,\n",
              "        <matplotlib.axes._subplots.AxesSubplot object at 0x7f43acd7a128>],\n",
              "       [<matplotlib.axes._subplots.AxesSubplot object at 0x7f43acd2f390>,\n",
              "        <matplotlib.axes._subplots.AxesSubplot object at 0x7f43acd5f5c0>,\n",
              "        <matplotlib.axes._subplots.AxesSubplot object at 0x7f43acd5f630>],\n",
              "       [<matplotlib.axes._subplots.AxesSubplot object at 0x7f43accc6ac8>,\n",
              "        <matplotlib.axes._subplots.AxesSubplot object at 0x7f43acc79d30>,\n",
              "        <matplotlib.axes._subplots.AxesSubplot object at 0x7f43acc2ef98>]],\n",
              "      dtype=object)"
            ]
          },
          "metadata": {
            "tags": []
          },
          "execution_count": 9
        },
        {
          "output_type": "display_data",
          "data": {
            "image/png": "[encoded data removed]",
            "text/plain": [
              "<Figure size 720x720 with 12 Axes>"
            ]
          },
          "metadata": {
            "tags": [],
            "needs_background": "light"
          }
        }
      ]
    },
    {
      "cell_type": "markdown",
      "metadata": {
        "id": "ZqLgBASufBUY"
      },
      "source": [
        "As shown,   \n",
        "  i. Binary features: \\``anaemia`\\`, \\``diabetes`\\`, \\``high_blood_pressure`\\`, \\``sex`\\`, \\``smoking`\\`  \n",
        "  ii. Normal Distribution features: \\``platelets`\\`, \\``serum_sodium`\\`  \n",
        "  iii. \\``age`\\` is close to the normal distribution, \\``creatinine_phosphokinase`\\`,\\``ejection_fraction`\\`, \\``serum_creatinine`\\` need a further exploration.   "
      ]
    },
    {
      "cell_type": "code",
      "metadata": {
        "id": "HswGFy0ht0VQ"
      },
      "source": [
        "# Define a distribution function for features\n",
        "def distributions(column, color, title):\n",
        "  fig = px.histogram(\n",
        "    dataset,\n",
        "    x=column, \n",
        "    color=color,\n",
        "    title=title, \n",
        "    width=400,\n",
        "    height=350)\n",
        "  fig.show()"
      ],
      "execution_count": null,
      "outputs": []
    },
    {
      "cell_type": "markdown",
      "metadata": {
        "id": "nzL9Ds8gqz0I"
      },
      "source": [
        "2.  Distribution diagram for \\``age`\\`  \n"
      ]
    },
    {
      "cell_type": "code",
      "metadata": {
        "colab": {
          "base_uri": "https://localhost:8080/",
          "height": 367
        },
        "id": "hg65SD2jq60y",
        "outputId": "0aeab832-81ae-4285-d173-8afb3ca9bf27"
      },
      "source": [
        "distributions('age', 'sex', 'Age Distribution with Sex')"
      ],
      "execution_count": null,
      "outputs": [
        {
          "output_type": "display_data",
          "data": {
            "text/html": [
              "<html>\n",
              "<head><meta charset=\"utf-8\" /></head>\n",
              "<body>\n",
              "    <div>\n",
              "            <script src=\"https://cdnjs.cloudflare.com/ajax/libs/mathjax/2.7.5/MathJax.js?config=TeX-AMS-MML_SVG\"></script><script type=\"text/javascript\">if (window.MathJax) {MathJax.Hub.Config({SVG: {font: \"STIX-Web\"}});}</script>\n",
              "                <script type=\"text/javascript\">window.PlotlyConfig = {MathJaxConfig: 'local'};</script>\n",
              "        <script src=\"https://cdn.plot.ly/plotly-latest.min.js\"></script>    \n",
              "            <div id=\"4c213447-9461-4f97-ba5a-ad9316486742\" class=\"plotly-graph-div\" style=\"height:350px; width:400px;\"></div>\n",
              "            <script type=\"text/javascript\">\n",
              "                \n",
              "                    window.PLOTLYENV=window.PLOTLYENV || {};\n",
              "                    \n",
              "                if (document.getElementById(\"4c213447-9461-4f97-ba5a-ad9316486742\")) {\n",
              "                    Plotly.newPlot(\n",
              "                        '4c213447-9461-4f97-ba5a-ad9316486742',\n",
              "                        [{\"alignmentgroup\": \"True\", \"bingroup\": \"x\", \"hoverlabel\": {\"namelength\": 0}, \"hovertemplate\": \"sex=1<br>age=%{x}<br>count=%{y}\", \"legendgroup\": \"sex=1\", \"marker\": {\"color\": \"#636efa\"}, \"name\": \"sex=1\", \"offsetgroup\": \"sex=1\", \"orientation\": \"v\", \"showlegend\": true, \"type\": \"histogram\", \"x\": [75.0, 55.0, 65.0, 50.0, 90.0, 75.0, 60.0, 80.0, 75.0, 62.0, 45.0, 50.0, 82.0, 87.0, 45.0, 68.0, 53.0, 80.0, 70.0, 58.0, 82.0, 94.0, 85.0, 65.0, 69.0, 90.0, 60.0, 70.0, 70.0, 72.0, 50.0, 51.0, 60.0, 80.0, 68.0, 95.0, 70.0, 60.0, 49.0, 72.0, 45.0, 55.0, 45.0, 60.0, 72.0, 65.0, 41.0, 58.0, 85.0, 65.0, 69.0, 60.0, 42.0, 75.0, 67.0, 79.0, 51.0, 55.0, 65.0, 44.0, 57.0, 70.0, 60.0, 60.0, 58.0, 63.0, 65.0, 75.0, 80.0, 42.0, 55.0, 45.0, 63.0, 45.0, 85.0, 55.0, 50.0, 60.0, 60.0, 60.0, 61.0, 53.0, 53.0, 60.0, 63.0, 81.0, 75.0, 68.0, 50.0, 80.0, 72.0, 50.0, 52.0, 64.0, 75.0, 60.0, 62.0, 50.0, 50.0, 60.0, 50.0, 85.0, 59.0, 66.0, 45.0, 63.0, 45.0, 53.0, 59.0, 51.0, 52.0, 70.0, 50.0, 65.0, 60.0, 69.0, 63.0, 55.0, 40.0, 59.0, 65.0, 75.0, 58.0, 60.667, 80.0, 50.0, 73.0, 45.0, 77.0, 60.0, 63.0, 45.0, 70.0, 60.0, 78.0, 85.0, 70.0, 50.0, 78.0, 65.0, 73.0, 68.0, 73.0, 65.0, 42.0, 47.0, 58.0, 58.0, 55.0, 70.0, 40.0, 53.0, 53.0, 77.0, 75.0, 70.0, 55.0, 65.0, 40.0, 54.0, 61.0, 55.0, 64.0, 40.0, 50.0, 53.0, 52.0, 58.0, 45.0, 53.0, 55.0, 65.0, 61.0, 50.0, 55.0, 56.0, 40.0, 44.0, 42.0, 60.0, 70.0, 70.0, 70.0, 42.0, 65.0, 50.0, 55.0, 60.0, 60.0, 52.0, 63.0, 62.0, 45.0, 50.0], \"xaxis\": \"x\", \"yaxis\": \"y\"}, {\"alignmentgroup\": \"True\", \"bingroup\": \"x\", \"hoverlabel\": {\"namelength\": 0}, \"hovertemplate\": \"sex=0<br>age=%{x}<br>count=%{y}\", \"legendgroup\": \"sex=0\", \"marker\": {\"color\": \"#EF553B\"}, \"name\": \"sex=0\", \"offsetgroup\": \"sex=0\", \"orientation\": \"v\", \"showlegend\": true, \"type\": \"histogram\", \"x\": [65.0, 65.0, 49.0, 70.0, 48.0, 65.0, 65.0, 75.0, 95.0, 50.0, 50.0, 82.0, 60.0, 50.0, 60.0, 57.0, 53.0, 60.0, 70.0, 60.0, 50.0, 45.0, 42.0, 70.0, 70.0, 55.0, 70.0, 60.0, 59.0, 42.0, 58.0, 70.0, 60.0, 63.0, 60.0, 72.0, 70.0, 58.0, 60.0, 85.0, 65.0, 86.0, 66.0, 60.0, 60.0, 43.0, 46.0, 58.0, 46.0, 65.0, 62.0, 46.0, 50.0, 61.0, 72.0, 65.0, 52.0, 50.0, 80.0, 65.0, 70.0, 49.0, 50.0, 60.0, 60.667, 40.0, 64.0, 45.0, 65.0, 50.0, 50.0, 40.0, 60.0, 49.0, 48.0, 70.0, 54.0, 55.0, 75.0, 65.0, 72.0, 60.0, 65.0, 70.0, 73.0, 53.0, 50.0, 55.0, 70.0, 65.0, 62.0, 68.0, 45.0, 51.0, 67.0, 45.0, 70.0, 50.0, 55.0, 45.0, 65.0, 90.0, 45.0, 55.0, 45.0], \"xaxis\": \"x\", \"yaxis\": \"y\"}],\n",
              "                        {\"barmode\": \"relative\", \"height\": 350, \"legend\": {\"tracegroupgap\": 0}, \"template\": {\"data\": {\"bar\": [{\"error_x\": {\"color\": \"#2a3f5f\"}, \"error_y\": {\"color\": \"#2a3f5f\"}, \"marker\": {\"line\": {\"color\": \"#E5ECF6\", \"width\": 0.5}}, \"type\": \"bar\"}], \"barpolar\": [{\"marker\": {\"line\": {\"color\": \"#E5ECF6\", \"width\": 0.5}}, \"type\": \"barpolar\"}], \"carpet\": [{\"aaxis\": {\"endlinecolor\": \"#2a3f5f\", \"gridcolor\": \"white\", \"linecolor\": \"white\", \"minorgridcolor\": \"white\", \"startlinecolor\": \"#2a3f5f\"}, \"baxis\": {\"endlinecolor\": \"#2a3f5f\", \"gridcolor\": \"white\", \"linecolor\": \"white\", \"minorgridcolor\": \"white\", \"startlinecolor\": \"#2a3f5f\"}, \"type\": \"carpet\"}], \"choropleth\": [{\"colorbar\": {\"outlinewidth\": 0, \"ticks\": \"\"}, \"type\": \"choropleth\"}], \"contour\": [{\"colorbar\": {\"outlinewidth\": 0, \"ticks\": \"\"}, \"colorscale\": [[0.0, \"#0d0887\"], [0.1111111111111111, \"#46039f\"], [0.2222222222222222, \"#7201a8\"], [0.3333333333333333, \"#9c179e\"], [0.4444444444444444, \"#bd3786\"], [0.5555555555555556, \"#d8576b\"], [0.6666666666666666, \"#ed7953\"], [0.7777777777777778, \"#fb9f3a\"], [0.8888888888888888, \"#fdca26\"], [1.0, \"#f0f921\"]], \"type\": \"contour\"}], \"contourcarpet\": [{\"colorbar\": {\"outlinewidth\": 0, \"ticks\": \"\"}, \"type\": \"contourcarpet\"}], \"heatmap\": [{\"colorbar\": {\"outlinewidth\": 0, \"ticks\": \"\"}, \"colorscale\": [[0.0, \"#0d0887\"], [0.1111111111111111, \"#46039f\"], [0.2222222222222222, \"#7201a8\"], [0.3333333333333333, \"#9c179e\"], [0.4444444444444444, \"#bd3786\"], [0.5555555555555556, \"#d8576b\"], [0.6666666666666666, \"#ed7953\"], [0.7777777777777778, \"#fb9f3a\"], [0.8888888888888888, \"#fdca26\"], [1.0, \"#f0f921\"]], \"type\": \"heatmap\"}], \"heatmapgl\": [{\"colorbar\": {\"outlinewidth\": 0, \"ticks\": \"\"}, \"colorscale\": [[0.0, \"#0d0887\"], [0.1111111111111111, \"#46039f\"], [0.2222222222222222, \"#7201a8\"], [0.3333333333333333, \"#9c179e\"], [0.4444444444444444, \"#bd3786\"], [0.5555555555555556, \"#d8576b\"], [0.6666666666666666, \"#ed7953\"], [0.7777777777777778, \"#fb9f3a\"], [0.8888888888888888, \"#fdca26\"], [1.0, \"#f0f921\"]], \"type\": \"heatmapgl\"}], \"histogram\": [{\"marker\": {\"colorbar\": {\"outlinewidth\": 0, \"ticks\": \"\"}}, \"type\": \"histogram\"}], \"histogram2d\": [{\"colorbar\": {\"outlinewidth\": 0, \"ticks\": \"\"}, \"colorscale\": [[0.0, \"#0d0887\"], [0.1111111111111111, \"#46039f\"], [0.2222222222222222, \"#7201a8\"], [0.3333333333333333, \"#9c179e\"], [0.4444444444444444, \"#bd3786\"], [0.5555555555555556, \"#d8576b\"], [0.6666666666666666, \"#ed7953\"], [0.7777777777777778, \"#fb9f3a\"], [0.8888888888888888, \"#fdca26\"], [1.0, \"#f0f921\"]], \"type\": \"histogram2d\"}], \"histogram2dcontour\": [{\"colorbar\": {\"outlinewidth\": 0, \"ticks\": \"\"}, \"colorscale\": [[0.0, \"#0d0887\"], [0.1111111111111111, \"#46039f\"], [0.2222222222222222, \"#7201a8\"], [0.3333333333333333, \"#9c179e\"], [0.4444444444444444, \"#bd3786\"], [0.5555555555555556, \"#d8576b\"], [0.6666666666666666, \"#ed7953\"], [0.7777777777777778, \"#fb9f3a\"], [0.8888888888888888, \"#fdca26\"], [1.0, \"#f0f921\"]], \"type\": \"histogram2dcontour\"}], \"mesh3d\": [{\"colorbar\": {\"outlinewidth\": 0, \"ticks\": \"\"}, \"type\": \"mesh3d\"}], \"parcoords\": [{\"line\": {\"colorbar\": {\"outlinewidth\": 0, \"ticks\": \"\"}}, \"type\": \"parcoords\"}], \"pie\": [{\"automargin\": true, \"type\": \"pie\"}], \"scatter\": [{\"marker\": {\"colorbar\": {\"outlinewidth\": 0, \"ticks\": \"\"}}, \"type\": \"scatter\"}], \"scatter3d\": [{\"line\": {\"colorbar\": {\"outlinewidth\": 0, \"ticks\": \"\"}}, \"marker\": {\"colorbar\": {\"outlinewidth\": 0, \"ticks\": \"\"}}, \"type\": \"scatter3d\"}], \"scattercarpet\": [{\"marker\": {\"colorbar\": {\"outlinewidth\": 0, \"ticks\": \"\"}}, \"type\": \"scattercarpet\"}], \"scattergeo\": [{\"marker\": {\"colorbar\": {\"outlinewidth\": 0, \"ticks\": \"\"}}, \"type\": \"scattergeo\"}], \"scattergl\": [{\"marker\": {\"colorbar\": {\"outlinewidth\": 0, \"ticks\": \"\"}}, \"type\": \"scattergl\"}], \"scattermapbox\": [{\"marker\": {\"colorbar\": {\"outlinewidth\": 0, \"ticks\": \"\"}}, \"type\": \"scattermapbox\"}], \"scatterpolar\": [{\"marker\": {\"colorbar\": {\"outlinewidth\": 0, \"ticks\": \"\"}}, \"type\": \"scatterpolar\"}], \"scatterpolargl\": [{\"marker\": {\"colorbar\": {\"outlinewidth\": 0, \"ticks\": \"\"}}, \"type\": \"scatterpolargl\"}], \"scatterternary\": [{\"marker\": {\"colorbar\": {\"outlinewidth\": 0, \"ticks\": \"\"}}, \"type\": \"scatterternary\"}], \"surface\": [{\"colorbar\": {\"outlinewidth\": 0, \"ticks\": \"\"}, \"colorscale\": [[0.0, \"#0d0887\"], [0.1111111111111111, \"#46039f\"], [0.2222222222222222, \"#7201a8\"], [0.3333333333333333, \"#9c179e\"], [0.4444444444444444, \"#bd3786\"], [0.5555555555555556, \"#d8576b\"], [0.6666666666666666, \"#ed7953\"], [0.7777777777777778, \"#fb9f3a\"], [0.8888888888888888, \"#fdca26\"], [1.0, \"#f0f921\"]], \"type\": \"surface\"}], \"table\": [{\"cells\": {\"fill\": {\"color\": \"#EBF0F8\"}, \"line\": {\"color\": \"white\"}}, \"header\": {\"fill\": {\"color\": \"#C8D4E3\"}, \"line\": {\"color\": \"white\"}}, \"type\": \"table\"}]}, \"layout\": {\"annotationdefaults\": {\"arrowcolor\": \"#2a3f5f\", \"arrowhead\": 0, \"arrowwidth\": 1}, \"coloraxis\": {\"colorbar\": {\"outlinewidth\": 0, \"ticks\": \"\"}}, \"colorscale\": {\"diverging\": [[0, \"#8e0152\"], [0.1, \"#c51b7d\"], [0.2, \"#de77ae\"], [0.3, \"#f1b6da\"], [0.4, \"#fde0ef\"], [0.5, \"#f7f7f7\"], [0.6, \"#e6f5d0\"], [0.7, \"#b8e186\"], [0.8, \"#7fbc41\"], [0.9, \"#4d9221\"], [1, \"#276419\"]], \"sequential\": [[0.0, \"#0d0887\"], [0.1111111111111111, \"#46039f\"], [0.2222222222222222, \"#7201a8\"], [0.3333333333333333, \"#9c179e\"], [0.4444444444444444, \"#bd3786\"], [0.5555555555555556, \"#d8576b\"], [0.6666666666666666, \"#ed7953\"], [0.7777777777777778, \"#fb9f3a\"], [0.8888888888888888, \"#fdca26\"], [1.0, \"#f0f921\"]], \"sequentialminus\": [[0.0, \"#0d0887\"], [0.1111111111111111, \"#46039f\"], [0.2222222222222222, \"#7201a8\"], [0.3333333333333333, \"#9c179e\"], [0.4444444444444444, \"#bd3786\"], [0.5555555555555556, \"#d8576b\"], [0.6666666666666666, \"#ed7953\"], [0.7777777777777778, \"#fb9f3a\"], [0.8888888888888888, \"#fdca26\"], [1.0, \"#f0f921\"]]}, \"colorway\": [\"#636efa\", \"#EF553B\", \"#00cc96\", \"#ab63fa\", \"#FFA15A\", \"#19d3f3\", \"#FF6692\", \"#B6E880\", \"#FF97FF\", \"#FECB52\"], \"font\": {\"color\": \"#2a3f5f\"}, \"geo\": {\"bgcolor\": \"white\", \"lakecolor\": \"white\", \"landcolor\": \"#E5ECF6\", \"showlakes\": true, \"showland\": true, \"subunitcolor\": \"white\"}, \"hoverlabel\": {\"align\": \"left\"}, \"hovermode\": \"closest\", \"mapbox\": {\"style\": \"light\"}, \"paper_bgcolor\": \"white\", \"plot_bgcolor\": \"#E5ECF6\", \"polar\": {\"angularaxis\": {\"gridcolor\": \"white\", \"linecolor\": \"white\", \"ticks\": \"\"}, \"bgcolor\": \"#E5ECF6\", \"radialaxis\": {\"gridcolor\": \"white\", \"linecolor\": \"white\", \"ticks\": \"\"}}, \"scene\": {\"xaxis\": {\"backgroundcolor\": \"#E5ECF6\", \"gridcolor\": \"white\", \"gridwidth\": 2, \"linecolor\": \"white\", \"showbackground\": true, \"ticks\": \"\", \"zerolinecolor\": \"white\"}, \"yaxis\": {\"backgroundcolor\": \"#E5ECF6\", \"gridcolor\": \"white\", \"gridwidth\": 2, \"linecolor\": \"white\", \"showbackground\": true, \"ticks\": \"\", \"zerolinecolor\": \"white\"}, \"zaxis\": {\"backgroundcolor\": \"#E5ECF6\", \"gridcolor\": \"white\", \"gridwidth\": 2, \"linecolor\": \"white\", \"showbackground\": true, \"ticks\": \"\", \"zerolinecolor\": \"white\"}}, \"shapedefaults\": {\"line\": {\"color\": \"#2a3f5f\"}}, \"ternary\": {\"aaxis\": {\"gridcolor\": \"white\", \"linecolor\": \"white\", \"ticks\": \"\"}, \"baxis\": {\"gridcolor\": \"white\", \"linecolor\": \"white\", \"ticks\": \"\"}, \"bgcolor\": \"#E5ECF6\", \"caxis\": {\"gridcolor\": \"white\", \"linecolor\": \"white\", \"ticks\": \"\"}}, \"title\": {\"x\": 0.05}, \"xaxis\": {\"automargin\": true, \"gridcolor\": \"white\", \"linecolor\": \"white\", \"ticks\": \"\", \"title\": {\"standoff\": 15}, \"zerolinecolor\": \"white\", \"zerolinewidth\": 2}, \"yaxis\": {\"automargin\": true, \"gridcolor\": \"white\", \"linecolor\": \"white\", \"ticks\": \"\", \"title\": {\"standoff\": 15}, \"zerolinecolor\": \"white\", \"zerolinewidth\": 2}}}, \"title\": {\"text\": \"Age Distribution with Sex\"}, \"width\": 400, \"xaxis\": {\"anchor\": \"y\", \"domain\": [0.0, 1.0], \"title\": {\"text\": \"age\"}}, \"yaxis\": {\"anchor\": \"x\", \"domain\": [0.0, 1.0], \"title\": {\"text\": \"count\"}}},\n",
              "                        {\"responsive\": true}\n",
              "                    ).then(function(){\n",
              "                            \n",
              "var gd = document.getElementById('4c213447-9461-4f97-ba5a-ad9316486742');\n",
              "var x = new MutationObserver(function (mutations, observer) {{\n",
              "        var display = window.getComputedStyle(gd).display;\n",
              "        if (!display || display === 'none') {{\n",
              "            console.log([gd, 'removed!']);\n",
              "            Plotly.purge(gd);\n",
              "            observer.disconnect();\n",
              "        }}\n",
              "}});\n",
              "\n",
              "// Listen for the removal of the full notebook cells\n",
              "var notebookContainer = gd.closest('#notebook-container');\n",
              "if (notebookContainer) {{\n",
              "    x.observe(notebookContainer, {childList: true});\n",
              "}}\n",
              "\n",
              "// Listen for the clearing of the current output cell\n",
              "var outputEl = gd.closest('.output');\n",
              "if (outputEl) {{\n",
              "    x.observe(outputEl, {childList: true});\n",
              "}}\n",
              "\n",
              "                        })\n",
              "                };\n",
              "                \n",
              "            </script>\n",
              "        </div>\n",
              "</body>\n",
              "</html>"
            ]
          },
          "metadata": {
            "tags": []
          }
        }
      ]
    },
    {
      "cell_type": "markdown",
      "metadata": {
        "id": "PAKWMArEvZTx"
      },
      "source": [
        "Still distribute nomaly. "
      ]
    },
    {
      "cell_type": "markdown",
      "metadata": {
        "id": "mEK7lknbvKC0"
      },
      "source": [
        "3. Distribution diagram for \\``creatinine_phosphokinase`\\`  \n"
      ]
    },
    {
      "cell_type": "code",
      "metadata": {
        "colab": {
          "base_uri": "https://localhost:8080/",
          "height": 367
        },
        "id": "B97JEchxvPah",
        "outputId": "89d0ec7b-c7d8-4509-b600-dbc244a2ede6"
      },
      "source": [
        "distributions('creatinine_phosphokinase', 'DEATH_EVENT', 'CPK Distribution with Death Event')"
      ],
      "execution_count": null,
      "outputs": [
        {
          "output_type": "display_data",
          "data": {
            "text/html": [
              "<html>\n",
              "<head><meta charset=\"utf-8\" /></head>\n",
              "<body>\n",
              "    <div>\n",
              "            <script src=\"https://cdnjs.cloudflare.com/ajax/libs/mathjax/2.7.5/MathJax.js?config=TeX-AMS-MML_SVG\"></script><script type=\"text/javascript\">if (window.MathJax) {MathJax.Hub.Config({SVG: {font: \"STIX-Web\"}});}</script>\n",
              "                <script type=\"text/javascript\">window.PlotlyConfig = {MathJaxConfig: 'local'};</script>\n",
              "        <script src=\"https://cdn.plot.ly/plotly-latest.min.js\"></script>    \n",
              "            <div id=\"a072e1f5-0c33-46ed-b3c6-8eab959bfbc6\" class=\"plotly-graph-div\" style=\"height:350px; width:400px;\"></div>\n",
              "            <script type=\"text/javascript\">\n",
              "                \n",
              "                    window.PLOTLYENV=window.PLOTLYENV || {};\n",
              "                    \n",
              "                if (document.getElementById(\"a072e1f5-0c33-46ed-b3c6-8eab959bfbc6\")) {\n",
              "                    Plotly.newPlot(\n",
              "                        'a072e1f5-0c33-46ed-b3c6-8eab959bfbc6',\n",
              "                        [{\"alignmentgroup\": \"True\", \"bingroup\": \"x\", \"hoverlabel\": {\"namelength\": 0}, \"hovertemplate\": \"DEATH_EVENT=1<br>creatinine_phosphokinase=%{x}<br>count=%{y}\", \"legendgroup\": \"DEATH_EVENT=1\", \"marker\": {\"color\": \"#636efa\"}, \"name\": \"DEATH_EVENT=1\", \"offsetgroup\": \"DEATH_EVENT=1\", \"orientation\": \"v\", \"showlegend\": true, \"type\": \"histogram\", \"x\": [582, 7861, 146, 111, 160, 47, 246, 315, 157, 123, 81, 231, 981, 168, 379, 149, 582, 125, 582, 128, 220, 582, 148, 112, 122, 60, 70, 582, 23, 249, 94, 582, 60, 855, 235, 582, 124, 571, 588, 582, 1380, 582, 553, 129, 577, 91, 3964, 69, 260, 371, 789, 364, 7702, 318, 582, 68, 250, 110, 161, 113, 5882, 582, 47, 76, 280, 154, 328, 129, 143, 582, 582, 168, 805, 943, 582, 233, 2334, 2442, 776, 66, 176, 395, 99, 145, 104, 582, 1896, 582, 418, 131, 427, 582, 166, 2017, 258, 1199], \"xaxis\": \"x\", \"yaxis\": \"y\"}, {\"alignmentgroup\": \"True\", \"bingroup\": \"x\", \"hoverlabel\": {\"namelength\": 0}, \"hovertemplate\": \"DEATH_EVENT=0<br>creatinine_phosphokinase=%{x}<br>count=%{y}\", \"legendgroup\": \"DEATH_EVENT=0\", \"marker\": {\"color\": \"#EF553B\"}, \"name\": \"DEATH_EVENT=0\", \"offsetgroup\": \"DEATH_EVENT=0\", \"orientation\": \"v\", \"showlegend\": true, \"type\": \"histogram\", \"x\": [80, 52, 63, 159, 2656, 127, 75, 607, 109, 582, 148, 582, 224, 92, 102, 203, 336, 69, 582, 55, 78, 47, 68, 84, 115, 66, 897, 582, 144, 133, 514, 59, 156, 61, 305, 582, 898, 5209, 53, 748, 1876, 936, 292, 60, 369, 754, 400, 96, 102, 113, 737, 68, 96, 582, 358, 200, 248, 270, 1808, 1082, 719, 193, 4540, 582, 59, 646, 281, 1548, 291, 482, 84, 185, 132, 1610, 2261, 30, 115, 1846, 335, 231, 58, 250, 910, 129, 72, 130, 582, 196, 582, 835, 582, 3966, 171, 115, 198, 95, 1419, 69, 122, 835, 478, 151, 244, 582, 62, 121, 231, 582, 167, 582, 1211, 1767, 308, 97, 59, 64, 167, 101, 212, 2281, 972, 212, 582, 224, 135, 582, 1202, 1021, 582, 118, 86, 582, 582, 675, 57, 2794, 56, 211, 93, 129, 707, 582, 109, 119, 232, 720, 180, 81, 582, 90, 1185, 582, 80, 143, 624, 207, 2522, 572, 245, 88, 446, 191, 326, 132, 66, 56, 66, 655, 157, 582, 298, 135, 582, 582, 582, 582, 213, 64, 257, 582, 618, 582, 1051, 84, 2695, 582, 64, 1688, 54, 170, 253, 582, 892, 337, 615, 320, 190, 103, 61, 1820, 2060, 2413, 196], \"xaxis\": \"x\", \"yaxis\": \"y\"}],\n",
              "                        {\"barmode\": \"relative\", \"height\": 350, \"legend\": {\"tracegroupgap\": 0}, \"template\": {\"data\": {\"bar\": [{\"error_x\": {\"color\": \"#2a3f5f\"}, \"error_y\": {\"color\": \"#2a3f5f\"}, \"marker\": {\"line\": {\"color\": \"#E5ECF6\", \"width\": 0.5}}, \"type\": \"bar\"}], \"barpolar\": [{\"marker\": {\"line\": {\"color\": \"#E5ECF6\", \"width\": 0.5}}, \"type\": \"barpolar\"}], \"carpet\": [{\"aaxis\": {\"endlinecolor\": \"#2a3f5f\", \"gridcolor\": \"white\", \"linecolor\": \"white\", \"minorgridcolor\": \"white\", \"startlinecolor\": \"#2a3f5f\"}, \"baxis\": {\"endlinecolor\": \"#2a3f5f\", \"gridcolor\": \"white\", \"linecolor\": \"white\", \"minorgridcolor\": \"white\", \"startlinecolor\": \"#2a3f5f\"}, \"type\": \"carpet\"}], \"choropleth\": [{\"colorbar\": {\"outlinewidth\": 0, \"ticks\": \"\"}, \"type\": \"choropleth\"}], \"contour\": [{\"colorbar\": {\"outlinewidth\": 0, \"ticks\": \"\"}, \"colorscale\": [[0.0, \"#0d0887\"], [0.1111111111111111, \"#46039f\"], [0.2222222222222222, \"#7201a8\"], [0.3333333333333333, \"#9c179e\"], [0.4444444444444444, \"#bd3786\"], [0.5555555555555556, \"#d8576b\"], [0.6666666666666666, \"#ed7953\"], [0.7777777777777778, \"#fb9f3a\"], [0.8888888888888888, \"#fdca26\"], [1.0, \"#f0f921\"]], \"type\": \"contour\"}], \"contourcarpet\": [{\"colorbar\": {\"outlinewidth\": 0, \"ticks\": \"\"}, \"type\": \"contourcarpet\"}], \"heatmap\": [{\"colorbar\": {\"outlinewidth\": 0, \"ticks\": \"\"}, \"colorscale\": [[0.0, \"#0d0887\"], [0.1111111111111111, \"#46039f\"], [0.2222222222222222, \"#7201a8\"], [0.3333333333333333, \"#9c179e\"], [0.4444444444444444, \"#bd3786\"], [0.5555555555555556, \"#d8576b\"], [0.6666666666666666, \"#ed7953\"], [0.7777777777777778, \"#fb9f3a\"], [0.8888888888888888, \"#fdca26\"], [1.0, \"#f0f921\"]], \"type\": \"heatmap\"}], \"heatmapgl\": [{\"colorbar\": {\"outlinewidth\": 0, \"ticks\": \"\"}, \"colorscale\": [[0.0, \"#0d0887\"], [0.1111111111111111, \"#46039f\"], [0.2222222222222222, \"#7201a8\"], [0.3333333333333333, \"#9c179e\"], [0.4444444444444444, \"#bd3786\"], [0.5555555555555556, \"#d8576b\"], [0.6666666666666666, \"#ed7953\"], [0.7777777777777778, \"#fb9f3a\"], [0.8888888888888888, \"#fdca26\"], [1.0, \"#f0f921\"]], \"type\": \"heatmapgl\"}], \"histogram\": [{\"marker\": {\"colorbar\": {\"outlinewidth\": 0, \"ticks\": \"\"}}, \"type\": \"histogram\"}], \"histogram2d\": [{\"colorbar\": {\"outlinewidth\": 0, \"ticks\": \"\"}, \"colorscale\": [[0.0, \"#0d0887\"], [0.1111111111111111, \"#46039f\"], [0.2222222222222222, \"#7201a8\"], [0.3333333333333333, \"#9c179e\"], [0.4444444444444444, \"#bd3786\"], [0.5555555555555556, \"#d8576b\"], [0.6666666666666666, \"#ed7953\"], [0.7777777777777778, \"#fb9f3a\"], [0.8888888888888888, \"#fdca26\"], [1.0, \"#f0f921\"]], \"type\": \"histogram2d\"}], \"histogram2dcontour\": [{\"colorbar\": {\"outlinewidth\": 0, \"ticks\": \"\"}, \"colorscale\": [[0.0, \"#0d0887\"], [0.1111111111111111, \"#46039f\"], [0.2222222222222222, \"#7201a8\"], [0.3333333333333333, \"#9c179e\"], [0.4444444444444444, \"#bd3786\"], [0.5555555555555556, \"#d8576b\"], [0.6666666666666666, \"#ed7953\"], [0.7777777777777778, \"#fb9f3a\"], [0.8888888888888888, \"#fdca26\"], [1.0, \"#f0f921\"]], \"type\": \"histogram2dcontour\"}], \"mesh3d\": [{\"colorbar\": {\"outlinewidth\": 0, \"ticks\": \"\"}, \"type\": \"mesh3d\"}], \"parcoords\": [{\"line\": {\"colorbar\": {\"outlinewidth\": 0, \"ticks\": \"\"}}, \"type\": \"parcoords\"}], \"pie\": [{\"automargin\": true, \"type\": \"pie\"}], \"scatter\": [{\"marker\": {\"colorbar\": {\"outlinewidth\": 0, \"ticks\": \"\"}}, \"type\": \"scatter\"}], \"scatter3d\": [{\"line\": {\"colorbar\": {\"outlinewidth\": 0, \"ticks\": \"\"}}, \"marker\": {\"colorbar\": {\"outlinewidth\": 0, \"ticks\": \"\"}}, \"type\": \"scatter3d\"}], \"scattercarpet\": [{\"marker\": {\"colorbar\": {\"outlinewidth\": 0, \"ticks\": \"\"}}, \"type\": \"scattercarpet\"}], \"scattergeo\": [{\"marker\": {\"colorbar\": {\"outlinewidth\": 0, \"ticks\": \"\"}}, \"type\": \"scattergeo\"}], \"scattergl\": [{\"marker\": {\"colorbar\": {\"outlinewidth\": 0, \"ticks\": \"\"}}, \"type\": \"scattergl\"}], \"scattermapbox\": [{\"marker\": {\"colorbar\": {\"outlinewidth\": 0, \"ticks\": \"\"}}, \"type\": \"scattermapbox\"}], \"scatterpolar\": [{\"marker\": {\"colorbar\": {\"outlinewidth\": 0, \"ticks\": \"\"}}, \"type\": \"scatterpolar\"}], \"scatterpolargl\": [{\"marker\": {\"colorbar\": {\"outlinewidth\": 0, \"ticks\": \"\"}}, \"type\": \"scatterpolargl\"}], \"scatterternary\": [{\"marker\": {\"colorbar\": {\"outlinewidth\": 0, \"ticks\": \"\"}}, \"type\": \"scatterternary\"}], \"surface\": [{\"colorbar\": {\"outlinewidth\": 0, \"ticks\": \"\"}, \"colorscale\": [[0.0, \"#0d0887\"], [0.1111111111111111, \"#46039f\"], [0.2222222222222222, \"#7201a8\"], [0.3333333333333333, \"#9c179e\"], [0.4444444444444444, \"#bd3786\"], [0.5555555555555556, \"#d8576b\"], [0.6666666666666666, \"#ed7953\"], [0.7777777777777778, \"#fb9f3a\"], [0.8888888888888888, \"#fdca26\"], [1.0, \"#f0f921\"]], \"type\": \"surface\"}], \"table\": [{\"cells\": {\"fill\": {\"color\": \"#EBF0F8\"}, \"line\": {\"color\": \"white\"}}, \"header\": {\"fill\": {\"color\": \"#C8D4E3\"}, \"line\": {\"color\": \"white\"}}, \"type\": \"table\"}]}, \"layout\": {\"annotationdefaults\": {\"arrowcolor\": \"#2a3f5f\", \"arrowhead\": 0, \"arrowwidth\": 1}, \"coloraxis\": {\"colorbar\": {\"outlinewidth\": 0, \"ticks\": \"\"}}, \"colorscale\": {\"diverging\": [[0, \"#8e0152\"], [0.1, \"#c51b7d\"], [0.2, \"#de77ae\"], [0.3, \"#f1b6da\"], [0.4, \"#fde0ef\"], [0.5, \"#f7f7f7\"], [0.6, \"#e6f5d0\"], [0.7, \"#b8e186\"], [0.8, \"#7fbc41\"], [0.9, \"#4d9221\"], [1, \"#276419\"]], \"sequential\": [[0.0, \"#0d0887\"], [0.1111111111111111, \"#46039f\"], [0.2222222222222222, \"#7201a8\"], [0.3333333333333333, \"#9c179e\"], [0.4444444444444444, \"#bd3786\"], [0.5555555555555556, \"#d8576b\"], [0.6666666666666666, \"#ed7953\"], [0.7777777777777778, \"#fb9f3a\"], [0.8888888888888888, \"#fdca26\"], [1.0, \"#f0f921\"]], \"sequentialminus\": [[0.0, \"#0d0887\"], [0.1111111111111111, \"#46039f\"], [0.2222222222222222, \"#7201a8\"], [0.3333333333333333, \"#9c179e\"], [0.4444444444444444, \"#bd3786\"], [0.5555555555555556, \"#d8576b\"], [0.6666666666666666, \"#ed7953\"], [0.7777777777777778, \"#fb9f3a\"], [0.8888888888888888, \"#fdca26\"], [1.0, \"#f0f921\"]]}, \"colorway\": [\"#636efa\", \"#EF553B\", \"#00cc96\", \"#ab63fa\", \"#FFA15A\", \"#19d3f3\", \"#FF6692\", \"#B6E880\", \"#FF97FF\", \"#FECB52\"], \"font\": {\"color\": \"#2a3f5f\"}, \"geo\": {\"bgcolor\": \"white\", \"lakecolor\": \"white\", \"landcolor\": \"#E5ECF6\", \"showlakes\": true, \"showland\": true, \"subunitcolor\": \"white\"}, \"hoverlabel\": {\"align\": \"left\"}, \"hovermode\": \"closest\", \"mapbox\": {\"style\": \"light\"}, \"paper_bgcolor\": \"white\", \"plot_bgcolor\": \"#E5ECF6\", \"polar\": {\"angularaxis\": {\"gridcolor\": \"white\", \"linecolor\": \"white\", \"ticks\": \"\"}, \"bgcolor\": \"#E5ECF6\", \"radialaxis\": {\"gridcolor\": \"white\", \"linecolor\": \"white\", \"ticks\": \"\"}}, \"scene\": {\"xaxis\": {\"backgroundcolor\": \"#E5ECF6\", \"gridcolor\": \"white\", \"gridwidth\": 2, \"linecolor\": \"white\", \"showbackground\": true, \"ticks\": \"\", \"zerolinecolor\": \"white\"}, \"yaxis\": {\"backgroundcolor\": \"#E5ECF6\", \"gridcolor\": \"white\", \"gridwidth\": 2, \"linecolor\": \"white\", \"showbackground\": true, \"ticks\": \"\", \"zerolinecolor\": \"white\"}, \"zaxis\": {\"backgroundcolor\": \"#E5ECF6\", \"gridcolor\": \"white\", \"gridwidth\": 2, \"linecolor\": \"white\", \"showbackground\": true, \"ticks\": \"\", \"zerolinecolor\": \"white\"}}, \"shapedefaults\": {\"line\": {\"color\": \"#2a3f5f\"}}, \"ternary\": {\"aaxis\": {\"gridcolor\": \"white\", \"linecolor\": \"white\", \"ticks\": \"\"}, \"baxis\": {\"gridcolor\": \"white\", \"linecolor\": \"white\", \"ticks\": \"\"}, \"bgcolor\": \"#E5ECF6\", \"caxis\": {\"gridcolor\": \"white\", \"linecolor\": \"white\", \"ticks\": \"\"}}, \"title\": {\"x\": 0.05}, \"xaxis\": {\"automargin\": true, \"gridcolor\": \"white\", \"linecolor\": \"white\", \"ticks\": \"\", \"title\": {\"standoff\": 15}, \"zerolinecolor\": \"white\", \"zerolinewidth\": 2}, \"yaxis\": {\"automargin\": true, \"gridcolor\": \"white\", \"linecolor\": \"white\", \"ticks\": \"\", \"title\": {\"standoff\": 15}, \"zerolinecolor\": \"white\", \"zerolinewidth\": 2}}}, \"title\": {\"text\": \"CPK Distribution with Death Event\"}, \"width\": 400, \"xaxis\": {\"anchor\": \"y\", \"domain\": [0.0, 1.0], \"title\": {\"text\": \"creatinine_phosphokinase\"}}, \"yaxis\": {\"anchor\": \"x\", \"domain\": [0.0, 1.0], \"title\": {\"text\": \"count\"}}},\n",
              "                        {\"responsive\": true}\n",
              "                    ).then(function(){\n",
              "                            \n",
              "var gd = document.getElementById('a072e1f5-0c33-46ed-b3c6-8eab959bfbc6');\n",
              "var x = new MutationObserver(function (mutations, observer) {{\n",
              "        var display = window.getComputedStyle(gd).display;\n",
              "        if (!display || display === 'none') {{\n",
              "            console.log([gd, 'removed!']);\n",
              "            Plotly.purge(gd);\n",
              "            observer.disconnect();\n",
              "        }}\n",
              "}});\n",
              "\n",
              "// Listen for the removal of the full notebook cells\n",
              "var notebookContainer = gd.closest('#notebook-container');\n",
              "if (notebookContainer) {{\n",
              "    x.observe(notebookContainer, {childList: true});\n",
              "}}\n",
              "\n",
              "// Listen for the clearing of the current output cell\n",
              "var outputEl = gd.closest('.output');\n",
              "if (outputEl) {{\n",
              "    x.observe(outputEl, {childList: true});\n",
              "}}\n",
              "\n",
              "                        })\n",
              "                };\n",
              "                \n",
              "            </script>\n",
              "        </div>\n",
              "</body>\n",
              "</html>"
            ]
          },
          "metadata": {
            "tags": []
          }
        }
      ]
    },
    {
      "cell_type": "markdown",
      "metadata": {
        "id": "xR2UYzBFveKj"
      },
      "source": [
        "Some data is strange, outlier exists.   \n",
        "\n",
        "See in a boxplot for a clear view:\n"
      ]
    },
    {
      "cell_type": "code",
      "metadata": {
        "colab": {
          "base_uri": "https://localhost:8080/",
          "height": 456
        },
        "id": "2UI6DMtuwb1h",
        "outputId": "5edbcb95-d2c5-4344-dc8e-37ffc244e3f4"
      },
      "source": [
        "fig, ax = plt.subplots(figsize=(3, 5))\n",
        "ax.boxplot(dataset['creatinine_phosphokinase'])"
      ],
      "execution_count": null,
      "outputs": [
        {
          "output_type": "execute_result",
          "data": {
            "text/plain": [
              "{'boxes': [<matplotlib.lines.Line2D at 0x7f43aaabfc88>],\n",
              " 'caps': [<matplotlib.lines.Line2D at 0x7f43aaacc6d8>,\n",
              "  <matplotlib.lines.Line2D at 0x7f43aaacca58>],\n",
              " 'fliers': [<matplotlib.lines.Line2D at 0x7f43aaad5198>],\n",
              " 'means': [],\n",
              " 'medians': [<matplotlib.lines.Line2D at 0x7f43aaaccdd8>],\n",
              " 'whiskers': [<matplotlib.lines.Line2D at 0x7f43aaabff98>,\n",
              "  <matplotlib.lines.Line2D at 0x7f43aaacc358>]}"
            ]
          },
          "metadata": {
            "tags": []
          },
          "execution_count": 13
        },
        {
          "output_type": "display_data",
          "data": {
            "image/png": "[encoded data removed]",
            "text/plain": [
              "<Figure size 216x360 with 1 Axes>"
            ]
          },
          "metadata": {
            "tags": [],
            "needs_background": "light"
          }
        }
      ]
    },
    {
      "cell_type": "markdown",
      "metadata": {
        "id": "l4OAKkG5xRu5"
      },
      "source": [
        "Create outlier feature based on boolean condition, and drop records. "
      ]
    },
    {
      "cell_type": "code",
      "metadata": {
        "id": "cuMydr0vwKKw"
      },
      "source": [
        "dataset['outlier'] = np.where(dataset['creatinine_phosphokinase'] < 6000, 0, 1)"
      ],
      "execution_count": null,
      "outputs": []
    },
    {
      "cell_type": "markdown",
      "metadata": {
        "id": "2TQKXEC_1pGE"
      },
      "source": [
        "This dataset is rather smaill, for a better result without more risks for overfitting, set the bechmark to 6,000 rather than 4,000. "
      ]
    },
    {
      "cell_type": "code",
      "metadata": {
        "colab": {
          "base_uri": "https://localhost:8080/",
          "height": 131
        },
        "id": "UG2Y2Q1PyDbF",
        "outputId": "4a7186a1-ca58-4d65-8a2c-c2fd098470d2"
      },
      "source": [
        "#Find all outlier\n",
        "dataset.loc[dataset['outlier']==1]"
      ],
      "execution_count": null,
      "outputs": [
        {
          "output_type": "execute_result",
          "data": {
            "text/html": [
              "<div>\n",
              "<style scoped>\n",
              "    .dataframe tbody tr th:only-of-type {\n",
              "        vertical-align: middle;\n",
              "    }\n",
              "\n",
              "    .dataframe tbody tr th {\n",
              "        vertical-align: top;\n",
              "    }\n",
              "\n",
              "    .dataframe thead th {\n",
              "        text-align: right;\n",
              "    }\n",
              "</style>\n",
              "<table border=\"1\" class=\"dataframe\">\n",
              "  <thead>\n",
              "    <tr style=\"text-align: right;\">\n",
              "      <th></th>\n",
              "      <th>age</th>\n",
              "      <th>anaemia</th>\n",
              "      <th>creatinine_phosphokinase</th>\n",
              "      <th>diabetes</th>\n",
              "      <th>ejection_fraction</th>\n",
              "      <th>high_blood_pressure</th>\n",
              "      <th>platelets</th>\n",
              "      <th>serum_creatinine</th>\n",
              "      <th>serum_sodium</th>\n",
              "      <th>sex</th>\n",
              "      <th>smoking</th>\n",
              "      <th>time</th>\n",
              "      <th>DEATH_EVENT</th>\n",
              "      <th>outlier</th>\n",
              "    </tr>\n",
              "  </thead>\n",
              "  <tbody>\n",
              "    <tr>\n",
              "      <th>1</th>\n",
              "      <td>55.0</td>\n",
              "      <td>0</td>\n",
              "      <td>7861</td>\n",
              "      <td>0</td>\n",
              "      <td>38</td>\n",
              "      <td>0</td>\n",
              "      <td>263358.03</td>\n",
              "      <td>1.1</td>\n",
              "      <td>136</td>\n",
              "      <td>1</td>\n",
              "      <td>0</td>\n",
              "      <td>6</td>\n",
              "      <td>1</td>\n",
              "      <td>1</td>\n",
              "    </tr>\n",
              "    <tr>\n",
              "      <th>60</th>\n",
              "      <td>45.0</td>\n",
              "      <td>0</td>\n",
              "      <td>7702</td>\n",
              "      <td>1</td>\n",
              "      <td>25</td>\n",
              "      <td>1</td>\n",
              "      <td>390000.00</td>\n",
              "      <td>1.0</td>\n",
              "      <td>139</td>\n",
              "      <td>1</td>\n",
              "      <td>0</td>\n",
              "      <td>60</td>\n",
              "      <td>1</td>\n",
              "      <td>1</td>\n",
              "    </tr>\n",
              "  </tbody>\n",
              "</table>\n",
              "</div>"
            ],
            "text/plain": [
              "     age  anaemia  creatinine_phosphokinase  ...  time  DEATH_EVENT  outlier\n",
              "1   55.0        0                      7861  ...     6            1        1\n",
              "60  45.0        0                      7702  ...    60            1        1\n",
              "\n",
              "[2 rows x 14 columns]"
            ]
          },
          "metadata": {
            "tags": []
          },
          "execution_count": 15
        }
      ]
    },
    {
      "cell_type": "code",
      "metadata": {
        "colab": {
          "base_uri": "https://localhost:8080/"
        },
        "id": "t2QNNs7IzZJv",
        "outputId": "2bb1b991-0a1a-4091-b995-34d3f75f0758"
      },
      "source": [
        "#Drop the outlier\n",
        "dataset = dataset.loc[dataset['outlier']==0]\n",
        "dataset.info()"
      ],
      "execution_count": null,
      "outputs": [
        {
          "output_type": "stream",
          "text": [
            "<class 'pandas.core.frame.DataFrame'>\n",
            "Int64Index: 297 entries, 0 to 298\n",
            "Data columns (total 14 columns):\n",
            " #   Column                    Non-Null Count  Dtype  \n",
            "---  ------                    --------------  -----  \n",
            " 0   age                       297 non-null    float64\n",
            " 1   anaemia                   297 non-null    int64  \n",
            " 2   creatinine_phosphokinase  297 non-null    int64  \n",
            " 3   diabetes                  297 non-null    int64  \n",
            " 4   ejection_fraction         297 non-null    int64  \n",
            " 5   high_blood_pressure       297 non-null    int64  \n",
            " 6   platelets                 297 non-null    float64\n",
            " 7   serum_creatinine          297 non-null    float64\n",
            " 8   serum_sodium              297 non-null    int64  \n",
            " 9   sex                       297 non-null    int64  \n",
            " 10  smoking                   297 non-null    int64  \n",
            " 11  time                      297 non-null    int64  \n",
            " 12  DEATH_EVENT               297 non-null    int64  \n",
            " 13  outlier                   297 non-null    int64  \n",
            "dtypes: float64(3), int64(11)\n",
            "memory usage: 34.8 KB\n"
          ],
          "name": "stdout"
        }
      ]
    },
    {
      "cell_type": "markdown",
      "metadata": {
        "id": "Ie7Q2elazl1f"
      },
      "source": [
        "Outliers dropped. "
      ]
    },
    {
      "cell_type": "code",
      "metadata": {
        "id": "fJBtOSfp2uXS"
      },
      "source": [
        "#Delete the assistance column\n",
        "dataset = dataset.iloc[:, :-1]"
      ],
      "execution_count": null,
      "outputs": []
    },
    {
      "cell_type": "markdown",
      "metadata": {
        "id": "zqXBnzkOzocS"
      },
      "source": [
        "4.  Distribution diagram for \\``creatinine_phosphokinase`\\`  \n"
      ]
    },
    {
      "cell_type": "code",
      "metadata": {
        "colab": {
          "base_uri": "https://localhost:8080/",
          "height": 367
        },
        "id": "xgxviLOsz7Cc",
        "outputId": "00cdda36-3b3e-4a11-8a8b-eaedc4b866a9"
      },
      "source": [
        "distributions('ejection_fraction', 'DEATH_EVENT', 'Ejection Fraction Distribution with Death Event')"
      ],
      "execution_count": null,
      "outputs": [
        {
          "output_type": "display_data",
          "data": {
            "text/html": [
              "<html>\n",
              "<head><meta charset=\"utf-8\" /></head>\n",
              "<body>\n",
              "    <div>\n",
              "            <script src=\"https://cdnjs.cloudflare.com/ajax/libs/mathjax/2.7.5/MathJax.js?config=TeX-AMS-MML_SVG\"></script><script type=\"text/javascript\">if (window.MathJax) {MathJax.Hub.Config({SVG: {font: \"STIX-Web\"}});}</script>\n",
              "                <script type=\"text/javascript\">window.PlotlyConfig = {MathJaxConfig: 'local'};</script>\n",
              "        <script src=\"https://cdn.plot.ly/plotly-latest.min.js\"></script>    \n",
              "            <div id=\"8cb7ff5b-12a7-4508-9bdb-a6482a3e2fdb\" class=\"plotly-graph-div\" style=\"height:350px; width:400px;\"></div>\n",
              "            <script type=\"text/javascript\">\n",
              "                \n",
              "                    window.PLOTLYENV=window.PLOTLYENV || {};\n",
              "                    \n",
              "                if (document.getElementById(\"8cb7ff5b-12a7-4508-9bdb-a6482a3e2fdb\")) {\n",
              "                    Plotly.newPlot(\n",
              "                        '8cb7ff5b-12a7-4508-9bdb-a6482a3e2fdb',\n",
              "                        [{\"alignmentgroup\": \"True\", \"bingroup\": \"x\", \"hoverlabel\": {\"namelength\": 0}, \"hovertemplate\": \"DEATH_EVENT=1<br>ejection_fraction=%{x}<br>count=%{y}\", \"legendgroup\": \"DEATH_EVENT=1\", \"marker\": {\"color\": \"#636efa\"}, \"name\": \"DEATH_EVENT=1\", \"offsetgroup\": \"DEATH_EVENT=1\", \"orientation\": \"v\", \"showlegend\": true, \"type\": \"histogram\", \"x\": [20, 20, 20, 20, 40, 15, 60, 65, 35, 38, 25, 30, 38, 50, 38, 14, 25, 55, 30, 35, 30, 38, 40, 45, 38, 30, 38, 45, 35, 50, 35, 50, 50, 38, 20, 30, 45, 60, 38, 25, 38, 20, 30, 25, 20, 62, 50, 38, 30, 20, 20, 40, 35, 20, 15, 25, 25, 25, 35, 20, 20, 25, 25, 25, 30, 60, 60, 38, 40, 17, 38, 25, 30, 45, 35, 30, 38, 20, 25, 25, 38, 25, 30, 50, 25, 20, 45, 30, 70, 20, 30, 25, 25, 20], \"xaxis\": \"x\", \"yaxis\": \"y\"}, {\"alignmentgroup\": \"True\", \"bingroup\": \"x\", \"hoverlabel\": {\"namelength\": 0}, \"hovertemplate\": \"DEATH_EVENT=0<br>ejection_fraction=%{x}<br>count=%{y}\", \"legendgroup\": \"DEATH_EVENT=0\", \"marker\": {\"color\": \"#EF553B\"}, \"name\": \"DEATH_EVENT=0\", \"offsetgroup\": \"DEATH_EVENT=0\", \"orientation\": \"v\", \"showlegend\": true, \"type\": \"histogram\", \"x\": [30, 25, 60, 30, 30, 50, 35, 40, 35, 80, 40, 35, 50, 60, 40, 38, 45, 40, 50, 50, 50, 35, 60, 40, 25, 45, 45, 60, 38, 60, 25, 60, 25, 40, 25, 45, 25, 30, 50, 45, 35, 38, 35, 35, 25, 40, 40, 60, 60, 60, 60, 38, 38, 30, 50, 60, 30, 35, 60, 45, 40, 60, 35, 40, 60, 25, 35, 30, 35, 30, 40, 30, 30, 60, 35, 60, 45, 35, 35, 25, 35, 25, 50, 45, 40, 35, 40, 60, 40, 35, 35, 40, 60, 20, 35, 60, 40, 50, 60, 40, 30, 40, 45, 35, 60, 40, 30, 38, 30, 20, 35, 45, 60, 60, 25, 40, 45, 40, 38, 40, 35, 17, 62, 50, 35, 35, 50, 35, 35, 50, 35, 25, 25, 60, 25, 35, 25, 25, 35, 35, 38, 45, 50, 50, 30, 40, 45, 35, 30, 35, 40, 38, 38, 25, 35, 40, 30, 35, 45, 35, 60, 30, 38, 38, 25, 50, 40, 40, 60, 38, 35, 38, 38, 35, 30, 40, 38, 40, 30, 38, 35, 38, 30, 38, 40, 40, 30, 38, 40, 40, 35, 55, 35, 38, 55, 35, 38, 35, 38, 38, 60, 38, 45], \"xaxis\": \"x\", \"yaxis\": \"y\"}],\n",
              "                        {\"barmode\": \"relative\", \"height\": 350, \"legend\": {\"tracegroupgap\": 0}, \"template\": {\"data\": {\"bar\": [{\"error_x\": {\"color\": \"#2a3f5f\"}, \"error_y\": {\"color\": \"#2a3f5f\"}, \"marker\": {\"line\": {\"color\": \"#E5ECF6\", \"width\": 0.5}}, \"type\": \"bar\"}], \"barpolar\": [{\"marker\": {\"line\": {\"color\": \"#E5ECF6\", \"width\": 0.5}}, \"type\": \"barpolar\"}], \"carpet\": [{\"aaxis\": {\"endlinecolor\": \"#2a3f5f\", \"gridcolor\": \"white\", \"linecolor\": \"white\", \"minorgridcolor\": \"white\", \"startlinecolor\": \"#2a3f5f\"}, \"baxis\": {\"endlinecolor\": \"#2a3f5f\", \"gridcolor\": \"white\", \"linecolor\": \"white\", \"minorgridcolor\": \"white\", \"startlinecolor\": \"#2a3f5f\"}, \"type\": \"carpet\"}], \"choropleth\": [{\"colorbar\": {\"outlinewidth\": 0, \"ticks\": \"\"}, \"type\": \"choropleth\"}], \"contour\": [{\"colorbar\": {\"outlinewidth\": 0, \"ticks\": \"\"}, \"colorscale\": [[0.0, \"#0d0887\"], [0.1111111111111111, \"#46039f\"], [0.2222222222222222, \"#7201a8\"], [0.3333333333333333, \"#9c179e\"], [0.4444444444444444, \"#bd3786\"], [0.5555555555555556, \"#d8576b\"], [0.6666666666666666, \"#ed7953\"], [0.7777777777777778, \"#fb9f3a\"], [0.8888888888888888, \"#fdca26\"], [1.0, \"#f0f921\"]], \"type\": \"contour\"}], \"contourcarpet\": [{\"colorbar\": {\"outlinewidth\": 0, \"ticks\": \"\"}, \"type\": \"contourcarpet\"}], \"heatmap\": [{\"colorbar\": {\"outlinewidth\": 0, \"ticks\": \"\"}, \"colorscale\": [[0.0, \"#0d0887\"], [0.1111111111111111, \"#46039f\"], [0.2222222222222222, \"#7201a8\"], [0.3333333333333333, \"#9c179e\"], [0.4444444444444444, \"#bd3786\"], [0.5555555555555556, \"#d8576b\"], [0.6666666666666666, \"#ed7953\"], [0.7777777777777778, \"#fb9f3a\"], [0.8888888888888888, \"#fdca26\"], [1.0, \"#f0f921\"]], \"type\": \"heatmap\"}], \"heatmapgl\": [{\"colorbar\": {\"outlinewidth\": 0, \"ticks\": \"\"}, \"colorscale\": [[0.0, \"#0d0887\"], [0.1111111111111111, \"#46039f\"], [0.2222222222222222, \"#7201a8\"], [0.3333333333333333, \"#9c179e\"], [0.4444444444444444, \"#bd3786\"], [0.5555555555555556, \"#d8576b\"], [0.6666666666666666, \"#ed7953\"], [0.7777777777777778, \"#fb9f3a\"], [0.8888888888888888, \"#fdca26\"], [1.0, \"#f0f921\"]], \"type\": \"heatmapgl\"}], \"histogram\": [{\"marker\": {\"colorbar\": {\"outlinewidth\": 0, \"ticks\": \"\"}}, \"type\": \"histogram\"}], \"histogram2d\": [{\"colorbar\": {\"outlinewidth\": 0, \"ticks\": \"\"}, \"colorscale\": [[0.0, \"#0d0887\"], [0.1111111111111111, \"#46039f\"], [0.2222222222222222, \"#7201a8\"], [0.3333333333333333, \"#9c179e\"], [0.4444444444444444, \"#bd3786\"], [0.5555555555555556, \"#d8576b\"], [0.6666666666666666, \"#ed7953\"], [0.7777777777777778, \"#fb9f3a\"], [0.8888888888888888, \"#fdca26\"], [1.0, \"#f0f921\"]], \"type\": \"histogram2d\"}], \"histogram2dcontour\": [{\"colorbar\": {\"outlinewidth\": 0, \"ticks\": \"\"}, \"colorscale\": [[0.0, \"#0d0887\"], [0.1111111111111111, \"#46039f\"], [0.2222222222222222, \"#7201a8\"], [0.3333333333333333, \"#9c179e\"], [0.4444444444444444, \"#bd3786\"], [0.5555555555555556, \"#d8576b\"], [0.6666666666666666, \"#ed7953\"], [0.7777777777777778, \"#fb9f3a\"], [0.8888888888888888, \"#fdca26\"], [1.0, \"#f0f921\"]], \"type\": \"histogram2dcontour\"}], \"mesh3d\": [{\"colorbar\": {\"outlinewidth\": 0, \"ticks\": \"\"}, \"type\": \"mesh3d\"}], \"parcoords\": [{\"line\": {\"colorbar\": {\"outlinewidth\": 0, \"ticks\": \"\"}}, \"type\": \"parcoords\"}], \"pie\": [{\"automargin\": true, \"type\": \"pie\"}], \"scatter\": [{\"marker\": {\"colorbar\": {\"outlinewidth\": 0, \"ticks\": \"\"}}, \"type\": \"scatter\"}], \"scatter3d\": [{\"line\": {\"colorbar\": {\"outlinewidth\": 0, \"ticks\": \"\"}}, \"marker\": {\"colorbar\": {\"outlinewidth\": 0, \"ticks\": \"\"}}, \"type\": \"scatter3d\"}], \"scattercarpet\": [{\"marker\": {\"colorbar\": {\"outlinewidth\": 0, \"ticks\": \"\"}}, \"type\": \"scattercarpet\"}], \"scattergeo\": [{\"marker\": {\"colorbar\": {\"outlinewidth\": 0, \"ticks\": \"\"}}, \"type\": \"scattergeo\"}], \"scattergl\": [{\"marker\": {\"colorbar\": {\"outlinewidth\": 0, \"ticks\": \"\"}}, \"type\": \"scattergl\"}], \"scattermapbox\": [{\"marker\": {\"colorbar\": {\"outlinewidth\": 0, \"ticks\": \"\"}}, \"type\": \"scattermapbox\"}], \"scatterpolar\": [{\"marker\": {\"colorbar\": {\"outlinewidth\": 0, \"ticks\": \"\"}}, \"type\": \"scatterpolar\"}], \"scatterpolargl\": [{\"marker\": {\"colorbar\": {\"outlinewidth\": 0, \"ticks\": \"\"}}, \"type\": \"scatterpolargl\"}], \"scatterternary\": [{\"marker\": {\"colorbar\": {\"outlinewidth\": 0, \"ticks\": \"\"}}, \"type\": \"scatterternary\"}], \"surface\": [{\"colorbar\": {\"outlinewidth\": 0, \"ticks\": \"\"}, \"colorscale\": [[0.0, \"#0d0887\"], [0.1111111111111111, \"#46039f\"], [0.2222222222222222, \"#7201a8\"], [0.3333333333333333, \"#9c179e\"], [0.4444444444444444, \"#bd3786\"], [0.5555555555555556, \"#d8576b\"], [0.6666666666666666, \"#ed7953\"], [0.7777777777777778, \"#fb9f3a\"], [0.8888888888888888, \"#fdca26\"], [1.0, \"#f0f921\"]], \"type\": \"surface\"}], \"table\": [{\"cells\": {\"fill\": {\"color\": \"#EBF0F8\"}, \"line\": {\"color\": \"white\"}}, \"header\": {\"fill\": {\"color\": \"#C8D4E3\"}, \"line\": {\"color\": \"white\"}}, \"type\": \"table\"}]}, \"layout\": {\"annotationdefaults\": {\"arrowcolor\": \"#2a3f5f\", \"arrowhead\": 0, \"arrowwidth\": 1}, \"coloraxis\": {\"colorbar\": {\"outlinewidth\": 0, \"ticks\": \"\"}}, \"colorscale\": {\"diverging\": [[0, \"#8e0152\"], [0.1, \"#c51b7d\"], [0.2, \"#de77ae\"], [0.3, \"#f1b6da\"], [0.4, \"#fde0ef\"], [0.5, \"#f7f7f7\"], [0.6, \"#e6f5d0\"], [0.7, \"#b8e186\"], [0.8, \"#7fbc41\"], [0.9, \"#4d9221\"], [1, \"#276419\"]], \"sequential\": [[0.0, \"#0d0887\"], [0.1111111111111111, \"#46039f\"], [0.2222222222222222, \"#7201a8\"], [0.3333333333333333, \"#9c179e\"], [0.4444444444444444, \"#bd3786\"], [0.5555555555555556, \"#d8576b\"], [0.6666666666666666, \"#ed7953\"], [0.7777777777777778, \"#fb9f3a\"], [0.8888888888888888, \"#fdca26\"], [1.0, \"#f0f921\"]], \"sequentialminus\": [[0.0, \"#0d0887\"], [0.1111111111111111, \"#46039f\"], [0.2222222222222222, \"#7201a8\"], [0.3333333333333333, \"#9c179e\"], [0.4444444444444444, \"#bd3786\"], [0.5555555555555556, \"#d8576b\"], [0.6666666666666666, \"#ed7953\"], [0.7777777777777778, \"#fb9f3a\"], [0.8888888888888888, \"#fdca26\"], [1.0, \"#f0f921\"]]}, \"colorway\": [\"#636efa\", \"#EF553B\", \"#00cc96\", \"#ab63fa\", \"#FFA15A\", \"#19d3f3\", \"#FF6692\", \"#B6E880\", \"#FF97FF\", \"#FECB52\"], \"font\": {\"color\": \"#2a3f5f\"}, \"geo\": {\"bgcolor\": \"white\", \"lakecolor\": \"white\", \"landcolor\": \"#E5ECF6\", \"showlakes\": true, \"showland\": true, \"subunitcolor\": \"white\"}, \"hoverlabel\": {\"align\": \"left\"}, \"hovermode\": \"closest\", \"mapbox\": {\"style\": \"light\"}, \"paper_bgcolor\": \"white\", \"plot_bgcolor\": \"#E5ECF6\", \"polar\": {\"angularaxis\": {\"gridcolor\": \"white\", \"linecolor\": \"white\", \"ticks\": \"\"}, \"bgcolor\": \"#E5ECF6\", \"radialaxis\": {\"gridcolor\": \"white\", \"linecolor\": \"white\", \"ticks\": \"\"}}, \"scene\": {\"xaxis\": {\"backgroundcolor\": \"#E5ECF6\", \"gridcolor\": \"white\", \"gridwidth\": 2, \"linecolor\": \"white\", \"showbackground\": true, \"ticks\": \"\", \"zerolinecolor\": \"white\"}, \"yaxis\": {\"backgroundcolor\": \"#E5ECF6\", \"gridcolor\": \"white\", \"gridwidth\": 2, \"linecolor\": \"white\", \"showbackground\": true, \"ticks\": \"\", \"zerolinecolor\": \"white\"}, \"zaxis\": {\"backgroundcolor\": \"#E5ECF6\", \"gridcolor\": \"white\", \"gridwidth\": 2, \"linecolor\": \"white\", \"showbackground\": true, \"ticks\": \"\", \"zerolinecolor\": \"white\"}}, \"shapedefaults\": {\"line\": {\"color\": \"#2a3f5f\"}}, \"ternary\": {\"aaxis\": {\"gridcolor\": \"white\", \"linecolor\": \"white\", \"ticks\": \"\"}, \"baxis\": {\"gridcolor\": \"white\", \"linecolor\": \"white\", \"ticks\": \"\"}, \"bgcolor\": \"#E5ECF6\", \"caxis\": {\"gridcolor\": \"white\", \"linecolor\": \"white\", \"ticks\": \"\"}}, \"title\": {\"x\": 0.05}, \"xaxis\": {\"automargin\": true, \"gridcolor\": \"white\", \"linecolor\": \"white\", \"ticks\": \"\", \"title\": {\"standoff\": 15}, \"zerolinecolor\": \"white\", \"zerolinewidth\": 2}, \"yaxis\": {\"automargin\": true, \"gridcolor\": \"white\", \"linecolor\": \"white\", \"ticks\": \"\", \"title\": {\"standoff\": 15}, \"zerolinecolor\": \"white\", \"zerolinewidth\": 2}}}, \"title\": {\"text\": \"Ejection Fraction Distribution with Death Event\"}, \"width\": 400, \"xaxis\": {\"anchor\": \"y\", \"domain\": [0.0, 1.0], \"title\": {\"text\": \"ejection_fraction\"}}, \"yaxis\": {\"anchor\": \"x\", \"domain\": [0.0, 1.0], \"title\": {\"text\": \"count\"}}},\n",
              "                        {\"responsive\": true}\n",
              "                    ).then(function(){\n",
              "                            \n",
              "var gd = document.getElementById('8cb7ff5b-12a7-4508-9bdb-a6482a3e2fdb');\n",
              "var x = new MutationObserver(function (mutations, observer) {{\n",
              "        var display = window.getComputedStyle(gd).display;\n",
              "        if (!display || display === 'none') {{\n",
              "            console.log([gd, 'removed!']);\n",
              "            Plotly.purge(gd);\n",
              "            observer.disconnect();\n",
              "        }}\n",
              "}});\n",
              "\n",
              "// Listen for the removal of the full notebook cells\n",
              "var notebookContainer = gd.closest('#notebook-container');\n",
              "if (notebookContainer) {{\n",
              "    x.observe(notebookContainer, {childList: true});\n",
              "}}\n",
              "\n",
              "// Listen for the clearing of the current output cell\n",
              "var outputEl = gd.closest('.output');\n",
              "if (outputEl) {{\n",
              "    x.observe(outputEl, {childList: true});\n",
              "}}\n",
              "\n",
              "                        })\n",
              "                };\n",
              "                \n",
              "            </script>\n",
              "        </div>\n",
              "</body>\n",
              "</html>"
            ]
          },
          "metadata": {
            "tags": []
          }
        }
      ]
    },
    {
      "cell_type": "markdown",
      "metadata": {
        "id": "XLW1A6j-16cJ"
      },
      "source": [
        "Same as above, for not overfitting, ignore this single outlier. Plus, it's not very differently high from others. "
      ]
    },
    {
      "cell_type": "markdown",
      "metadata": {
        "id": "7lMr0dfA2PdZ"
      },
      "source": [
        "5.  Distribution diagram for \\``serum_creatinine`\\` "
      ]
    },
    {
      "cell_type": "code",
      "metadata": {
        "colab": {
          "base_uri": "https://localhost:8080/",
          "height": 367
        },
        "id": "HczUmBPx0_nb",
        "outputId": "c06bfa7d-56a1-4127-ba1f-4f26f740c62f"
      },
      "source": [
        "distributions('serum_creatinine', 'DEATH_EVENT', 'Serum Creatinine Distribution with Death Event')"
      ],
      "execution_count": null,
      "outputs": [
        {
          "output_type": "display_data",
          "data": {
            "text/html": [
              "<html>\n",
              "<head><meta charset=\"utf-8\" /></head>\n",
              "<body>\n",
              "    <div>\n",
              "            <script src=\"https://cdnjs.cloudflare.com/ajax/libs/mathjax/2.7.5/MathJax.js?config=TeX-AMS-MML_SVG\"></script><script type=\"text/javascript\">if (window.MathJax) {MathJax.Hub.Config({SVG: {font: \"STIX-Web\"}});}</script>\n",
              "                <script type=\"text/javascript\">window.PlotlyConfig = {MathJaxConfig: 'local'};</script>\n",
              "        <script src=\"https://cdn.plot.ly/plotly-latest.min.js\"></script>    \n",
              "            <div id=\"e9f00b21-357b-47a2-bc19-a466c1e5a7ea\" class=\"plotly-graph-div\" style=\"height:350px; width:400px;\"></div>\n",
              "            <script type=\"text/javascript\">\n",
              "                \n",
              "                    window.PLOTLYENV=window.PLOTLYENV || {};\n",
              "                    \n",
              "                if (document.getElementById(\"e9f00b21-357b-47a2-bc19-a466c1e5a7ea\")) {\n",
              "                    Plotly.newPlot(\n",
              "                        'e9f00b21-357b-47a2-bc19-a466c1e5a7ea',\n",
              "                        [{\"alignmentgroup\": \"True\", \"bingroup\": \"x\", \"hoverlabel\": {\"namelength\": 0}, \"hovertemplate\": \"DEATH_EVENT=1<br>serum_creatinine=%{x}<br>count=%{y}\", \"legendgroup\": \"DEATH_EVENT=1\", \"marker\": {\"color\": \"#636efa\"}, \"name\": \"DEATH_EVENT=1\", \"offsetgroup\": \"DEATH_EVENT=1\", \"orientation\": \"v\", \"showlegend\": true, \"type\": \"histogram\", \"x\": [1.9, 1.3, 1.9, 2.7, 2.1, 1.2, 1.1, 1.5, 9.4, 4.0, 0.9, 1.1, 1.1, 1.3, 0.9, 0.8, 1.0, 1.9, 1.6, 0.9, 1.83, 1.9, 1.0, 1.3, 5.8, 1.2, 1.83, 3.0, 1.0, 1.0, 3.5, 1.0, 1.0, 3.0, 1.83, 1.2, 1.2, 1.1, 1.9, 0.9, 0.6, 4.4, 1.0, 1.0, 1.4, 6.8, 1.0, 2.2, 2.0, 1.1, 1.3, 2.3, 1.0, 2.9, 1.3, 1.0, 1.2, 1.83, 1.0, 1.2, 0.7, 2.5, 1.0, 1.7, 1.7, 1.2, 1.3, 1.83, 3.7, 2.1, 1.1, 1.7, 1.83, 2.5, 0.9, 1.1, 1.3, 2.4, 1.0, 1.2, 2.5, 1.2, 1.5, 0.6, 2.1, 1.6, 1.8, 1.6, 9.0, 1.83, 1.7, 1.1, 1.4, 1.83], \"xaxis\": \"x\", \"yaxis\": \"y\"}, {\"alignmentgroup\": \"True\", \"bingroup\": \"x\", \"hoverlabel\": {\"namelength\": 0}, \"hovertemplate\": \"DEATH_EVENT=0<br>serum_creatinine=%{x}<br>count=%{y}\", \"legendgroup\": \"DEATH_EVENT=0\", \"marker\": {\"color\": \"#EF553B\"}, \"name\": \"DEATH_EVENT=0\", \"offsetgroup\": \"DEATH_EVENT=0\", \"orientation\": \"v\", \"showlegend\": true, \"type\": \"histogram\", \"x\": [1.0, 1.3, 0.8, 1.2, 2.3, 1.0, 2.7, 0.6, 1.1, 1.18, 0.8, 0.9, 1.3, 0.8, 1.2, 0.6, 0.9, 1.7, 1.18, 1.8, 0.7, 1.1, 0.8, 0.7, 1.1, 0.8, 1.0, 1.18, 0.7, 1.0, 1.3, 1.1, 1.2, 1.1, 1.1, 1.18, 1.1, 1.0, 2.3, 1.3, 0.9, 1.1, 1.3, 1.2, 1.6, 1.2, 1.0, 0.7, 3.2, 0.9, 1.5, 1.0, 0.75, 0.9, 1.3, 0.8, 0.7, 3.4, 0.7, 6.1, 1.18, 1.3, 1.18, 1.18, 0.9, 2.1, 1.0, 0.8, 0.9, 0.9, 0.9, 0.7, 0.7, 1.0, 0.9, 0.9, 0.9, 1.18, 0.8, 1.7, 1.4, 1.0, 1.3, 1.1, 1.2, 0.8, 0.9, 0.7, 1.0, 0.8, 1.5, 0.9, 1.1, 0.8, 0.9, 1.0, 1.0, 1.0, 1.2, 0.7, 0.9, 1.0, 0.9, 2.1, 1.5, 0.7, 1.18, 1.18, 0.8, 1.0, 1.8, 0.7, 1.0, 0.9, 3.5, 0.7, 1.0, 0.8, 0.9, 1.0, 0.8, 1.0, 0.8, 1.4, 0.8, 1.3, 0.9, 1.1, 0.7, 1.1, 1.1, 0.8, 1.0, 1.4, 1.3, 1.0, 5.0, 1.2, 1.1, 0.9, 1.4, 1.1, 1.1, 1.1, 1.2, 1.0, 1.18, 1.3, 1.3, 1.1, 0.9, 1.8, 1.4, 2.4, 1.0, 1.2, 0.5, 0.8, 1.0, 1.2, 1.0, 1.0, 1.7, 1.0, 0.8, 0.7, 1.0, 0.7, 1.0, 1.2, 0.9, 1.7, 0.9, 1.0, 1.6, 0.9, 1.2, 0.7, 1.0, 0.8, 1.1, 1.1, 0.7, 1.3, 1.0, 2.7, 3.8, 1.1, 0.8, 1.2, 1.7, 1.0, 1.1, 0.9, 0.8, 1.4, 1.0, 0.9, 1.1, 1.2, 0.8, 1.4, 1.6], \"xaxis\": \"x\", \"yaxis\": \"y\"}],\n",
              "                        {\"barmode\": \"relative\", \"height\": 350, \"legend\": {\"tracegroupgap\": 0}, \"template\": {\"data\": {\"bar\": [{\"error_x\": {\"color\": \"#2a3f5f\"}, \"error_y\": {\"color\": \"#2a3f5f\"}, \"marker\": {\"line\": {\"color\": \"#E5ECF6\", \"width\": 0.5}}, \"type\": \"bar\"}], \"barpolar\": [{\"marker\": {\"line\": {\"color\": \"#E5ECF6\", \"width\": 0.5}}, \"type\": \"barpolar\"}], \"carpet\": [{\"aaxis\": {\"endlinecolor\": \"#2a3f5f\", \"gridcolor\": \"white\", \"linecolor\": \"white\", \"minorgridcolor\": \"white\", \"startlinecolor\": \"#2a3f5f\"}, \"baxis\": {\"endlinecolor\": \"#2a3f5f\", \"gridcolor\": \"white\", \"linecolor\": \"white\", \"minorgridcolor\": \"white\", \"startlinecolor\": \"#2a3f5f\"}, \"type\": \"carpet\"}], \"choropleth\": [{\"colorbar\": {\"outlinewidth\": 0, \"ticks\": \"\"}, \"type\": \"choropleth\"}], \"contour\": [{\"colorbar\": {\"outlinewidth\": 0, \"ticks\": \"\"}, \"colorscale\": [[0.0, \"#0d0887\"], [0.1111111111111111, \"#46039f\"], [0.2222222222222222, \"#7201a8\"], [0.3333333333333333, \"#9c179e\"], [0.4444444444444444, \"#bd3786\"], [0.5555555555555556, \"#d8576b\"], [0.6666666666666666, \"#ed7953\"], [0.7777777777777778, \"#fb9f3a\"], [0.8888888888888888, \"#fdca26\"], [1.0, \"#f0f921\"]], \"type\": \"contour\"}], \"contourcarpet\": [{\"colorbar\": {\"outlinewidth\": 0, \"ticks\": \"\"}, \"type\": \"contourcarpet\"}], \"heatmap\": [{\"colorbar\": {\"outlinewidth\": 0, \"ticks\": \"\"}, \"colorscale\": [[0.0, \"#0d0887\"], [0.1111111111111111, \"#46039f\"], [0.2222222222222222, \"#7201a8\"], [0.3333333333333333, \"#9c179e\"], [0.4444444444444444, \"#bd3786\"], [0.5555555555555556, \"#d8576b\"], [0.6666666666666666, \"#ed7953\"], [0.7777777777777778, \"#fb9f3a\"], [0.8888888888888888, \"#fdca26\"], [1.0, \"#f0f921\"]], \"type\": \"heatmap\"}], \"heatmapgl\": [{\"colorbar\": {\"outlinewidth\": 0, \"ticks\": \"\"}, \"colorscale\": [[0.0, \"#0d0887\"], [0.1111111111111111, \"#46039f\"], [0.2222222222222222, \"#7201a8\"], [0.3333333333333333, \"#9c179e\"], [0.4444444444444444, \"#bd3786\"], [0.5555555555555556, \"#d8576b\"], [0.6666666666666666, \"#ed7953\"], [0.7777777777777778, \"#fb9f3a\"], [0.8888888888888888, \"#fdca26\"], [1.0, \"#f0f921\"]], \"type\": \"heatmapgl\"}], \"histogram\": [{\"marker\": {\"colorbar\": {\"outlinewidth\": 0, \"ticks\": \"\"}}, \"type\": \"histogram\"}], \"histogram2d\": [{\"colorbar\": {\"outlinewidth\": 0, \"ticks\": \"\"}, \"colorscale\": [[0.0, \"#0d0887\"], [0.1111111111111111, \"#46039f\"], [0.2222222222222222, \"#7201a8\"], [0.3333333333333333, \"#9c179e\"], [0.4444444444444444, \"#bd3786\"], [0.5555555555555556, \"#d8576b\"], [0.6666666666666666, \"#ed7953\"], [0.7777777777777778, \"#fb9f3a\"], [0.8888888888888888, \"#fdca26\"], [1.0, \"#f0f921\"]], \"type\": \"histogram2d\"}], \"histogram2dcontour\": [{\"colorbar\": {\"outlinewidth\": 0, \"ticks\": \"\"}, \"colorscale\": [[0.0, \"#0d0887\"], [0.1111111111111111, \"#46039f\"], [0.2222222222222222, \"#7201a8\"], [0.3333333333333333, \"#9c179e\"], [0.4444444444444444, \"#bd3786\"], [0.5555555555555556, \"#d8576b\"], [0.6666666666666666, \"#ed7953\"], [0.7777777777777778, \"#fb9f3a\"], [0.8888888888888888, \"#fdca26\"], [1.0, \"#f0f921\"]], \"type\": \"histogram2dcontour\"}], \"mesh3d\": [{\"colorbar\": {\"outlinewidth\": 0, \"ticks\": \"\"}, \"type\": \"mesh3d\"}], \"parcoords\": [{\"line\": {\"colorbar\": {\"outlinewidth\": 0, \"ticks\": \"\"}}, \"type\": \"parcoords\"}], \"pie\": [{\"automargin\": true, \"type\": \"pie\"}], \"scatter\": [{\"marker\": {\"colorbar\": {\"outlinewidth\": 0, \"ticks\": \"\"}}, \"type\": \"scatter\"}], \"scatter3d\": [{\"line\": {\"colorbar\": {\"outlinewidth\": 0, \"ticks\": \"\"}}, \"marker\": {\"colorbar\": {\"outlinewidth\": 0, \"ticks\": \"\"}}, \"type\": \"scatter3d\"}], \"scattercarpet\": [{\"marker\": {\"colorbar\": {\"outlinewidth\": 0, \"ticks\": \"\"}}, \"type\": \"scattercarpet\"}], \"scattergeo\": [{\"marker\": {\"colorbar\": {\"outlinewidth\": 0, \"ticks\": \"\"}}, \"type\": \"scattergeo\"}], \"scattergl\": [{\"marker\": {\"colorbar\": {\"outlinewidth\": 0, \"ticks\": \"\"}}, \"type\": \"scattergl\"}], \"scattermapbox\": [{\"marker\": {\"colorbar\": {\"outlinewidth\": 0, \"ticks\": \"\"}}, \"type\": \"scattermapbox\"}], \"scatterpolar\": [{\"marker\": {\"colorbar\": {\"outlinewidth\": 0, \"ticks\": \"\"}}, \"type\": \"scatterpolar\"}], \"scatterpolargl\": [{\"marker\": {\"colorbar\": {\"outlinewidth\": 0, \"ticks\": \"\"}}, \"type\": \"scatterpolargl\"}], \"scatterternary\": [{\"marker\": {\"colorbar\": {\"outlinewidth\": 0, \"ticks\": \"\"}}, \"type\": \"scatterternary\"}], \"surface\": [{\"colorbar\": {\"outlinewidth\": 0, \"ticks\": \"\"}, \"colorscale\": [[0.0, \"#0d0887\"], [0.1111111111111111, \"#46039f\"], [0.2222222222222222, \"#7201a8\"], [0.3333333333333333, \"#9c179e\"], [0.4444444444444444, \"#bd3786\"], [0.5555555555555556, \"#d8576b\"], [0.6666666666666666, \"#ed7953\"], [0.7777777777777778, \"#fb9f3a\"], [0.8888888888888888, \"#fdca26\"], [1.0, \"#f0f921\"]], \"type\": \"surface\"}], \"table\": [{\"cells\": {\"fill\": {\"color\": \"#EBF0F8\"}, \"line\": {\"color\": \"white\"}}, \"header\": {\"fill\": {\"color\": \"#C8D4E3\"}, \"line\": {\"color\": \"white\"}}, \"type\": \"table\"}]}, \"layout\": {\"annotationdefaults\": {\"arrowcolor\": \"#2a3f5f\", \"arrowhead\": 0, \"arrowwidth\": 1}, \"coloraxis\": {\"colorbar\": {\"outlinewidth\": 0, \"ticks\": \"\"}}, \"colorscale\": {\"diverging\": [[0, \"#8e0152\"], [0.1, \"#c51b7d\"], [0.2, \"#de77ae\"], [0.3, \"#f1b6da\"], [0.4, \"#fde0ef\"], [0.5, \"#f7f7f7\"], [0.6, \"#e6f5d0\"], [0.7, \"#b8e186\"], [0.8, \"#7fbc41\"], [0.9, \"#4d9221\"], [1, \"#276419\"]], \"sequential\": [[0.0, \"#0d0887\"], [0.1111111111111111, \"#46039f\"], [0.2222222222222222, \"#7201a8\"], [0.3333333333333333, \"#9c179e\"], [0.4444444444444444, \"#bd3786\"], [0.5555555555555556, \"#d8576b\"], [0.6666666666666666, \"#ed7953\"], [0.7777777777777778, \"#fb9f3a\"], [0.8888888888888888, \"#fdca26\"], [1.0, \"#f0f921\"]], \"sequentialminus\": [[0.0, \"#0d0887\"], [0.1111111111111111, \"#46039f\"], [0.2222222222222222, \"#7201a8\"], [0.3333333333333333, \"#9c179e\"], [0.4444444444444444, \"#bd3786\"], [0.5555555555555556, \"#d8576b\"], [0.6666666666666666, \"#ed7953\"], [0.7777777777777778, \"#fb9f3a\"], [0.8888888888888888, \"#fdca26\"], [1.0, \"#f0f921\"]]}, \"colorway\": [\"#636efa\", \"#EF553B\", \"#00cc96\", \"#ab63fa\", \"#FFA15A\", \"#19d3f3\", \"#FF6692\", \"#B6E880\", \"#FF97FF\", \"#FECB52\"], \"font\": {\"color\": \"#2a3f5f\"}, \"geo\": {\"bgcolor\": \"white\", \"lakecolor\": \"white\", \"landcolor\": \"#E5ECF6\", \"showlakes\": true, \"showland\": true, \"subunitcolor\": \"white\"}, \"hoverlabel\": {\"align\": \"left\"}, \"hovermode\": \"closest\", \"mapbox\": {\"style\": \"light\"}, \"paper_bgcolor\": \"white\", \"plot_bgcolor\": \"#E5ECF6\", \"polar\": {\"angularaxis\": {\"gridcolor\": \"white\", \"linecolor\": \"white\", \"ticks\": \"\"}, \"bgcolor\": \"#E5ECF6\", \"radialaxis\": {\"gridcolor\": \"white\", \"linecolor\": \"white\", \"ticks\": \"\"}}, \"scene\": {\"xaxis\": {\"backgroundcolor\": \"#E5ECF6\", \"gridcolor\": \"white\", \"gridwidth\": 2, \"linecolor\": \"white\", \"showbackground\": true, \"ticks\": \"\", \"zerolinecolor\": \"white\"}, \"yaxis\": {\"backgroundcolor\": \"#E5ECF6\", \"gridcolor\": \"white\", \"gridwidth\": 2, \"linecolor\": \"white\", \"showbackground\": true, \"ticks\": \"\", \"zerolinecolor\": \"white\"}, \"zaxis\": {\"backgroundcolor\": \"#E5ECF6\", \"gridcolor\": \"white\", \"gridwidth\": 2, \"linecolor\": \"white\", \"showbackground\": true, \"ticks\": \"\", \"zerolinecolor\": \"white\"}}, \"shapedefaults\": {\"line\": {\"color\": \"#2a3f5f\"}}, \"ternary\": {\"aaxis\": {\"gridcolor\": \"white\", \"linecolor\": \"white\", \"ticks\": \"\"}, \"baxis\": {\"gridcolor\": \"white\", \"linecolor\": \"white\", \"ticks\": \"\"}, \"bgcolor\": \"#E5ECF6\", \"caxis\": {\"gridcolor\": \"white\", \"linecolor\": \"white\", \"ticks\": \"\"}}, \"title\": {\"x\": 0.05}, \"xaxis\": {\"automargin\": true, \"gridcolor\": \"white\", \"linecolor\": \"white\", \"ticks\": \"\", \"title\": {\"standoff\": 15}, \"zerolinecolor\": \"white\", \"zerolinewidth\": 2}, \"yaxis\": {\"automargin\": true, \"gridcolor\": \"white\", \"linecolor\": \"white\", \"ticks\": \"\", \"title\": {\"standoff\": 15}, \"zerolinecolor\": \"white\", \"zerolinewidth\": 2}}}, \"title\": {\"text\": \"Serum Creatinine Distribution with Death Event\"}, \"width\": 400, \"xaxis\": {\"anchor\": \"y\", \"domain\": [0.0, 1.0], \"title\": {\"text\": \"serum_creatinine\"}}, \"yaxis\": {\"anchor\": \"x\", \"domain\": [0.0, 1.0], \"title\": {\"text\": \"count\"}}},\n",
              "                        {\"responsive\": true}\n",
              "                    ).then(function(){\n",
              "                            \n",
              "var gd = document.getElementById('e9f00b21-357b-47a2-bc19-a466c1e5a7ea');\n",
              "var x = new MutationObserver(function (mutations, observer) {{\n",
              "        var display = window.getComputedStyle(gd).display;\n",
              "        if (!display || display === 'none') {{\n",
              "            console.log([gd, 'removed!']);\n",
              "            Plotly.purge(gd);\n",
              "            observer.disconnect();\n",
              "        }}\n",
              "}});\n",
              "\n",
              "// Listen for the removal of the full notebook cells\n",
              "var notebookContainer = gd.closest('#notebook-container');\n",
              "if (notebookContainer) {{\n",
              "    x.observe(notebookContainer, {childList: true});\n",
              "}}\n",
              "\n",
              "// Listen for the clearing of the current output cell\n",
              "var outputEl = gd.closest('.output');\n",
              "if (outputEl) {{\n",
              "    x.observe(outputEl, {childList: true});\n",
              "}}\n",
              "\n",
              "                        })\n",
              "                };\n",
              "                \n",
              "            </script>\n",
              "        </div>\n",
              "</body>\n",
              "</html>"
            ]
          },
          "metadata": {
            "tags": []
          }
        }
      ]
    },
    {
      "cell_type": "markdown",
      "metadata": {
        "id": "UOtPYa_T2h73"
      },
      "source": [
        "Check with a boxplot too. "
      ]
    },
    {
      "cell_type": "code",
      "metadata": {
        "colab": {
          "base_uri": "https://localhost:8080/",
          "height": 456
        },
        "id": "jer9VmwF2db7",
        "outputId": "22d86679-6d9d-4baf-bb7a-547a56347cda"
      },
      "source": [
        "fig, ax = plt.subplots(figsize=(3, 5))\n",
        "ax.boxplot(dataset['serum_creatinine'])"
      ],
      "execution_count": null,
      "outputs": [
        {
          "output_type": "execute_result",
          "data": {
            "text/plain": [
              "{'boxes': [<matplotlib.lines.Line2D at 0x7f43a918ef28>],\n",
              " 'caps': [<matplotlib.lines.Line2D at 0x7f43a911c978>,\n",
              "  <matplotlib.lines.Line2D at 0x7f43a911ccf8>],\n",
              " 'fliers': [<matplotlib.lines.Line2D at 0x7f43a9127438>],\n",
              " 'means': [],\n",
              " 'medians': [<matplotlib.lines.Line2D at 0x7f43a91270b8>],\n",
              " 'whiskers': [<matplotlib.lines.Line2D at 0x7f43a911c278>,\n",
              "  <matplotlib.lines.Line2D at 0x7f43a911c5f8>]}"
            ]
          },
          "metadata": {
            "tags": []
          },
          "execution_count": 20
        },
        {
          "output_type": "display_data",
          "data": {
            "image/png": "[encoded data removed]",
            "text/plain": [
              "<Figure size 216x360 with 1 Axes>"
            ]
          },
          "metadata": {
            "tags": [],
            "needs_background": "light"
          }
        }
      ]
    },
    {
      "cell_type": "markdown",
      "metadata": {
        "id": "pSfUla9G2c1R"
      },
      "source": [
        "Drop the out lier. "
      ]
    },
    {
      "cell_type": "code",
      "metadata": {
        "id": "IwcDwJB_2nLE"
      },
      "source": [
        "dataset['outlier'] = np.where(dataset['serum_creatinine'] < 8, 0, 1)"
      ],
      "execution_count": null,
      "outputs": []
    },
    {
      "cell_type": "code",
      "metadata": {
        "colab": {
          "base_uri": "https://localhost:8080/"
        },
        "id": "RHKhEED_3CGn",
        "outputId": "211ea601-ff52-4649-c2b2-09f54fc8ec3b"
      },
      "source": [
        "dataset = dataset.loc[dataset['outlier']==0]\n",
        "dataset.info()"
      ],
      "execution_count": null,
      "outputs": [
        {
          "output_type": "stream",
          "text": [
            "<class 'pandas.core.frame.DataFrame'>\n",
            "Int64Index: 295 entries, 0 to 298\n",
            "Data columns (total 14 columns):\n",
            " #   Column                    Non-Null Count  Dtype  \n",
            "---  ------                    --------------  -----  \n",
            " 0   age                       295 non-null    float64\n",
            " 1   anaemia                   295 non-null    int64  \n",
            " 2   creatinine_phosphokinase  295 non-null    int64  \n",
            " 3   diabetes                  295 non-null    int64  \n",
            " 4   ejection_fraction         295 non-null    int64  \n",
            " 5   high_blood_pressure       295 non-null    int64  \n",
            " 6   platelets                 295 non-null    float64\n",
            " 7   serum_creatinine          295 non-null    float64\n",
            " 8   serum_sodium              295 non-null    int64  \n",
            " 9   sex                       295 non-null    int64  \n",
            " 10  smoking                   295 non-null    int64  \n",
            " 11  time                      295 non-null    int64  \n",
            " 12  DEATH_EVENT               295 non-null    int64  \n",
            " 13  outlier                   295 non-null    int64  \n",
            "dtypes: float64(3), int64(11)\n",
            "memory usage: 34.6 KB\n"
          ],
          "name": "stdout"
        }
      ]
    },
    {
      "cell_type": "code",
      "metadata": {
        "id": "tTkbz3dF3Voa"
      },
      "source": [
        "#Delete the assistance column\n",
        "dataset = dataset.iloc[:, :-1]"
      ],
      "execution_count": null,
      "outputs": []
    },
    {
      "cell_type": "markdown",
      "metadata": {
        "id": "aTNB1wiQfG8z"
      },
      "source": [
        "6. Heatmap for correlations."
      ]
    },
    {
      "cell_type": "code",
      "metadata": {
        "id": "SFtfXP85fHXz",
        "colab": {
          "base_uri": "https://localhost:8080/",
          "height": 416
        },
        "outputId": "3130d920-22a1-4b45-fe0e-0d8d05e0e484"
      },
      "source": [
        "plt.figure(figsize=(5,5))\n",
        "\n",
        "mask = np.zeros_like(dataset.corr())\n",
        "mask[np.triu_indices_from(mask)] = True\n",
        "with sns.axes_style(\"white\"):\n",
        "    ax = sns.heatmap(dataset.corr().round(2), mask=mask,\n",
        "                     annot=True, cmap='rainbow', square=True)"
      ],
      "execution_count": null,
      "outputs": [
        {
          "output_type": "display_data",
          "data": {
            "image/png": "[encoded data removed]",
            "text/plain": [
              "<Figure size 360x360 with 2 Axes>"
            ]
          },
          "metadata": {
            "tags": [],
            "needs_background": "light"
          }
        }
      ]
    },
    {
      "cell_type": "markdown",
      "metadata": {
        "id": "qCxOLq7wfOp-"
      },
      "source": [
        "As shown, the most related features with \\``DEATH_EVENT`\\` are \\``age`\\`, \\``serum_creatinine`\\`, \\``time`\\`. Then the  \\``ejection_fraction`\\` and  \\``serum_sodium`\\`. \n",
        "\n",
        "As I believed, \\``time`\\` is highly related due to the factual logic, could not be considered here. "
      ]
    },
    {
      "cell_type": "markdown",
      "metadata": {
        "id": "BnDvLOp34czl"
      },
      "source": [
        "#### **Data Training & Prediction**\n",
        "\n",
        "First, split the train and test data."
      ]
    },
    {
      "cell_type": "code",
      "metadata": {
        "colab": {
          "base_uri": "https://localhost:8080/"
        },
        "id": "oraA1uB44dRA",
        "outputId": "7ca98855-0bda-464c-e827-608a518365c1"
      },
      "source": [
        "target = dataset.iloc[:,-1:]\n",
        "data = dataset.iloc[:, :-1]\n",
        "\n",
        "X_train, X_test, Y_train, Y_test = train_test_split(data, target, random_state=1)\n",
        "\n",
        "print(\"X train shape: \", X_train.shape)\n",
        "print(\"X test shape: \", X_test.shape)\n",
        "print(\"Y train shape: \", Y_train.shape)\n",
        "print(\"Y test shape: \", Y_test.shape)"
      ],
      "execution_count": null,
      "outputs": [
        {
          "output_type": "stream",
          "text": [
            "X train shape:  (221, 12)\n",
            "X test shape:  (74, 12)\n",
            "Y train shape:  (221, 1)\n",
            "Y test shape:  (74, 1)\n"
          ],
          "name": "stdout"
        }
      ]
    },
    {
      "cell_type": "markdown",
      "metadata": {
        "id": "9q1WhwRr4d5k"
      },
      "source": [
        "In this part, two alogorithms would be appplied to train the models: one is Random Forests, and another is CNN. "
      ]
    },
    {
      "cell_type": "markdown",
      "metadata": {
        "id": "Zn5PJM5BC258"
      },
      "source": [
        "1. Random Forest\n",
        "\n",
        "Try different estimators and choose the best one. "
      ]
    },
    {
      "cell_type": "code",
      "metadata": {
        "id": "g9itS4YiBazT"
      },
      "source": [
        "scores_rf = []\n",
        "models_rf = []\n",
        "# Try different estimators\n",
        "for i in range(50):\n",
        "  rfm = RandomForestClassifier(max_depth=5, n_estimators=i+1)\n",
        "  rfm.fit(X_train, Y_train)\n",
        "\n",
        "  score = rfm.score(X_test, Y_test)\n",
        "  scores_rf.append(score)\n",
        "  models_rf.append(rfm)"
      ],
      "execution_count": null,
      "outputs": []
    },
    {
      "cell_type": "markdown",
      "metadata": {
        "id": "ZtDriIVZC90C"
      },
      "source": [
        "Show all the scores(accuracy) for all the situations. "
      ]
    },
    {
      "cell_type": "code",
      "metadata": {
        "colab": {
          "base_uri": "https://localhost:8080/",
          "height": 313
        },
        "id": "Ux3KU9YVBqZj",
        "outputId": "ee3058e2-df82-498f-fd90-4869236659e0"
      },
      "source": [
        "plt.scatter(range(1,51), scores_rf)\n",
        "plt.title('Hyperparameters Tuning for Random Forests', weight='bold')\n",
        "plt.xlabel('n_estimators')\n",
        "plt.ylabel('Score')"
      ],
      "execution_count": null,
      "outputs": [
        {
          "output_type": "execute_result",
          "data": {
            "text/plain": [
              "Text(0, 0.5, 'Score')"
            ]
          },
          "metadata": {
            "tags": []
          },
          "execution_count": 27
        },
        {
          "output_type": "display_data",
          "data": {
            "image/png": "[encoded data removed]",
            "text/plain": [
              "<Figure size 432x288 with 1 Axes>"
            ]
          },
          "metadata": {
            "tags": [],
            "needs_background": "light"
          }
        }
      ]
    },
    {
      "cell_type": "markdown",
      "metadata": {
        "id": "PG3eC3omCz35"
      },
      "source": [
        "Choose the best one (max score). "
      ]
    },
    {
      "cell_type": "code",
      "metadata": {
        "colab": {
          "base_uri": "https://localhost:8080/"
        },
        "id": "qZuJ2bacBQVb",
        "outputId": "3e847587-c9fe-4f40-838f-b76e51c6469a"
      },
      "source": [
        "rf = models_rf[scores_rf.index(max(scores_rf))]\n",
        "rf.fit(X_train, Y_train)\n",
        "\n",
        "rf.score(X_test, Y_test)"
      ],
      "execution_count": null,
      "outputs": [
        {
          "output_type": "execute_result",
          "data": {
            "text/plain": [
              "0.7972972972972973"
            ]
          },
          "metadata": {
            "tags": []
          },
          "execution_count": 28
        }
      ]
    },
    {
      "cell_type": "markdown",
      "metadata": {
        "id": "PktfTqnQEKhH"
      },
      "source": [
        "Define the function for evaluations. "
      ]
    },
    {
      "cell_type": "code",
      "metadata": {
        "id": "Cp9g82LgCddg"
      },
      "source": [
        "def eval_score(model, X_test, Y_test):\n",
        "\n",
        "  predict = model.predict(X_test)\n",
        "\n",
        "  # R2 Score \n",
        "  r2 = r2_score(Y_test, predict)\n",
        "  print('r2 score: ', r2)\n",
        "  # Mean Squared Error\n",
        "  mse = mean_squared_error(Y_test, predict)\n",
        "  print('mse score: ', mse)\n",
        "\n",
        "  # Confusion Matrix\n",
        "  print('Confusion Matrix : \\n', confusion_matrix(Y_test, predict))\n",
        "\n",
        "  # ROC_AUC\n",
        "  probility = model.predict_proba(X_test)\n",
        "  # Slice out the probaility\n",
        "  ras = roc_auc_score(Y_test, probility[:, 1])\n",
        "  print('ROC AUC Score: ', ras)\n",
        "  # ROC curve\n",
        "  fpr, tpr, thresholds = roc_curve(Y_test, probility[:, 1])\n",
        "  plt.plot(fpr, tpr)\n",
        "  plt.plot([0,1], [0,1], 'grey', linestyle='--')\n",
        "  plt.title('ROC Curve')\n",
        "  plt.xlabel('False Positive Rates')\n",
        "  plt.ylabel('True Positive Rates')\n",
        "\n",
        "  # Report\n",
        "  print('Report: ')\n",
        "  print(classification_report(Y_test, predict))"
      ],
      "execution_count": null,
      "outputs": []
    },
    {
      "cell_type": "markdown",
      "metadata": {
        "id": "iFbsIv6oFpXI"
      },
      "source": [
        "Evaluatioon for the Random Forests model."
      ]
    },
    {
      "cell_type": "code",
      "metadata": {
        "colab": {
          "base_uri": "https://localhost:8080/",
          "height": 567
        },
        "id": "lZbCYvR_FYml",
        "outputId": "ace6b453-b95e-47a2-93d6-72b20747e122"
      },
      "source": [
        "eval_score(rf, X_test, Y_test)"
      ],
      "execution_count": null,
      "outputs": [
        {
          "output_type": "stream",
          "text": [
            "r2 score:  0.053708439897698246\n",
            "mse score:  0.20270270270270271\n",
            "Confusion Matrix : \n",
            " [[47  4]\n",
            " [11 12]]\n",
            "ROC AUC Score:  0.8201193520886616\n",
            "Report: \n",
            "              precision    recall  f1-score   support\n",
            "\n",
            "           0       0.81      0.92      0.86        51\n",
            "           1       0.75      0.52      0.62        23\n",
            "\n",
            "    accuracy                           0.80        74\n",
            "   macro avg       0.78      0.72      0.74        74\n",
            "weighted avg       0.79      0.80      0.79        74\n",
            "\n"
          ],
          "name": "stdout"
        },
        {
          "output_type": "display_data",
          "data": {
            "image/png": "[encoded data removed]",
            "text/plain": [
              "<Figure size 432x288 with 1 Axes>"
            ]
          },
          "metadata": {
            "tags": [],
            "needs_background": "light"
          }
        }
      ]
    },
    {
      "cell_type": "markdown",
      "metadata": {
        "id": "7ZqvhFcmFtxU"
      },
      "source": [
        "**Causality** part.   \n",
        "\n",
        "\n",
        "Install and import necessary package. "
      ]
    },
    {
      "cell_type": "markdown",
      "metadata": {
        "id": "cTe_bnN8c7N8"
      },
      "source": [
        "There're many differently functioned packages: causalml, CausalInference, CausalGraphicalModels, doWhy from Microsoft and so on. Many are still under developing.  "
      ]
    },
    {
      "cell_type": "markdown",
      "metadata": {
        "id": "JJCBfVKIrrZV"
      },
      "source": [
        "1. doWhy"
      ]
    },
    {
      "cell_type": "code",
      "metadata": {
        "colab": {
          "base_uri": "https://localhost:8080/"
        },
        "id": "HyD1hsLiroT-",
        "outputId": "bd41976b-1efb-4255-8156-00cdf69131d2"
      },
      "source": [
        "!pip install dowhy"
      ],
      "execution_count": null,
      "outputs": [
        {
          "output_type": "stream",
          "text": [
            "Requirement already satisfied: dowhy in /usr/local/lib/python3.6/dist-packages (0.5)\n",
            "Requirement already satisfied: scipy in /usr/local/lib/python3.6/dist-packages (from dowhy) (1.4.1)\n",
            "Requirement already satisfied: networkx>=2.0 in /usr/local/lib/python3.6/dist-packages (from dowhy) (2.5)\n",
            "Requirement already satisfied: sympy>=1.4 in /usr/local/lib/python3.6/dist-packages (from dowhy) (1.6.2)\n",
            "Requirement already satisfied: statsmodels in /usr/local/lib/python3.6/dist-packages (from dowhy) (0.10.2)\n",
            "Requirement already satisfied: pydot>=1.4 in /usr/local/lib/python3.6/dist-packages (from dowhy) (1.4.1)\n",
            "Requirement already satisfied: pandas>=0.24 in /usr/local/lib/python3.6/dist-packages (from dowhy) (1.1.4)\n",
            "Requirement already satisfied: numpy>=1.15 in /usr/local/lib/python3.6/dist-packages (from dowhy) (1.18.5)\n",
            "Requirement already satisfied: scikit-learn in /usr/local/lib/python3.6/dist-packages (from dowhy) (0.22.2.post1)\n",
            "Requirement already satisfied: matplotlib in /usr/local/lib/python3.6/dist-packages (from dowhy) (3.2.2)\n",
            "Requirement already satisfied: decorator>=4.3.0 in /usr/local/lib/python3.6/dist-packages (from networkx>=2.0->dowhy) (4.4.2)\n",
            "Requirement already satisfied: mpmath>=0.19 in /usr/local/lib/python3.6/dist-packages (from sympy>=1.4->dowhy) (1.1.0)\n",
            "Requirement already satisfied: patsy>=0.4.0 in /usr/local/lib/python3.6/dist-packages (from statsmodels->dowhy) (0.5.1)\n",
            "Requirement already satisfied: pyparsing>=2.1.4 in /usr/local/lib/python3.6/dist-packages (from pydot>=1.4->dowhy) (2.4.7)\n",
            "Requirement already satisfied: python-dateutil>=2.7.3 in /usr/local/lib/python3.6/dist-packages (from pandas>=0.24->dowhy) (2.8.1)\n",
            "Requirement already satisfied: pytz>=2017.2 in /usr/local/lib/python3.6/dist-packages (from pandas>=0.24->dowhy) (2018.9)\n",
            "Requirement already satisfied: joblib>=0.11 in /usr/local/lib/python3.6/dist-packages (from scikit-learn->dowhy) (0.17.0)\n",
            "Requirement already satisfied: cycler>=0.10 in /usr/local/lib/python3.6/dist-packages (from matplotlib->dowhy) (0.10.0)\n",
            "Requirement already satisfied: kiwisolver>=1.0.1 in /usr/local/lib/python3.6/dist-packages (from matplotlib->dowhy) (1.3.1)\n",
            "Requirement already satisfied: six in /usr/local/lib/python3.6/dist-packages (from patsy>=0.4.0->statsmodels->dowhy) (1.15.0)\n"
          ],
          "name": "stdout"
        }
      ]
    },
    {
      "cell_type": "code",
      "metadata": {
        "id": "mYhl7Rodrqh-"
      },
      "source": [
        "from dowhy import CausalModel"
      ],
      "execution_count": null,
      "outputs": []
    },
    {
      "cell_type": "markdown",
      "metadata": {
        "id": "QbjRUp1bbKrr"
      },
      "source": [
        "What I meant to do here is to see the relationship between death rate and the smoking habit.   \n",
        "Choose 100 observations at random to see that in how many cases do the variables; ‘DEATH_EVENT’ & ‘smoking’ attain the same values. This whole process is then repeated 1000 times. "
      ]
    },
    {
      "cell_type": "code",
      "metadata": {
        "id": "08qEWMKiY_rt"
      },
      "source": [
        "counts_sum=0\n",
        "for i in range(1,1000):\n",
        "        counts_i = 0\n",
        "        rdf = dataset.sample(100)\n",
        "        counts_i = rdf[rdf['DEATH_EVENT'] == rdf['smoking']].shape[0]\n",
        "        counts_sum+= counts_i\n",
        "counts_sum/1000"
      ],
      "execution_count": null,
      "outputs": []
    },
    {
      "cell_type": "markdown",
      "metadata": {
        "id": "oWOSPC3VbreM"
      },
      "source": [
        "The expected count turns out to be 55.972% which is almost 50%.   \n",
        "\\\n",
        "Now consider the scenario when there were no changes and recalculate the expected count."
      ]
    },
    {
      "cell_type": "code",
      "metadata": {
        "id": "aIgL7pOqc1KB"
      },
      "source": [
        "counts_sum=0\n",
        "for i in range(1,1000):\n",
        "        counts_i = 0\n",
        "        rdf = dataset[dataset['anaemia'] >= 0].sample(100)\n",
        "        counts_i = rdf[rdf['DEATH_EVENT']== rdf['smoking']].shape[0]\n",
        "        counts_sum += counts_i\n",
        "counts_sum/1000"
      ],
      "execution_count": null,
      "outputs": []
    },
    {
      "cell_type": "markdown",
      "metadata": {
        "id": "gPyFd8dlU899"
      },
      "source": [
        "The expected count turns out to be 56.175%.   \n",
        "\\\n",
        "It gives a hint that anaemia be a confounding variable."
      ]
    },
    {
      "cell_type": "markdown",
      "metadata": {
        "id": "26E32qMQfF72"
      },
      "source": [
        "**Create a Causal Graph**  \n",
        "Install the package. "
      ]
    },
    {
      "cell_type": "code",
      "metadata": {
        "id": "ft7esICSkVDZ"
      },
      "source": [
        "# import sys, setuptools, tokenize\n",
        "# !pip install pygraphviz\n",
        "!apt-get install -y graphviz-dev"
      ],
      "execution_count": null,
      "outputs": []
    },
    {
      "cell_type": "code",
      "metadata": {
        "id": "cdECId3ylA_N"
      },
      "source": [
        "!pip install pygraphviz"
      ],
      "execution_count": null,
      "outputs": []
    },
    {
      "cell_type": "code",
      "metadata": {
        "id": "x3frBM4Kgyo8"
      },
      "source": [
        "import pygraphviz\n",
        "causal_graph = \"\"\"digraph {\n",
        "DEATH_EVENT[label=\"Death_Event\"];\n",
        "smoking[label=\"Whether having smoking habit\"];\n",
        "anaemia[label=\"Whether having anaemia\"];\n",
        "diabetes[label=\"Whether having diabetes\"];\n",
        "high_blood_pressure[label=\"Whether having high_blood_pressure\"];\n",
        "time[label=\"Follow-up Time\"];\n",
        "U[label=\"Unobserved Confounders\"];\n",
        " \n",
        "\n",
        "smoking -> anaemia;\n",
        "diabetes -> time;\n",
        "anaemia -> time;\n",
        "high_blood_pressure -> time;\n",
        "time -> DEATH_EEVENT;\n",
        "}\"\"\"\n",
        "\n",
        "# sex[label=\"Sex\"];\n",
        "# creatinine_phosphokinase;\n",
        "# ejection_fraction;\n",
        "# platelets;\n",
        "# serum_creatinine;\n",
        "# serum_sodium;   \n",
        "\n"
      ],
      "execution_count": null,
      "outputs": []
    },
    {
      "cell_type": "code",
      "metadata": {
        "id": "5q5GYaNbevit"
      },
      "source": [
        "import dowhy\n",
        "model= dowhy.CausalModel(\n",
        "        data = dataset,\n",
        "        graph=causal_graph.replace(\"\\n\", \" \"),\n",
        "        treatment='smoking',\n",
        "        outcome='DEATH_EVENT')\n",
        "model.view_model()\n",
        "from IPython.display import Image, display\n",
        "display(Image(filename=\"causal_model.png\"))"
      ],
      "execution_count": null,
      "outputs": []
    },
    {
      "cell_type": "markdown",
      "metadata": {
        "id": "_Ia0kvk6fPjf"
      },
      "source": [
        "   \n",
        "### **Conclusion**  \n",
        "\n",
        "Causal Inference is a newly topic these years which is not easy to develop. The conception is not hard, but still how to define the treament for various situations is still a challenge. It still has a promising and influential in the future ML. "
      ]
    },
    {
      "cell_type": "markdown",
      "metadata": {
        "id": "uwGqAvgGfQMa"
      },
      "source": [
        "   \n",
        "### **Reference** \n",
        "\n",
        "[1] Explainable AI: Interpreting, Explaining and Visualizing Deep Learning https://link.springer.com/book/10.1007/978-3-030-28954-6   \n",
        "[2] The Three Layer Causal Hierarchy http://web.cs.ucla.edu/~kaoru/3-layer-causal-hierarchy.pdf  \n",
        "[3] Holland, Paul W. “Statistics and Causal Inference.” Journal of the American Statistical Association, vol. 81, no. 396, 1986, pp. 945–960. JSTOR, www.jstor.org/stable/2289064. Accessed 7 July 2020.  \n",
        "[4] doWhy https://microsoft.github.io/dowhy/index.html \n",
        "[5] causalml https://causalml.readthedocs.io/en/latest/about.html "
      ]
    }
  ]
}