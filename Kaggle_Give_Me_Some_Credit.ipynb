{
  "nbformat": 4,
  "nbformat_minor": 0,
  "metadata": {
    "colab": {
      "name": "Kaggle_Give Me Some Credit.ipynb",
      "provenance": [],
      "collapsed_sections": []
    },
    "kernelspec": {
      "name": "python3",
      "display_name": "Python 3"
    }
  },
  "cells": [
    {
      "cell_type": "markdown",
      "metadata": {
        "id": "2zHAc7VHOCdj"
      },
      "source": [
        "#### INFO7390 Adv Data Sci  \n",
        "## **Assignment 2 Kaggle Competition**  \n",
        "    \n",
        "Name: Fangqing Wu  \n",
        "NUID: 001305642"
      ]
    },
    {
      "cell_type": "markdown",
      "metadata": {
        "id": "Wt58KaidOMyf"
      },
      "source": [
        "---\n",
        "**License**  \n",
        "This project is licensed under [MIT License](https://raw.githubusercontent.com/fwqfwq/dataset/master/MIT%20License)\n",
        "\\\n",
        "\\\n",
        "**Links**  \n",
        "Google Colab: https://colab.research.google.com/drive/1qzXeIHJH7yAE3riIfb_qWbdVdFK2Hx3J?usp=sharing   \n",
        "\n",
        "Dataset: https://www.kaggle.com/c/GiveMeSomeCredit/data \n",
        "\n",
        "\n",
        "\n",
        "\n",
        "\n",
        "\n"
      ]
    },
    {
      "cell_type": "markdown",
      "metadata": {
        "id": "y0T4PhqsOTCX"
      },
      "source": [
        "---\n",
        "### **Abstract**  \n",
        "This project is a competition on kaggle, \"Give Me Some Credit\", and the goal is to build a model that borrowers can use to help make the best financial decisions.   \n",
        "\n",
        "This competition requires participants to improve on the state of the art in credit scoring, by predicting the probability that somebody will experience financial distress in the next two years.  \n",
        "\n",
        "Historical data are provided on 250,000 borrowers. \n",
        "\n",
        "\n"
      ]
    },
    {
      "cell_type": "markdown",
      "metadata": {
        "id": "o6JXDceOOalO"
      },
      "source": [
        "   \n",
        "### **Dataset Introduction** \n",
        "\n",
        "The main data repository consistes of:  \n",
        "\n",
        "*   cs-training.csv\n",
        "*   cs-test.csv\n",
        "*   Data Dictionary.csv\n",
        "\\\n",
        "\\\n",
        "All the features and the descriptions are stored in 'Data Dictionary.csv' with 11 features.   "
      ]
    },
    {
      "cell_type": "code",
      "metadata": {
        "id": "iNL0L6XTLHaV",
        "colab": {
          "base_uri": "https://localhost:8080/",
          "height": 71
        },
        "outputId": "b5206bd7-8b88-4e63-c8ff-ddda68d9f17d"
      },
      "source": [
        "%matplotlib inline \n",
        "import matplotlib.pyplot as plt\n",
        "import numpy as np\n",
        "import pandas as pd\n",
        "import pandas.util.testing as tm\n",
        "from scipy import stats\n",
        "import seaborn as sns\n",
        "import warnings\n",
        "import random\n",
        "from sklearn.model_selection import KFold, cross_val_score, train_test_split\n",
        "from sklearn import metrics\n",
        "import statsmodels.api as sm\n",
        "import scipy.stats as stats \n",
        "\n",
        "from datetime import datetime\n",
        "random.seed(datetime.now())\n",
        "warnings.filterwarnings('ignore')"
      ],
      "execution_count": null,
      "outputs": [
        {
          "output_type": "stream",
          "text": [
            "/usr/local/lib/python3.6/dist-packages/ipykernel_launcher.py:5: FutureWarning: pandas.util.testing is deprecated. Use the functions in the public API at pandas.testing instead.\n",
            "  \"\"\"\n"
          ],
          "name": "stderr"
        }
      ]
    },
    {
      "cell_type": "markdown",
      "metadata": {
        "id": "08DIMC_0CksC"
      },
      "source": [
        "**Features Introduction**"
      ]
    },
    {
      "cell_type": "code",
      "metadata": {
        "id": "gqmZgGcYOBgL",
        "colab": {
          "base_uri": "https://localhost:8080/",
          "height": 441
        },
        "outputId": "8df5fc44-c20f-479a-8049-3a5ebdb471aa"
      },
      "source": [
        "pd.set_option('display.max_colwidth', -1)\n",
        "pd.read_csv(\"https://raw.githubusercontent.com/fwqfwq/dataset/master/GiveMeSomeCredit/Data%20Dictionary.csv\")"
      ],
      "execution_count": null,
      "outputs": [
        {
          "output_type": "execute_result",
          "data": {
            "text/html": [
              "<div>\n",
              "<style scoped>\n",
              "    .dataframe tbody tr th:only-of-type {\n",
              "        vertical-align: middle;\n",
              "    }\n",
              "\n",
              "    .dataframe tbody tr th {\n",
              "        vertical-align: top;\n",
              "    }\n",
              "\n",
              "    .dataframe thead th {\n",
              "        text-align: right;\n",
              "    }\n",
              "</style>\n",
              "<table border=\"1\" class=\"dataframe\">\n",
              "  <thead>\n",
              "    <tr style=\"text-align: right;\">\n",
              "      <th></th>\n",
              "      <th>Variable Name</th>\n",
              "      <th>Description</th>\n",
              "      <th>Type</th>\n",
              "    </tr>\n",
              "  </thead>\n",
              "  <tbody>\n",
              "    <tr>\n",
              "      <th>0</th>\n",
              "      <td>SeriousDlqin2yrs</td>\n",
              "      <td>Person experienced 90 days past due delinquency or worse</td>\n",
              "      <td>Y/N</td>\n",
              "    </tr>\n",
              "    <tr>\n",
              "      <th>1</th>\n",
              "      <td>RevolvingUtilizationOfUnsecuredLines</td>\n",
              "      <td>Total balance on credit cards and personal lines of credit except real estate and no installment debt like car loans divided by the sum of credit limits</td>\n",
              "      <td>percentage</td>\n",
              "    </tr>\n",
              "    <tr>\n",
              "      <th>2</th>\n",
              "      <td>age</td>\n",
              "      <td>Age of borrower in years</td>\n",
              "      <td>integer</td>\n",
              "    </tr>\n",
              "    <tr>\n",
              "      <th>3</th>\n",
              "      <td>NumberOfTime30-59DaysPastDueNotWorse</td>\n",
              "      <td>Number of times borrower has been 30-59 days past due but no worse in the last 2 years.</td>\n",
              "      <td>integer</td>\n",
              "    </tr>\n",
              "    <tr>\n",
              "      <th>4</th>\n",
              "      <td>DebtRatio</td>\n",
              "      <td>Monthly debt payments, alimony,living costs divided by monthy gross income</td>\n",
              "      <td>percentage</td>\n",
              "    </tr>\n",
              "    <tr>\n",
              "      <th>5</th>\n",
              "      <td>MonthlyIncome</td>\n",
              "      <td>Monthly income</td>\n",
              "      <td>real</td>\n",
              "    </tr>\n",
              "    <tr>\n",
              "      <th>6</th>\n",
              "      <td>NumberOfOpenCreditLinesAndLoans</td>\n",
              "      <td>Number of Open loans (installment like car loan or mortgage) and Lines of credit (e.g. credit cards)</td>\n",
              "      <td>integer</td>\n",
              "    </tr>\n",
              "    <tr>\n",
              "      <th>7</th>\n",
              "      <td>NumberOfTimes90DaysLate</td>\n",
              "      <td>Number of times borrower has been 90 days or more past due.</td>\n",
              "      <td>integer</td>\n",
              "    </tr>\n",
              "    <tr>\n",
              "      <th>8</th>\n",
              "      <td>NumberRealEstateLoansOrLines</td>\n",
              "      <td>Number of mortgage and real estate loans including home equity lines of credit</td>\n",
              "      <td>integer</td>\n",
              "    </tr>\n",
              "    <tr>\n",
              "      <th>9</th>\n",
              "      <td>NumberOfTime60-89DaysPastDueNotWorse</td>\n",
              "      <td>Number of times borrower has been 60-89 days past due but no worse in the last 2 years.</td>\n",
              "      <td>integer</td>\n",
              "    </tr>\n",
              "    <tr>\n",
              "      <th>10</th>\n",
              "      <td>NumberOfDependents</td>\n",
              "      <td>Number of dependents in family excluding themselves (spouse, children etc.)</td>\n",
              "      <td>integer</td>\n",
              "    </tr>\n",
              "  </tbody>\n",
              "</table>\n",
              "</div>"
            ],
            "text/plain": [
              "                           Variable Name  ...        Type\n",
              "0   SeriousDlqin2yrs                      ...  Y/N       \n",
              "1   RevolvingUtilizationOfUnsecuredLines  ...  percentage\n",
              "2   age                                   ...  integer   \n",
              "3   NumberOfTime30-59DaysPastDueNotWorse  ...  integer   \n",
              "4   DebtRatio                             ...  percentage\n",
              "5   MonthlyIncome                         ...  real      \n",
              "6   NumberOfOpenCreditLinesAndLoans       ...  integer   \n",
              "7   NumberOfTimes90DaysLate               ...  integer   \n",
              "8   NumberRealEstateLoansOrLines          ...  integer   \n",
              "9   NumberOfTime60-89DaysPastDueNotWorse  ...  integer   \n",
              "10  NumberOfDependents                    ...  integer   \n",
              "\n",
              "[11 rows x 3 columns]"
            ]
          },
          "metadata": {
            "tags": []
          },
          "execution_count": 2
        }
      ]
    },
    {
      "cell_type": "markdown",
      "metadata": {
        "id": "artk48RZMcbE"
      },
      "source": [
        "**Scenario**:  \n",
        "Among all the features, '*SeriousDlqin2yrs*' would be the target feature to predict the borrowers' risk for a 90 days past due delinquency or worse. \n",
        "\n",
        " "
      ]
    },
    {
      "cell_type": "markdown",
      "metadata": {
        "id": "8xM2MsbVMdS8"
      },
      "source": [
        "### **Data Preprocessing**"
      ]
    },
    {
      "cell_type": "markdown",
      "metadata": {
        "id": "9uz9PtVaP10n"
      },
      "source": [
        "#### - Data Import & Clean\n"
      ]
    },
    {
      "cell_type": "code",
      "metadata": {
        "id": "fve87bXjMc36",
        "colab": {
          "base_uri": "https://localhost:8080/",
          "height": 102
        },
        "outputId": "d9b658de-a365-45a9-d8a8-03a3565ca11a"
      },
      "source": [
        "url = 'https://raw.githubusercontent.com/fwqfwq/dataset/master/GiveMeSomeCredit/cs-training.csv'\n",
        "dataset = pd.read_csv(url)\n",
        "print(dataset.columns.values)"
      ],
      "execution_count": null,
      "outputs": [
        {
          "output_type": "stream",
          "text": [
            "['Unnamed: 0' 'SeriousDlqin2yrs' 'RevolvingUtilizationOfUnsecuredLines'\n",
            " 'age' 'NumberOfTime30-59DaysPastDueNotWorse' 'DebtRatio' 'MonthlyIncome'\n",
            " 'NumberOfOpenCreditLinesAndLoans' 'NumberOfTimes90DaysLate'\n",
            " 'NumberRealEstateLoansOrLines' 'NumberOfTime60-89DaysPastDueNotWorse'\n",
            " 'NumberOfDependents']\n"
          ],
          "name": "stdout"
        }
      ]
    },
    {
      "cell_type": "markdown",
      "metadata": {
        "id": "JkpAJhmQQNeP"
      },
      "source": [
        "The first column is 'Unnamed: 0' which is the originla index for the training data, which could be truncated later.  \n",
        "\\\n",
        "**Basic View**"
      ]
    },
    {
      "cell_type": "code",
      "metadata": {
        "id": "lYUbfA0NQdHQ",
        "colab": {
          "base_uri": "https://localhost:8080/",
          "height": 396
        },
        "outputId": "d651b7c7-240b-4016-f6de-2988778d0e6a"
      },
      "source": [
        "dataset = (dataset.iloc[:, 1:])\n",
        "dataset.head(10)"
      ],
      "execution_count": null,
      "outputs": [
        {
          "output_type": "execute_result",
          "data": {
            "text/html": [
              "<div>\n",
              "<style scoped>\n",
              "    .dataframe tbody tr th:only-of-type {\n",
              "        vertical-align: middle;\n",
              "    }\n",
              "\n",
              "    .dataframe tbody tr th {\n",
              "        vertical-align: top;\n",
              "    }\n",
              "\n",
              "    .dataframe thead th {\n",
              "        text-align: right;\n",
              "    }\n",
              "</style>\n",
              "<table border=\"1\" class=\"dataframe\">\n",
              "  <thead>\n",
              "    <tr style=\"text-align: right;\">\n",
              "      <th></th>\n",
              "      <th>SeriousDlqin2yrs</th>\n",
              "      <th>RevolvingUtilizationOfUnsecuredLines</th>\n",
              "      <th>age</th>\n",
              "      <th>NumberOfTime30-59DaysPastDueNotWorse</th>\n",
              "      <th>DebtRatio</th>\n",
              "      <th>MonthlyIncome</th>\n",
              "      <th>NumberOfOpenCreditLinesAndLoans</th>\n",
              "      <th>NumberOfTimes90DaysLate</th>\n",
              "      <th>NumberRealEstateLoansOrLines</th>\n",
              "      <th>NumberOfTime60-89DaysPastDueNotWorse</th>\n",
              "      <th>NumberOfDependents</th>\n",
              "    </tr>\n",
              "  </thead>\n",
              "  <tbody>\n",
              "    <tr>\n",
              "      <th>0</th>\n",
              "      <td>1</td>\n",
              "      <td>0.766127</td>\n",
              "      <td>45</td>\n",
              "      <td>2</td>\n",
              "      <td>0.802982</td>\n",
              "      <td>9120.0</td>\n",
              "      <td>13</td>\n",
              "      <td>0</td>\n",
              "      <td>6</td>\n",
              "      <td>0</td>\n",
              "      <td>2.0</td>\n",
              "    </tr>\n",
              "    <tr>\n",
              "      <th>1</th>\n",
              "      <td>0</td>\n",
              "      <td>0.957151</td>\n",
              "      <td>40</td>\n",
              "      <td>0</td>\n",
              "      <td>0.121876</td>\n",
              "      <td>2600.0</td>\n",
              "      <td>4</td>\n",
              "      <td>0</td>\n",
              "      <td>0</td>\n",
              "      <td>0</td>\n",
              "      <td>1.0</td>\n",
              "    </tr>\n",
              "    <tr>\n",
              "      <th>2</th>\n",
              "      <td>0</td>\n",
              "      <td>0.658180</td>\n",
              "      <td>38</td>\n",
              "      <td>1</td>\n",
              "      <td>0.085113</td>\n",
              "      <td>3042.0</td>\n",
              "      <td>2</td>\n",
              "      <td>1</td>\n",
              "      <td>0</td>\n",
              "      <td>0</td>\n",
              "      <td>0.0</td>\n",
              "    </tr>\n",
              "    <tr>\n",
              "      <th>3</th>\n",
              "      <td>0</td>\n",
              "      <td>0.233810</td>\n",
              "      <td>30</td>\n",
              "      <td>0</td>\n",
              "      <td>0.036050</td>\n",
              "      <td>3300.0</td>\n",
              "      <td>5</td>\n",
              "      <td>0</td>\n",
              "      <td>0</td>\n",
              "      <td>0</td>\n",
              "      <td>0.0</td>\n",
              "    </tr>\n",
              "    <tr>\n",
              "      <th>4</th>\n",
              "      <td>0</td>\n",
              "      <td>0.907239</td>\n",
              "      <td>49</td>\n",
              "      <td>1</td>\n",
              "      <td>0.024926</td>\n",
              "      <td>63588.0</td>\n",
              "      <td>7</td>\n",
              "      <td>0</td>\n",
              "      <td>1</td>\n",
              "      <td>0</td>\n",
              "      <td>0.0</td>\n",
              "    </tr>\n",
              "    <tr>\n",
              "      <th>5</th>\n",
              "      <td>0</td>\n",
              "      <td>0.213179</td>\n",
              "      <td>74</td>\n",
              "      <td>0</td>\n",
              "      <td>0.375607</td>\n",
              "      <td>3500.0</td>\n",
              "      <td>3</td>\n",
              "      <td>0</td>\n",
              "      <td>1</td>\n",
              "      <td>0</td>\n",
              "      <td>1.0</td>\n",
              "    </tr>\n",
              "    <tr>\n",
              "      <th>6</th>\n",
              "      <td>0</td>\n",
              "      <td>0.305682</td>\n",
              "      <td>57</td>\n",
              "      <td>0</td>\n",
              "      <td>5710.000000</td>\n",
              "      <td>NaN</td>\n",
              "      <td>8</td>\n",
              "      <td>0</td>\n",
              "      <td>3</td>\n",
              "      <td>0</td>\n",
              "      <td>0.0</td>\n",
              "    </tr>\n",
              "    <tr>\n",
              "      <th>7</th>\n",
              "      <td>0</td>\n",
              "      <td>0.754464</td>\n",
              "      <td>39</td>\n",
              "      <td>0</td>\n",
              "      <td>0.209940</td>\n",
              "      <td>3500.0</td>\n",
              "      <td>8</td>\n",
              "      <td>0</td>\n",
              "      <td>0</td>\n",
              "      <td>0</td>\n",
              "      <td>0.0</td>\n",
              "    </tr>\n",
              "    <tr>\n",
              "      <th>8</th>\n",
              "      <td>0</td>\n",
              "      <td>0.116951</td>\n",
              "      <td>27</td>\n",
              "      <td>0</td>\n",
              "      <td>46.000000</td>\n",
              "      <td>NaN</td>\n",
              "      <td>2</td>\n",
              "      <td>0</td>\n",
              "      <td>0</td>\n",
              "      <td>0</td>\n",
              "      <td>NaN</td>\n",
              "    </tr>\n",
              "    <tr>\n",
              "      <th>9</th>\n",
              "      <td>0</td>\n",
              "      <td>0.189169</td>\n",
              "      <td>57</td>\n",
              "      <td>0</td>\n",
              "      <td>0.606291</td>\n",
              "      <td>23684.0</td>\n",
              "      <td>9</td>\n",
              "      <td>0</td>\n",
              "      <td>4</td>\n",
              "      <td>0</td>\n",
              "      <td>2.0</td>\n",
              "    </tr>\n",
              "  </tbody>\n",
              "</table>\n",
              "</div>"
            ],
            "text/plain": [
              "   SeriousDlqin2yrs  ...  NumberOfDependents\n",
              "0  1                 ...  2.0               \n",
              "1  0                 ...  1.0               \n",
              "2  0                 ...  0.0               \n",
              "3  0                 ...  0.0               \n",
              "4  0                 ...  0.0               \n",
              "5  0                 ...  1.0               \n",
              "6  0                 ...  0.0               \n",
              "7  0                 ...  0.0               \n",
              "8  0                 ... NaN                \n",
              "9  0                 ...  2.0               \n",
              "\n",
              "[10 rows x 11 columns]"
            ]
          },
          "metadata": {
            "tags": []
          },
          "execution_count": 4
        }
      ]
    },
    {
      "cell_type": "code",
      "metadata": {
        "id": "9OJwrh9tQlDi",
        "colab": {
          "base_uri": "https://localhost:8080/",
          "height": 334
        },
        "outputId": "1bcb0d4a-95e6-4fa4-c9a3-a30c1de48c45"
      },
      "source": [
        "dataset.describe()"
      ],
      "execution_count": null,
      "outputs": [
        {
          "output_type": "execute_result",
          "data": {
            "text/html": [
              "<div>\n",
              "<style scoped>\n",
              "    .dataframe tbody tr th:only-of-type {\n",
              "        vertical-align: middle;\n",
              "    }\n",
              "\n",
              "    .dataframe tbody tr th {\n",
              "        vertical-align: top;\n",
              "    }\n",
              "\n",
              "    .dataframe thead th {\n",
              "        text-align: right;\n",
              "    }\n",
              "</style>\n",
              "<table border=\"1\" class=\"dataframe\">\n",
              "  <thead>\n",
              "    <tr style=\"text-align: right;\">\n",
              "      <th></th>\n",
              "      <th>SeriousDlqin2yrs</th>\n",
              "      <th>RevolvingUtilizationOfUnsecuredLines</th>\n",
              "      <th>age</th>\n",
              "      <th>NumberOfTime30-59DaysPastDueNotWorse</th>\n",
              "      <th>DebtRatio</th>\n",
              "      <th>MonthlyIncome</th>\n",
              "      <th>NumberOfOpenCreditLinesAndLoans</th>\n",
              "      <th>NumberOfTimes90DaysLate</th>\n",
              "      <th>NumberRealEstateLoansOrLines</th>\n",
              "      <th>NumberOfTime60-89DaysPastDueNotWorse</th>\n",
              "      <th>NumberOfDependents</th>\n",
              "    </tr>\n",
              "  </thead>\n",
              "  <tbody>\n",
              "    <tr>\n",
              "      <th>count</th>\n",
              "      <td>150000.000000</td>\n",
              "      <td>150000.000000</td>\n",
              "      <td>150000.000000</td>\n",
              "      <td>150000.000000</td>\n",
              "      <td>150000.000000</td>\n",
              "      <td>1.202690e+05</td>\n",
              "      <td>150000.000000</td>\n",
              "      <td>150000.000000</td>\n",
              "      <td>150000.000000</td>\n",
              "      <td>150000.000000</td>\n",
              "      <td>146076.000000</td>\n",
              "    </tr>\n",
              "    <tr>\n",
              "      <th>mean</th>\n",
              "      <td>0.066840</td>\n",
              "      <td>6.048438</td>\n",
              "      <td>52.295207</td>\n",
              "      <td>0.421033</td>\n",
              "      <td>353.005076</td>\n",
              "      <td>6.670221e+03</td>\n",
              "      <td>8.452760</td>\n",
              "      <td>0.265973</td>\n",
              "      <td>1.018240</td>\n",
              "      <td>0.240387</td>\n",
              "      <td>0.757222</td>\n",
              "    </tr>\n",
              "    <tr>\n",
              "      <th>std</th>\n",
              "      <td>0.249746</td>\n",
              "      <td>249.755371</td>\n",
              "      <td>14.771866</td>\n",
              "      <td>4.192781</td>\n",
              "      <td>2037.818523</td>\n",
              "      <td>1.438467e+04</td>\n",
              "      <td>5.145951</td>\n",
              "      <td>4.169304</td>\n",
              "      <td>1.129771</td>\n",
              "      <td>4.155179</td>\n",
              "      <td>1.115086</td>\n",
              "    </tr>\n",
              "    <tr>\n",
              "      <th>min</th>\n",
              "      <td>0.000000</td>\n",
              "      <td>0.000000</td>\n",
              "      <td>0.000000</td>\n",
              "      <td>0.000000</td>\n",
              "      <td>0.000000</td>\n",
              "      <td>0.000000e+00</td>\n",
              "      <td>0.000000</td>\n",
              "      <td>0.000000</td>\n",
              "      <td>0.000000</td>\n",
              "      <td>0.000000</td>\n",
              "      <td>0.000000</td>\n",
              "    </tr>\n",
              "    <tr>\n",
              "      <th>25%</th>\n",
              "      <td>0.000000</td>\n",
              "      <td>0.029867</td>\n",
              "      <td>41.000000</td>\n",
              "      <td>0.000000</td>\n",
              "      <td>0.175074</td>\n",
              "      <td>3.400000e+03</td>\n",
              "      <td>5.000000</td>\n",
              "      <td>0.000000</td>\n",
              "      <td>0.000000</td>\n",
              "      <td>0.000000</td>\n",
              "      <td>0.000000</td>\n",
              "    </tr>\n",
              "    <tr>\n",
              "      <th>50%</th>\n",
              "      <td>0.000000</td>\n",
              "      <td>0.154181</td>\n",
              "      <td>52.000000</td>\n",
              "      <td>0.000000</td>\n",
              "      <td>0.366508</td>\n",
              "      <td>5.400000e+03</td>\n",
              "      <td>8.000000</td>\n",
              "      <td>0.000000</td>\n",
              "      <td>1.000000</td>\n",
              "      <td>0.000000</td>\n",
              "      <td>0.000000</td>\n",
              "    </tr>\n",
              "    <tr>\n",
              "      <th>75%</th>\n",
              "      <td>0.000000</td>\n",
              "      <td>0.559046</td>\n",
              "      <td>63.000000</td>\n",
              "      <td>0.000000</td>\n",
              "      <td>0.868254</td>\n",
              "      <td>8.249000e+03</td>\n",
              "      <td>11.000000</td>\n",
              "      <td>0.000000</td>\n",
              "      <td>2.000000</td>\n",
              "      <td>0.000000</td>\n",
              "      <td>1.000000</td>\n",
              "    </tr>\n",
              "    <tr>\n",
              "      <th>max</th>\n",
              "      <td>1.000000</td>\n",
              "      <td>50708.000000</td>\n",
              "      <td>109.000000</td>\n",
              "      <td>98.000000</td>\n",
              "      <td>329664.000000</td>\n",
              "      <td>3.008750e+06</td>\n",
              "      <td>58.000000</td>\n",
              "      <td>98.000000</td>\n",
              "      <td>54.000000</td>\n",
              "      <td>98.000000</td>\n",
              "      <td>20.000000</td>\n",
              "    </tr>\n",
              "  </tbody>\n",
              "</table>\n",
              "</div>"
            ],
            "text/plain": [
              "       SeriousDlqin2yrs  ...  NumberOfDependents\n",
              "count  150000.000000     ...  146076.000000     \n",
              "mean   0.066840          ...  0.757222          \n",
              "std    0.249746          ...  1.115086          \n",
              "min    0.000000          ...  0.000000          \n",
              "25%    0.000000          ...  0.000000          \n",
              "50%    0.000000          ...  0.000000          \n",
              "75%    0.000000          ...  1.000000          \n",
              "max    1.000000          ...  20.000000         \n",
              "\n",
              "[8 rows x 11 columns]"
            ]
          },
          "metadata": {
            "tags": []
          },
          "execution_count": 5
        }
      ]
    },
    {
      "cell_type": "code",
      "metadata": {
        "id": "7NdzOqzeQh-0",
        "colab": {
          "base_uri": "https://localhost:8080/",
          "height": 323
        },
        "outputId": "55fd5b12-51e0-471a-9537-af15f932c5a5"
      },
      "source": [
        "dataset.info()"
      ],
      "execution_count": null,
      "outputs": [
        {
          "output_type": "stream",
          "text": [
            "<class 'pandas.core.frame.DataFrame'>\n",
            "RangeIndex: 150000 entries, 0 to 149999\n",
            "Data columns (total 11 columns):\n",
            " #   Column                                Non-Null Count   Dtype  \n",
            "---  ------                                --------------   -----  \n",
            " 0   SeriousDlqin2yrs                      150000 non-null  int64  \n",
            " 1   RevolvingUtilizationOfUnsecuredLines  150000 non-null  float64\n",
            " 2   age                                   150000 non-null  int64  \n",
            " 3   NumberOfTime30-59DaysPastDueNotWorse  150000 non-null  int64  \n",
            " 4   DebtRatio                             150000 non-null  float64\n",
            " 5   MonthlyIncome                         120269 non-null  float64\n",
            " 6   NumberOfOpenCreditLinesAndLoans       150000 non-null  int64  \n",
            " 7   NumberOfTimes90DaysLate               150000 non-null  int64  \n",
            " 8   NumberRealEstateLoansOrLines          150000 non-null  int64  \n",
            " 9   NumberOfTime60-89DaysPastDueNotWorse  150000 non-null  int64  \n",
            " 10  NumberOfDependents                    146076 non-null  float64\n",
            "dtypes: float64(4), int64(7)\n",
            "memory usage: 12.6 MB\n"
          ],
          "name": "stdout"
        }
      ]
    },
    {
      "cell_type": "markdown",
      "metadata": {
        "id": "QDDaNk6DRIAM"
      },
      "source": [
        "As seen, two deatures, '*MonthlyIncome*' and '*NumberOfDependents*' are not intact. Especially when '*MonthlyIncome*' has a substantial amount of missing values. "
      ]
    },
    {
      "cell_type": "markdown",
      "metadata": {
        "id": "o2QckyjnuVaU"
      },
      "source": [
        "**Data Dropping & Filling**  "
      ]
    },
    {
      "cell_type": "markdown",
      "metadata": {
        "id": "nW0Vw37mheJ9"
      },
      "source": [
        "First of all, drop the NaN in '*NumberOfDependents*' "
      ]
    },
    {
      "cell_type": "code",
      "metadata": {
        "id": "yEs4oNwEhdrM",
        "colab": {
          "base_uri": "https://localhost:8080/",
          "height": 323
        },
        "outputId": "5ed3a7ca-13c4-4fb6-9012-2f00882f19a1"
      },
      "source": [
        "dataset.dropna(axis=0, subset=['NumberOfDependents'], inplace=True) \n",
        "dataset.info()"
      ],
      "execution_count": null,
      "outputs": [
        {
          "output_type": "stream",
          "text": [
            "<class 'pandas.core.frame.DataFrame'>\n",
            "Int64Index: 146076 entries, 0 to 149999\n",
            "Data columns (total 11 columns):\n",
            " #   Column                                Non-Null Count   Dtype  \n",
            "---  ------                                --------------   -----  \n",
            " 0   SeriousDlqin2yrs                      146076 non-null  int64  \n",
            " 1   RevolvingUtilizationOfUnsecuredLines  146076 non-null  float64\n",
            " 2   age                                   146076 non-null  int64  \n",
            " 3   NumberOfTime30-59DaysPastDueNotWorse  146076 non-null  int64  \n",
            " 4   DebtRatio                             146076 non-null  float64\n",
            " 5   MonthlyIncome                         120269 non-null  float64\n",
            " 6   NumberOfOpenCreditLinesAndLoans       146076 non-null  int64  \n",
            " 7   NumberOfTimes90DaysLate               146076 non-null  int64  \n",
            " 8   NumberRealEstateLoansOrLines          146076 non-null  int64  \n",
            " 9   NumberOfTime60-89DaysPastDueNotWorse  146076 non-null  int64  \n",
            " 10  NumberOfDependents                    146076 non-null  float64\n",
            "dtypes: float64(4), int64(7)\n",
            "memory usage: 13.4 MB\n"
          ],
          "name": "stdout"
        }
      ]
    },
    {
      "cell_type": "markdown",
      "metadata": {
        "id": "Nt3eFY3rlAsE"
      },
      "source": [
        "Monthly income is not a feature with continuous value. It's related more closer to other features.   \n",
        "Random forest (RF) missing data algorithms[[1]](#reference) is\n",
        "an approach for imputing missing data. Random Forests Regressor model could be used to calculate and fill the NaN in '*MonthlyIncome*'. "
      ]
    },
    {
      "cell_type": "code",
      "metadata": {
        "id": "TLRXbVtcuUs7",
        "colab": {
          "base_uri": "https://localhost:8080/",
          "height": 323
        },
        "outputId": "075c1273-c1b7-4a50-da86-ce67d3c1c1ff"
      },
      "source": [
        "from sklearn.ensemble import RandomForestRegressor\n",
        "\n",
        "# Change the order of features\n",
        "fill_data = dataset.iloc[:, [5,0,1,2,3,4,6,7,8,9,10]]\n",
        "\n",
        "# Extract and split the NaN value\n",
        "not_series = pd.notnull(fill_data['MonthlyIncome'])\n",
        "fill_known = fill_data[not_series]\n",
        "\n",
        "is_series = pd.isnull(fill_data['MonthlyIncome'])\n",
        "fill_unknown = fill_data[is_series]\n",
        "\n",
        "print('Not NaN:\\n', fill_known.head())\n",
        "print('Is NaN:\\n', fill_unknown.head())"
      ],
      "execution_count": null,
      "outputs": [
        {
          "output_type": "stream",
          "text": [
            "Not NaN:\n",
            "    MonthlyIncome  ...  NumberOfDependents\n",
            "0  9120.0         ...  2.0               \n",
            "1  2600.0         ...  1.0               \n",
            "2  3042.0         ...  0.0               \n",
            "3  3300.0         ...  0.0               \n",
            "4  63588.0        ...  0.0               \n",
            "\n",
            "[5 rows x 11 columns]\n",
            "Is NaN:\n",
            "     MonthlyIncome  ...  NumberOfDependents\n",
            "6  NaN             ...  0.0               \n",
            "16 NaN             ...  0.0               \n",
            "32 NaN             ...  0.0               \n",
            "41 NaN             ...  0.0               \n",
            "52 NaN             ...  0.0               \n",
            "\n",
            "[5 rows x 11 columns]\n"
          ],
          "name": "stdout"
        }
      ]
    },
    {
      "cell_type": "code",
      "metadata": {
        "id": "UlEy94jNgKnR",
        "colab": {
          "base_uri": "https://localhost:8080/",
          "height": 340
        },
        "outputId": "35fdf33e-08b7-4860-e931-ec196e782d16"
      },
      "source": [
        "# Process the train data \n",
        "fill_X = fill_known.iloc[:, 1:]\n",
        "fill_Y = fill_known.iloc[:, 0]\n",
        "print('X:\\n', fill_X.head(), '\\n', fill_X.shape)\n",
        "print('\\nY:\\n', fill_Y.head(), '\\n', fill_Y.shape)"
      ],
      "execution_count": null,
      "outputs": [
        {
          "output_type": "stream",
          "text": [
            "X:\n",
            "    SeriousDlqin2yrs  ...  NumberOfDependents\n",
            "0  1                 ...  2.0               \n",
            "1  0                 ...  1.0               \n",
            "2  0                 ...  0.0               \n",
            "3  0                 ...  0.0               \n",
            "4  0                 ...  0.0               \n",
            "\n",
            "[5 rows x 10 columns] \n",
            " (120269, 10)\n",
            "\n",
            "Y:\n",
            " 0    9120.0 \n",
            "1    2600.0 \n",
            "2    3042.0 \n",
            "3    3300.0 \n",
            "4    63588.0\n",
            "Name: MonthlyIncome, dtype: float64 \n",
            " (120269,)\n"
          ],
          "name": "stdout"
        }
      ]
    },
    {
      "cell_type": "code",
      "metadata": {
        "id": "M1m-5W1DByBB",
        "colab": {
          "base_uri": "https://localhost:8080/",
          "height": 34
        },
        "outputId": "7351b1fd-87ea-4847-b222-78993cec62c7"
      },
      "source": [
        "# Random forests model\n",
        "fill_rf = RandomForestRegressor(random_state=0,n_estimators=200,max_depth=3,n_jobs=-1)\n",
        "fill_rf.fit(fill_X, fill_Y)\n",
        "fill_predict = fill_rf.predict(fill_unknown.iloc[:, 1:]).round(0)\n",
        "\n",
        "fill_predict"
      ],
      "execution_count": null,
      "outputs": [
        {
          "output_type": "execute_result",
          "data": {
            "text/plain": [
              "array([8311., 8311., 2554., ..., 1159., 2554., 2554.])"
            ]
          },
          "metadata": {
            "tags": []
          },
          "execution_count": 10
        }
      ]
    },
    {
      "cell_type": "code",
      "metadata": {
        "id": "2l2pB6r1vKTC",
        "colab": {
          "base_uri": "https://localhost:8080/",
          "height": 357
        },
        "outputId": "d910bb7d-8123-4f90-ea55-39aba19e7823"
      },
      "source": [
        "print('original NaN\\n', fill_unknown.info())"
      ],
      "execution_count": null,
      "outputs": [
        {
          "output_type": "stream",
          "text": [
            "<class 'pandas.core.frame.DataFrame'>\n",
            "Int64Index: 25807 entries, 6 to 149997\n",
            "Data columns (total 11 columns):\n",
            " #   Column                                Non-Null Count  Dtype  \n",
            "---  ------                                --------------  -----  \n",
            " 0   MonthlyIncome                         0 non-null      float64\n",
            " 1   SeriousDlqin2yrs                      25807 non-null  int64  \n",
            " 2   RevolvingUtilizationOfUnsecuredLines  25807 non-null  float64\n",
            " 3   age                                   25807 non-null  int64  \n",
            " 4   NumberOfTime30-59DaysPastDueNotWorse  25807 non-null  int64  \n",
            " 5   DebtRatio                             25807 non-null  float64\n",
            " 6   NumberOfOpenCreditLinesAndLoans       25807 non-null  int64  \n",
            " 7   NumberOfTimes90DaysLate               25807 non-null  int64  \n",
            " 8   NumberRealEstateLoansOrLines          25807 non-null  int64  \n",
            " 9   NumberOfTime60-89DaysPastDueNotWorse  25807 non-null  int64  \n",
            " 10  NumberOfDependents                    25807 non-null  float64\n",
            "dtypes: float64(4), int64(7)\n",
            "memory usage: 2.4 MB\n",
            "original NaN\n",
            " None\n"
          ],
          "name": "stdout"
        }
      ]
    },
    {
      "cell_type": "code",
      "metadata": {
        "id": "Yt4pJoYAv546"
      },
      "source": [
        "# Create new filled data\n",
        "new_result = fill_unknown.iloc[:, 1:]\n",
        "new_result.insert(5, 'MonthlyIncome', fill_predict, True)"
      ],
      "execution_count": null,
      "outputs": []
    },
    {
      "cell_type": "code",
      "metadata": {
        "id": "6pLSoOKWxKow",
        "colab": {
          "base_uri": "https://localhost:8080/",
          "height": 323
        },
        "outputId": "95a0d37c-8207-462e-84c5-e5a3682a63c6"
      },
      "source": [
        "new_result.info()"
      ],
      "execution_count": null,
      "outputs": [
        {
          "output_type": "stream",
          "text": [
            "<class 'pandas.core.frame.DataFrame'>\n",
            "Int64Index: 25807 entries, 6 to 149997\n",
            "Data columns (total 11 columns):\n",
            " #   Column                                Non-Null Count  Dtype  \n",
            "---  ------                                --------------  -----  \n",
            " 0   SeriousDlqin2yrs                      25807 non-null  int64  \n",
            " 1   RevolvingUtilizationOfUnsecuredLines  25807 non-null  float64\n",
            " 2   age                                   25807 non-null  int64  \n",
            " 3   NumberOfTime30-59DaysPastDueNotWorse  25807 non-null  int64  \n",
            " 4   DebtRatio                             25807 non-null  float64\n",
            " 5   MonthlyIncome                         25807 non-null  float64\n",
            " 6   NumberOfOpenCreditLinesAndLoans       25807 non-null  int64  \n",
            " 7   NumberOfTimes90DaysLate               25807 non-null  int64  \n",
            " 8   NumberRealEstateLoansOrLines          25807 non-null  int64  \n",
            " 9   NumberOfTime60-89DaysPastDueNotWorse  25807 non-null  int64  \n",
            " 10  NumberOfDependents                    25807 non-null  float64\n",
            "dtypes: float64(4), int64(7)\n",
            "memory usage: 2.4 MB\n"
          ],
          "name": "stdout"
        }
      ]
    },
    {
      "cell_type": "code",
      "metadata": {
        "id": "YSlSOdMZhLlL",
        "colab": {
          "base_uri": "https://localhost:8080/",
          "height": 221
        },
        "outputId": "29ac90df-c3dc-4616-bff7-c931c7fee28e"
      },
      "source": [
        "# Update the original dataset\n",
        "# 1. dropna  2. append\n",
        "data = dataset.dropna(axis=0)\n",
        "data = data.append(new_result)\n",
        "pd.isnull(data).sum()"
      ],
      "execution_count": null,
      "outputs": [
        {
          "output_type": "execute_result",
          "data": {
            "text/plain": [
              "SeriousDlqin2yrs                        0\n",
              "RevolvingUtilizationOfUnsecuredLines    0\n",
              "age                                     0\n",
              "NumberOfTime30-59DaysPastDueNotWorse    0\n",
              "DebtRatio                               0\n",
              "MonthlyIncome                           0\n",
              "NumberOfOpenCreditLinesAndLoans         0\n",
              "NumberOfTimes90DaysLate                 0\n",
              "NumberRealEstateLoansOrLines            0\n",
              "NumberOfTime60-89DaysPastDueNotWorse    0\n",
              "NumberOfDependents                      0\n",
              "dtype: int64"
            ]
          },
          "metadata": {
            "tags": []
          },
          "execution_count": 14
        }
      ]
    },
    {
      "cell_type": "code",
      "metadata": {
        "id": "f7tgAlBrwb2n",
        "colab": {
          "base_uri": "https://localhost:8080/",
          "height": 323
        },
        "outputId": "888bc14f-3758-47c4-d5cb-8ebd64b1629a"
      },
      "source": [
        "data.info()"
      ],
      "execution_count": null,
      "outputs": [
        {
          "output_type": "stream",
          "text": [
            "<class 'pandas.core.frame.DataFrame'>\n",
            "Int64Index: 146076 entries, 0 to 149997\n",
            "Data columns (total 11 columns):\n",
            " #   Column                                Non-Null Count   Dtype  \n",
            "---  ------                                --------------   -----  \n",
            " 0   SeriousDlqin2yrs                      146076 non-null  int64  \n",
            " 1   RevolvingUtilizationOfUnsecuredLines  146076 non-null  float64\n",
            " 2   age                                   146076 non-null  int64  \n",
            " 3   NumberOfTime30-59DaysPastDueNotWorse  146076 non-null  int64  \n",
            " 4   DebtRatio                             146076 non-null  float64\n",
            " 5   MonthlyIncome                         146076 non-null  float64\n",
            " 6   NumberOfOpenCreditLinesAndLoans       146076 non-null  int64  \n",
            " 7   NumberOfTimes90DaysLate               146076 non-null  int64  \n",
            " 8   NumberRealEstateLoansOrLines          146076 non-null  int64  \n",
            " 9   NumberOfTime60-89DaysPastDueNotWorse  146076 non-null  int64  \n",
            " 10  NumberOfDependents                    146076 non-null  float64\n",
            "dtypes: float64(4), int64(7)\n",
            "memory usage: 13.4 MB\n"
          ],
          "name": "stdout"
        }
      ]
    },
    {
      "cell_type": "markdown",
      "metadata": {
        "id": "fM2gBqH7B07d"
      },
      "source": [
        "### **Data Visualization**  \n",
        "In this part, some features and statistical relationship with target variable would be visualized. \n"
      ]
    },
    {
      "cell_type": "markdown",
      "metadata": {
        "id": "7K2SJVWRMg88"
      },
      "source": [
        "**First-sight**"
      ]
    },
    {
      "cell_type": "code",
      "metadata": {
        "id": "agulC62kAf4_",
        "colab": {
          "base_uri": "https://localhost:8080/",
          "height": 828
        },
        "outputId": "e9db8ef0-55e3-46d9-a697-335205f62abc"
      },
      "source": [
        "fig = plt.figure(figsize = (10,10))\n",
        "ax = fig.gca()\n",
        "data.hist(ax = ax)"
      ],
      "execution_count": null,
      "outputs": [
        {
          "output_type": "execute_result",
          "data": {
            "text/plain": [
              "array([[<matplotlib.axes._subplots.AxesSubplot object at 0x7fe00f6bc860>,\n",
              "        <matplotlib.axes._subplots.AxesSubplot object at 0x7fe00e5a8a20>,\n",
              "        <matplotlib.axes._subplots.AxesSubplot object at 0x7fe00e68ab00>],\n",
              "       [<matplotlib.axes._subplots.AxesSubplot object at 0x7fe00e594320>,\n",
              "        <matplotlib.axes._subplots.AxesSubplot object at 0x7fe00e546588>,\n",
              "        <matplotlib.axes._subplots.AxesSubplot object at 0x7fe00e4fa7f0>],\n",
              "       [<matplotlib.axes._subplots.AxesSubplot object at 0x7fe00e4aea58>,\n",
              "        <matplotlib.axes._subplots.AxesSubplot object at 0x7fe00e463c88>,\n",
              "        <matplotlib.axes._subplots.AxesSubplot object at 0x7fe00e463cf8>],\n",
              "       [<matplotlib.axes._subplots.AxesSubplot object at 0x7fe00e4541d0>,\n",
              "        <matplotlib.axes._subplots.AxesSubplot object at 0x7fe00e409438>,\n",
              "        <matplotlib.axes._subplots.AxesSubplot object at 0x7fe00e3bb6a0>]],\n",
              "      dtype=object)"
            ]
          },
          "metadata": {
            "tags": []
          },
          "execution_count": 16
        },
        {
          "output_type": "display_data",
          "data": {
            "image/png": "[encoded data removed]",
            "text/plain": [
              "<Figure size 720x720 with 12 Axes>"
            ]
          },
          "metadata": {
            "tags": [],
            "needs_background": "light"
          }
        }
      ]
    },
    {
      "cell_type": "markdown",
      "metadata": {
        "id": "ehjVpwK6C7Nc"
      },
      "source": [
        "As seen in the hist() graph, several features are not evenly distributed. To prove that, Heatmap could be used to see the correlations for all features. "
      ]
    },
    {
      "cell_type": "code",
      "metadata": {
        "id": "e7Uw6_ZSC-5X",
        "colab": {
          "base_uri": "https://localhost:8080/",
          "height": 504
        },
        "outputId": "dc23caf2-88d7-4daa-c530-1d19dfbc865c"
      },
      "source": [
        "plt.figure(figsize=(5,5))\n",
        "\n",
        "mask = np.zeros_like(data.corr())\n",
        "mask[np.triu_indices_from(mask)] = True\n",
        "with sns.axes_style(\"white\"):\n",
        "    ax = sns.heatmap(data.corr().round(2), mask=mask,\n",
        "                     annot=True, cmap='rainbow', square=True)"
      ],
      "execution_count": null,
      "outputs": [
        {
          "output_type": "display_data",
          "data": {
            "image/png": "[encoded data removed]",
            "text/plain": [
              "<Figure size 360x360 with 2 Axes>"
            ]
          },
          "metadata": {
            "tags": [],
            "needs_background": "light"
          }
        }
      ]
    },
    {
      "cell_type": "markdown",
      "metadata": {
        "id": "p0QW8_DKNEFv"
      },
      "source": [
        "For the target feature, '*SeriousDiqin2yrs*', there're not obvious correlations with other features. To fix this, the data should be modified again. "
      ]
    },
    {
      "cell_type": "markdown",
      "metadata": {
        "id": "J66Anr-tNqbP"
      },
      "source": [
        "**A normal feature example**"
      ]
    },
    {
      "cell_type": "code",
      "metadata": {
        "id": "PX8FRRRozU8u",
        "colab": {
          "base_uri": "https://localhost:8080/",
          "height": 351
        },
        "outputId": "ab5abcf0-7e6a-44f8-9f12-c6e5da25374b"
      },
      "source": [
        "plt.figure(figsize=(7,5))\n",
        "age = data['age']\n",
        "sns.distplot(age)"
      ],
      "execution_count": null,
      "outputs": [
        {
          "output_type": "execute_result",
          "data": {
            "text/plain": [
              "<matplotlib.axes._subplots.AxesSubplot at 0x7fe00e5b62b0>"
            ]
          },
          "metadata": {
            "tags": []
          },
          "execution_count": 18
        },
        {
          "output_type": "display_data",
          "data": {
            "image/png": "[encoded data removed]",
            "text/plain": [
              "<Figure size 504x360 with 1 Axes>"
            ]
          },
          "metadata": {
            "tags": [],
            "needs_background": "light"
          }
        }
      ]
    },
    {
      "cell_type": "markdown",
      "metadata": {
        "id": "cxbEZGp-OHMm"
      },
      "source": [
        "Basically, the feature above is under normal distribution. "
      ]
    },
    {
      "cell_type": "markdown",
      "metadata": {
        "id": "zl91zIRPN5Yw"
      },
      "source": [
        "**Modification**  \n",
        "\\\n",
        "'*MonthlyIncome*'"
      ]
    },
    {
      "cell_type": "code",
      "metadata": {
        "id": "VEVO470x0Sex",
        "colab": {
          "base_uri": "https://localhost:8080/",
          "height": 345
        },
        "outputId": "540180a3-8e57-4d77-f5e9-032e123758e5"
      },
      "source": [
        "plt.figure(figsize=(7,5))\n",
        "mi = data['MonthlyIncome']\n",
        "sns.distplot(mi)\n",
        "\n",
        "# Remove outliers\n",
        "# Values above the 99.9th percentile were dropped\n",
        "percentile_mi = data['MonthlyIncome'].quantile(0.999)\n",
        "data = data[-(data['MonthlyIncome'] > percentile_mi)]"
      ],
      "execution_count": null,
      "outputs": [
        {
          "output_type": "display_data",
          "data": {
            "image/png": "[encoded data removed]",
            "text/plain": [
              "<Figure size 504x360 with 1 Axes>"
            ]
          },
          "metadata": {
            "tags": [],
            "needs_background": "light"
          }
        }
      ]
    },
    {
      "cell_type": "markdown",
      "metadata": {
        "id": "F5A3McdA8kdJ"
      },
      "source": [
        "Abnormality exists. Drop them by percentage. "
      ]
    },
    {
      "cell_type": "code",
      "metadata": {
        "id": "UPb83VFV5Kxz",
        "colab": {
          "base_uri": "https://localhost:8080/",
          "height": 351
        },
        "outputId": "1aad88de-cc8b-451b-d640-92d9c5243ede"
      },
      "source": [
        "plt.figure(figsize=(7,5))\n",
        "mi = data['MonthlyIncome']\n",
        "sns.distplot(mi)"
      ],
      "execution_count": null,
      "outputs": [
        {
          "output_type": "execute_result",
          "data": {
            "text/plain": [
              "<matplotlib.axes._subplots.AxesSubplot at 0x7fe00a96d4a8>"
            ]
          },
          "metadata": {
            "tags": []
          },
          "execution_count": 20
        },
        {
          "output_type": "display_data",
          "data": {
            "image/png": "[encoded data removed]",
            "text/plain": [
              "<Figure size 504x360 with 1 Axes>"
            ]
          },
          "metadata": {
            "tags": [],
            "needs_background": "light"
          }
        }
      ]
    },
    {
      "cell_type": "markdown",
      "metadata": {
        "id": "9nmETj8TPWfe"
      },
      "source": [
        "\n",
        "\n",
        "---\n",
        "\n",
        "'*NumberOfTimes90DaysLate*', '*NumberOfTime30-59DaysPastDueNotWorse*', '*NumberOfTime60-89DaysPastDueNotWorse*'"
      ]
    },
    {
      "cell_type": "code",
      "metadata": {
        "id": "Kh8umBla5Qbs",
        "colab": {
          "base_uri": "https://localhost:8080/",
          "height": 320
        },
        "outputId": "e06c0e1c-8c49-4b2c-9755-876355aaedbe"
      },
      "source": [
        "cols = ['NumberOfTimes90DaysLate','NumberOfTime30-59DaysPastDueNotWorse','NumberOfTime60-89DaysPastDueNotWorse']\n",
        "fig, axs = plt.subplots(1, 3, figsize=(7,5))\n",
        "for ax, col in zip(axs, cols):\n",
        "    ax.boxplot(data[col])\n",
        "plt.show()"
      ],
      "execution_count": null,
      "outputs": [
        {
          "output_type": "display_data",
          "data": {
            "image/png": "[encoded data removed]",
            "text/plain": [
              "<Figure size 504x360 with 3 Axes>"
            ]
          },
          "metadata": {
            "tags": [],
            "needs_background": "light"
          }
        }
      ]
    },
    {
      "cell_type": "markdown",
      "metadata": {
        "id": "-IH653YN6_A2"
      },
      "source": [
        "Abnormality exists. Drop them by percentage. "
      ]
    },
    {
      "cell_type": "code",
      "metadata": {
        "id": "BMx8awiZ7uUp"
      },
      "source": [
        "# Remove outliers\n",
        "# Values above the 99.7th percentile were dropped\n",
        "for col in cols:\n",
        "  pct = data[col].quantile(0.997)\n",
        "  data = data[-(data[col] > pct)]"
      ],
      "execution_count": null,
      "outputs": []
    },
    {
      "cell_type": "code",
      "metadata": {
        "id": "zZb2APyM7MlA",
        "colab": {
          "base_uri": "https://localhost:8080/",
          "height": 320
        },
        "outputId": "1e860153-a23c-4a12-9910-543db76ac47f"
      },
      "source": [
        "fig, axs = plt.subplots(1, 3, figsize=(7,5))\n",
        "for ax, col in zip(axs, cols):\n",
        "    ax.boxplot(data[col])\n",
        "plt.show()"
      ],
      "execution_count": null,
      "outputs": [
        {
          "output_type": "display_data",
          "data": {
            "image/png": "[encoded data removed]",
            "text/plain": [
              "<Figure size 504x360 with 3 Axes>"
            ]
          },
          "metadata": {
            "tags": [],
            "needs_background": "light"
          }
        }
      ]
    },
    {
      "cell_type": "markdown",
      "metadata": {
        "id": "Jgh5VzyjPMnT"
      },
      "source": [
        "\n",
        "\n",
        "---\n",
        "\n",
        "After test, these three features, \n",
        "'*DebtRatio*', '*NumberRealEstateLoansOrLines*', '*RevolvingUtilizationOfUnsecuredLines*', are not very suitable for modifications. "
      ]
    },
    {
      "cell_type": "markdown",
      "metadata": {
        "id": "FzVNGi1_x7dX"
      },
      "source": [
        "**Heatmap /again**"
      ]
    },
    {
      "cell_type": "code",
      "metadata": {
        "id": "HWGZiAyWxyss",
        "colab": {
          "base_uri": "https://localhost:8080/",
          "height": 504
        },
        "outputId": "9890eca5-f01e-4622-9be0-27b665dd2570"
      },
      "source": [
        "plt.figure(figsize=(5,5))\n",
        "\n",
        "mask = np.zeros_like(data.corr())\n",
        "mask[np.triu_indices_from(mask)] = True\n",
        "with sns.axes_style(\"white\"):\n",
        "    ax = sns.heatmap(data.corr().round(2), mask=mask,\n",
        "                     annot=True, cmap='rainbow', square=True)"
      ],
      "execution_count": null,
      "outputs": [
        {
          "output_type": "display_data",
          "data": {
            "image/png": "[encoded data removed]",
            "text/plain": [
              "<Figure size 360x360 with 2 Axes>"
            ]
          },
          "metadata": {
            "tags": [],
            "needs_background": "light"
          }
        }
      ]
    },
    {
      "cell_type": "markdown",
      "metadata": {
        "id": "w2GxQ938-3vn"
      },
      "source": [
        "'*NumberOfTimes90DaysLate*', '*NumberOfTime30-59DaysPastDueNotWorse*' and '*NumberOfTime60-89DaysPastDueNotWorse*' are most related features to the target feature('*SeriousDlqin2yrs*')"
      ]
    },
    {
      "cell_type": "code",
      "metadata": {
        "id": "drZeVTsIl2TQ"
      },
      "source": [
        "def scaled_df(df):\n",
        "    scaled = pd.DataFrame()\n",
        "    for item in df:\n",
        "        if item in df.select_dtypes(include=[np.float]):\n",
        "            scaled[item] = ((df[item] - df[item].min()) / \n",
        "            (df[item].max() - df[item].min()))\n",
        "        else: \n",
        "            scaled[item] = df[item]\n",
        "    return scaled\n",
        "data_scaled = scaled_df(data)"
      ],
      "execution_count": null,
      "outputs": []
    },
    {
      "cell_type": "code",
      "metadata": {
        "id": "Sk_OQFgCl8-b",
        "colab": {
          "base_uri": "https://localhost:8080/",
          "height": 336
        },
        "outputId": "2d3f1e9a-6117-4cf4-fb9d-38957bedbe4e"
      },
      "source": [
        "f, ax = plt.subplots(figsize=(7,5))\n",
        "plt.title(\"Box Plot Data Scaled\")\n",
        "ax.set(xlim=(-.05, 1.05))\n",
        "ax = sns.boxplot(data = data_scaled[1:], \n",
        "  orient = 'h', \n",
        "  palette = 'Set3')"
      ],
      "execution_count": null,
      "outputs": [
        {
          "output_type": "display_data",
          "data": {
            "image/png": "[encoded data removed]",
            "text/plain": [
              "<Figure size 504x360 with 1 Axes>"
            ]
          },
          "metadata": {
            "tags": [],
            "needs_background": "light"
          }
        }
      ]
    },
    {
      "cell_type": "markdown",
      "metadata": {
        "id": "sxHrmSpZB4ds"
      },
      "source": [
        "### **Data Predictions** \n",
        "As can be seen, the target feature of dataset is binary, with only values of 0 and 1. So when we are trying to consider the algorithms that suit this dataset, the ones inclined for discrete data should be selsected.     \n",
        "Three algorithms would be used in this part to see which is the best: \n",
        "*   Logistic Regression\n",
        "*   Random Forests \n",
        "*   Xgboost  \n",
        "\\\n",
        "First, split the train and test data. "
      ]
    },
    {
      "cell_type": "code",
      "metadata": {
        "id": "IKZIQ0vKycgH",
        "colab": {
          "base_uri": "https://localhost:8080/",
          "height": 85
        },
        "outputId": "16adee8f-9f1b-499d-ca6d-b9f92e7ee805"
      },
      "source": [
        "target = data.iloc[:, 0]\n",
        "data = data.iloc[:, 1:]\n",
        "\n",
        "X_train, X_test, Y_train, Y_test = train_test_split(data, target, random_state=1)\n",
        "\n",
        "print(\"X train shape: \", X_train.shape)\n",
        "print(\"X test shape: \", X_test.shape)\n",
        "print(\"Y train shape: \", Y_train.shape)\n",
        "print(\"Y test shape: \", Y_test.shape)"
      ],
      "execution_count": null,
      "outputs": [
        {
          "output_type": "stream",
          "text": [
            "X train shape:  (108631, 10)\n",
            "X test shape:  (36211, 10)\n",
            "Y train shape:  (108631,)\n",
            "Y test shape:  (36211,)\n"
          ],
          "name": "stdout"
        }
      ]
    },
    {
      "cell_type": "code",
      "metadata": {
        "id": "n8EsZ5yTKiRK"
      },
      "source": [
        "from sklearn.linear_model import LogisticRegression\n",
        "from sklearn.ensemble import RandomForestClassifier\n",
        "from xgboost import XGBClassifier\n",
        "\n",
        "from sklearn.metrics import roc_curve, roc_auc_score, classification_report\n"
      ],
      "execution_count": null,
      "outputs": []
    },
    {
      "cell_type": "markdown",
      "metadata": {
        "id": "BIX4juqlS0Lh"
      },
      "source": [
        "**Models Training & Evaluation**"
      ]
    },
    {
      "cell_type": "markdown",
      "metadata": {
        "id": "vPx0A7cSXop4"
      },
      "source": [
        "- Logistic Regression"
      ]
    },
    {
      "cell_type": "code",
      "metadata": {
        "id": "HExJN4xVKrdL"
      },
      "source": [
        "solver = ['newton-cg', 'lbfgs', 'liblinear', 'sag', 'saga']\n",
        "scores = []\n",
        "for i in solver: \n",
        "  lr = LogisticRegression(solver=i)\n",
        "  lr.fit(X_train, Y_train)\n",
        "\n",
        "  scores.append(lr.score(X_test, Y_test))"
      ],
      "execution_count": null,
      "outputs": []
    },
    {
      "cell_type": "code",
      "metadata": {
        "id": "QtVAKmKXXjVw",
        "colab": {
          "base_uri": "https://localhost:8080/",
          "height": 312
        },
        "outputId": "48094dfc-d7f1-4bc1-e96d-4b9ec816efd9"
      },
      "source": [
        "plt.plot(solver, scores)\n",
        "plt.title('Hyperparameters Tuning for Logistic Regression', weight='bold')\n",
        "plt.xlabel('solver')\n",
        "plt.ylabel('Score')"
      ],
      "execution_count": null,
      "outputs": [
        {
          "output_type": "execute_result",
          "data": {
            "text/plain": [
              "Text(0, 0.5, 'Score')"
            ]
          },
          "metadata": {
            "tags": []
          },
          "execution_count": 30
        },
        {
          "output_type": "display_data",
          "data": {
            "image/png": "[encoded data removed]",
            "text/plain": [
              "<Figure size 432x288 with 1 Axes>"
            ]
          },
          "metadata": {
            "tags": [],
            "needs_background": "light"
          }
        }
      ]
    },
    {
      "cell_type": "markdown",
      "metadata": {
        "id": "BwT6DOkCXxI3"
      },
      "source": [
        "Liblinear solver is the best choice for solver."
      ]
    },
    {
      "cell_type": "code",
      "metadata": {
        "id": "IWiMzQHCXu_D",
        "colab": {
          "base_uri": "https://localhost:8080/",
          "height": 102
        },
        "outputId": "7869b5c1-1e85-4c55-a675-467af4eab137"
      },
      "source": [
        "lrm = LogisticRegression(solver='liblinear')\n",
        "lrm.fit(X_train, Y_train)"
      ],
      "execution_count": null,
      "outputs": [
        {
          "output_type": "execute_result",
          "data": {
            "text/plain": [
              "LogisticRegression(C=1.0, class_weight=None, dual=False, fit_intercept=True,\n",
              "                   intercept_scaling=1, l1_ratio=None, max_iter=100,\n",
              "                   multi_class='auto', n_jobs=None, penalty='l2',\n",
              "                   random_state=None, solver='liblinear', tol=0.0001, verbose=0,\n",
              "                   warm_start=False)"
            ]
          },
          "metadata": {
            "tags": []
          },
          "execution_count": 31
        }
      ]
    },
    {
      "cell_type": "markdown",
      "metadata": {
        "id": "ZGMagqv0Y28o"
      },
      "source": [
        "Scores\n",
        "\n",
        "\n",
        "1.   Default Score\n",
        "2.   R2 & MSE\n",
        "3.   Classfication Report\n",
        "4.   ROC AUC\n",
        "\n"
      ]
    },
    {
      "cell_type": "code",
      "metadata": {
        "id": "5zqqIBt5YWz4",
        "colab": {
          "base_uri": "https://localhost:8080/",
          "height": 34
        },
        "outputId": "f0827817-263c-454b-e5c6-15e07ce364a9"
      },
      "source": [
        "lrm.score(X_test, Y_test)"
      ],
      "execution_count": null,
      "outputs": [
        {
          "output_type": "execute_result",
          "data": {
            "text/plain": [
              "0.9386926624506365"
            ]
          },
          "metadata": {
            "tags": []
          },
          "execution_count": 32
        }
      ]
    },
    {
      "cell_type": "code",
      "metadata": {
        "id": "poc0Yvr8ZHIA",
        "colab": {
          "base_uri": "https://localhost:8080/",
          "height": 51
        },
        "outputId": "dc8f071d-09ad-4601-cf57-f497f93839b9"
      },
      "source": [
        "from sklearn.metrics import r2_score\n",
        "from sklearn.metrics import mean_squared_error\n",
        "\n",
        "lr_predict = lrm.predict(X_test)\n",
        "\n",
        "# R2 Score & Mean Squared Error\n",
        "r2_lr = r2_score(Y_test, lr_predict)\n",
        "print(\"r2 score: \", r2_lr)\n",
        "\n",
        "mse_lr = mean_squared_error(Y_test, lr_predict)\n",
        "print(\"mse score: \", mse_lr)"
      ],
      "execution_count": null,
      "outputs": [
        {
          "output_type": "stream",
          "text": [
            "r2 score:  -0.044669593063891844\n",
            "mse score:  0.061307337549363454\n"
          ],
          "name": "stdout"
        }
      ]
    },
    {
      "cell_type": "code",
      "metadata": {
        "id": "Ra0zLpMZvtdB",
        "colab": {
          "base_uri": "https://localhost:8080/",
          "height": 170
        },
        "outputId": "9a493690-b0bb-41d9-e236-b208938f05ee"
      },
      "source": [
        "print(classification_report(Y_test, lr_predict))"
      ],
      "execution_count": null,
      "outputs": [
        {
          "output_type": "stream",
          "text": [
            "              precision    recall  f1-score   support\n",
            "\n",
            "           0       0.94      0.99      0.97     33944\n",
            "           1       0.55      0.12      0.20      2267\n",
            "\n",
            "    accuracy                           0.94     36211\n",
            "   macro avg       0.75      0.56      0.58     36211\n",
            "weighted avg       0.92      0.94      0.92     36211\n",
            "\n"
          ],
          "name": "stdout"
        }
      ]
    },
    {
      "cell_type": "code",
      "metadata": {
        "id": "McJjoTcWYeXc",
        "colab": {
          "base_uri": "https://localhost:8080/",
          "height": 329
        },
        "outputId": "a8f37017-54dc-4455-cb72-c349951c56b1"
      },
      "source": [
        "lr_probility = lrm.predict_proba(X_test)\n",
        "\n",
        "# Slice out the probaility\n",
        "lr_score = roc_auc_score(Y_test, lr_probility[:, 1])\n",
        "print('ROC AUC Score: ', lr_score)\n",
        "\n",
        "# ROC curve\n",
        "fpr, tpr, thresholds = roc_curve(Y_test, lr_probility[:, 1])\n",
        "plt.plot(fpr, tpr)\n",
        "plt.plot([0,1], [0,1], 'grey', linestyle='--')\n",
        "plt.title('ROC Curve')\n",
        "plt.xlabel('False Positive Rates')\n",
        "plt.ylabel('True Positive Rates')"
      ],
      "execution_count": null,
      "outputs": [
        {
          "output_type": "stream",
          "text": [
            "ROC AUC Score:  0.7957486751837349\n"
          ],
          "name": "stdout"
        },
        {
          "output_type": "execute_result",
          "data": {
            "text/plain": [
              "Text(0, 0.5, 'True Positive Rates')"
            ]
          },
          "metadata": {
            "tags": []
          },
          "execution_count": 35
        },
        {
          "output_type": "display_data",
          "data": {
            "image/png": "[encoded data removed]",
            "text/plain": [
              "<Figure size 432x288 with 1 Axes>"
            ]
          },
          "metadata": {
            "tags": [],
            "needs_background": "light"
          }
        }
      ]
    },
    {
      "cell_type": "markdown",
      "metadata": {
        "id": "cSj3600nZe9O"
      },
      "source": [
        "- Random Forests"
      ]
    },
    {
      "cell_type": "code",
      "metadata": {
        "id": "l6qw29KTZdGF"
      },
      "source": [
        "scores_rf = []\n",
        "# Try different estimators\n",
        "for i in range(50):\n",
        "  rf = RandomForestClassifier(max_depth=3, n_estimators=i+1)\n",
        "  rf.fit(X_train, Y_train)\n",
        "\n",
        "  score = rf.score(X_test, Y_test)\n",
        "  scores_rf.append(score)"
      ],
      "execution_count": null,
      "outputs": []
    },
    {
      "cell_type": "code",
      "metadata": {
        "id": "25Y8dRebbbxp",
        "colab": {
          "base_uri": "https://localhost:8080/",
          "height": 313
        },
        "outputId": "c575b2f4-eb66-4494-8cda-77d112b6d3b8"
      },
      "source": [
        "plt.scatter(range(1,51), scores_rf)\n",
        "plt.title('Hyperparameters Tuning for Random Forests', weight='bold')\n",
        "plt.xlabel('n_estimators')\n",
        "plt.ylabel('Score')"
      ],
      "execution_count": null,
      "outputs": [
        {
          "output_type": "execute_result",
          "data": {
            "text/plain": [
              "Text(0, 0.5, 'Score')"
            ]
          },
          "metadata": {
            "tags": []
          },
          "execution_count": 37
        },
        {
          "output_type": "display_data",
          "data": {
            "image/png": "[encoded data removed]",
            "text/plain": [
              "<Figure size 432x288 with 1 Axes>"
            ]
          },
          "metadata": {
            "tags": [],
            "needs_background": "light"
          }
        }
      ]
    },
    {
      "cell_type": "markdown",
      "metadata": {
        "id": "RoMA-HjteFks"
      },
      "source": [
        "Each run time the results for different estimators would be differnet. Choose the best performance. "
      ]
    },
    {
      "cell_type": "markdown",
      "metadata": {
        "id": "K_Pw-_b0ocn2"
      },
      "source": [
        "Scores\n",
        "\n",
        "\n",
        "1.   Default Score\n",
        "2.   R2 & MSE\n",
        "3.   Classfication Report\n",
        "4.   ROC AUC\n"
      ]
    },
    {
      "cell_type": "code",
      "metadata": {
        "id": "wEn0hWradHtT",
        "colab": {
          "base_uri": "https://localhost:8080/",
          "height": 34
        },
        "outputId": "f367f2db-0e2c-479f-ca08-681ef663fa9f"
      },
      "source": [
        "\n",
        "rfm = RandomForestClassifier(max_depth=5, n_estimators=scores_rf.index(max(scores_rf)))\n",
        "rfm.fit(X_train, Y_train)\n",
        "\n",
        "rfm.score(X_test, Y_test)"
      ],
      "execution_count": null,
      "outputs": [
        {
          "output_type": "execute_result",
          "data": {
            "text/plain": [
              "0.9386650465328216"
            ]
          },
          "metadata": {
            "tags": []
          },
          "execution_count": 38
        }
      ]
    },
    {
      "cell_type": "code",
      "metadata": {
        "id": "OQ3iF_MZhBi-",
        "colab": {
          "base_uri": "https://localhost:8080/",
          "height": 51
        },
        "outputId": "18e143e7-cf0d-4419-f2ae-53955beee4cd"
      },
      "source": [
        "rf_predict = rfm.predict(X_test)\n",
        "\n",
        "# R2 Score & Mean Squared Error\n",
        "r2_rf = r2_score(Y_test, rf_predict)\n",
        "print(\"r2 score: \", r2_rf)\n",
        "\n",
        "mse_rf = mean_squared_error(Y_test, rf_predict)\n",
        "print(\"mse score: \", mse_rf)"
      ],
      "execution_count": null,
      "outputs": [
        {
          "output_type": "stream",
          "text": [
            "r2 score:  -0.04514016495265949\n",
            "mse score:  0.06133495346717848\n"
          ],
          "name": "stdout"
        }
      ]
    },
    {
      "cell_type": "code",
      "metadata": {
        "id": "ErLVLjQyvRcD",
        "colab": {
          "base_uri": "https://localhost:8080/",
          "height": 170
        },
        "outputId": "e8c876d7-c388-4a1c-97c6-4b76169ffb6b"
      },
      "source": [
        "print(classification_report(Y_test, rf_predict))"
      ],
      "execution_count": null,
      "outputs": [
        {
          "output_type": "stream",
          "text": [
            "              precision    recall  f1-score   support\n",
            "\n",
            "           0       0.94      1.00      0.97     33944\n",
            "           1       0.56      0.09      0.16      2267\n",
            "\n",
            "    accuracy                           0.94     36211\n",
            "   macro avg       0.75      0.54      0.56     36211\n",
            "weighted avg       0.92      0.94      0.92     36211\n",
            "\n"
          ],
          "name": "stdout"
        }
      ]
    },
    {
      "cell_type": "code",
      "metadata": {
        "id": "QaEEo6OVdUF1",
        "colab": {
          "base_uri": "https://localhost:8080/",
          "height": 329
        },
        "outputId": "c405b1a9-721d-4fa8-c9ae-6ab3c345b00e"
      },
      "source": [
        "rf_probility = rfm.predict_proba(X_test)\n",
        "\n",
        "# Slice out the probaility\n",
        "rf_score = roc_auc_score(Y_test, rf_probility[:, 1])\n",
        "print('ROC AUC Score: ', rf_score)\n",
        "\n",
        "# ROC curve\n",
        "fpr, tpr, thresholds = roc_curve(Y_test, rf_probility[:, 1])\n",
        "plt.plot(fpr, tpr)\n",
        "plt.plot([0,1], [0,1], 'grey', linestyle='--')\n",
        "plt.title('ROC Curve')\n",
        "plt.xlabel('False Positive Rates')\n",
        "plt.ylabel('True Positive Rates')"
      ],
      "execution_count": null,
      "outputs": [
        {
          "output_type": "stream",
          "text": [
            "ROC AUC Score:  0.8448295986820089\n"
          ],
          "name": "stdout"
        },
        {
          "output_type": "execute_result",
          "data": {
            "text/plain": [
              "Text(0, 0.5, 'True Positive Rates')"
            ]
          },
          "metadata": {
            "tags": []
          },
          "execution_count": 41
        },
        {
          "output_type": "display_data",
          "data": {
            "image/png": "[encoded data removed]",
            "text/plain": [
              "<Figure size 432x288 with 1 Axes>"
            ]
          },
          "metadata": {
            "tags": [],
            "needs_background": "light"
          }
        }
      ]
    },
    {
      "cell_type": "markdown",
      "metadata": {
        "id": "wORNFf4Q2sCk"
      },
      "source": [
        "- Xgboost\n",
        "\n",
        "Due to the data, xgboost algorithm[[2]](#reference) could be tried. \n",
        "\n",
        "\n",
        "\\\n",
        "The default xgboost uses 'gbtree' booster, which is suitable for the dataset.   \n",
        "gamma[[3]](#reference): minimum loss reduction required to make a further partition on a leaf node of the tree, a complexity control.\n",
        "The higher Gamma is, the higher the regularization. Default value is 0 (no regularization).\n"
      ]
    },
    {
      "cell_type": "code",
      "metadata": {
        "id": "suHdoFMW2qEd"
      },
      "source": [
        "scores_xgb = []\n",
        "\n",
        "for i in range(20): \n",
        "  xgb = XGBClassifier(gamma=i)\n",
        "  xgb.fit(X_train, Y_train) \n",
        "  scores_xgb.append(xgb.score(X_test, Y_test))"
      ],
      "execution_count": null,
      "outputs": []
    },
    {
      "cell_type": "code",
      "metadata": {
        "id": "dDPaHeSN5iKp",
        "colab": {
          "base_uri": "https://localhost:8080/",
          "height": 312
        },
        "outputId": "8e72c888-f61c-4548-b2c5-bcee33f1db15"
      },
      "source": [
        "plt.scatter(range(20), scores_xgb)\n",
        "plt.title('Hyperparameters Tuning for XGBoost', weight='bold')\n",
        "plt.xlabel('gamma')\n",
        "plt.ylabel('Score')"
      ],
      "execution_count": null,
      "outputs": [
        {
          "output_type": "execute_result",
          "data": {
            "text/plain": [
              "Text(0, 0.5, 'Score')"
            ]
          },
          "metadata": {
            "tags": []
          },
          "execution_count": 58
        },
        {
          "output_type": "display_data",
          "data": {
            "image/png": "[encoded data removed]",
            "text/plain": [
              "<Figure size 432x288 with 1 Axes>"
            ]
          },
          "metadata": {
            "tags": [],
            "needs_background": "light"
          }
        }
      ]
    },
    {
      "cell_type": "markdown",
      "metadata": {
        "id": "mGmz0txZ_SsN"
      },
      "source": [
        "Change more hyperparameters. "
      ]
    },
    {
      "cell_type": "code",
      "metadata": {
        "id": "RvYTFpDQ_YdA"
      },
      "source": [
        "parameters = {\"learning_rate\": [0.1, 0.01, 0.001],\n",
        "               \"gamma\" : [0.01, 0.1, 1, 2, 5, 10, 12, 15],\n",
        "               \"max_depth\": [2, 4, 7, 10],\n",
        "               \"colsample_bytree\": [0.3, 0.6, 0.8, 1.0],\n",
        "               \"subsample\": [0.2, 0.4, 0.5, 0.6, 0.7],\n",
        "               \"reg_alpha\": [0, 0.5, 1],\n",
        "               \"reg_lambda\": [1, 1.5, 2, 3.5, 4.5],\n",
        "               \"min_child_weight\": [1, 3, 5, 7],\n",
        "               \"n_estimators\": [50, 100, 250, 500, 1000]}"
      ],
      "execution_count": null,
      "outputs": []
    },
    {
      "cell_type": "code",
      "metadata": {
        "id": "q_H7aZ34_l9g",
        "colab": {
          "base_uri": "https://localhost:8080/",
          "height": 1000
        },
        "outputId": "120eab20-968f-4d5f-dba5-ddb7538d0e9a"
      },
      "source": [
        "# Use RandomizedSearchCV to do randomized search on hyper parameters. \n",
        "from sklearn.model_selection import RandomizedSearchCV\n",
        "\n",
        "xgb = XGBClassifier()\n",
        "xgb_rscv = RandomizedSearchCV(xgb, param_distributions = parameters, scoring = \"f1_micro\",\n",
        "                             cv = 7, verbose = 3, random_state = 40)\n",
        "xgbm = xgb_rscv.fit(X_train, Y_train)"
      ],
      "execution_count": null,
      "outputs": [
        {
          "output_type": "stream",
          "text": [
            "Fitting 7 folds for each of 10 candidates, totalling 70 fits\n",
            "[CV] subsample=0.6, reg_lambda=1, reg_alpha=0, n_estimators=50, min_child_weight=5, max_depth=10, learning_rate=0.1, gamma=1, colsample_bytree=1.0 \n"
          ],
          "name": "stdout"
        },
        {
          "output_type": "stream",
          "text": [
            "[Parallel(n_jobs=1)]: Using backend SequentialBackend with 1 concurrent workers.\n"
          ],
          "name": "stderr"
        },
        {
          "output_type": "stream",
          "text": [
            "[CV]  subsample=0.6, reg_lambda=1, reg_alpha=0, n_estimators=50, min_child_weight=5, max_depth=10, learning_rate=0.1, gamma=1, colsample_bytree=1.0, score=0.938, total=  10.7s\n",
            "[CV] subsample=0.6, reg_lambda=1, reg_alpha=0, n_estimators=50, min_child_weight=5, max_depth=10, learning_rate=0.1, gamma=1, colsample_bytree=1.0 \n"
          ],
          "name": "stdout"
        },
        {
          "output_type": "stream",
          "text": [
            "[Parallel(n_jobs=1)]: Done   1 out of   1 | elapsed:   10.7s remaining:    0.0s\n"
          ],
          "name": "stderr"
        },
        {
          "output_type": "stream",
          "text": [
            "[CV]  subsample=0.6, reg_lambda=1, reg_alpha=0, n_estimators=50, min_child_weight=5, max_depth=10, learning_rate=0.1, gamma=1, colsample_bytree=1.0, score=0.939, total=  10.6s\n",
            "[CV] subsample=0.6, reg_lambda=1, reg_alpha=0, n_estimators=50, min_child_weight=5, max_depth=10, learning_rate=0.1, gamma=1, colsample_bytree=1.0 \n"
          ],
          "name": "stdout"
        },
        {
          "output_type": "stream",
          "text": [
            "[Parallel(n_jobs=1)]: Done   2 out of   2 | elapsed:   21.3s remaining:    0.0s\n"
          ],
          "name": "stderr"
        },
        {
          "output_type": "stream",
          "text": [
            "[CV]  subsample=0.6, reg_lambda=1, reg_alpha=0, n_estimators=50, min_child_weight=5, max_depth=10, learning_rate=0.1, gamma=1, colsample_bytree=1.0, score=0.938, total=  10.5s\n",
            "[CV] subsample=0.6, reg_lambda=1, reg_alpha=0, n_estimators=50, min_child_weight=5, max_depth=10, learning_rate=0.1, gamma=1, colsample_bytree=1.0 \n",
            "[CV]  subsample=0.6, reg_lambda=1, reg_alpha=0, n_estimators=50, min_child_weight=5, max_depth=10, learning_rate=0.1, gamma=1, colsample_bytree=1.0, score=0.938, total=  10.6s\n",
            "[CV] subsample=0.6, reg_lambda=1, reg_alpha=0, n_estimators=50, min_child_weight=5, max_depth=10, learning_rate=0.1, gamma=1, colsample_bytree=1.0 \n",
            "[CV]  subsample=0.6, reg_lambda=1, reg_alpha=0, n_estimators=50, min_child_weight=5, max_depth=10, learning_rate=0.1, gamma=1, colsample_bytree=1.0, score=0.940, total=  10.6s\n",
            "[CV] subsample=0.6, reg_lambda=1, reg_alpha=0, n_estimators=50, min_child_weight=5, max_depth=10, learning_rate=0.1, gamma=1, colsample_bytree=1.0 \n",
            "[CV]  subsample=0.6, reg_lambda=1, reg_alpha=0, n_estimators=50, min_child_weight=5, max_depth=10, learning_rate=0.1, gamma=1, colsample_bytree=1.0, score=0.938, total=  10.6s\n",
            "[CV] subsample=0.6, reg_lambda=1, reg_alpha=0, n_estimators=50, min_child_weight=5, max_depth=10, learning_rate=0.1, gamma=1, colsample_bytree=1.0 \n",
            "[CV]  subsample=0.6, reg_lambda=1, reg_alpha=0, n_estimators=50, min_child_weight=5, max_depth=10, learning_rate=0.1, gamma=1, colsample_bytree=1.0, score=0.937, total=  10.5s\n",
            "[CV] subsample=0.7, reg_lambda=3.5, reg_alpha=1, n_estimators=1000, min_child_weight=1, max_depth=2, learning_rate=0.01, gamma=12, colsample_bytree=0.3 \n",
            "[CV]  subsample=0.7, reg_lambda=3.5, reg_alpha=1, n_estimators=1000, min_child_weight=1, max_depth=2, learning_rate=0.01, gamma=12, colsample_bytree=0.3, score=0.940, total=  29.6s\n",
            "[CV] subsample=0.7, reg_lambda=3.5, reg_alpha=1, n_estimators=1000, min_child_weight=1, max_depth=2, learning_rate=0.01, gamma=12, colsample_bytree=0.3 \n",
            "[CV]  subsample=0.7, reg_lambda=3.5, reg_alpha=1, n_estimators=1000, min_child_weight=1, max_depth=2, learning_rate=0.01, gamma=12, colsample_bytree=0.3, score=0.939, total=  29.5s\n",
            "[CV] subsample=0.7, reg_lambda=3.5, reg_alpha=1, n_estimators=1000, min_child_weight=1, max_depth=2, learning_rate=0.01, gamma=12, colsample_bytree=0.3 \n",
            "[CV]  subsample=0.7, reg_lambda=3.5, reg_alpha=1, n_estimators=1000, min_child_weight=1, max_depth=2, learning_rate=0.01, gamma=12, colsample_bytree=0.3, score=0.937, total=  29.5s\n",
            "[CV] subsample=0.7, reg_lambda=3.5, reg_alpha=1, n_estimators=1000, min_child_weight=1, max_depth=2, learning_rate=0.01, gamma=12, colsample_bytree=0.3 \n",
            "[CV]  subsample=0.7, reg_lambda=3.5, reg_alpha=1, n_estimators=1000, min_child_weight=1, max_depth=2, learning_rate=0.01, gamma=12, colsample_bytree=0.3, score=0.939, total=  29.5s\n",
            "[CV] subsample=0.7, reg_lambda=3.5, reg_alpha=1, n_estimators=1000, min_child_weight=1, max_depth=2, learning_rate=0.01, gamma=12, colsample_bytree=0.3 \n",
            "[CV]  subsample=0.7, reg_lambda=3.5, reg_alpha=1, n_estimators=1000, min_child_weight=1, max_depth=2, learning_rate=0.01, gamma=12, colsample_bytree=0.3, score=0.939, total=  29.7s\n",
            "[CV] subsample=0.7, reg_lambda=3.5, reg_alpha=1, n_estimators=1000, min_child_weight=1, max_depth=2, learning_rate=0.01, gamma=12, colsample_bytree=0.3 \n",
            "[CV]  subsample=0.7, reg_lambda=3.5, reg_alpha=1, n_estimators=1000, min_child_weight=1, max_depth=2, learning_rate=0.01, gamma=12, colsample_bytree=0.3, score=0.939, total=  29.7s\n",
            "[CV] subsample=0.7, reg_lambda=3.5, reg_alpha=1, n_estimators=1000, min_child_weight=1, max_depth=2, learning_rate=0.01, gamma=12, colsample_bytree=0.3 \n",
            "[CV]  subsample=0.7, reg_lambda=3.5, reg_alpha=1, n_estimators=1000, min_child_weight=1, max_depth=2, learning_rate=0.01, gamma=12, colsample_bytree=0.3, score=0.939, total=  29.7s\n",
            "[CV] subsample=0.4, reg_lambda=1.5, reg_alpha=0, n_estimators=250, min_child_weight=3, max_depth=10, learning_rate=0.01, gamma=15, colsample_bytree=0.3 \n",
            "[CV]  subsample=0.4, reg_lambda=1.5, reg_alpha=0, n_estimators=250, min_child_weight=3, max_depth=10, learning_rate=0.01, gamma=15, colsample_bytree=0.3, score=0.937, total=  19.5s\n",
            "[CV] subsample=0.4, reg_lambda=1.5, reg_alpha=0, n_estimators=250, min_child_weight=3, max_depth=10, learning_rate=0.01, gamma=15, colsample_bytree=0.3 \n",
            "[CV]  subsample=0.4, reg_lambda=1.5, reg_alpha=0, n_estimators=250, min_child_weight=3, max_depth=10, learning_rate=0.01, gamma=15, colsample_bytree=0.3, score=0.937, total=  19.5s\n",
            "[CV] subsample=0.4, reg_lambda=1.5, reg_alpha=0, n_estimators=250, min_child_weight=3, max_depth=10, learning_rate=0.01, gamma=15, colsample_bytree=0.3 \n",
            "[CV]  subsample=0.4, reg_lambda=1.5, reg_alpha=0, n_estimators=250, min_child_weight=3, max_depth=10, learning_rate=0.01, gamma=15, colsample_bytree=0.3, score=0.936, total=  19.3s\n",
            "[CV] subsample=0.4, reg_lambda=1.5, reg_alpha=0, n_estimators=250, min_child_weight=3, max_depth=10, learning_rate=0.01, gamma=15, colsample_bytree=0.3 \n",
            "[CV]  subsample=0.4, reg_lambda=1.5, reg_alpha=0, n_estimators=250, min_child_weight=3, max_depth=10, learning_rate=0.01, gamma=15, colsample_bytree=0.3, score=0.937, total=  19.5s\n",
            "[CV] subsample=0.4, reg_lambda=1.5, reg_alpha=0, n_estimators=250, min_child_weight=3, max_depth=10, learning_rate=0.01, gamma=15, colsample_bytree=0.3 \n",
            "[CV]  subsample=0.4, reg_lambda=1.5, reg_alpha=0, n_estimators=250, min_child_weight=3, max_depth=10, learning_rate=0.01, gamma=15, colsample_bytree=0.3, score=0.937, total=  19.4s\n",
            "[CV] subsample=0.4, reg_lambda=1.5, reg_alpha=0, n_estimators=250, min_child_weight=3, max_depth=10, learning_rate=0.01, gamma=15, colsample_bytree=0.3 \n",
            "[CV]  subsample=0.4, reg_lambda=1.5, reg_alpha=0, n_estimators=250, min_child_weight=3, max_depth=10, learning_rate=0.01, gamma=15, colsample_bytree=0.3, score=0.937, total=  19.6s\n",
            "[CV] subsample=0.4, reg_lambda=1.5, reg_alpha=0, n_estimators=250, min_child_weight=3, max_depth=10, learning_rate=0.01, gamma=15, colsample_bytree=0.3 \n",
            "[CV]  subsample=0.4, reg_lambda=1.5, reg_alpha=0, n_estimators=250, min_child_weight=3, max_depth=10, learning_rate=0.01, gamma=15, colsample_bytree=0.3, score=0.937, total=  19.5s\n",
            "[CV] subsample=0.4, reg_lambda=2, reg_alpha=0.5, n_estimators=1000, min_child_weight=3, max_depth=4, learning_rate=0.1, gamma=2, colsample_bytree=0.6 \n",
            "[CV]  subsample=0.4, reg_lambda=2, reg_alpha=0.5, n_estimators=1000, min_child_weight=3, max_depth=4, learning_rate=0.1, gamma=2, colsample_bytree=0.6, score=0.937, total=  58.3s\n",
            "[CV] subsample=0.4, reg_lambda=2, reg_alpha=0.5, n_estimators=1000, min_child_weight=3, max_depth=4, learning_rate=0.1, gamma=2, colsample_bytree=0.6 \n",
            "[CV]  subsample=0.4, reg_lambda=2, reg_alpha=0.5, n_estimators=1000, min_child_weight=3, max_depth=4, learning_rate=0.1, gamma=2, colsample_bytree=0.6, score=0.937, total=  58.8s\n",
            "[CV] subsample=0.4, reg_lambda=2, reg_alpha=0.5, n_estimators=1000, min_child_weight=3, max_depth=4, learning_rate=0.1, gamma=2, colsample_bytree=0.6 \n",
            "[CV]  subsample=0.4, reg_lambda=2, reg_alpha=0.5, n_estimators=1000, min_child_weight=3, max_depth=4, learning_rate=0.1, gamma=2, colsample_bytree=0.6, score=0.937, total=  58.6s\n",
            "[CV] subsample=0.4, reg_lambda=2, reg_alpha=0.5, n_estimators=1000, min_child_weight=3, max_depth=4, learning_rate=0.1, gamma=2, colsample_bytree=0.6 \n",
            "[CV]  subsample=0.4, reg_lambda=2, reg_alpha=0.5, n_estimators=1000, min_child_weight=3, max_depth=4, learning_rate=0.1, gamma=2, colsample_bytree=0.6, score=0.938, total=  58.4s\n",
            "[CV] subsample=0.4, reg_lambda=2, reg_alpha=0.5, n_estimators=1000, min_child_weight=3, max_depth=4, learning_rate=0.1, gamma=2, colsample_bytree=0.6 \n",
            "[CV]  subsample=0.4, reg_lambda=2, reg_alpha=0.5, n_estimators=1000, min_child_weight=3, max_depth=4, learning_rate=0.1, gamma=2, colsample_bytree=0.6, score=0.938, total=  58.3s\n",
            "[CV] subsample=0.4, reg_lambda=2, reg_alpha=0.5, n_estimators=1000, min_child_weight=3, max_depth=4, learning_rate=0.1, gamma=2, colsample_bytree=0.6 \n",
            "[CV]  subsample=0.4, reg_lambda=2, reg_alpha=0.5, n_estimators=1000, min_child_weight=3, max_depth=4, learning_rate=0.1, gamma=2, colsample_bytree=0.6, score=0.938, total=  58.5s\n",
            "[CV] subsample=0.4, reg_lambda=2, reg_alpha=0.5, n_estimators=1000, min_child_weight=3, max_depth=4, learning_rate=0.1, gamma=2, colsample_bytree=0.6 \n",
            "[CV]  subsample=0.4, reg_lambda=2, reg_alpha=0.5, n_estimators=1000, min_child_weight=3, max_depth=4, learning_rate=0.1, gamma=2, colsample_bytree=0.6, score=0.937, total=  58.6s\n",
            "[CV] subsample=0.4, reg_lambda=2, reg_alpha=0, n_estimators=250, min_child_weight=5, max_depth=2, learning_rate=0.001, gamma=15, colsample_bytree=0.3 \n",
            "[CV]  subsample=0.4, reg_lambda=2, reg_alpha=0, n_estimators=250, min_child_weight=5, max_depth=2, learning_rate=0.001, gamma=15, colsample_bytree=0.3, score=0.936, total=   7.5s\n",
            "[CV] subsample=0.4, reg_lambda=2, reg_alpha=0, n_estimators=250, min_child_weight=5, max_depth=2, learning_rate=0.001, gamma=15, colsample_bytree=0.3 \n",
            "[CV]  subsample=0.4, reg_lambda=2, reg_alpha=0, n_estimators=250, min_child_weight=5, max_depth=2, learning_rate=0.001, gamma=15, colsample_bytree=0.3, score=0.936, total=   7.5s\n",
            "[CV] subsample=0.4, reg_lambda=2, reg_alpha=0, n_estimators=250, min_child_weight=5, max_depth=2, learning_rate=0.001, gamma=15, colsample_bytree=0.3 \n",
            "[CV]  subsample=0.4, reg_lambda=2, reg_alpha=0, n_estimators=250, min_child_weight=5, max_depth=2, learning_rate=0.001, gamma=15, colsample_bytree=0.3, score=0.936, total=   7.5s\n",
            "[CV] subsample=0.4, reg_lambda=2, reg_alpha=0, n_estimators=250, min_child_weight=5, max_depth=2, learning_rate=0.001, gamma=15, colsample_bytree=0.3 \n",
            "[CV]  subsample=0.4, reg_lambda=2, reg_alpha=0, n_estimators=250, min_child_weight=5, max_depth=2, learning_rate=0.001, gamma=15, colsample_bytree=0.3, score=0.936, total=   7.5s\n",
            "[CV] subsample=0.4, reg_lambda=2, reg_alpha=0, n_estimators=250, min_child_weight=5, max_depth=2, learning_rate=0.001, gamma=15, colsample_bytree=0.3 \n",
            "[CV]  subsample=0.4, reg_lambda=2, reg_alpha=0, n_estimators=250, min_child_weight=5, max_depth=2, learning_rate=0.001, gamma=15, colsample_bytree=0.3, score=0.936, total=   7.5s\n",
            "[CV] subsample=0.4, reg_lambda=2, reg_alpha=0, n_estimators=250, min_child_weight=5, max_depth=2, learning_rate=0.001, gamma=15, colsample_bytree=0.3 \n",
            "[CV]  subsample=0.4, reg_lambda=2, reg_alpha=0, n_estimators=250, min_child_weight=5, max_depth=2, learning_rate=0.001, gamma=15, colsample_bytree=0.3, score=0.936, total=   7.5s\n",
            "[CV] subsample=0.4, reg_lambda=2, reg_alpha=0, n_estimators=250, min_child_weight=5, max_depth=2, learning_rate=0.001, gamma=15, colsample_bytree=0.3 \n",
            "[CV]  subsample=0.4, reg_lambda=2, reg_alpha=0, n_estimators=250, min_child_weight=5, max_depth=2, learning_rate=0.001, gamma=15, colsample_bytree=0.3, score=0.936, total=   7.5s\n",
            "[CV] subsample=0.7, reg_lambda=1, reg_alpha=1, n_estimators=50, min_child_weight=1, max_depth=10, learning_rate=0.01, gamma=10, colsample_bytree=0.6 \n",
            "[CV]  subsample=0.7, reg_lambda=1, reg_alpha=1, n_estimators=50, min_child_weight=1, max_depth=10, learning_rate=0.01, gamma=10, colsample_bytree=0.6, score=0.938, total=   6.3s\n",
            "[CV] subsample=0.7, reg_lambda=1, reg_alpha=1, n_estimators=50, min_child_weight=1, max_depth=10, learning_rate=0.01, gamma=10, colsample_bytree=0.6 \n",
            "[CV]  subsample=0.7, reg_lambda=1, reg_alpha=1, n_estimators=50, min_child_weight=1, max_depth=10, learning_rate=0.01, gamma=10, colsample_bytree=0.6, score=0.938, total=   6.2s\n",
            "[CV] subsample=0.7, reg_lambda=1, reg_alpha=1, n_estimators=50, min_child_weight=1, max_depth=10, learning_rate=0.01, gamma=10, colsample_bytree=0.6 \n",
            "[CV]  subsample=0.7, reg_lambda=1, reg_alpha=1, n_estimators=50, min_child_weight=1, max_depth=10, learning_rate=0.01, gamma=10, colsample_bytree=0.6, score=0.937, total=   6.3s\n",
            "[CV] subsample=0.7, reg_lambda=1, reg_alpha=1, n_estimators=50, min_child_weight=1, max_depth=10, learning_rate=0.01, gamma=10, colsample_bytree=0.6 \n",
            "[CV]  subsample=0.7, reg_lambda=1, reg_alpha=1, n_estimators=50, min_child_weight=1, max_depth=10, learning_rate=0.01, gamma=10, colsample_bytree=0.6, score=0.938, total=   6.3s\n",
            "[CV] subsample=0.7, reg_lambda=1, reg_alpha=1, n_estimators=50, min_child_weight=1, max_depth=10, learning_rate=0.01, gamma=10, colsample_bytree=0.6 \n",
            "[CV]  subsample=0.7, reg_lambda=1, reg_alpha=1, n_estimators=50, min_child_weight=1, max_depth=10, learning_rate=0.01, gamma=10, colsample_bytree=0.6, score=0.938, total=   6.3s\n",
            "[CV] subsample=0.7, reg_lambda=1, reg_alpha=1, n_estimators=50, min_child_weight=1, max_depth=10, learning_rate=0.01, gamma=10, colsample_bytree=0.6 \n",
            "[CV]  subsample=0.7, reg_lambda=1, reg_alpha=1, n_estimators=50, min_child_weight=1, max_depth=10, learning_rate=0.01, gamma=10, colsample_bytree=0.6, score=0.938, total=   6.3s\n",
            "[CV] subsample=0.7, reg_lambda=1, reg_alpha=1, n_estimators=50, min_child_weight=1, max_depth=10, learning_rate=0.01, gamma=10, colsample_bytree=0.6 \n",
            "[CV]  subsample=0.7, reg_lambda=1, reg_alpha=1, n_estimators=50, min_child_weight=1, max_depth=10, learning_rate=0.01, gamma=10, colsample_bytree=0.6, score=0.937, total=   6.3s\n",
            "[CV] subsample=0.5, reg_lambda=3.5, reg_alpha=1, n_estimators=1000, min_child_weight=1, max_depth=7, learning_rate=0.001, gamma=15, colsample_bytree=0.3 \n",
            "[CV]  subsample=0.5, reg_lambda=3.5, reg_alpha=1, n_estimators=1000, min_child_weight=1, max_depth=7, learning_rate=0.001, gamma=15, colsample_bytree=0.3, score=0.936, total=  57.8s\n",
            "[CV] subsample=0.5, reg_lambda=3.5, reg_alpha=1, n_estimators=1000, min_child_weight=1, max_depth=7, learning_rate=0.001, gamma=15, colsample_bytree=0.3 \n",
            "[CV]  subsample=0.5, reg_lambda=3.5, reg_alpha=1, n_estimators=1000, min_child_weight=1, max_depth=7, learning_rate=0.001, gamma=15, colsample_bytree=0.3, score=0.936, total=  57.5s\n",
            "[CV] subsample=0.5, reg_lambda=3.5, reg_alpha=1, n_estimators=1000, min_child_weight=1, max_depth=7, learning_rate=0.001, gamma=15, colsample_bytree=0.3 \n",
            "[CV]  subsample=0.5, reg_lambda=3.5, reg_alpha=1, n_estimators=1000, min_child_weight=1, max_depth=7, learning_rate=0.001, gamma=15, colsample_bytree=0.3, score=0.936, total=  57.7s\n",
            "[CV] subsample=0.5, reg_lambda=3.5, reg_alpha=1, n_estimators=1000, min_child_weight=1, max_depth=7, learning_rate=0.001, gamma=15, colsample_bytree=0.3 \n",
            "[CV]  subsample=0.5, reg_lambda=3.5, reg_alpha=1, n_estimators=1000, min_child_weight=1, max_depth=7, learning_rate=0.001, gamma=15, colsample_bytree=0.3, score=0.936, total=  58.0s\n",
            "[CV] subsample=0.5, reg_lambda=3.5, reg_alpha=1, n_estimators=1000, min_child_weight=1, max_depth=7, learning_rate=0.001, gamma=15, colsample_bytree=0.3 \n",
            "[CV]  subsample=0.5, reg_lambda=3.5, reg_alpha=1, n_estimators=1000, min_child_weight=1, max_depth=7, learning_rate=0.001, gamma=15, colsample_bytree=0.3, score=0.936, total=  58.8s\n",
            "[CV] subsample=0.5, reg_lambda=3.5, reg_alpha=1, n_estimators=1000, min_child_weight=1, max_depth=7, learning_rate=0.001, gamma=15, colsample_bytree=0.3 \n",
            "[CV]  subsample=0.5, reg_lambda=3.5, reg_alpha=1, n_estimators=1000, min_child_weight=1, max_depth=7, learning_rate=0.001, gamma=15, colsample_bytree=0.3, score=0.936, total=  58.3s\n",
            "[CV] subsample=0.5, reg_lambda=3.5, reg_alpha=1, n_estimators=1000, min_child_weight=1, max_depth=7, learning_rate=0.001, gamma=15, colsample_bytree=0.3 \n",
            "[CV]  subsample=0.5, reg_lambda=3.5, reg_alpha=1, n_estimators=1000, min_child_weight=1, max_depth=7, learning_rate=0.001, gamma=15, colsample_bytree=0.3, score=0.936, total=  58.6s\n",
            "[CV] subsample=0.6, reg_lambda=1, reg_alpha=1, n_estimators=500, min_child_weight=5, max_depth=4, learning_rate=0.1, gamma=0.01, colsample_bytree=0.8 \n",
            "[CV]  subsample=0.6, reg_lambda=1, reg_alpha=1, n_estimators=500, min_child_weight=5, max_depth=4, learning_rate=0.1, gamma=0.01, colsample_bytree=0.8, score=0.938, total=  34.9s\n",
            "[CV] subsample=0.6, reg_lambda=1, reg_alpha=1, n_estimators=500, min_child_weight=5, max_depth=4, learning_rate=0.1, gamma=0.01, colsample_bytree=0.8 \n",
            "[CV]  subsample=0.6, reg_lambda=1, reg_alpha=1, n_estimators=500, min_child_weight=5, max_depth=4, learning_rate=0.1, gamma=0.01, colsample_bytree=0.8, score=0.939, total=  35.0s\n",
            "[CV] subsample=0.6, reg_lambda=1, reg_alpha=1, n_estimators=500, min_child_weight=5, max_depth=4, learning_rate=0.1, gamma=0.01, colsample_bytree=0.8 \n",
            "[CV]  subsample=0.6, reg_lambda=1, reg_alpha=1, n_estimators=500, min_child_weight=5, max_depth=4, learning_rate=0.1, gamma=0.01, colsample_bytree=0.8, score=0.937, total=  34.8s\n",
            "[CV] subsample=0.6, reg_lambda=1, reg_alpha=1, n_estimators=500, min_child_weight=5, max_depth=4, learning_rate=0.1, gamma=0.01, colsample_bytree=0.8 \n",
            "[CV]  subsample=0.6, reg_lambda=1, reg_alpha=1, n_estimators=500, min_child_weight=5, max_depth=4, learning_rate=0.1, gamma=0.01, colsample_bytree=0.8, score=0.938, total=  35.2s\n",
            "[CV] subsample=0.6, reg_lambda=1, reg_alpha=1, n_estimators=500, min_child_weight=5, max_depth=4, learning_rate=0.1, gamma=0.01, colsample_bytree=0.8 \n",
            "[CV]  subsample=0.6, reg_lambda=1, reg_alpha=1, n_estimators=500, min_child_weight=5, max_depth=4, learning_rate=0.1, gamma=0.01, colsample_bytree=0.8, score=0.939, total=  35.1s\n",
            "[CV] subsample=0.6, reg_lambda=1, reg_alpha=1, n_estimators=500, min_child_weight=5, max_depth=4, learning_rate=0.1, gamma=0.01, colsample_bytree=0.8 \n",
            "[CV]  subsample=0.6, reg_lambda=1, reg_alpha=1, n_estimators=500, min_child_weight=5, max_depth=4, learning_rate=0.1, gamma=0.01, colsample_bytree=0.8, score=0.940, total=  38.1s\n",
            "[CV] subsample=0.6, reg_lambda=1, reg_alpha=1, n_estimators=500, min_child_weight=5, max_depth=4, learning_rate=0.1, gamma=0.01, colsample_bytree=0.8 \n",
            "[CV]  subsample=0.6, reg_lambda=1, reg_alpha=1, n_estimators=500, min_child_weight=5, max_depth=4, learning_rate=0.1, gamma=0.01, colsample_bytree=0.8, score=0.937, total=  34.8s\n",
            "[CV] subsample=0.6, reg_lambda=1.5, reg_alpha=0, n_estimators=50, min_child_weight=7, max_depth=7, learning_rate=0.01, gamma=1, colsample_bytree=0.6 \n",
            "[CV]  subsample=0.6, reg_lambda=1.5, reg_alpha=0, n_estimators=50, min_child_weight=7, max_depth=7, learning_rate=0.01, gamma=1, colsample_bytree=0.6, score=0.938, total=   5.0s\n",
            "[CV] subsample=0.6, reg_lambda=1.5, reg_alpha=0, n_estimators=50, min_child_weight=7, max_depth=7, learning_rate=0.01, gamma=1, colsample_bytree=0.6 \n",
            "[CV]  subsample=0.6, reg_lambda=1.5, reg_alpha=0, n_estimators=50, min_child_weight=7, max_depth=7, learning_rate=0.01, gamma=1, colsample_bytree=0.6, score=0.938, total=   4.9s\n",
            "[CV] subsample=0.6, reg_lambda=1.5, reg_alpha=0, n_estimators=50, min_child_weight=7, max_depth=7, learning_rate=0.01, gamma=1, colsample_bytree=0.6 \n",
            "[CV]  subsample=0.6, reg_lambda=1.5, reg_alpha=0, n_estimators=50, min_child_weight=7, max_depth=7, learning_rate=0.01, gamma=1, colsample_bytree=0.6, score=0.938, total=   5.0s\n",
            "[CV] subsample=0.6, reg_lambda=1.5, reg_alpha=0, n_estimators=50, min_child_weight=7, max_depth=7, learning_rate=0.01, gamma=1, colsample_bytree=0.6 \n",
            "[CV]  subsample=0.6, reg_lambda=1.5, reg_alpha=0, n_estimators=50, min_child_weight=7, max_depth=7, learning_rate=0.01, gamma=1, colsample_bytree=0.6, score=0.938, total=   5.0s\n",
            "[CV] subsample=0.6, reg_lambda=1.5, reg_alpha=0, n_estimators=50, min_child_weight=7, max_depth=7, learning_rate=0.01, gamma=1, colsample_bytree=0.6 \n",
            "[CV]  subsample=0.6, reg_lambda=1.5, reg_alpha=0, n_estimators=50, min_child_weight=7, max_depth=7, learning_rate=0.01, gamma=1, colsample_bytree=0.6, score=0.939, total=   5.0s\n",
            "[CV] subsample=0.6, reg_lambda=1.5, reg_alpha=0, n_estimators=50, min_child_weight=7, max_depth=7, learning_rate=0.01, gamma=1, colsample_bytree=0.6 \n",
            "[CV]  subsample=0.6, reg_lambda=1.5, reg_alpha=0, n_estimators=50, min_child_weight=7, max_depth=7, learning_rate=0.01, gamma=1, colsample_bytree=0.6, score=0.939, total=   5.1s\n",
            "[CV] subsample=0.6, reg_lambda=1.5, reg_alpha=0, n_estimators=50, min_child_weight=7, max_depth=7, learning_rate=0.01, gamma=1, colsample_bytree=0.6 \n",
            "[CV]  subsample=0.6, reg_lambda=1.5, reg_alpha=0, n_estimators=50, min_child_weight=7, max_depth=7, learning_rate=0.01, gamma=1, colsample_bytree=0.6, score=0.938, total=   5.0s\n",
            "[CV] subsample=0.5, reg_lambda=2, reg_alpha=1, n_estimators=1000, min_child_weight=5, max_depth=2, learning_rate=0.001, gamma=0.1, colsample_bytree=0.6 \n",
            "[CV]  subsample=0.5, reg_lambda=2, reg_alpha=1, n_estimators=1000, min_child_weight=5, max_depth=2, learning_rate=0.001, gamma=0.1, colsample_bytree=0.6, score=0.937, total=  36.3s\n",
            "[CV] subsample=0.5, reg_lambda=2, reg_alpha=1, n_estimators=1000, min_child_weight=5, max_depth=2, learning_rate=0.001, gamma=0.1, colsample_bytree=0.6 \n",
            "[CV]  subsample=0.5, reg_lambda=2, reg_alpha=1, n_estimators=1000, min_child_weight=5, max_depth=2, learning_rate=0.001, gamma=0.1, colsample_bytree=0.6, score=0.937, total=  36.1s\n",
            "[CV] subsample=0.5, reg_lambda=2, reg_alpha=1, n_estimators=1000, min_child_weight=5, max_depth=2, learning_rate=0.001, gamma=0.1, colsample_bytree=0.6 \n",
            "[CV]  subsample=0.5, reg_lambda=2, reg_alpha=1, n_estimators=1000, min_child_weight=5, max_depth=2, learning_rate=0.001, gamma=0.1, colsample_bytree=0.6, score=0.937, total=  36.0s\n",
            "[CV] subsample=0.5, reg_lambda=2, reg_alpha=1, n_estimators=1000, min_child_weight=5, max_depth=2, learning_rate=0.001, gamma=0.1, colsample_bytree=0.6 \n",
            "[CV]  subsample=0.5, reg_lambda=2, reg_alpha=1, n_estimators=1000, min_child_weight=5, max_depth=2, learning_rate=0.001, gamma=0.1, colsample_bytree=0.6, score=0.937, total=  36.4s\n",
            "[CV] subsample=0.5, reg_lambda=2, reg_alpha=1, n_estimators=1000, min_child_weight=5, max_depth=2, learning_rate=0.001, gamma=0.1, colsample_bytree=0.6 \n",
            "[CV]  subsample=0.5, reg_lambda=2, reg_alpha=1, n_estimators=1000, min_child_weight=5, max_depth=2, learning_rate=0.001, gamma=0.1, colsample_bytree=0.6, score=0.937, total=  36.1s\n",
            "[CV] subsample=0.5, reg_lambda=2, reg_alpha=1, n_estimators=1000, min_child_weight=5, max_depth=2, learning_rate=0.001, gamma=0.1, colsample_bytree=0.6 \n",
            "[CV]  subsample=0.5, reg_lambda=2, reg_alpha=1, n_estimators=1000, min_child_weight=5, max_depth=2, learning_rate=0.001, gamma=0.1, colsample_bytree=0.6, score=0.937, total=  36.1s\n",
            "[CV] subsample=0.5, reg_lambda=2, reg_alpha=1, n_estimators=1000, min_child_weight=5, max_depth=2, learning_rate=0.001, gamma=0.1, colsample_bytree=0.6 \n",
            "[CV]  subsample=0.5, reg_lambda=2, reg_alpha=1, n_estimators=1000, min_child_weight=5, max_depth=2, learning_rate=0.001, gamma=0.1, colsample_bytree=0.6, score=0.937, total=  36.1s\n"
          ],
          "name": "stdout"
        },
        {
          "output_type": "stream",
          "text": [
            "[Parallel(n_jobs=1)]: Done  70 out of  70 | elapsed: 31.1min finished\n"
          ],
          "name": "stderr"
        }
      ]
    },
    {
      "cell_type": "code",
      "metadata": {
        "id": "Ez5Bu04UAucF",
        "colab": {
          "base_uri": "https://localhost:8080/",
          "height": 170
        },
        "outputId": "83500e98-3f7e-4006-d2bd-799940e4f61a"
      },
      "source": [
        "# Best estimators\n",
        "print(\"Learning Rate: \", xgbm.best_estimator_.get_params()[\"learning_rate\"])\n",
        "print(\"Gamma: \", xgbm.best_estimator_.get_params()[\"gamma\"])\n",
        "print(\"Max Depth: \", xgbm.best_estimator_.get_params()[\"max_depth\"])\n",
        "print(\"Subsample: \", xgbm.best_estimator_.get_params()[\"subsample\"])\n",
        "print(\"Max Features at Split: \", xgbm.best_estimator_.get_params()[\"colsample_bytree\"])\n",
        "print(\"Alpha: \", xgbm.best_estimator_.get_params()[\"reg_alpha\"])\n",
        "print(\"Lamda: \", xgbm.best_estimator_.get_params()[\"reg_lambda\"])\n",
        "print(\"Minimum Sum of the Instance Weight Hessian to Make a Child: \",\n",
        "      xgbm.best_estimator_.get_params()[\"min_child_weight\"])\n",
        "print(\"Number of Trees: \", xgbm.best_estimator_.get_params()[\"n_estimators\"])"
      ],
      "execution_count": null,
      "outputs": [
        {
          "output_type": "stream",
          "text": [
            "Learning Rate:  0.01\n",
            "Gamma:  12\n",
            "Max Depth:  2\n",
            "Subsample:  0.7\n",
            "Max Features at Split:  0.3\n",
            "Alpha:  1\n",
            "Lamda:  3.5\n",
            "Minimum Sum of the Instance Weight Hessian to Make a Child:  1\n",
            "Number of Trees:  1000\n"
          ],
          "name": "stdout"
        }
      ]
    },
    {
      "cell_type": "code",
      "metadata": {
        "id": "LsKmW07XBPVg",
        "colab": {
          "base_uri": "https://localhost:8080/",
          "height": 136
        },
        "outputId": "5cc78877-4a3e-4db3-8fd1-ced84d207335"
      },
      "source": [
        "xgbm = XGBClassifier(learning_rate=0.01, gamma=12, max_depth=2, \n",
        "                     subsample=0.7, colsample_bytree=0.3, reg_alpha=1,\n",
        "                     reg_lambda=3.5, min_child_weight=1, n_estimators=1000)\n",
        "\n",
        "xgbm.fit(X_train, Y_train)"
      ],
      "execution_count": null,
      "outputs": [
        {
          "output_type": "execute_result",
          "data": {
            "text/plain": [
              "XGBClassifier(base_score=0.5, booster='gbtree', colsample_bylevel=1,\n",
              "              colsample_bynode=1, colsample_bytree=0.3, gamma=12,\n",
              "              learning_rate=0.01, max_delta_step=0, max_depth=2,\n",
              "              min_child_weight=1, missing=None, n_estimators=1000, n_jobs=1,\n",
              "              nthread=None, objective='binary:logistic', random_state=0,\n",
              "              reg_alpha=1, reg_lambda=3.5, scale_pos_weight=1, seed=None,\n",
              "              silent=None, subsample=0.7, verbosity=1)"
            ]
          },
          "metadata": {
            "tags": []
          },
          "execution_count": 90
        }
      ]
    },
    {
      "cell_type": "markdown",
      "metadata": {
        "id": "vmyFbGkB8vLg"
      },
      "source": [
        "Scores\n",
        "\n",
        "\n",
        "1.   Default Score\n",
        "2.   R2 & MSE\n",
        "3.   Classfication Report\n",
        "4.   ROC AUC\n"
      ]
    },
    {
      "cell_type": "code",
      "metadata": {
        "id": "tUmQNlv-8dMI",
        "colab": {
          "base_uri": "https://localhost:8080/",
          "height": 34
        },
        "outputId": "c6b585de-dc74-4fda-ccbc-c81fb42b7ff3"
      },
      "source": [
        "xgbm.score(X_test, Y_test)"
      ],
      "execution_count": null,
      "outputs": [
        {
          "output_type": "execute_result",
          "data": {
            "text/plain": [
              "0.9386926624506365"
            ]
          },
          "metadata": {
            "tags": []
          },
          "execution_count": 91
        }
      ]
    },
    {
      "cell_type": "code",
      "metadata": {
        "id": "ekW7qQBN81Az",
        "colab": {
          "base_uri": "https://localhost:8080/",
          "height": 51
        },
        "outputId": "d361b1d6-7c2d-4ae8-9321-aa885b1b831a"
      },
      "source": [
        "xgb_predict = xgbm.predict(X_test)\n",
        "\n",
        "# R2 Score & Mean Squared Error\n",
        "r2_xgb = r2_score(Y_test, xgb_predict)\n",
        "print(\"r2 score: \", r2_xgb)\n",
        "\n",
        "mse_xgb = mean_squared_error(Y_test, xgb_predict)\n",
        "print(\"mse score: \", mse_xgb)"
      ],
      "execution_count": null,
      "outputs": [
        {
          "output_type": "stream",
          "text": [
            "r2 score:  -0.044669593063891844\n",
            "mse score:  0.061307337549363454\n"
          ],
          "name": "stdout"
        }
      ]
    },
    {
      "cell_type": "code",
      "metadata": {
        "id": "mnHDbXBs9Kch",
        "colab": {
          "base_uri": "https://localhost:8080/",
          "height": 170
        },
        "outputId": "867d9f3e-b2e1-4293-f8f0-fe07144a63dd"
      },
      "source": [
        "print(classification_report(Y_test, xgb_predict))"
      ],
      "execution_count": null,
      "outputs": [
        {
          "output_type": "stream",
          "text": [
            "              precision    recall  f1-score   support\n",
            "\n",
            "           0       0.94      0.99      0.97     33944\n",
            "           1       0.54      0.13      0.21      2267\n",
            "\n",
            "    accuracy                           0.94     36211\n",
            "   macro avg       0.74      0.56      0.59     36211\n",
            "weighted avg       0.92      0.94      0.92     36211\n",
            "\n"
          ],
          "name": "stdout"
        }
      ]
    },
    {
      "cell_type": "code",
      "metadata": {
        "id": "7rbv4Jxu8-bJ",
        "colab": {
          "base_uri": "https://localhost:8080/",
          "height": 329
        },
        "outputId": "378af459-2e26-4b74-a07c-efce7f23c7f7"
      },
      "source": [
        "xgb_probility = xgbm.predict_proba(X_test)\n",
        "\n",
        "# Slice out the probaility\n",
        "xgb_score = roc_auc_score(Y_test, xgb_probility[:, 1])\n",
        "print('ROC AUC Score: ', xgb_score)\n",
        "\n",
        "# ROC curve\n",
        "fpr, tpr, thresholds = roc_curve(Y_test, xgb_probility[:, 1])\n",
        "plt.plot(fpr, tpr)\n",
        "plt.plot([0,1], [0,1], 'grey', linestyle='--')\n",
        "plt.title('ROC Curve')\n",
        "plt.xlabel('False Positive Rates')\n",
        "plt.ylabel('True Positive Rates')"
      ],
      "execution_count": null,
      "outputs": [
        {
          "output_type": "stream",
          "text": [
            "ROC AUC Score:  0.8527691916554534\n"
          ],
          "name": "stdout"
        },
        {
          "output_type": "execute_result",
          "data": {
            "text/plain": [
              "Text(0, 0.5, 'True Positive Rates')"
            ]
          },
          "metadata": {
            "tags": []
          },
          "execution_count": 83
        },
        {
          "output_type": "display_data",
          "data": {
            "image/png": "[encoded data removed]",
            "text/plain": [
              "<Figure size 432x288 with 1 Axes>"
            ]
          },
          "metadata": {
            "tags": [],
            "needs_background": "light"
          }
        }
      ]
    },
    {
      "cell_type": "markdown",
      "metadata": {
        "id": "LiAsUjBporxE"
      },
      "source": [
        "\n",
        "\n",
        "---\n",
        "\n",
        "For this single time running: \n",
        "XGBoost algorithm has a better permance than Logistic Regression. "
      ]
    },
    {
      "cell_type": "markdown",
      "metadata": {
        "id": "BVj7Z06Io2ZK"
      },
      "source": [
        "### **Testing**  \n",
        "Apply model to 'cs_test.csv'.  "
      ]
    },
    {
      "cell_type": "code",
      "metadata": {
        "id": "xInwSdhno16N",
        "colab": {
          "base_uri": "https://localhost:8080/",
          "height": 340
        },
        "outputId": "80a4e9a4-028f-4426-f21b-95459ba47553"
      },
      "source": [
        "url_test = 'https://raw.githubusercontent.com/fwqfwq/dataset/master/GiveMeSomeCredit/cs-test.csv'\n",
        "test_data = pd.read_csv(url_test)\n",
        "test_data.info()"
      ],
      "execution_count": null,
      "outputs": [
        {
          "output_type": "stream",
          "text": [
            "<class 'pandas.core.frame.DataFrame'>\n",
            "RangeIndex: 101503 entries, 0 to 101502\n",
            "Data columns (total 12 columns):\n",
            " #   Column                                Non-Null Count   Dtype  \n",
            "---  ------                                --------------   -----  \n",
            " 0   Unnamed: 0                            101503 non-null  int64  \n",
            " 1   SeriousDlqin2yrs                      0 non-null       float64\n",
            " 2   RevolvingUtilizationOfUnsecuredLines  101503 non-null  float64\n",
            " 3   age                                   101503 non-null  int64  \n",
            " 4   NumberOfTime30-59DaysPastDueNotWorse  101503 non-null  int64  \n",
            " 5   DebtRatio                             101503 non-null  float64\n",
            " 6   MonthlyIncome                         81400 non-null   float64\n",
            " 7   NumberOfOpenCreditLinesAndLoans       101503 non-null  int64  \n",
            " 8   NumberOfTimes90DaysLate               101503 non-null  int64  \n",
            " 9   NumberRealEstateLoansOrLines          101503 non-null  int64  \n",
            " 10  NumberOfTime60-89DaysPastDueNotWorse  101503 non-null  int64  \n",
            " 11  NumberOfDependents                    98877 non-null   float64\n",
            "dtypes: float64(5), int64(7)\n",
            "memory usage: 9.3 MB\n"
          ],
          "name": "stdout"
        }
      ]
    },
    {
      "cell_type": "code",
      "metadata": {
        "id": "5_aH8y30pZR-",
        "colab": {
          "base_uri": "https://localhost:8080/",
          "height": 306
        },
        "outputId": "39b7ef6b-6cb9-49cb-f683-7e2197f355b3"
      },
      "source": [
        "test_data = test_data.iloc[:, 2:]\n",
        "test_data.info()"
      ],
      "execution_count": null,
      "outputs": [
        {
          "output_type": "stream",
          "text": [
            "<class 'pandas.core.frame.DataFrame'>\n",
            "RangeIndex: 101503 entries, 0 to 101502\n",
            "Data columns (total 10 columns):\n",
            " #   Column                                Non-Null Count   Dtype  \n",
            "---  ------                                --------------   -----  \n",
            " 0   RevolvingUtilizationOfUnsecuredLines  101503 non-null  float64\n",
            " 1   age                                   101503 non-null  int64  \n",
            " 2   NumberOfTime30-59DaysPastDueNotWorse  101503 non-null  int64  \n",
            " 3   DebtRatio                             101503 non-null  float64\n",
            " 4   MonthlyIncome                         81400 non-null   float64\n",
            " 5   NumberOfOpenCreditLinesAndLoans       101503 non-null  int64  \n",
            " 6   NumberOfTimes90DaysLate               101503 non-null  int64  \n",
            " 7   NumberRealEstateLoansOrLines          101503 non-null  int64  \n",
            " 8   NumberOfTime60-89DaysPastDueNotWorse  101503 non-null  int64  \n",
            " 9   NumberOfDependents                    98877 non-null   float64\n",
            "dtypes: float64(4), int64(6)\n",
            "memory usage: 7.7 MB\n"
          ],
          "name": "stdout"
        }
      ]
    },
    {
      "cell_type": "markdown",
      "metadata": {
        "id": "CLMtiGgGqrZH"
      },
      "source": [
        "Simply fill the NaN. "
      ]
    },
    {
      "cell_type": "code",
      "metadata": {
        "id": "KqI409v_qq3y",
        "colab": {
          "base_uri": "https://localhost:8080/",
          "height": 306
        },
        "outputId": "b8325745-c0ce-493e-b478-225904253c15"
      },
      "source": [
        "test_data['MonthlyIncome'].fillna(test_data['MonthlyIncome'].mean(), inplace=True)\n",
        "test_data['NumberOfDependents'].fillna(0, inplace=True)\n",
        "test_data.info()"
      ],
      "execution_count": null,
      "outputs": [
        {
          "output_type": "stream",
          "text": [
            "<class 'pandas.core.frame.DataFrame'>\n",
            "RangeIndex: 101503 entries, 0 to 101502\n",
            "Data columns (total 10 columns):\n",
            " #   Column                                Non-Null Count   Dtype  \n",
            "---  ------                                --------------   -----  \n",
            " 0   RevolvingUtilizationOfUnsecuredLines  101503 non-null  float64\n",
            " 1   age                                   101503 non-null  int64  \n",
            " 2   NumberOfTime30-59DaysPastDueNotWorse  101503 non-null  int64  \n",
            " 3   DebtRatio                             101503 non-null  float64\n",
            " 4   MonthlyIncome                         101503 non-null  float64\n",
            " 5   NumberOfOpenCreditLinesAndLoans       101503 non-null  int64  \n",
            " 6   NumberOfTimes90DaysLate               101503 non-null  int64  \n",
            " 7   NumberRealEstateLoansOrLines          101503 non-null  int64  \n",
            " 8   NumberOfTime60-89DaysPastDueNotWorse  101503 non-null  int64  \n",
            " 9   NumberOfDependents                    101503 non-null  float64\n",
            "dtypes: float64(4), int64(6)\n",
            "memory usage: 7.7 MB\n"
          ],
          "name": "stdout"
        }
      ]
    },
    {
      "cell_type": "code",
      "metadata": {
        "id": "NQBELqTdssMn",
        "colab": {
          "base_uri": "https://localhost:8080/",
          "height": 241
        },
        "outputId": "9042a2a5-904f-440a-f17c-66111dcec7f1"
      },
      "source": [
        "test_data.head()"
      ],
      "execution_count": null,
      "outputs": [
        {
          "output_type": "execute_result",
          "data": {
            "text/html": [
              "<div>\n",
              "<style scoped>\n",
              "    .dataframe tbody tr th:only-of-type {\n",
              "        vertical-align: middle;\n",
              "    }\n",
              "\n",
              "    .dataframe tbody tr th {\n",
              "        vertical-align: top;\n",
              "    }\n",
              "\n",
              "    .dataframe thead th {\n",
              "        text-align: right;\n",
              "    }\n",
              "</style>\n",
              "<table border=\"1\" class=\"dataframe\">\n",
              "  <thead>\n",
              "    <tr style=\"text-align: right;\">\n",
              "      <th></th>\n",
              "      <th>RevolvingUtilizationOfUnsecuredLines</th>\n",
              "      <th>age</th>\n",
              "      <th>NumberOfTime30-59DaysPastDueNotWorse</th>\n",
              "      <th>DebtRatio</th>\n",
              "      <th>MonthlyIncome</th>\n",
              "      <th>NumberOfOpenCreditLinesAndLoans</th>\n",
              "      <th>NumberOfTimes90DaysLate</th>\n",
              "      <th>NumberRealEstateLoansOrLines</th>\n",
              "      <th>NumberOfTime60-89DaysPastDueNotWorse</th>\n",
              "      <th>NumberOfDependents</th>\n",
              "    </tr>\n",
              "  </thead>\n",
              "  <tbody>\n",
              "    <tr>\n",
              "      <th>0</th>\n",
              "      <td>0.885519</td>\n",
              "      <td>43</td>\n",
              "      <td>0</td>\n",
              "      <td>0.177513</td>\n",
              "      <td>5700.0</td>\n",
              "      <td>4</td>\n",
              "      <td>0</td>\n",
              "      <td>0</td>\n",
              "      <td>0</td>\n",
              "      <td>0.0</td>\n",
              "    </tr>\n",
              "    <tr>\n",
              "      <th>1</th>\n",
              "      <td>0.463295</td>\n",
              "      <td>57</td>\n",
              "      <td>0</td>\n",
              "      <td>0.527237</td>\n",
              "      <td>9141.0</td>\n",
              "      <td>15</td>\n",
              "      <td>0</td>\n",
              "      <td>4</td>\n",
              "      <td>0</td>\n",
              "      <td>2.0</td>\n",
              "    </tr>\n",
              "    <tr>\n",
              "      <th>2</th>\n",
              "      <td>0.043275</td>\n",
              "      <td>59</td>\n",
              "      <td>0</td>\n",
              "      <td>0.687648</td>\n",
              "      <td>5083.0</td>\n",
              "      <td>12</td>\n",
              "      <td>0</td>\n",
              "      <td>1</td>\n",
              "      <td>0</td>\n",
              "      <td>2.0</td>\n",
              "    </tr>\n",
              "    <tr>\n",
              "      <th>3</th>\n",
              "      <td>0.280308</td>\n",
              "      <td>38</td>\n",
              "      <td>1</td>\n",
              "      <td>0.925961</td>\n",
              "      <td>3200.0</td>\n",
              "      <td>7</td>\n",
              "      <td>0</td>\n",
              "      <td>2</td>\n",
              "      <td>0</td>\n",
              "      <td>0.0</td>\n",
              "    </tr>\n",
              "    <tr>\n",
              "      <th>4</th>\n",
              "      <td>1.000000</td>\n",
              "      <td>27</td>\n",
              "      <td>0</td>\n",
              "      <td>0.019917</td>\n",
              "      <td>3865.0</td>\n",
              "      <td>4</td>\n",
              "      <td>0</td>\n",
              "      <td>0</td>\n",
              "      <td>0</td>\n",
              "      <td>1.0</td>\n",
              "    </tr>\n",
              "  </tbody>\n",
              "</table>\n",
              "</div>"
            ],
            "text/plain": [
              "   RevolvingUtilizationOfUnsecuredLines  ...  NumberOfDependents\n",
              "0  0.885519                              ...  0.0               \n",
              "1  0.463295                              ...  2.0               \n",
              "2  0.043275                              ...  2.0               \n",
              "3  0.280308                              ...  0.0               \n",
              "4  1.000000                              ...  1.0               \n",
              "\n",
              "[5 rows x 10 columns]"
            ]
          },
          "metadata": {
            "tags": []
          },
          "execution_count": 73
        }
      ]
    },
    {
      "cell_type": "markdown",
      "metadata": {
        "id": "pWyQ1gPVwX-E"
      },
      "source": [
        "Predict the test data. "
      ]
    },
    {
      "cell_type": "code",
      "metadata": {
        "id": "9RgNFVS6wVv6",
        "colab": {
          "base_uri": "https://localhost:8080/",
          "height": 136
        },
        "outputId": "95a4f04d-99e2-4482-f3c5-6073d106f581"
      },
      "source": [
        "predicted_test = xgbm.predict_proba(test_data)\n",
        "predicted_test"
      ],
      "execution_count": null,
      "outputs": [
        {
          "output_type": "execute_result",
          "data": {
            "text/plain": [
              "array([[0.9260841 , 0.07391588],\n",
              "       [0.94253397, 0.057466  ],\n",
              "       [0.98402315, 0.01597682],\n",
              "       ...,\n",
              "       [0.98952717, 0.01047285],\n",
              "       [0.9202913 , 0.0797087 ],\n",
              "       [0.95250374, 0.04749627]], dtype=float32)"
            ]
          },
          "metadata": {
            "tags": []
          },
          "execution_count": 84
        }
      ]
    },
    {
      "cell_type": "markdown",
      "metadata": {
        "id": "dYMEeFSVJZw3"
      },
      "source": [
        "Output the 'prediction.csv'. "
      ]
    },
    {
      "cell_type": "code",
      "metadata": {
        "id": "G7epzzgfpiWB"
      },
      "source": [
        "output = pd.DataFrame({'id':test_data.index + 1, 'probability':predicted_test[:, 1]})\n",
        "output.to_csv(\"predictions.csv\", index=False)"
      ],
      "execution_count": null,
      "outputs": []
    },
    {
      "cell_type": "code",
      "metadata": {
        "id": "orqvs1TUw7Cm",
        "colab": {
          "base_uri": "https://localhost:8080/",
          "height": 17
        },
        "outputId": "1aac972a-838d-4b95-c355-8d3bb27a0d7c"
      },
      "source": [
        "from google.colab import files\n",
        "files.download(\"predictions.csv\")"
      ],
      "execution_count": null,
      "outputs": [
        {
          "output_type": "display_data",
          "data": {
            "application/javascript": [
              "\n",
              "    async function download(id, filename, size) {\n",
              "      if (!google.colab.kernel.accessAllowed) {\n",
              "        return;\n",
              "      }\n",
              "      const div = document.createElement('div');\n",
              "      const label = document.createElement('label');\n",
              "      label.textContent = `Downloading \"${filename}\": `;\n",
              "      div.appendChild(label);\n",
              "      const progress = document.createElement('progress');\n",
              "      progress.max = size;\n",
              "      div.appendChild(progress);\n",
              "      document.body.appendChild(div);\n",
              "\n",
              "      const buffers = [];\n",
              "      let downloaded = 0;\n",
              "\n",
              "      const channel = await google.colab.kernel.comms.open(id);\n",
              "      // Send a message to notify the kernel that we're ready.\n",
              "      channel.send({})\n",
              "\n",
              "      for await (const message of channel.messages) {\n",
              "        // Send a message to notify the kernel that we're ready.\n",
              "        channel.send({})\n",
              "        if (message.buffers) {\n",
              "          for (const buffer of message.buffers) {\n",
              "            buffers.push(buffer);\n",
              "            downloaded += buffer.byteLength;\n",
              "            progress.value = downloaded;\n",
              "          }\n",
              "        }\n",
              "      }\n",
              "      const blob = new Blob(buffers, {type: 'application/binary'});\n",
              "      const a = document.createElement('a');\n",
              "      a.href = window.URL.createObjectURL(blob);\n",
              "      a.download = filename;\n",
              "      div.appendChild(a);\n",
              "      a.click();\n",
              "      div.remove();\n",
              "    }\n",
              "  "
            ],
            "text/plain": [
              "<IPython.core.display.Javascript object>"
            ]
          },
          "metadata": {
            "tags": []
          }
        },
        {
          "output_type": "display_data",
          "data": {
            "application/javascript": [
              "download(\"download_37adabd1-b8ed-4ae7-acd3-44d069138549\", \"predictions.csv\", 1774894)"
            ],
            "text/plain": [
              "<IPython.core.display.Javascript object>"
            ]
          },
          "metadata": {
            "tags": []
          }
        }
      ]
    },
    {
      "cell_type": "markdown",
      "metadata": {
        "id": "TK7boEpiIHLx"
      },
      "source": [
        "\n",
        "### **Conclusion**  \n",
        " \n",
        "There are several points fluctuating the result：\n",
        "- Data filling with random forests algorithm, which might have variance. \n",
        "- Data clean is not sure about the result of leanng. \n",
        "- Models. \n",
        "\n",
        "\n",
        "After choosing Random Forests model, the test score is 0.938. \n",
        "\\\n",
        "And testing with the cs_test.csv, the scores after submission is 0.85639.  \n",
        "\n"
      ]
    },
    {
      "cell_type": "markdown",
      "metadata": {
        "id": "XTwuSTKUZ4px"
      },
      "source": [
        "\n",
        "### **Reference**  <a name=\"reference\"></a>   \n",
        "\n",
        "\\[1]: Random Forest Missing Data Algorithms https://www.ncbi.nlm.nih.gov/pmc/articles/PMC5796790/   \n",
        "\n",
        "\\[2]: Xgboost https://xgboost.readthedocs.io/en/latest/python/python_api.html\n",
        "\n",
        "\\[3]: Xgboost gamma https://medium.com/data-design/xgboost-hi-im-gamma-what-can-i-do-for-you-and-the-tuning-of-regularization-a42ea17e6ab6"
      ]
    },
    {
      "cell_type": "markdown",
      "metadata": {
        "id": "DPglxnhOyBvH"
      },
      "source": [
        "\n",
        "\n",
        "---\n",
        "\n",
        "\n",
        "#### **Part 2**  \n",
        "https://colab.research.google.com/drive/1vFBhpICWsHWbX7KrVFXq8hI9hnOcevyu?usp=sharing "
      ]
    }
  ]
}